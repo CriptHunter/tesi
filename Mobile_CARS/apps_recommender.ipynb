{
 "cells": [
  {
   "cell_type": "markdown",
   "id": "third-chart",
   "metadata": {},
   "source": [
    "# Running app recommendations"
   ]
  },
  {
   "cell_type": "code",
   "execution_count": 13,
   "id": "younger-closing",
   "metadata": {},
   "outputs": [],
   "source": [
    "import numpy as np\n",
    "import pandas as pd\n",
    "import tensorflow as tf\n",
    "from tensorflow import keras\n",
    "from keras.utils import plot_model\n",
    "from keras.models import Sequential\n",
    "from keras.layers import Dense, Input, Embedding, Flatten, Concatenate, Lambda\n",
    "from keras.optimizers import Adam\n",
    "from keras.wrappers.scikit_learn import KerasClassifier\n",
    "from sklearn.model_selection import StratifiedKFold, cross_validate, train_test_split\n",
    "from sklearn.model_selection import GridSearchCV, KFold\n",
    "import rs_models\n",
    "from kerashypetune import KerasGridSearch\n",
    "from operator import add\n",
    "\n",
    "pd.options.display.max_columns = 1000\n",
    "import warnings\n",
    "warnings.filterwarnings(\"ignore\")"
   ]
  },
  {
   "cell_type": "markdown",
   "id": "decent-culture",
   "metadata": {},
   "source": [
    "## Open Dataset"
   ]
  },
  {
   "cell_type": "code",
   "execution_count": null,
   "id": "scenic-little",
   "metadata": {},
   "outputs": [],
   "source": [
    "df = pd.read_csv('MDF_final.csv')\n",
    "df = df.drop_duplicates()\n",
    "df.reset_index(drop=True, inplace=True)\n",
    "\n",
    "item_labels = [i for i in list(df.columns) if i.find(\"category\") == 0] # labels that describe an item\n",
    "context_labels = list(set(df.iloc[:, 3:]) - set(item_labels)) # takes all the columns after user, item rating and remove item labels\n",
    "\n",
    "n_users = df.user.nunique()\n",
    "n_items = df.item.nunique()\n",
    "n_contexts = len(context_labels)\n",
    "    \n",
    "print(f\"rating with value 1: {df[df.rating == 1]['rating'].count() * 100 / len(df)} %\")\n",
    "print(f\"users: {n_users} \\t items: {n_items} \\t rating: {len(df)} \\t items_features: {len(item_labels)} \\t contexts_features: {n_contexts} \\t \")"
   ]
  },
  {
   "source": [
    "## Grid search"
   ],
   "cell_type": "markdown",
   "metadata": {}
  },
  {
   "cell_type": "code",
   "execution_count": null,
   "id": "thorough-elite",
   "metadata": {},
   "outputs": [],
   "source": [
    "param_grid = {\n",
    "    'n_users': n_users,\n",
    "    'n_items': n_items,\n",
    "    'n_contexts': n_contexts,\n",
    "    'epochs': [5, 10, 15, 20], \n",
    "    'batch_size': [64, 128, 256],\n",
    "    'learn_rate': [0.0001, 0.001, 0.01]\n",
    "}\n",
    "open('grid_search_result.txt', 'w').close()"
   ]
  },
  {
   "cell_type": "markdown",
   "id": "federal-discount",
   "metadata": {},
   "source": [
    "### NeuMF"
   ]
  },
  {
   "cell_type": "code",
   "execution_count": null,
   "id": "accessory-maple",
   "metadata": {},
   "outputs": [],
   "source": [
    "print(\"grid search on NeuMF...\")\n",
    "x_train, x_test, y_train, y_test = train_test_split(df[['user', 'item']], df['rating'], test_size=0.20, random_state=42)\n",
    "neumf = rs_models.NeuMF\n",
    "kgs = KerasGridSearch(neumf, param_grid, monitor='val_auc', greater_is_better=True, tuner_verbose=0)\n",
    "kgs.search([x_train.user, x_train.item], y_train, validation_data=([x_test.user, x_test.item], y_test))\n",
    "print(f'NeuMF best AUC: {kgs.best_score} using {kgs.best_params}', file=open(\"grid_search_result.txt\", \"a\"))\n",
    "print(\"Done!\")"
   ]
  },
  {
   "cell_type": "markdown",
   "id": "disturbed-rachel",
   "metadata": {},
   "source": [
    "### ECAM NeuMF"
   ]
  },
  {
   "cell_type": "code",
   "execution_count": null,
   "id": "alien-exception",
   "metadata": {},
   "outputs": [],
   "source": [
    "print(\"grid search on ECAM NeuMF...\")\n",
    "x_train, x_test, y_train, y_test = train_test_split(df[['user', 'item'] + context_labels], df['rating'], test_size=0.20, random_state=42)\n",
    "ecam_neumf = rs_models.ECAM_NeuMF\n",
    "kgs = KerasGridSearch(ecam_neumf, param_grid, monitor='val_auc', greater_is_better=True, tuner_verbose=0)\n",
    "kgs.search([x_train.user, x_train.item, x_train[context_labels]], y_train, validation_data=([x_test.user, x_test.item, x_test[context_labels]], y_test))\n",
    "print(f'ECAM NeuMF best AUC: {kgs.best_score} using {kgs.best_params}', file=open(\"grid_search_result.txt\", \"a\"))\n",
    "print(\"Done!\")"
   ]
  },
  {
   "cell_type": "markdown",
   "id": "infrared-flavor",
   "metadata": {},
   "source": [
    "### Classifier"
   ]
  },
  {
   "cell_type": "code",
   "execution_count": null,
   "id": "annoying-newfoundland",
   "metadata": {},
   "outputs": [],
   "source": [
    "print(\"grid search on feed-forward network...\")\n",
    "\n",
    "x = df[item_labels + context_labels]\n",
    "y = df['rating']\n",
    "\n",
    "ff_net = KerasClassifier(build_fn=rs_models.mobile_model, verbose=False)\n",
    "\n",
    "param_grid = {\n",
    "    'learn_rate': [0.0005, 0.001, 0.005],\n",
    "    'batch_size': [64, 128, 256],\n",
    "    'epochs': [5, 10, 15, 20, 30], \n",
    "    'layers': [4],\n",
    "    'neurons': [200]\n",
    "}\n",
    "\n",
    "# create and fit gridsearch\n",
    "grid = GridSearchCV(estimator=ff_net, scoring=['accuracy', 'roc_auc'], refit='roc_auc', param_grid=param_grid, \n",
    "                    cv=KFold(shuffle=True, n_splits=2, random_state=42), verbose=True)\n",
    "grid_results = grid.fit(x, y)\n",
    "\n",
    "mean_accuracy = grid_results.cv_results_['mean_test_accuracy']\n",
    "mean_auc = grid_results.cv_results_['mean_test_roc_auc']\n",
    "params = grid_results.cv_results_['params']\n",
    "\n",
    "print(f'FFnet best AUC: {grid_results.best_score_} using {grid_results.best_params_}', file=open(\"grid_search_result.txt\", \"a\"))\n",
    "print(\"Done!\")"
   ]
  },
  {
   "cell_type": "code",
   "execution_count": null,
   "id": "dietary-trash",
   "metadata": {},
   "outputs": [],
   "source": [
    "!jupyter nbconvert --to script apps_recommender.ipynb # convert to python script"
   ]
  },
  {
   "source": [
    "## Train final models"
   ],
   "cell_type": "markdown",
   "metadata": {}
  },
  {
   "cell_type": "code",
   "execution_count": 29,
   "metadata": {},
   "outputs": [
    {
     "output_type": "stream",
     "name": "stdout",
     "text": [
      "284/284 [==============================] - 3s 8ms/step - loss: 0.2863 - accuracy: 0.8517 - auc: 0.9215\n",
      "284/284 [==============================] - 2s 7ms/step - loss: 0.2851 - accuracy: 0.8554 - auc: 0.9172\n"
     ]
    }
   ],
   "source": [
    "def kfold_split(df, x, y, n_splits=6):\n",
    "    kf = KFold(n_splits=n_splits, random_state=42, shuffle=True)\n",
    "\n",
    "    for train_index, test_index in kf.split(df[x], df[y]):\n",
    "        x_train, x_test = df[x].loc[train_index, :], df[x].loc[test_index, :]\n",
    "        y_train, y_test = df[y].loc[train_index], df[y].loc[test_index]\n",
    "        yield x_train, y_train, x_test, y_test\n",
    "\n",
    "\n",
    "def kfold_train(model, param, context_labels=[], n_splits=2):\n",
    "    x_labels = ['user', 'item'] \n",
    "    y_labels = 'rating'\n",
    "    kfold = kfold_split(df, x_labels+context_labels, y_labels, n_splits) # generator that returns training and test index\n",
    "    idx = 0\n",
    "\n",
    "    for x_train, y_train, x_test, y_test in kfold:\n",
    "        net = model(param)\n",
    "\n",
    "        input_list = [x_train[e] for e in x_labels] # split user, item input\n",
    "        input_list = [input_list + [x_train[context_labels]] if context_labels else input_list] # add context if it's available\n",
    "        net.fit(input_list, y_train, epochs=param['epochs'], batch_size=param['batch_size'], verbose=False)\n",
    "\n",
    "        input_list = [x_test[e] for e in x_labels] # same split for test values\n",
    "        input_list = [input_list + [x_test[context_labels]] if context_labels else input_list]\n",
    "        if idx == 0: # if it is the first fold, create results array\n",
    "            results = np.array(net.evaluate(input_list, y_test, batch_size=128))\n",
    "        else: # else add new results to array\n",
    "            results = np.add(results, net.evaluate(input_list, y_test, batch_size=128))\n",
    "        idx = idx + 1\n",
    "    return results/idx\n",
    "\n",
    "\n",
    "param = {\n",
    "    'n_users': n_users,\n",
    "    'n_items': n_items,\n",
    "    'n_contexts': n_contexts,\n",
    "    'learn_rate': 0.001,\n",
    "    'batch_size': 1024,\n",
    "    'epochs': 1\n",
    "}   \n",
    "\n",
    "# kfold_train(rs_models.ECAM_NeuMF, param, context_labels=context_labels, n_splits=4)\n",
    "std_dev, accuracy, auc = kfold_train(rs_models.NeuMF, param)\n"
   ]
  },
  {
   "cell_type": "code",
   "execution_count": null,
   "metadata": {},
   "outputs": [],
   "source": []
  }
 ],
 "metadata": {
  "kernelspec": {
   "display_name": "Python 3",
   "language": "python",
   "name": "python3"
  },
  "language_info": {
   "codemirror_mode": {
    "name": "ipython",
    "version": 3
   },
   "file_extension": ".py",
   "mimetype": "text/x-python",
   "name": "python",
   "nbconvert_exporter": "python",
   "pygments_lexer": "ipython3",
   "version": "3.8.5-final"
  }
 },
 "nbformat": 4,
 "nbformat_minor": 5
}