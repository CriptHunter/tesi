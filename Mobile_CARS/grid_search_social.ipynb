{
 "cells": [
  {
   "cell_type": "code",
   "execution_count": null,
   "id": "informational-communication",
   "metadata": {},
   "outputs": [],
   "source": [
    "import numpy as np\n",
    "import pandas as pd\n",
    "\n",
    "import tensorflow as tf\n",
    "from tensorflow import keras\n",
    "from keras.utils import plot_model\n",
    "from keras.models import Sequential\n",
    "from keras.layers import Dense, Input, Embedding, Flatten, Concatenate, Lambda\n",
    "from keras.optimizers import Adam\n",
    "\n",
    "from keras.wrappers.scikit_learn import KerasClassifier\n",
    "from sklearn.model_selection import StratifiedKFold, cross_validate, train_test_split\n",
    "from sklearn.model_selection import GridSearchCV, KFold\n",
    "from sklearn.model_selection import ParameterGrid\n",
    "\n",
    "import rs_models\n",
    "from kerashypetune import KerasGridSearch\n",
    "\n",
    "from implicit.evaluation import train_test_split as implicit_train_test_split\n",
    "from implicit.als import AlternatingLeastSquares\n",
    "from scipy.sparse import coo_matrix, csr_matrix\n",
    "\n",
    "pd.options.display.max_columns = 1000\n",
    "import warnings\n",
    "warnings.filterwarnings(\"ignore\")"
   ]
  },
  {
   "cell_type": "code",
   "execution_count": null,
   "id": "forced-diameter",
   "metadata": {},
   "outputs": [],
   "source": [
    "df = pd.read_csv('Datasets/MDF_social/MDF_with_social_features.csv')\n",
    "#df = pd.read_csv('Datasets/MDF_social/social_datasets/MDF_user2.csv')\n",
    "df_mf = pd.read_csv('Datasets/MDF_matrix_factorization.csv')\n",
    "df = df.drop(columns='time')\n",
    "df = df.drop_duplicates()\n",
    "# df = df[df.item != 2]\n",
    "# df = df.drop(['place_type_food_and_drink', 'place_type_health', 'place_type_home', 'place_type_lodging','place_type_outdoors', 'place_type_point_of_interest_establishment','place_type_public_transport_station', 'place_type_school','place_type_service', 'place_type_store', 'place_type_workplace'], axis = 1)\n",
    "df = df.reset_index(drop=True)\n",
    "context_labels = list(df.columns[3:66])\n",
    "item_labels = list(df.columns[66:92])\n",
    "user_labels = list(df.columns[92:106])\n",
    "social_labels = list(df.columns[106:])"
   ]
  },
  {
   "cell_type": "code",
   "execution_count": null,
   "id": "applied-circulation",
   "metadata": {},
   "outputs": [],
   "source": [
    "n_users = df.user.nunique()\n",
    "n_items = df.item.nunique()\n",
    "n_contexts = len(context_labels)\n",
    "\n",
    "print(f\"rating with value 1: {df[df.rating == 1]['rating'].count() * 100 / len(df)} %\")\n",
    "print(f\"users: {n_users} \\t items: {n_items} \\t rating: {len(df)}\")\n",
    "print(f\"user_features: {len(user_labels)} \\t items_features: {len(item_labels)} \\t social_features: {len(social_labels)} \\t contexts_features: {n_contexts} \\t \")"
   ]
  },
  {
   "cell_type": "code",
   "execution_count": null,
   "id": "unavailable-reconstruction",
   "metadata": {},
   "outputs": [],
   "source": [
    "\"\"\"\n",
    "param_grid = {\n",
    "    'learn_rate': [0.0001, 0.001, 0.005, 0.01],\n",
    "    'batch_size': [64, 128, 256],\n",
    "    'epochs': [5, 10, 15, 20, 30], \n",
    "    'layers': [3],\n",
    "    'neurons': [100]\n",
    "}\n",
    "\"\"\"\n",
    "\n",
    "open('grid_search_result.txt', 'w').close()\n",
    "\n",
    "param_grid = {\n",
    "    'learn_rate': [0.01],\n",
    "    'batch_size': [128],\n",
    "    'epochs': [20], \n",
    "    'layers': [3],\n",
    "    'neurons': [100]\n",
    "}\n",
    "\n",
    "\n",
    "train_labels = [item_labels+user_labels, \n",
    "                item_labels+user_labels+social_labels, \n",
    "                item_labels+user_labels+context_labels,\n",
    "                item_labels+user_labels+context_labels+social_labels]\n",
    "\n",
    "for idx, x_labels in enumerate(train_labels):\n",
    "    print('-'*10 + f\" Starting grid search {idx} \" + '-'*10)\n",
    "    x = df[x_labels]     # get only some features\n",
    "    y = df['rating']     # the value to predict is always the same\n",
    "    ff_net = KerasClassifier(build_fn=rs_models.mobile_model, verbose=False)\n",
    "    # create and fit gridsearch\n",
    "    grid = GridSearchCV(estimator=ff_net, scoring=['accuracy', 'roc_auc'], refit='roc_auc', param_grid=param_grid, \n",
    "                        cv=KFold(shuffle=True, n_splits=2, random_state=42), verbose=True)\n",
    "    grid_results = grid.fit(x, y)\n",
    "\n",
    "    mean_accuracy = grid_results.cv_results_['mean_test_accuracy']\n",
    "    mean_auc = grid_results.cv_results_['mean_test_roc_auc']\n",
    "    params = grid_results.cv_results_['params']\n",
    "\n",
    "    print(f'best AUC: {grid_results.best_score_} using {grid_results.best_params_}', file=open(\"grid_search_result.txt\", \"a\"))\n",
    "\n",
    "print(\"Done!\")"
   ]
  },
  {
   "cell_type": "code",
   "execution_count": null,
   "id": "logical-naples",
   "metadata": {},
   "outputs": [],
   "source": []
  }
 ],
 "metadata": {
  "kernelspec": {
   "display_name": "Python 3",
   "language": "python",
   "name": "python3"
  },
  "language_info": {
   "codemirror_mode": {
    "name": "ipython",
    "version": 3
   },
   "file_extension": ".py",
   "mimetype": "text/x-python",
   "name": "python",
   "nbconvert_exporter": "python",
   "pygments_lexer": "ipython3",
   "version": "3.8.5"
  }
 },
 "nbformat": 4,
 "nbformat_minor": 5
}
