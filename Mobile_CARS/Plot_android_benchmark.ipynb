{
 "cells": [
  {
   "cell_type": "code",
   "execution_count": 1,
   "id": "0d21c7d9",
   "metadata": {},
   "outputs": [],
   "source": [
    "import pandas as pd\n",
    "import numpy as np\n",
    "from matplotlib import pyplot as plt"
   ]
  },
  {
   "cell_type": "code",
   "execution_count": null,
   "id": "d4bf8132",
   "metadata": {},
   "outputs": [],
   "source": []
  },
  {
   "cell_type": "code",
   "execution_count": null,
   "id": "1758afe0",
   "metadata": {},
   "outputs": [],
   "source": []
  },
  {
   "cell_type": "code",
   "execution_count": 2,
   "id": "35c574a4",
   "metadata": {},
   "outputs": [],
   "source": [
    "def myMAD(x):\n",
    "    med = np.median(x)\n",
    "    x   = abs(x-med)\n",
    "    MAD = np.median(x)\n",
    "    return MAD"
   ]
  },
  {
   "cell_type": "code",
   "execution_count": 3,
   "id": "c665dd5b",
   "metadata": {},
   "outputs": [
    {
     "data": {
      "text/plain": [
       "0     36.1023\n",
       "1     35.6087\n",
       "2     36.5127\n",
       "3     37.2153\n",
       "4     37.2647\n",
       "       ...   \n",
       "25    19.6248\n",
       "26    19.8854\n",
       "27    19.7889\n",
       "28    19.9342\n",
       "29    19.7814\n",
       "Name: warmup, Length: 118, dtype: float64"
      ]
     },
     "execution_count": 3,
     "metadata": {},
     "output_type": "execute_result"
    }
   ],
   "source": [
    "df1 = pd.read_csv('Android/results/performances_nexus5.csv')\n",
    "df1['smartphone'] = 'nexus5'\n",
    "df2 = pd.read_csv('Android/results/performances_nexus6.csv')\n",
    "df2['smartphone'] = 'nexus6'\n",
    "df3 = pd.read_csv('Android/results/performances_s9.csv')\n",
    "df3['smartphone'] = 'S9 plus'\n",
    "df4 = pd.read_csv('Android/results/performances_xiaomi.csv')\n",
    "df4['smartphone'] = 'Mi9T'\n",
    "\n",
    "df = pd.concat([df1, df2, df3, df4])\n",
    "df.pop('warmup')"
   ]
  },
  {
   "cell_type": "code",
   "execution_count": 4,
   "id": "ddd14caf",
   "metadata": {},
   "outputs": [],
   "source": [
    "means = df.groupby([df.smartphone, df.model]).median().unstack()\n",
    "errors = df.groupby([df.smartphone, df.model]).mad().unstack()"
   ]
  },
  {
   "cell_type": "code",
   "execution_count": 5,
   "id": "3074f95d",
   "metadata": {},
   "outputs": [
    {
     "data": {
      "text/plain": [
       "<matplotlib.legend.Legend at 0x1ce87deabb0>"
      ]
     },
     "execution_count": 5,
     "metadata": {},
     "output_type": "execute_result"
    },
    {
     "data": {
      "image/png": "[encoded data removed]",
      "text/plain": [
       "<Figure size 720x432 with 1 Axes>"
      ]
     },
     "metadata": {
      "needs_background": "light"
     },
     "output_type": "display_data"
    }
   ],
   "source": [
    "fig = plt.figure(figsize=(10,6))\n",
    "ax = fig.add_subplot()\n",
    "plt.style.use(\"fivethirtyeight\")\n",
    "\n",
    "plot = means['init'].plot(kind= 'bar', \n",
    "                     rot=0,  # don't rotate model names\n",
    "                     ylabel='Time (μs)',\n",
    "                     #yerr=errors['init'], # standard deviation\n",
    "                     capsize=6, # std cap size\n",
    "                     width=0.7,\n",
    "                     ax=ax,\n",
    "                     grid=True)\n",
    "\n",
    "handles, labels = ax.get_legend_handles_labels()\n",
    "ax.legend(handles, ['Ecam NeuMF', 'Mobile', 'NeuMF']) # rename legend"
   ]
  },
  {
   "cell_type": "code",
   "execution_count": null,
   "id": "d6da7bba",
   "metadata": {},
   "outputs": [],
   "source": []
  }
 ],
 "metadata": {
  "kernelspec": {
   "display_name": "Python 3",
   "language": "python",
   "name": "python3"
  },
  "language_info": {
   "codemirror_mode": {
    "name": "ipython",
    "version": 3
   },
   "file_extension": ".py",
   "mimetype": "text/x-python",
   "name": "python",
   "nbconvert_exporter": "python",
   "pygments_lexer": "ipython3",
   "version": "3.8.5"
  }
 },
 "nbformat": 4,
 "nbformat_minor": 5
}
