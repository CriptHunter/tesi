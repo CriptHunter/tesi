{
 "cells": [
  {
   "cell_type": "code",
   "execution_count": 99,
   "id": "75308068",
   "metadata": {},
   "outputs": [],
   "source": [
    "import pandas as pd\n",
    "import numpy as np\n",
    "from matplotlib import pyplot as plt"
   ]
  },
  {
   "cell_type": "code",
   "execution_count": 100,
   "id": "0f054ccc",
   "metadata": {},
   "outputs": [],
   "source": [
    "def myMAD(x):\n",
    "    med = np.median(x)\n",
    "    x   = abs(x-med)\n",
    "    MAD = np.median(x)\n",
    "    return MAD"
   ]
  },
  {
   "cell_type": "code",
   "execution_count": 101,
   "id": "26854718",
   "metadata": {},
   "outputs": [
    {
     "data": {
      "text/plain": [
       "0     36.1023\n",
       "1     35.6087\n",
       "2     36.5127\n",
       "3     37.2153\n",
       "4     37.2647\n",
       "       ...   \n",
       "25    19.6248\n",
       "26    19.8854\n",
       "27    19.7889\n",
       "28    19.9342\n",
       "29    19.7814\n",
       "Name: warmup, Length: 118, dtype: float64"
      ]
     },
     "execution_count": 101,
     "metadata": {},
     "output_type": "execute_result"
    }
   ],
   "source": [
    "df1 = pd.read_csv('Android/results/performances_nexus5.csv')\n",
    "df1['smartphone'] = 'nexus5'\n",
    "df2 = pd.read_csv('Android/results/performances_nexus6.csv')\n",
    "df2['smartphone'] = 'nexus6'\n",
    "df3 = pd.read_csv('Android/results/performances_s9.csv')\n",
    "df3['smartphone'] = 'S9 plus'\n",
    "df4 = pd.read_csv('Android/results/performances_xiaomi.csv')\n",
    "df4['smartphone'] = 'Mi9T'\n",
    "\n",
    "df = pd.concat([df1, df2, df3, df4])\n",
    "df.pop('warmup')"
   ]
  },
  {
   "cell_type": "code",
   "execution_count": 102,
   "id": "15d4954d",
   "metadata": {},
   "outputs": [],
   "source": [
    "means = df.groupby([df.smartphone, df.model]).median().unstack()\n",
    "errors = df.groupby([df.smartphone, df.model]).std().unstack()"
   ]
  },
  {
   "cell_type": "code",
   "execution_count": 103,
   "id": "417d8756",
   "metadata": {},
   "outputs": [],
   "source": [
    "means = means.reindex(columns=['neumf', 'ecam neumf', 'mobile'], level='model')"
   ]
  },
  {
   "cell_type": "code",
   "execution_count": 110,
   "id": "6c69ccba",
   "metadata": {},
   "outputs": [
    {
     "data": {
      "image/png": "[encoded data removed]",
      "text/plain": [
       "<Figure size 720x432 with 1 Axes>"
      ]
     },
     "metadata": {
      "needs_background": "light"
     },
     "output_type": "display_data"
    }
   ],
   "source": [
    "fig = plt.figure(figsize=(10,6))\n",
    "ax = fig.add_subplot()\n",
    "\n",
    "plot = means['inference'].plot(kind= 'bar',\n",
    "                     color=['#F3DE8A', '#EB9486','#43BCCD'],\n",
    "                     rot=0,  # don't rotate model names\n",
    "                     ylabel='time (μs)',\n",
    "                     #yerr=errors['init'], # errors bar\n",
    "                     capsize=6, # error cap size\n",
    "                     width=0.7,\n",
    "                     ax=ax)\n",
    "\n",
    "ax.grid(axis = 'y', linestyle = '--', linewidth = 1)\n",
    "\n",
    "handles, labels = ax.get_legend_handles_labels()\n",
    "ax.legend(handles, ['NeuMF', 'Ecam NeuMF', 'moveCARS']) # rename legend\n",
    "plt.savefig('inference_tflite.pdf', format='pdf', bbox_inches='tight')\n",
    "plt.show()"
   ]
  },
  {
   "cell_type": "code",
   "execution_count": null,
   "id": "20c1b23b",
   "metadata": {},
   "outputs": [],
   "source": []
  }
 ],
 "metadata": {
  "kernelspec": {
   "display_name": "Python 3",
   "language": "python",
   "name": "python3"
  },
  "language_info": {
   "codemirror_mode": {
    "name": "ipython",
    "version": 3
   },
   "file_extension": ".py",
   "mimetype": "text/x-python",
   "name": "python",
   "nbconvert_exporter": "python",
   "pygments_lexer": "ipython3",
   "version": "3.8.5"
  }
 },
 "nbformat": 4,
 "nbformat_minor": 5
}
