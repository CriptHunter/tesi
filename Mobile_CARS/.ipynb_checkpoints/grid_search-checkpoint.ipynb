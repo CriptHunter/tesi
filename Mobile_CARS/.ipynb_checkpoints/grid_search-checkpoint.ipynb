{
 "cells": [
  {
   "cell_type": "markdown",
   "id": "rapid-cameroon",
   "metadata": {},
   "source": [
    "# Grid search MDF dataset"
   ]
  },
  {
   "cell_type": "code",
   "execution_count": 1,
   "id": "together-afternoon",
   "metadata": {},
   "outputs": [],
   "source": [
    "import numpy as np\n",
    "import pandas as pd\n",
    "import tensorflow as tf\n",
    "from tensorflow import keras\n",
    "from keras.utils import plot_model\n",
    "from keras.models import Sequential\n",
    "from keras.layers import Dense, Input, Embedding, Flatten, Concatenate, Lambda\n",
    "from keras.optimizers import Adam\n",
    "from keras.wrappers.scikit_learn import KerasClassifier\n",
    "from sklearn.model_selection import StratifiedKFold, cross_validate, train_test_split\n",
    "from sklearn.model_selection import GridSearchCV, KFold\n",
    "import rs_models\n",
    "from kerashypetune import KerasGridSearch\n",
    "\n",
    "pd.options.display.max_columns = 1000\n",
    "import warnings\n",
    "warnings.filterwarnings(\"ignore\")"
   ]
  },
  {
   "cell_type": "markdown",
   "id": "christian-consciousness",
   "metadata": {},
   "source": [
    "## Open Dataset"
   ]
  },
  {
   "cell_type": "code",
   "execution_count": 2,
   "id": "broken-present",
   "metadata": {},
   "outputs": [
    {
     "name": "stdout",
     "output_type": "stream",
     "text": [
      "rating with value 1: 67.04773696519466 %\n",
      "users: 30 \t items: 338 \t rating: 72690 \t items_features: 26 \t contexts_features: 63 \t \n"
     ]
    }
   ],
   "source": [
    "df = pd.read_csv('MDF_final.csv')\n",
    "df = df.drop_duplicates()\n",
    "df.reset_index(drop=True, inplace=True)\n",
    "\n",
    "item_labels = [i for i in list(df.columns) if i.find(\"category\") == 0] # labels that describe an item\n",
    "context_labels = list(set(df.iloc[:, 3:]) - set(item_labels)) # takes all the columns after user, item rating and remove item labels\n",
    "\n",
    "n_users = df.user.nunique()\n",
    "n_items = df.item.nunique()\n",
    "n_contexts = len(context_labels)\n",
    "    \n",
    "print(f\"rating with value 1: {df[df.rating == 1]['rating'].count() * 100 / len(df)} %\")\n",
    "print(f\"users: {n_users} \\t items: {n_items} \\t rating: {len(df)} \\t items_features: {len(item_labels)} \\t contexts_features: {n_contexts} \\t \")"
   ]
  },
  {
   "cell_type": "markdown",
   "id": "rocky-burning",
   "metadata": {},
   "source": [
    "## Grid search"
   ]
  },
  {
   "cell_type": "code",
   "execution_count": 4,
   "id": "false-warner",
   "metadata": {},
   "outputs": [],
   "source": [
    "param_grid = {\n",
    "    'n_users': n_users,\n",
    "    'n_items': n_items,\n",
    "    'n_contexts': n_contexts,\n",
    "    'epochs': [5, 10, 15, 20], \n",
    "    'batch_size': [64, 128, 256],\n",
    "    'learn_rate': [0.0001, 0.001, 0.01]\n",
    "}\n",
    "open('grid_search_result.txt', 'w').close()"
   ]
  },
  {
   "cell_type": "markdown",
   "id": "aggregate-amsterdam",
   "metadata": {},
   "source": [
    "### NeuMF"
   ]
  },
  {
   "cell_type": "code",
   "execution_count": null,
   "id": "representative-limitation",
   "metadata": {},
   "outputs": [],
   "source": [
    "print(\"grid search on NeuMF...\")\n",
    "x_train, x_test, y_train, y_test = train_test_split(df[['user', 'item']], df['rating'], test_size=0.20, random_state=42)\n",
    "neumf = rs_models.NeuMF\n",
    "kgs = KerasGridSearch(neumf, param_grid, monitor='val_auc', greater_is_better=True, tuner_verbose=0)\n",
    "kgs.search([x_train.user, x_train.item], y_train, validation_data=([x_test.user, x_test.item], y_test))\n",
    "print(f'NeuMF best AUC: {kgs.best_score} using {kgs.best_params}', file=open(\"grid_search_result.txt\", \"a\"))\n",
    "print(\"Done!\")"
   ]
  },
  {
   "cell_type": "markdown",
   "id": "rational-framework",
   "metadata": {},
   "source": [
    "### ECAM NeuMF"
   ]
  },
  {
   "cell_type": "code",
   "execution_count": null,
   "id": "objective-plaintiff",
   "metadata": {},
   "outputs": [],
   "source": [
    "print(\"grid search on ECAM NeuMF...\")\n",
    "x_train, x_test, y_train, y_test = train_test_split(df[['user', 'item'] + context_labels], df['rating'], test_size=0.20, random_state=42)\n",
    "ecam_neumf = rs_models.ECAM_NeuMF\n",
    "kgs = KerasGridSearch(ecam_neumf, param_grid, monitor='val_auc', greater_is_better=True, tuner_verbose=0)\n",
    "kgs.search([x_train.user, x_train.item, x_train[context_labels]], y_train, validation_data=([x_test.user, x_test.item, x_test[context_labels]], y_test))\n",
    "print(f'ECAM NeuMF best AUC: {kgs.best_score} using {kgs.best_params}', file=open(\"grid_search_result.txt\", \"a\"))\n",
    "print(\"Done!\")"
   ]
  },
  {
   "cell_type": "markdown",
   "id": "rocky-marriage",
   "metadata": {},
   "source": [
    "### Classifier"
   ]
  },
  {
   "cell_type": "code",
   "execution_count": 3,
   "id": "foster-keyboard",
   "metadata": {},
   "outputs": [
    {
     "name": "stdout",
     "output_type": "stream",
     "text": [
      "grid search on feed-forward network...\n",
      "Fitting 2 folds for each of 1 candidates, totalling 2 fits\n",
      "Done!\n"
     ]
    }
   ],
   "source": [
    "print(\"grid search on feed-forward network...\")\n",
    "\n",
    "x = df[item_labels + context_labels]\n",
    "y = df['rating']\n",
    "\n",
    "ff_net = KerasClassifier(build_fn=rs_models.mobile_model, verbose=False)\n",
    "\n",
    "param_grid = {\n",
    "    'learn_rate': [0.005],\n",
    "    'batch_size': [64],\n",
    "    'epochs': [10], \n",
    "    'layers': [3, 4, 5],\n",
    "    'neurons': [100, 200, 400]\n",
    "}\n",
    "\n",
    "# create and fit gridsearch\n",
    "grid = GridSearchCV(estimator=ff_net, scoring=['accuracy', 'roc_auc'], refit='roc_auc', param_grid=param_grid, \n",
    "                    cv=KFold(shuffle=True, n_splits=5, random_state=42), verbose=True)\n",
    "grid_results = grid.fit(x, y)\n",
    "\n",
    "mean_accuracy = grid_results.cv_results_['mean_test_accuracy']\n",
    "mean_auc = grid_results.cv_results_['mean_test_roc_auc']\n",
    "params = grid_results.cv_results_['params']\n",
    "\n",
    "print(f'FFnet best AUC: {grid_results.best_score_} using {grid_results.best_params_}', file=open(\"grid_search_result.txt\", \"a\"))\n",
    "print(\"Done!\")"
   ]
  },
  {
   "cell_type": "code",
   "execution_count": null,
   "id": "broke-collins",
   "metadata": {},
   "outputs": [],
   "source": []
  }
 ],
 "metadata": {
  "kernelspec": {
   "display_name": "Python 3",
   "language": "python",
   "name": "python3"
  },
  "language_info": {
   "codemirror_mode": {
    "name": "ipython",
    "version": 3
   },
   "file_extension": ".py",
   "mimetype": "text/x-python",
   "name": "python",
   "nbconvert_exporter": "python",
   "pygments_lexer": "ipython3",
   "version": "3.8.5"
  }
 },
 "nbformat": 4,
 "nbformat_minor": 5
}
