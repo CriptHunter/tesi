{
 "cells": [
  {
   "cell_type": "code",
   "execution_count": 16,
   "id": "exterior-committee",
   "metadata": {},
   "outputs": [],
   "source": [
    "import numpy as np\n",
    "import tensorflow as tf\n",
    "import pandas as pd\n",
    "from keras.models import Sequential\n",
    "from keras.layers import Dense\n",
    "from keras.wrappers.scikit_learn import KerasClassifier\n",
    "from sklearn.model_selection import cross_val_score\n",
    "from sklearn.preprocessing import LabelEncoder\n",
    "from sklearn.model_selection import StratifiedKFold\n",
    "from sklearn.model_selection import cross_validate\n",
    "from sklearn.preprocessing import StandardScaler\n",
    "pd.options.display.max_columns = 1000\n",
    "\n",
    "import warnings\n",
    "warnings.filterwarnings(\"ignore\")"
   ]
  },
  {
   "cell_type": "code",
   "execution_count": 17,
   "id": "communist-technician",
   "metadata": {},
   "outputs": [
    {
     "name": "stdout",
     "output_type": "stream",
     "text": [
      "rating with value 1: 68.37503224142378 %\n"
     ]
    }
   ],
   "source": [
    "df = pd.read_csv('MDF_final.csv')\n",
    "x = df.iloc[:, 3:91]\n",
    "y = df.iloc[:, 91]\n",
    "input_dim = len(x.columns)\n",
    "\n",
    "for col in 'music_active speaker_on headset_connected connected is_weekend is_holiday'.split():\n",
    "    x[col] = x[col].astype(int)\n",
    "    \n",
    "print(f\"rating with value 1: {df[df.rating == 1]['rating'].count() * 100 / len(df)} %\")"
   ]
  },
  {
   "cell_type": "code",
   "execution_count": 30,
   "id": "polished-theme",
   "metadata": {},
   "outputs": [],
   "source": [
    "def mobile_model():\n",
    "    model = Sequential()\n",
    "    model.add(Dense(200, input_dim=input_dim, activation='relu'))\n",
    "    model.add(Dense(100, input_dim=input_dim, activation='relu'))\n",
    "    model.add(Dense(50, input_dim=input_dim, activation='relu'))\n",
    "    model.add(Dense(1, activation='sigmoid'))\n",
    "    model.compile(loss='binary_crossentropy', optimizer='adam')\n",
    "    return model"
   ]
  },
  {
   "cell_type": "code",
   "execution_count": 32,
   "id": "fitted-chest",
   "metadata": {},
   "outputs": [
    {
     "name": "stdout",
     "output_type": "stream",
     "text": [
      "AUC: 0.9181328721879112\n",
      "accuracy: 85.12122775341759 %\n"
     ]
    }
   ],
   "source": [
    "estimator = KerasClassifier(build_fn=mobile_model, epochs=5, batch_size=64, verbose=0)\n",
    "kfold = StratifiedKFold(n_splits=5, shuffle=True)\n",
    "scores = cross_validate(estimator, x, y, cv=kfold, scoring=['accuracy', 'roc_auc'])\n",
    "print(f\"AUC: {scores['test_roc_auc'].mean()}\")\n",
    "print(f\"accuracy: {scores['test_accuracy'].mean()*100} %\")"
   ]
  },
  {
   "cell_type": "code",
   "execution_count": null,
   "id": "hungry-wallpaper",
   "metadata": {},
   "outputs": [],
   "source": []
  }
 ],
 "metadata": {
  "kernelspec": {
   "display_name": "Python 3",
   "language": "python",
   "name": "python3"
  },
  "language_info": {
   "codemirror_mode": {
    "name": "ipython",
    "version": 3
   },
   "file_extension": ".py",
   "mimetype": "text/x-python",
   "name": "python",
   "nbconvert_exporter": "python",
   "pygments_lexer": "ipython3",
   "version": "3.8.5"
  }
 },
 "nbformat": 4,
 "nbformat_minor": 5
}
