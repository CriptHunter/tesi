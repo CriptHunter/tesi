{
 "cells": [
  {
   "cell_type": "code",
   "execution_count": null,
   "id": "agricultural-ladder",
   "metadata": {},
   "outputs": [],
   "source": [
    "import pandas as pd\n",
    "import numpy as np"
   ]
  },
  {
   "cell_type": "code",
   "execution_count": null,
   "id": "formal-template",
   "metadata": {},
   "outputs": [],
   "source": [
    "df = pd.read_csv('Datasets/MDF_not_encoded_neg_sampled.csv')\n",
    "#df = df[(df.item != 2) & (df.item != 4)]"
   ]
  },
  {
   "cell_type": "code",
   "execution_count": null,
   "id": "earlier-neutral",
   "metadata": {},
   "outputs": [],
   "source": [
    "df.category.value_counts().plot.bar(figsize=(20, 4), title='Number of apps per category')"
   ]
  },
  {
   "cell_type": "code",
   "execution_count": null,
   "id": "atlantic-paint",
   "metadata": {},
   "outputs": [],
   "source": [
    "df.label.value_counts().plot.bar(figsize=(10, 4), title='Number of apps per label')"
   ]
  },
  {
   "cell_type": "code",
   "execution_count": null,
   "id": "boolean-milton",
   "metadata": {},
   "outputs": [],
   "source": [
    "df.place_type.value_counts().plot.bar(figsize=(10, 4), title='Number of apps per place type')"
   ]
  },
  {
   "cell_type": "code",
   "execution_count": null,
   "id": "removed-fairy",
   "metadata": {},
   "outputs": [],
   "source": [
    "df[df.rating == 1].groupby(['item'])['label'].nunique().sort_values(ascending=False)[:80].plot.bar(figsize=(20, 4), title='number of contexts in which an application appear')"
   ]
  },
  {
   "cell_type": "code",
   "execution_count": null,
   "id": "appreciated-context",
   "metadata": {},
   "outputs": [],
   "source": [
    "df.item.value_counts()[:20].plot.bar(figsize=(20, 4), title='number of row in which an application appear')"
   ]
  }
 ],
 "metadata": {
  "kernelspec": {
   "display_name": "Python 3",
   "language": "python",
   "name": "python3"
  },
  "language_info": {
   "codemirror_mode": {
    "name": "ipython",
    "version": 3
   },
   "file_extension": ".py",
   "mimetype": "text/x-python",
   "name": "python",
   "nbconvert_exporter": "python",
   "pygments_lexer": "ipython3",
   "version": "3.8.5"
  }
 },
 "nbformat": 4,
 "nbformat_minor": 5
}
