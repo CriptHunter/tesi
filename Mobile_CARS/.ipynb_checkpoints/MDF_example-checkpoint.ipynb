{
 "cells": [
  {
   "cell_type": "code",
   "execution_count": 68,
   "id": "exclusive-necklace",
   "metadata": {},
   "outputs": [],
   "source": [
    "import pandas as pd\n",
    "import numpy as np"
   ]
  },
  {
   "cell_type": "markdown",
   "id": "latter-lincoln",
   "metadata": {},
   "source": [
    "### Context functions\n",
    "\n",
    "Functions to extract context features from raw files"
   ]
  },
  {
   "cell_type": "code",
   "execution_count": 66,
   "id": "paperback-geneva",
   "metadata": {},
   "outputs": [],
   "source": [
    "def get_activity(user_dir, dt):\n",
    "    \"\"\"\n",
    "    Returns: normalized vector of activities\n",
    "    Features: in_veichle, on_bicycle, on_foot, running, still, tilting, walking, unknown\n",
    "    \"\"\"\n",
    "    df = pd.read_csv(user_dir + '/activities.csv', header=0)\n",
    "    df['time'] = pd.to_datetime(df['time'], unit='ms')\n",
    "    df.sort_values('time', inplace=True)\n",
    "    df.drop_duplicates(subset='time', keep=\"first\", inplace=True)\n",
    "    df.set_index('time', inplace=True)\n",
    "    \n",
    "    # The max value of each feature is 100\n",
    "    return df.iloc[[df.index.get_loc(dt, method='nearest')]].values[0]/100.0\n",
    "\n",
    "\n",
    "def get_audio_status(user_dir, dt):\n",
    "    \"\"\"\n",
    "    Returns: audio features\n",
    "    Features: ringer_mode, alarm_volume, music_volume, notifications_volume, ring_volume, bt_sco_connected, mic_muted, music_active, speaker_on, headset_connected\n",
    "    \"\"\"\n",
    "    df = pd.read_csv(user_dir + '/audio.csv', header=0)\n",
    "    df['time'] = pd.to_datetime(df['time'], unit='ms')\n",
    "    df.sort_values('time', inplace=True)\n",
    "    df.drop_duplicates(subset='time', keep=\"first\", inplace=True)\n",
    "    df.set_index('time', inplace=True)\n",
    "    \n",
    "    # Find the closest row\n",
    "    closest = df.iloc[[df.index.get_loc(dt, method='nearest')]].values[0].tolist()\n",
    "    \n",
    "    # Convert boolean into int, if necessary\n",
    "    closest = [0 if e == False else 1 if e == True else e for e in closest]\n",
    "\n",
    "    return np.asarray(closest)"
   ]
  },
  {
   "cell_type": "markdown",
   "id": "narrow-surfing",
   "metadata": {},
   "source": [
    "### Process users' data"
   ]
  },
  {
   "cell_type": "code",
   "execution_count": 2,
   "id": "sexual-stick",
   "metadata": {},
   "outputs": [],
   "source": [
    "DATA_SOURCE = '../Datasets/MDF/'\n",
    "\n",
    "# Nomi colonne\n",
    "header = []\n",
    "\n",
    "for user in list(range(31)):\n",
    "    user_dir = DATA_SOURCE + 'user_' + str(user)\n",
    "    \n",
    "    # We use activities log as starting point\n",
    "    df = pd.read_csv(user_dir + '/activities.csv', header=0)\n",
    "    df['time'] = pd.to_datetime(df['time'], unit='ms')\n",
    "    df.sort_values('time', inplace=True)\n",
    "    df.drop_duplicates(subset='time', keep=\"first\", inplace=True)\n",
    "    \n",
    "    \n",
    "    rows = []\n",
    "    \n",
    "    # For each timestamp, get the closest sensors data\n",
    "    for dt in df['time']:\n",
    "        activities = get_activity(user_dir=user_dir, dt=dt)\n",
    "        audio_status = get_audio_status(user_dir, df['time'][0])\n",
    "        \n",
    "        row = activities.tolist() + audio_status.tolist()\n",
    "        rows.append(row)\n",
    "        \n",
    "    pd.DataFrame(columns=)"
   ]
  }
 ],
 "metadata": {
  "kernelspec": {
   "display_name": "Python 3",
   "language": "python",
   "name": "python3"
  },
  "language_info": {
   "codemirror_mode": {
    "name": "ipython",
    "version": 3
   },
   "file_extension": ".py",
   "mimetype": "text/x-python",
   "name": "python",
   "nbconvert_exporter": "python",
   "pygments_lexer": "ipython3",
   "version": "3.8.2"
  }
 },
 "nbformat": 4,
 "nbformat_minor": 5
}
