{
 "cells": [
  {
   "cell_type": "markdown",
   "metadata": {},
   "source": [
    "# Train models MDF dataset"
   ]
  },
  {
   "cell_type": "code",
   "execution_count": 2,
   "metadata": {},
   "outputs": [],
   "source": [
    "import numpy as np\n",
    "import pandas as pd\n",
    "import tensorflow as tf\n",
    "from tensorflow import keras\n",
    "from keras.utils import plot_model\n",
    "from keras.models import Sequential\n",
    "from keras.layers import Dense, Input, Embedding, Flatten, Concatenate, Lambda\n",
    "from keras.optimizers import Adam\n",
    "from keras.wrappers.scikit_learn import KerasClassifier\n",
    "from sklearn.model_selection import StratifiedKFold, cross_validate, train_test_split\n",
    "from sklearn.model_selection import GridSearchCV, KFold\n",
    "import rs_models\n",
    "\n",
    "pd.options.display.max_columns = 1000\n",
    "import warnings\n",
    "warnings.filterwarnings(\"ignore\")"
   ]
  },
  {
   "cell_type": "code",
   "execution_count": null,
   "metadata": {},
   "outputs": [],
   "source": [
    "def kfold_split(df, x, y, n_splits=6):\n",
    "    kf = KFold(n_splits=n_splits, random_state=42, shuffle=True)\n",
    "\n",
    "    for train_index, test_index in kf.split(df[x], df[y]):\n",
    "        x_train, x_test = df[x].loc[train_index, :], df[x].loc[test_index, :]\n",
    "        y_train, y_test = df[y].loc[train_index], df[y].loc[test_index]\n",
    "        yield x_train, y_train, x_test, y_test\n",
    "\n",
    "\n",
    "def kfold_train(model, param, context_labels=[], n_splits=2):\n",
    "    \"\"\"\n",
    "    Train a model on n split using kfold\n",
    "    model: function that returns a compiled model\n",
    "    param: dictionary that contains model parameters (learning rate, epochs, batch size...)\n",
    "    \"\"\"\n",
    "    x_labels = ['user', 'item'] \n",
    "    y_labels = 'rating'\n",
    "    kfold = kfold_split(df, x_labels+context_labels, y_labels, n_splits) # generator that returns training and test index\n",
    "    idx = 0\n",
    "\n",
    "    for x_train, y_train, x_test, y_test in kfold:\n",
    "        net = model(param)\n",
    "\n",
    "        input_list = [x_train[e] for e in x_labels] # split user, item input\n",
    "        input_list = [input_list + [x_train[context_labels]] if context_labels else input_list] # add context if it's available\n",
    "        net.fit(input_list, y_train, epochs=param['epochs'], batch_size=param['batch_size'], verbose=False)\n",
    "\n",
    "        input_list = [x_test[e] for e in x_labels] # same split for test values\n",
    "        input_list = [input_list + [x_test[context_labels]] if context_labels else input_list]\n",
    "        if idx == 0: # if it is the first fold, create results array\n",
    "            results = np.array(net.evaluate(input_list, y_test, batch_size=512, verbose=False))\n",
    "        else: # else add new results to array\n",
    "            results = np.add(results, net.evaluate(input_list, y_test, batch_size=512, verbose=False))\n",
    "        idx = idx + 1\n",
    "    return results/idx\n"
   ]
  },
  {
   "cell_type": "markdown",
   "metadata": {},
   "source": [
    "## Load dataset"
   ]
  },
  {
   "cell_type": "code",
   "execution_count": null,
   "metadata": {},
   "outputs": [],
   "source": [
    "df = pd.read_csv('MDF_final.csv')\n",
    "df = df.drop_duplicates()\n",
    "df.reset_index(drop=True, inplace=True)\n",
    "\n",
    "item_labels = [i for i in list(df.columns) if i.find(\"category\") == 0] # labels that describe an item\n",
    "context_labels = list(set(df.iloc[:, 3:]) - set(item_labels)) # takes all the columns after user, item rating and remove item labels\n",
    "\n",
    "n_users = df.user.nunique()\n",
    "n_items = df.item.nunique()\n",
    "n_contexts = len(context_labels)\n",
    "    \n",
    "print(f\"rating with value 1: {df[df.rating == 1]['rating'].count() * 100 / len(df)} %\")\n",
    "print(f\"users: {n_users} \\t items: {n_items} \\t rating: {len(df)} \\t items_features: {len(item_labels)} \\t contexts_features: {n_contexts} \\t \")"
   ]
  },
  {
   "cell_type": "markdown",
   "metadata": {},
   "source": [
    "## NeuMF"
   ]
  },
  {
   "cell_type": "code",
   "execution_count": null,
   "metadata": {},
   "outputs": [],
   "source": [
    "param = {\n",
    "    'n_users': n_users,\n",
    "    'n_items': n_items,\n",
    "    'n_contexts': n_contexts,\n",
    "    'learn_rate': 0.001,\n",
    "    'batch_size': 64,\n",
    "    'epochs': 8\n",
    "}   \n",
    "\n",
    "\n",
    "std_dev, accuracy, auc = kfold_train(rs_models.NeuMF, param, n_splits=10)\n",
    "print(f\"NeuMF \\t accuracy: {accuracy*100}% \\t AUC: {auc}\")"
   ]
  },
  {
   "cell_type": "markdown",
   "metadata": {},
   "source": [
    "## ECAM NeuMF"
   ]
  },
  {
   "cell_type": "code",
   "execution_count": null,
   "metadata": {},
   "outputs": [],
   "source": [
    "param = {\n",
    "    'n_users': n_users,\n",
    "    'n_items': n_items,\n",
    "    'n_contexts': n_contexts,\n",
    "    'learn_rate': 0.001,\n",
    "    'batch_size': 256,\n",
    "    'epochs': 7\n",
    "}  \n",
    "\n",
    "std_dev, accuracy, auc = kfold_train(rs_models.ECAM_NeuMF, param, context_labels=context_labels, n_splits=10)\n",
    "print(f\"ECAM NeuMF \\t accuracy: {accuracy*100}% \\t AUC: {auc}\")"
   ]
  },
  {
   "cell_type": "markdown",
   "metadata": {},
   "source": [
    "## Classifier"
   ]
  },
  {
   "cell_type": "code",
   "execution_count": null,
   "metadata": {},
   "outputs": [],
   "source": [
    "from sklearn.model_selection import cross_validate\n",
    "\n",
    "ffnet = KerasClassifier(build_fn=rs_models.mobile_model, neurons=200, layers=4, learn_rate=0.005, epochs=10, batch_size=64, verbose=False)\n",
    "x = df[item_labels+context_labels]\n",
    "y = df['rating']\n",
    "scores = cross_validate(ffnet, x, y, cv=KFold(shuffle=True, n_splits=10, random_state=42), scoring=['accuracy', 'roc_auc'])\n",
    "accuracy = np.average(scores['test_accuracy'])\n",
    "auc = np.average(scores['test_roc_auc'])\n",
    "print(f\"Classifier \\t accuracy: {accuracy*100}% \\t AUC: {auc}\")"
   ]
  }
 ],
 "metadata": {
  "kernelspec": {
   "display_name": "Python 3",
   "language": "python",
   "name": "python3"
  },
  "language_info": {
   "codemirror_mode": {
    "name": "ipython",
    "version": 3
   },
   "file_extension": ".py",
   "mimetype": "text/x-python",
   "name": "python",
   "nbconvert_exporter": "python",
   "pygments_lexer": "ipython3",
   "version": "3.8.5"
  },
  "toc-showmarkdowntxt": true
 },
 "nbformat": 4,
 "nbformat_minor": 4
}
