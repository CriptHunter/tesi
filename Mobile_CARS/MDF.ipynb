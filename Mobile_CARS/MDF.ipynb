{
 "cells": [
  {
   "cell_type": "code",
   "execution_count": 282,
   "id": "accessible-letter",
   "metadata": {},
   "outputs": [],
   "source": [
    "import pandas as pd\n",
    "import numpy as np\n",
    "import pprint\n",
    "import os"
   ]
  },
  {
   "cell_type": "code",
   "execution_count": null,
   "id": "seeing-floating",
   "metadata": {},
   "outputs": [],
   "source": [
    "def get_closest_row(file_path, columns, dt):\n",
    "    df = pd.read_csv(file_path, header=0)\n",
    "    df['time'] = pd.to_datetime(df['time'], unit='ms')\n",
    "    df.sort_values('time', inplace=True)\n",
    "    df.drop_duplicates(subset='time', keep=\"first\", inplace=True)\n",
    "    df.set_index('time', inplace=True)\n",
    "    closest = df.iloc[[df.index.get_loc(dt, method='nearest')]].values[0]\n",
    "    return np.asarray(closest)"
   ]
  },
  {
   "cell_type": "code",
   "execution_count": null,
   "id": "elder-violence",
   "metadata": {},
   "outputs": [],
   "source": [
    "file_dict = {'activities.csv': ['in_veichle', 'on_bicycle', 'on_foot', 'running', 'still', 'tilting', 'walking', 'unknown'], \n",
    "             'audio.csv': ['ringer_mode', 'alarm_volume', 'music_volume', 'notifications_volume', 'ring_volume', 'bt_sco_connected', 'mic_muted', 'music_active', 'speaker_on', 'headset_connected']}"
   ]
  },
  {
   "cell_type": "code",
   "execution_count": null,
   "id": "offshore-apparel",
   "metadata": {},
   "outputs": [],
   "source": [
    "data_path = 'Datasets/MDF/'\n",
    "user_dir = data_path + 'user_6'\n",
    "\n",
    "ignored_apps = \"\"\"it.cnr.iit.sensapp com.android.systemui com.sec.android.app.launcher com.android.settings com.android.vending\n",
    "                  com.android.captiveportallogin com.google.android.packageinstaller com.teslacoilsw.launcher com.android.packageinstaller\n",
    "                  com.samsung.android.MtpApplication com.sec.android.emergencylauncher com.wssyncmldm com.huawei.android.launcher\n",
    "                  com.huawei.systemmanager com.asus.launcher android\"\"\".split()\n",
    "\n",
    "#temp_ignored = 'com.facebook.katana com.instagram.android com.whatsapp com.google.android.youtube com.twitter.android com.android.chrome'.split() # ignore common apps just for finding other apps to ignore\n",
    "\n",
    "df = pd.read_csv(user_dir + '/running_apps.csv', header=0)\n",
    "df = df[~df['app'].isin(ignored_apps)]\n",
    "df['time'] = pd.to_datetime(df['time'], unit='ms')\n",
    "df.sort_values('time', inplace=True)\n",
    "df.drop_duplicates(subset='time', keep=\"first\", inplace=True)\n",
    "df.reset_index(drop=True, inplace=True)\n",
    "pd.options.display.max_rows = 10\n",
    "df"
   ]
  },
  {
   "cell_type": "code",
   "execution_count": null,
   "id": "senior-nicaragua",
   "metadata": {},
   "outputs": [],
   "source": [
    "rows = []\n",
    "i = 0\n",
    "for dt in df['time']:\n",
    "    row = []\n",
    "    for filename, columns in file_dict.items():\n",
    "        file_path = user_dir + '/' + filename\n",
    "        row = row + get_closest_row(file_path, columns, dt).tolist()\n",
    "    rows.append(row)\n",
    "\n",
    "df2 = pd.DataFrame(rows, columns=np.concatenate(list(file_dict.values())))\n",
    "df = pd.concat([df, df2], axis=1)"
   ]
  },
  {
   "cell_type": "code",
   "execution_count": null,
   "id": "weird-nudist",
   "metadata": {},
   "outputs": [],
   "source": [
    "df"
   ]
  },
  {
   "cell_type": "code",
   "execution_count": 286,
   "id": "fabulous-disclaimer",
   "metadata": {},
   "outputs": [
    {
     "name": "stdout",
     "output_type": "stream",
     "text": [
      "Datasets/MDF/user_0\n",
      "Datasets/MDF/user_1\n",
      "Datasets/MDF/user_2\n",
      "Datasets/MDF/user_3\n",
      "Datasets/MDF/user_4\n",
      "Datasets/MDF/user_5\n",
      "Datasets/MDF/user_6\n",
      "Datasets/MDF/user_7\n",
      "Datasets/MDF/user_8\n",
      "Datasets/MDF/user_9\n",
      "Datasets/MDF/user_10\n",
      "Datasets/MDF/user_11\n",
      "Datasets/MDF/user_12\n",
      "Datasets/MDF/user_13\n",
      "Datasets/MDF/user_14\n",
      "Datasets/MDF/user_15\n",
      "Datasets/MDF/user_16\n",
      "Datasets/MDF/user_17\n",
      "Datasets/MDF/user_18\n",
      "Datasets/MDF/user_19\n",
      "Datasets/MDF/user_20\n",
      "Datasets/MDF/user_21\n",
      "Datasets/MDF/user_22\n",
      "Datasets/MDF/user_23\n",
      "Datasets/MDF/user_24\n",
      "Datasets/MDF/user_25\n",
      "Datasets/MDF/user_26\n",
      "Datasets/MDF/user_27\n",
      "Datasets/MDF/user_28\n",
      "Datasets/MDF/user_29\n",
      "Datasets/MDF/user_30\n"
     ]
    }
   ],
   "source": [
    "for user in range(31):\n",
    "    user_dir = data_path + 'user_' + str(user)\n"
   ]
  },
  {
   "cell_type": "code",
   "execution_count": null,
   "id": "focal-pressure",
   "metadata": {},
   "outputs": [],
   "source": []
  }
 ],
 "metadata": {
  "kernelspec": {
   "display_name": "Python 3",
   "language": "python",
   "name": "python3"
  },
  "language_info": {
   "codemirror_mode": {
    "name": "ipython",
    "version": 3
   },
   "file_extension": ".py",
   "mimetype": "text/x-python",
   "name": "python",
   "nbconvert_exporter": "python",
   "pygments_lexer": "ipython3",
   "version": "3.8.5"
  }
 },
 "nbformat": 4,
 "nbformat_minor": 5
}
