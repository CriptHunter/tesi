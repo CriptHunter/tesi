{
 "cells": [
  {
   "cell_type": "code",
   "execution_count": null,
   "id": "accompanied-conference",
   "metadata": {},
   "outputs": [],
   "source": [
    "import pandas as pd\n",
    "import numpy as np"
   ]
  },
  {
   "cell_type": "code",
   "execution_count": null,
   "id": "empty-cutting",
   "metadata": {},
   "outputs": [],
   "source": [
    "df = pd.read_csv('Datasets/MDF_not_encoded_neg_sampled.csv')\n",
    "#df = df[(df.item != 2) & (df.item != 4)]"
   ]
  },
  {
   "cell_type": "code",
   "execution_count": null,
   "id": "tired-volleyball",
   "metadata": {},
   "outputs": [],
   "source": [
    "df.category.value_counts().plot.bar(figsize=(20, 4), title='Number of apps per category')"
   ]
  },
  {
   "cell_type": "code",
   "execution_count": null,
   "id": "duplicate-model",
   "metadata": {},
   "outputs": [],
   "source": [
    "df.label.value_counts().plot.bar(figsize=(10, 4), title='Number of apps per label')"
   ]
  },
  {
   "cell_type": "code",
   "execution_count": null,
   "id": "normal-bhutan",
   "metadata": {},
   "outputs": [],
   "source": [
    "df.place_type.value_counts().plot.bar(figsize=(10, 4), title='Number of apps per place type')"
   ]
  },
  {
   "cell_type": "code",
   "execution_count": null,
   "id": "universal-relief",
   "metadata": {},
   "outputs": [],
   "source": [
    "df[df.rating == 1].groupby(['item'])['label'].nunique().sort_values(ascending=False)[:80].plot.bar(figsize=(20, 4), title='number of contexts in which an application appear')"
   ]
  },
  {
   "cell_type": "code",
   "execution_count": 16,
   "id": "coupled-tragedy",
   "metadata": {},
   "outputs": [
    {
     "data": {
      "text/plain": [
       "<AxesSubplot:title={'center':'number of row in which an application appear'}>"
      ]
     },
     "execution_count": 16,
     "metadata": {},
     "output_type": "execute_result"
    },
    {
     "data": {
      "image/png": "[encoded data removed]",
      "text/plain": [
       "<Figure size 1440x288 with 1 Axes>"
      ]
     },
     "metadata": {
      "needs_background": "light"
     },
     "output_type": "display_data"
    }
   ],
   "source": [
    "df.item.value_counts()[:20].plot.bar(figsize=(20, 4), title='number of row in which an application appear')"
   ]
  },
  {
   "cell_type": "code",
   "execution_count": null,
   "id": "decreased-authentication",
   "metadata": {},
   "outputs": [],
   "source": []
  }
 ],
 "metadata": {
  "kernelspec": {
   "display_name": "Python 3",
   "language": "python",
   "name": "python3"
  },
  "language_info": {
   "codemirror_mode": {
    "name": "ipython",
    "version": 3
   },
   "file_extension": ".py",
   "mimetype": "text/x-python",
   "name": "python",
   "nbconvert_exporter": "python",
   "pygments_lexer": "ipython3",
   "version": "3.8.5"
  }
 },
 "nbformat": 4,
 "nbformat_minor": 5
}
