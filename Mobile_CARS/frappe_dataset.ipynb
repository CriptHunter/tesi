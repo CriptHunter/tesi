{
 "cells": [
  {
   "cell_type": "markdown",
   "id": "65653e88",
   "metadata": {
    "id": "YasL9GIGF3Jb"
   },
   "source": [
    "# Frappe dataset"
   ]
  },
  {
   "cell_type": "markdown",
   "id": "a3468f8a",
   "metadata": {},
   "source": [
    "## Import"
   ]
  },
  {
   "cell_type": "code",
   "execution_count": null,
   "id": "ab313a04",
   "metadata": {
    "id": "1q4UgOkhyxM4"
   },
   "outputs": [],
   "source": [
    "import pandas as pd\n",
    "import numpy as np\n",
    "import os.path"
   ]
  },
  {
   "cell_type": "markdown",
   "id": "b2de046a",
   "metadata": {
    "id": "Hc-eF273f_OO"
   },
   "source": [
    "## Load dataset"
   ]
  },
  {
   "cell_type": "code",
   "execution_count": null,
   "id": "113edffe",
   "metadata": {
    "id": "TlzGyC-g6HQM"
   },
   "outputs": [],
   "source": [
    "# open the dataset\n",
    "left = pd.read_csv('Datasets/frappe dataset/frappe.csv', sep=\"\\t\")\n",
    "right = pd.read_csv('Datasets/frappe dataset/meta.csv', sep=\"\\t\")\n",
    "df = pd.merge(left, right[['item', 'category', 'language']], on=[\"item\"])\n",
    "df"
   ]
  },
  {
   "cell_type": "markdown",
   "id": "23776449",
   "metadata": {
    "id": "OZPRR_K7yxM7"
   },
   "source": [
    "## Dataset preprocessing\n",
    "Context features:\n",
    "- daytime\n",
    "- weekday\n",
    "- isweekend\n",
    "- weather\t"
   ]
  },
  {
   "cell_type": "code",
   "execution_count": null,
   "id": "3c6c651e",
   "metadata": {
    "id": "i6_OSazcyxM8"
   },
   "outputs": [],
   "source": [
    "# delete columns that are not needed\n",
    "del df['homework']\n",
    "del df['city']\n",
    "del df['country']"
   ]
  },
  {
   "cell_type": "code",
   "execution_count": null,
   "id": "2debcfae",
   "metadata": {},
   "outputs": [],
   "source": [
    "# delete rows where in any column there is an 'unknown' value\n",
    "df = df[~df.eq('unknown').any(1)]\n",
    "df = df.reset_index(drop=True)\n",
    "\n",
    "# make users and items id start from 0\n",
    "df.user = pd.factorize(df.user)[0]\n",
    "df.item = pd.factorize(df.item)[0]\n",
    "\n",
    "print(f'n user: {df.user.nunique()} \\t n item: {df.item.nunique()} \\t n row: {len(df)}')\n",
    "\n",
    "# count min and max rating\n",
    "print(f'min rating: {df.cnt.min()} \\t max rating: {df.cnt.max()} \\t mean rating: {df.cnt.mean()}')"
   ]
  },
  {
   "cell_type": "code",
   "execution_count": null,
   "id": "40bae031",
   "metadata": {
    "id": "qFAc_KxJyxM8"
   },
   "outputs": [],
   "source": [
    "# make rating binary\n",
    "df['cnt'] = df['cnt'].apply(lambda x: 1 if x > 4 else 0)\n",
    "\n",
    "#rename rating column\n",
    "df = df.rename(columns={'cnt': 'rating'})\n",
    "\n",
    "# merge game categories under a single label 'Games'\n",
    "game_categories = ['Brain & Puzzle','Arcade & Action','Cards & Casino','Racing','Sports Games','Brain', 'Casual']\n",
    "book_categories = ['Books & Reference', 'Comics', 'Libraries & Demo']\n",
    "df.loc[df['category'].isin(game_categories), 'category'] = 'Games'\n",
    "df.loc[df['category'].isin(book_categories), 'category'] = 'Books'\n",
    "\n",
    "# binarize language label: 1 if english, 0 otherwise\n",
    "df['language'] = df['language'].apply(lambda x: 'english' if x == 'en' else 'other')"
   ]
  },
  {
   "cell_type": "markdown",
   "id": "1e4661b7",
   "metadata": {},
   "source": [
    "### Add user features\n",
    "For each user find:\n",
    "- his favourite app category\n",
    "- if it uses paid apps\n",
    "- on which day he used the most applications\n",
    "- with what weather he used more applications"
   ]
  },
  {
   "cell_type": "code",
   "execution_count": null,
   "id": "b43662f5",
   "metadata": {},
   "outputs": [],
   "source": [
    "def get_favourite_feature_by_rating(df, column):\n",
    "    fav_values = np.zeros((df.user.nunique(), 2), dtype=object)\n",
    "    for user in df.user.unique():\n",
    "        # group by column unique values and sum ratings\n",
    "        grouped = df[['user', column, 'rating']][df.user == user].groupby(['user', column]).sum().sort_values('rating')\n",
    "        fav_val = grouped.tail(1).index.get_level_values(1).tolist()[0] # get value with highest rating sum\n",
    "        fav_values[user,:] = [user, fav_val] # add to numpy array of (user, fav_val)\n",
    "    return pd.DataFrame(fav_values, columns=['user', 'fav_'+column]) # numpy to dataframe\n",
    "\n",
    "df = pd.merge(df, get_favourite_feature_by_rating(df, 'category'), on=['user'])\n",
    "df = pd.merge(df, get_favourite_feature_by_rating(df, 'weekday'), on=['user'])\n",
    "df = pd.merge(df, get_favourite_feature_by_rating(df, 'weather'), on=['user'])\n",
    "df = pd.merge(df, get_favourite_feature_by_rating(df, 'daytime'), on=['user'])\n",
    "df = pd.merge(df, get_favourite_feature_by_rating(df, 'isweekend'), on=['user'])\n",
    "df"
   ]
  },
  {
   "cell_type": "code",
   "execution_count": null,
   "id": "881c6de0",
   "metadata": {},
   "outputs": [],
   "source": [
    "df.cost = df.cost.eq('paid').mul(1) # convert paid/free to 1/0 \n",
    "paid_apps = df[['user', 'cost']].groupby(['user'], as_index=False).any() # find if a user runs paid apps\n",
    "paid_apps = paid_apps.rename(columns={'cost': 'uses_paid_apps'})\n",
    "df = pd.merge(df, paid_apps, on=['user'])"
   ]
  },
  {
   "cell_type": "code",
   "execution_count": null,
   "id": "ab251d43",
   "metadata": {
    "id": "vzwi3oscyxM8"
   },
   "outputs": [],
   "source": [
    "one_hot = ['daytime', 'weekday', 'isweekend', 'weather', 'category', 'language', 'cost', 'fav_category', 'fav_weekday', 'fav_weather', 'fav_daytime', 'fav_isweekend', 'uses_paid_apps']\n",
    "\n",
    "# convert categorical data to one-hot encoding\n",
    "for col in one_hot:\n",
    "  df = pd.get_dummies(df, columns=[col], prefix = [col])\n",
    "\n",
    "df"
   ]
  },
  {
   "cell_type": "code",
   "execution_count": null,
   "id": "77d365cb",
   "metadata": {},
   "outputs": [],
   "source": [
    "df.to_csv('Datasets/frappe dataset/frappe_final.csv', index = False) # save final dataset to CSV\n",
    "\n",
    "# keep only rating == 1 and drop duplicate to build matrix factorization dataset\n",
    "df = df[['user', 'item', 'rating']][df.rating == 1]\n",
    "df = df.drop_duplicates()\n",
    "# make user and items id start from 0\n",
    "df.user = pd.factorize(df.user)[0]\n",
    "df.item = pd.factorize(df.item)[0]\n",
    "df.to_csv('Datasets/frappe dataset/frappe_matrix_factorization.csv', index = False)"
   ]
  }
 ],
 "metadata": {
  "kernelspec": {
   "display_name": "Python 3",
   "language": "python",
   "name": "python3"
  },
  "language_info": {
   "codemirror_mode": {
    "name": "ipython",
    "version": 3
   },
   "file_extension": ".py",
   "mimetype": "text/x-python",
   "name": "python",
   "nbconvert_exporter": "python",
   "pygments_lexer": "ipython3",
   "version": "3.8.5"
  }
 },
 "nbformat": 4,
 "nbformat_minor": 5
}
