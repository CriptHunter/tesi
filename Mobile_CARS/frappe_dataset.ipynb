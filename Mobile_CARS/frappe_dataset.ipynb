{
 "cells": [
  {
   "cell_type": "markdown",
   "id": "closing-editor",
   "metadata": {
    "id": "YasL9GIGF3Jb"
   },
   "source": [
    "# Frappe dataset"
   ]
  },
  {
   "cell_type": "markdown",
   "id": "hazardous-problem",
   "metadata": {},
   "source": [
    "## Import"
   ]
  },
  {
   "cell_type": "code",
   "execution_count": null,
   "id": "aggregate-hours",
   "metadata": {
    "id": "1q4UgOkhyxM4"
   },
   "outputs": [],
   "source": [
    "import pandas as pd\n",
    "import numpy as np\n",
    "import os.path"
   ]
  },
  {
   "cell_type": "markdown",
   "id": "arbitrary-excuse",
   "metadata": {
    "id": "Hc-eF273f_OO"
   },
   "source": [
    "## Load dataset"
   ]
  },
  {
   "cell_type": "code",
   "execution_count": null,
   "id": "reverse-sussex",
   "metadata": {
    "id": "TlzGyC-g6HQM"
   },
   "outputs": [],
   "source": [
    "# open the dataset\n",
    "left = pd.read_csv('Datasets/frappe dataset/frappe.csv', sep=\"\\t\")\n",
    "right = pd.read_csv('Datasets/frappe dataset/meta.csv', sep=\"\\t\")\n",
    "df = pd.merge(left, right[['item', 'category', 'language']], on=[\"item\"])\n",
    "df"
   ]
  },
  {
   "cell_type": "code",
   "execution_count": null,
   "id": "beneficial-consciousness",
   "metadata": {},
   "outputs": [],
   "source": [
    "print(f'min rating: {df.cnt.min()} \\t max rating: {df.cnt.max()} \\t mean rating: {df.cnt.mean()}')"
   ]
  },
  {
   "cell_type": "markdown",
   "id": "fabulous-panel",
   "metadata": {
    "id": "OZPRR_K7yxM7"
   },
   "source": [
    "## Dataset preprocessing\n",
    "Context features:\n",
    "- daytime\n",
    "- weekday\n",
    "- isweekend\n",
    "- weather\t"
   ]
  },
  {
   "cell_type": "code",
   "execution_count": null,
   "id": "demanding-exhibition",
   "metadata": {
    "id": "i6_OSazcyxM8"
   },
   "outputs": [],
   "source": [
    "# delete columns that are not needed\n",
    "del df['homework']\n",
    "del df['city']\n",
    "del df['country']"
   ]
  },
  {
   "cell_type": "code",
   "execution_count": null,
   "id": "aging-silence",
   "metadata": {
    "id": "qFAc_KxJyxM8"
   },
   "outputs": [],
   "source": [
    "# delete rows where in any column there is a 'unknown' value\n",
    "df = df[~df.eq('unknown').any(1)]\n",
    "df = df.reset_index(drop=True)\n",
    "\n",
    "# make user and items id start from 0\n",
    "df.user = pd.factorize(df.user)[0]\n",
    "df.item = pd.factorize(df.item)[0]\n",
    "\n",
    "# make rating binary\n",
    "df['cnt'] = df['cnt'].apply(lambda x: 1 if x > 4 else 0)\n",
    "\n",
    "#rename rating column\n",
    "df = df.rename(columns={'cnt': 'rating'})\n",
    "\n",
    "# merge game categories under a single label 'Games'\n",
    "game_categories = ['Brain & Puzzle','Arcade & Action','Cards & Casino','Racing','Sports Games','Brain', 'Casual']\n",
    "book_categories = ['Books & Reference', 'Comics', 'Libraries & Demo']\n",
    "df.loc[df['category'].isin(game_categories), 'category'] = 'Games'\n",
    "df.loc[df['category'].isin(book_categories), 'category'] = 'Books'\n",
    "\n",
    "# binarize language label: 1 if english, 0 otherwise\n",
    "df['language'] = df['language'].apply(lambda x: 'english' if x == 'en' else 'other')"
   ]
  },
  {
   "cell_type": "markdown",
   "id": "radio-belle",
   "metadata": {},
   "source": [
    "### Add user features\n",
    "For each user find:\n",
    "- his favourite app category\n",
    "- if it uses paid apps\n",
    "- on which day he used the most applications\n",
    "- with what weather he used more applications"
   ]
  },
  {
   "cell_type": "code",
   "execution_count": null,
   "id": "experimental-spotlight",
   "metadata": {},
   "outputs": [],
   "source": [
    "fav_categories = np.zeros((df.user.nunique(), 2), dtype=object)\n",
    "for user in df.user.unique():\n",
    "    # group by category and sum ratings\n",
    "    grouped = df[['user', 'category', 'rating']][df.user == user].groupby(['user', 'category']).sum().sort_values('rating')\n",
    "    fav_category = grouped.tail(1).index.get_level_values(1).tolist()[0] # get category with highest rating sum\n",
    "    fav_categories[user,:] = [user, fav_category] # add to numpy array of (user, fav_category)\n",
    "    \n",
    "fav_categories = pd.DataFrame(fav_categories, columns=['user', 'fav_category']) # numpy to dataframe\n",
    "df = pd.merge(df, fav_categories, on=['user'])"
   ]
  },
  {
   "cell_type": "code",
   "execution_count": null,
   "id": "small-craps",
   "metadata": {},
   "outputs": [],
   "source": [
    "df.cost = df.cost.eq('paid').mul(1) # convert paid/free to 1/0   TODO:  andrebbe messo a zero quando rating == 0\n",
    "paid_apps = df[['user', 'cost']].groupby(['user'], as_index=False).any() # find if a user runs paid apps\n",
    "paid_apps = paid_apps.rename(columns={'cost': 'uses_paid_apps'})\n",
    "df = pd.merge(df, paid_apps, on=['user'])"
   ]
  },
  {
   "cell_type": "code",
   "execution_count": null,
   "id": "crazy-intro",
   "metadata": {},
   "outputs": [],
   "source": [
    "fav_days = np.zeros((df.user.nunique(), 2), dtype=object)\n",
    "for user in df.user.unique():\n",
    "    # group by day and sum ratings\n",
    "    grouped = df[['user', 'weekday', 'rating']][df.user == user].groupby(['user', 'weekday']).sum().sort_values('rating')\n",
    "    fav_day = grouped.tail(1).index.get_level_values(1).tolist()[0] # get day with highest rating sum\n",
    "    fav_days[user,:] = [user, fav_day] # add to numpy array of (user, fav_day)\n",
    "    \n",
    "fav_days = pd.DataFrame(fav_days, columns=['user', 'fav_day']) # numpy to dataframe\n",
    "df = pd.merge(df, fav_days, on=['user'])"
   ]
  },
  {
   "cell_type": "code",
   "execution_count": null,
   "id": "respective-neighborhood",
   "metadata": {},
   "outputs": [],
   "source": [
    "fav_weathers = np.zeros((df.user.nunique(), 2), dtype=object)\n",
    "for user in df.user.unique():\n",
    "    # group by weather and sum ratings\n",
    "    grouped = df[['user', 'weather', 'rating']][df.user == user].groupby(['user', 'weather']).sum().sort_values('rating')\n",
    "    fav_weather = grouped.tail(1).index.get_level_values(1).tolist()[0] # get weather with highest rating sum\n",
    "    fav_weathers[user,:] = [user, fav_weather] # add to numpy array of (user, fav_weather)\n",
    "    \n",
    "fav_weathers = pd.DataFrame(fav_weathers, columns=['user', 'fav_weather']) # numpy to dataframe\n",
    "df = pd.merge(df, fav_weathers, on=['user'])"
   ]
  },
  {
   "cell_type": "code",
   "execution_count": null,
   "id": "material-being",
   "metadata": {},
   "outputs": [],
   "source": [
    "df"
   ]
  },
  {
   "cell_type": "code",
   "execution_count": null,
   "id": "terminal-circus",
   "metadata": {
    "id": "vzwi3oscyxM8"
   },
   "outputs": [],
   "source": [
    "one_hot = ['daytime', 'weekday', 'isweekend', 'weather', 'category', 'language', 'cost', 'fav_category', 'fav_day', 'fav_weather', 'uses_paid_apps']\n",
    "\n",
    "# convert categorical data to one-hot encoding\n",
    "for col in one_hot:\n",
    "  df = pd.get_dummies(df, columns=[col], prefix = [col])\n",
    "\n",
    "df"
   ]
  },
  {
   "cell_type": "code",
   "execution_count": null,
   "id": "according-footwear",
   "metadata": {},
   "outputs": [],
   "source": [
    "df.to_csv('Datasets/frappe dataset/frappe_final.csv', index = False) # save final dataset to CSV\n",
    "\n",
    "# keep only rating == 1 and drop duplicate to build matrix factorization dataset\n",
    "df = df[['user', 'item', 'rating']][df.rating == 1]\n",
    "df = df.drop_duplicates()\n",
    "# make user and items id start from 0\n",
    "df.user = pd.factorize(df.user)[0]\n",
    "df.item = pd.factorize(df.item)[0]\n",
    "df.to_csv('Datasets/frappe dataset/frappe_matrix_factorization.csv', index = False)"
   ]
  }
 ],
 "metadata": {
  "kernelspec": {
   "display_name": "Python 3",
   "language": "python",
   "name": "python3"
  },
  "language_info": {
   "codemirror_mode": {
    "name": "ipython",
    "version": 3
   },
   "file_extension": ".py",
   "mimetype": "text/x-python",
   "name": "python",
   "nbconvert_exporter": "python",
   "pygments_lexer": "ipython3",
   "version": "3.8.5"
  }
 },
 "nbformat": 4,
 "nbformat_minor": 5
}
