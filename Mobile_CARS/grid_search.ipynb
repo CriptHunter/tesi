{
 "cells": [
  {
   "cell_type": "markdown",
   "id": "6623f7d5",
   "metadata": {},
   "source": [
    "# Grid search MDF dataset"
   ]
  },
  {
   "cell_type": "code",
   "execution_count": null,
   "id": "2014d2f1",
   "metadata": {},
   "outputs": [],
   "source": [
    "import numpy as np\n",
    "import pandas as pd\n",
    "\n",
    "import tensorflow as tf\n",
    "from tensorflow import keras\n",
    "from keras.utils import plot_model\n",
    "from keras.models import Sequential\n",
    "from keras.layers import Dense, Input, Embedding, Flatten, Concatenate, Lambda\n",
    "from keras.optimizers import Adam\n",
    "\n",
    "from keras.wrappers.scikit_learn import KerasClassifier\n",
    "from sklearn.model_selection import StratifiedKFold, cross_validate, train_test_split\n",
    "from sklearn.model_selection import GridSearchCV, KFold\n",
    "from sklearn.model_selection import ParameterGrid\n",
    "from sklearn.preprocessing import MinMaxScaler\n",
    "\n",
    "import train_utils\n",
    "from NeuMF import NeuMF\n",
    "from ECAM_NeuMF import ECAM_NeuMF\n",
    "from moveCARS import moveCARS\n",
    "from kerashypetune import KerasGridSearch\n",
    "\n",
    "from implicit.evaluation import train_test_split as implicit_train_test_split\n",
    "from implicit.als import AlternatingLeastSquares\n",
    "from scipy.sparse import coo_matrix, csr_matrix\n",
    "from tqdm import tqdm\n",
    "\n",
    "pd.options.display.max_columns = 1000\n",
    "import warnings\n",
    "warnings.filterwarnings(\"ignore\")"
   ]
  },
  {
   "cell_type": "markdown",
   "id": "c12da8e5",
   "metadata": {},
   "source": [
    "## Open Dataset"
   ]
  },
  {
   "cell_type": "code",
   "execution_count": null,
   "id": "c26815fb",
   "metadata": {},
   "outputs": [],
   "source": [
    "def load_dataset(name : str):\n",
    "    if dataset == 'mdf':\n",
    "        df = pd.read_csv('Datasets/MDF_social/MDF_with_social_features.csv')\n",
    "        df = df.drop(columns='time')\n",
    "        df = df.drop_duplicates()\n",
    "        df = df.reset_index(drop=True)\n",
    "        context_labels = list(df.columns[3:66])\n",
    "        item_labels = list(df.columns[66:92])\n",
    "        user_labels = list(df.columns[92:106])\n",
    "        social_labels = list(df.columns[106:])\n",
    "\n",
    "    elif dataset == 'frappe':\n",
    "        df = pd.read_csv('Datasets/frappe dataset/frappe_final.csv')\n",
    "        context_labels = list(df.columns[3:27])\n",
    "        item_labels = list(df.columns[27:54])\n",
    "        user_labels = list(df.columns[54:])\n",
    "        social_labels = []\n",
    "    return df, user_labels, item_labels, context_labels, social_labels"
   ]
  },
  {
   "cell_type": "code",
   "execution_count": null,
   "id": "24cf9621",
   "metadata": {},
   "outputs": [],
   "source": [
    "dataset = 'mdf'\n",
    "df, user_labels, item_labels, context_labels, social_labels = load_dataset(dataset)\n",
    "\n",
    "n_users = df.user.nunique()\n",
    "n_items = df.item.nunique()\n",
    "n_contexts = len(context_labels)\n",
    "\n",
    "print(f\"rating with value 1: {df[df.rating == 1]['rating'].count() * 100 / len(df)} %\")\n",
    "print(f\"users: {n_users} \\t items: {n_items} \\t rating: {len(df)}\")\n",
    "print(f\"user_features: {len(user_labels)} \\t items_features: {len(item_labels)} \\t social_features: {len(social_labels)} \\t contexts_features: {n_contexts} \\t \")"
   ]
  },
  {
   "cell_type": "markdown",
   "id": "ed253cfb",
   "metadata": {},
   "source": [
    "## Grid search"
   ]
  },
  {
   "cell_type": "code",
   "execution_count": null,
   "id": "88e19ddc",
   "metadata": {},
   "outputs": [],
   "source": [
    "param_grid = {\n",
    "    'n_users': n_users,\n",
    "    'n_items': n_items,\n",
    "    'n_contexts': n_contexts,\n",
    "    'epochs': [5, 10, 15, 20], \n",
    "    'batch_size': [64, 128, 256],\n",
    "    'learn_rate': [0.0001, 0.001, 0.01]\n",
    "}\n",
    "open('grid_search_result.txt', 'w').close()"
   ]
  },
  {
   "cell_type": "markdown",
   "id": "9dd367b4",
   "metadata": {},
   "source": [
    "### ALS matrix factorization"
   ]
  },
  {
   "cell_type": "code",
   "execution_count": null,
   "id": "ee7da76d",
   "metadata": {},
   "outputs": [],
   "source": [
    "grid = ParameterGrid({'factors': [64, 128, 256], 'regularization': [0.01, 0.1, 1, 5, 7, 10], 'iterations':[1, 10, 50]})\n",
    "\n",
    "ratings = coo_matrix((df['rating'].astype(np.float32),\n",
    "                     (df['item'],\n",
    "                      df['user']))).tocsr()\n",
    "train, test = implicit_train_test_split(ratings, train_percentage=0.80)\n",
    "\n",
    "best_params = {}\n",
    "best_AUC = 0\n",
    "for params in tqdm(grid):\n",
    "    auc = 0\n",
    "    for split in range(5):\n",
    "        model = AlternatingLeastSquares(**params)\n",
    "        model.fit(train, show_progress=False)\n",
    "        auc = auc + train_utils.mf_AUC(model, train, test)\n",
    "    auc = auc / 5\n",
    "    if auc > best_AUC:\n",
    "        best_params = params\n",
    "        best_AUC = auc\n",
    "print(best_AUC, best_params)"
   ]
  },
  {
   "cell_type": "markdown",
   "id": "001a209c",
   "metadata": {},
   "source": [
    "### NeuMF"
   ]
  },
  {
   "cell_type": "code",
   "execution_count": null,
   "id": "088b2e1a",
   "metadata": {},
   "outputs": [],
   "source": [
    "print(\"grid search on NeuMF...\")\n",
    "x_train, x_test, y_train, y_test = train_test_split(df[['user', 'item']], df['rating'], test_size=0.20, random_state=42)\n",
    "kgs = KerasGridSearch(NeuMF, param_grid, monitor='val_auc', greater_is_better=True, tuner_verbose=0)\n",
    "kgs.search([x_train.user, x_train.item], y_train, validation_data=([x_test.user, x_test.item], y_test))\n",
    "print(f'NeuMF best AUC: {kgs.best_score} using {kgs.best_params}', file=open(\"grid_search_result.txt\", \"a\"))\n",
    "print(\"Done!\")"
   ]
  },
  {
   "cell_type": "markdown",
   "id": "ee503a09",
   "metadata": {},
   "source": [
    "### ECAM NeuMF"
   ]
  },
  {
   "cell_type": "code",
   "execution_count": null,
   "id": "99c7bd2a",
   "metadata": {},
   "outputs": [],
   "source": [
    "print(\"grid search on ECAM NeuMF...\")\n",
    "x_train, x_test, y_train, y_test = train_test_split(df[['user', 'item'] + context_labels], df['rating'], test_size=0.20, random_state=42)\n",
    "kgs = KerasGridSearch(ECAM_NeuMF, param_grid, monitor='val_auc', greater_is_better=True, tuner_verbose=0)\n",
    "kgs.search([x_train.user, x_train.item, x_train[context_labels]], y_train, validation_data=([x_test.user, x_test.item, x_test[context_labels]], y_test))\n",
    "print(f'ECAM NeuMF best AUC: {kgs.best_score} using {kgs.best_params}', file=open(\"grid_search_result.txt\", \"a\"))\n",
    "print(\"Done!\")"
   ]
  },
  {
   "cell_type": "markdown",
   "id": "dc22fcff",
   "metadata": {},
   "source": [
    "### moveCARS"
   ]
  },
  {
   "cell_type": "code",
   "execution_count": null,
   "id": "aadc8e07",
   "metadata": {},
   "outputs": [],
   "source": [
    "print(\"grid search on moveCARS...\")\n",
    "\n",
    "x = df[item_labels + context_labels + user_labels]\n",
    "y = df['rating']\n",
    "\n",
    "model = KerasClassifier(build_fn=moveCARS, verbose=False)\n",
    "\n",
    "param_grid = {\n",
    "    'learn_rate': [0.0001, 0.001, 0.005, 0.01],\n",
    "    'batch_size': [64, 128, 256],\n",
    "    'epochs': [5, 10, 15, 20, 30], \n",
    "    'layers': [3],\n",
    "    'neurons': [100, 200]\n",
    "}\n",
    "\n",
    "grid = GridSearchCV(estimator=model, scoring=['accuracy', 'roc_auc'], refit='roc_auc', param_grid=param_grid, \n",
    "                    cv=KFold(shuffle=True, n_splits=5, random_state=42), verbose=True)\n",
    "grid_results = grid.fit(x, y)\n",
    "\n",
    "mean_accuracy = grid_results.cv_results_['mean_test_accuracy']\n",
    "mean_auc = grid_results.cv_results_['mean_test_roc_auc']\n",
    "params = grid_results.cv_results_['params']\n",
    "\n",
    "print(f'FFnet best AUC: {grid_results.best_score_} using {grid_results.best_params_}', file=open(\"grid_search_result.txt\", \"a\"))\n",
    "print(\"Done!\")"
   ]
  },
  {
   "cell_type": "markdown",
   "id": "91baa1f3",
   "metadata": {},
   "source": [
    "## moveCARS on different features"
   ]
  },
  {
   "cell_type": "code",
   "execution_count": null,
   "id": "0d3b2352",
   "metadata": {},
   "outputs": [],
   "source": [
    "param_grid = {\n",
    "    'learn_rate': [0.0001, 0.001, 0.005, 0.01],\n",
    "    'batch_size': [64, 128, 256],\n",
    "    'epochs': [5, 10, 15, 20, 30], \n",
    "    'layers': [3],\n",
    "    'neurons': [100]\n",
    "}\n",
    "\n",
    "open('grid_search_result_features.txt', 'w').close()\n",
    "\n",
    "train_labels = [item_labels+user_labels, \n",
    "                item_labels+user_labels+social_labels, \n",
    "                item_labels+user_labels+context_labels,\n",
    "                item_labels+user_labels+context_labels+social_labels]\n",
    "\n",
    "for idx, x_labels in enumerate(train_labels):\n",
    "    print('-'*10 + f\" Starting grid search {idx} \" + '-'*10)\n",
    "    x = df[x_labels]     # get only some features\n",
    "    y = df['rating']     # the value to predict is always the same\n",
    "    model = KerasClassifier(build_fn=moveCARS, verbose=False)\n",
    "    # create and fit gridsearch\n",
    "    grid = GridSearchCV(estimator=model, scoring=['accuracy', 'roc_auc'], refit='roc_auc', param_grid=param_grid, \n",
    "                        cv=KFold(shuffle=True, n_splits=2, random_state=42), verbose=True)\n",
    "    grid_results = grid.fit(x, y)\n",
    "\n",
    "    mean_accuracy = grid_results.cv_results_['mean_test_accuracy']\n",
    "    mean_auc = grid_results.cv_results_['mean_test_roc_auc']\n",
    "    params = grid_results.cv_results_['params']\n",
    "\n",
    "    print(f'best AUC: {grid_results.best_score_} using {grid_results.best_params_}', file=open(\"grid_search_result_features.txt\", \"a\"))\n",
    "\n",
    "print(\"Done!\")"
   ]
  }
 ],
 "metadata": {
  "kernelspec": {
   "display_name": "Python 3",
   "language": "python",
   "name": "python3"
  },
  "language_info": {
   "codemirror_mode": {
    "name": "ipython",
    "version": 3
   },
   "file_extension": ".py",
   "mimetype": "text/x-python",
   "name": "python",
   "nbconvert_exporter": "python",
   "pygments_lexer": "ipython3",
   "version": "3.8.5"
  }
 },
 "nbformat": 4,
 "nbformat_minor": 5
}
