{
 "cells": [
  {
   "cell_type": "markdown",
   "id": "published-blind",
   "metadata": {},
   "source": [
    "# Grid search MDF dataset"
   ]
  },
  {
   "cell_type": "code",
   "execution_count": null,
   "id": "finite-collector",
   "metadata": {},
   "outputs": [],
   "source": [
    "import numpy as np\n",
    "import pandas as pd\n",
    "\n",
    "import tensorflow as tf\n",
    "from tensorflow import keras\n",
    "from keras.utils import plot_model\n",
    "from keras.models import Sequential\n",
    "from keras.layers import Dense, Input, Embedding, Flatten, Concatenate, Lambda\n",
    "from keras.optimizers import Adam\n",
    "\n",
    "from keras.wrappers.scikit_learn import KerasClassifier\n",
    "from sklearn.model_selection import StratifiedKFold, cross_validate, train_test_split\n",
    "from sklearn.model_selection import GridSearchCV, KFold\n",
    "from sklearn.model_selection import ParameterGrid\n",
    "\n",
    "import rs_models\n",
    "from kerashypetune import KerasGridSearch\n",
    "\n",
    "from implicit.evaluation import train_test_split as implicit_train_test_split\n",
    "from implicit.als import AlternatingLeastSquares\n",
    "from scipy.sparse import coo_matrix, csr_matrix\n",
    "\n",
    "pd.options.display.max_columns = 1000\n",
    "import warnings\n",
    "warnings.filterwarnings(\"ignore\")"
   ]
  },
  {
   "cell_type": "markdown",
   "id": "employed-injection",
   "metadata": {},
   "source": [
    "## Open Dataset"
   ]
  },
  {
   "cell_type": "code",
   "execution_count": null,
   "id": "accessory-flavor",
   "metadata": {},
   "outputs": [],
   "source": [
    "dataset = 'mdf'\n",
    "\n",
    "if dataset == 'mdf':\n",
    "    df = pd.read_csv('Datasets/MDF_final.csv')\n",
    "    df_mf = pd.read_csv('Datasets/MDF_matrix_factorization.csv')\n",
    "    df = df.drop(columns='time')\n",
    "    df = df.drop_duplicates()\n",
    "    # df = df[df.item != 2]\n",
    "    # df = df.drop(['place_type_food_and_drink', 'place_type_health', 'place_type_home', 'place_type_lodging','place_type_outdoors', 'place_type_point_of_interest_establishment','place_type_public_transport_station', 'place_type_school','place_type_service', 'place_type_store', 'place_type_workplace'], axis = 1)\n",
    "    context_labels = list(df.columns[3:66])\n",
    "    item_labels = list(df.columns[66:92])\n",
    "    user_labels = list(df.columns[92:])\n",
    "\n",
    "elif dataset == 'frappe':\n",
    "    df = pd.read_csv('Datasets/frappe dataset/frappe_final.csv')\n",
    "    df_mf = pd.read_csv('Datasets/frappe dataset/frappe_matrix_factorization.csv')\n",
    "    item_labels = list(df.columns[27:54])\n",
    "    user_labels = list(df.columns[54:])\n",
    "    context_labels = list(df.columns[3:27])\n",
    "    \n",
    "elif dataset == 'yelp':\n",
    "    df = pd.read_csv('Datasets/yelp dataset/yelp_final.csv')\n",
    "    df_mf = pd.read_csv('Datasets/yelp dataset/yelp_matrix_factorization.csv')\n",
    "    item_labels = list(df.columns[18:488])\n",
    "    user_labels = list(df.columns[488:])\n",
    "    context_labels = list(df.columns[3:18])"
   ]
  },
  {
   "cell_type": "code",
   "execution_count": null,
   "id": "present-sweet",
   "metadata": {},
   "outputs": [],
   "source": [
    "n_users = df.user.nunique()\n",
    "n_items = df.item.nunique()\n",
    "n_contexts = len(context_labels)\n",
    "\n",
    "print(f\"rating with value 1: {df[df.rating == 1]['rating'].count() * 100 / len(df)} %\")\n",
    "print(f\"users: {n_users} \\t items: {n_items} \\t rating: {len(df)} \\t user_features: {len(user_labels)} \\t items_features: {len(item_labels)} \\t contexts_features: {n_contexts} \\t \")"
   ]
  },
  {
   "cell_type": "markdown",
   "id": "virgin-blind",
   "metadata": {},
   "source": [
    "## Grid search"
   ]
  },
  {
   "cell_type": "code",
   "execution_count": null,
   "id": "written-holder",
   "metadata": {},
   "outputs": [],
   "source": [
    "param_grid = {\n",
    "    'n_users': n_users,\n",
    "    'n_items': n_items,\n",
    "    'n_contexts': n_contexts,\n",
    "    'epochs': [5, 10, 15, 20], \n",
    "    'batch_size': [64, 128, 256],\n",
    "    'learn_rate': [0.0001, 0.001, 0.01]\n",
    "}\n",
    "open('grid_search_result.txt', 'w').close()"
   ]
  },
  {
   "cell_type": "markdown",
   "id": "recognized-brake",
   "metadata": {},
   "source": [
    "### ALS matrix factorization"
   ]
  },
  {
   "cell_type": "code",
   "execution_count": 6,
   "id": "unlikely-comparative",
   "metadata": {},
   "outputs": [],
   "source": [
    "grid = ParameterGrid({'factors': [64, 128, 256], 'regularization': [0.01, 0.1, 1, 5, 7, 10], 'iterations':[1, 10, 50, 100, 200]})\n",
    "\n",
    "ratings = coo_matrix((df_mf['rating'].astype(np.float32),\n",
    "                     (df_mf['item'],\n",
    "                      df_mf['user']))).tocsr()\n",
    "train, test = implicit_train_test_split(ratings, train_percentage=0.80)\n",
    "\n",
    "best_params = {}\n",
    "best_AUC = 0\n",
    "for params in grid:\n",
    "    model = AlternatingLeastSquares(**params)\n",
    "    model.fit(train, show_progress=False)\n",
    "    auc = rs_models.mf_AUC(model, train, test)\n",
    "    if auc > best_AUC:\n",
    "        best_params = params\n",
    "        best_AUC = auc\n",
    "print(best_AUC, best_params)"
   ]
  },
  {
   "cell_type": "markdown",
   "id": "future-hello",
   "metadata": {},
   "source": [
    "### NeuMF"
   ]
  },
  {
   "cell_type": "code",
   "execution_count": null,
   "id": "monthly-membership",
   "metadata": {},
   "outputs": [],
   "source": [
    "print(\"grid search on NeuMF...\")\n",
    "x_train, x_test, y_train, y_test = train_test_split(df[['user', 'item']], df['rating'], test_size=0.20, random_state=42)\n",
    "neumf = rs_models.NeuMF\n",
    "kgs = KerasGridSearch(neumf, param_grid, monitor='val_auc', greater_is_better=True, tuner_verbose=0)\n",
    "kgs.search([x_train.user, x_train.item], y_train, validation_data=([x_test.user, x_test.item], y_test))\n",
    "print(f'NeuMF best AUC: {kgs.best_score} using {kgs.best_params}', file=open(\"grid_search_result.txt\", \"a\"))\n",
    "print(\"Done!\")"
   ]
  },
  {
   "cell_type": "markdown",
   "id": "nuclear-native",
   "metadata": {},
   "source": [
    "### ECAM NeuMF"
   ]
  },
  {
   "cell_type": "code",
   "execution_count": null,
   "id": "refined-guinea",
   "metadata": {},
   "outputs": [],
   "source": [
    "print(\"grid search on ECAM NeuMF...\")\n",
    "x_train, x_test, y_train, y_test = train_test_split(df[['user', 'item'] + context_labels], df['rating'], test_size=0.20, random_state=42)\n",
    "ecam_neumf = rs_models.ECAM_NeuMF\n",
    "kgs = KerasGridSearch(ecam_neumf, param_grid, monitor='val_auc', greater_is_better=True, tuner_verbose=0)\n",
    "kgs.search([x_train.user, x_train.item, x_train[context_labels]], y_train, validation_data=([x_test.user, x_test.item, x_test[context_labels]], y_test))\n",
    "print(f'ECAM NeuMF best AUC: {kgs.best_score} using {kgs.best_params}', file=open(\"grid_search_result.txt\", \"a\"))\n",
    "print(\"Done!\")"
   ]
  },
  {
   "cell_type": "markdown",
   "id": "copyrighted-thinking",
   "metadata": {},
   "source": [
    "### Classifier"
   ]
  },
  {
   "cell_type": "code",
   "execution_count": null,
   "id": "crude-mainstream",
   "metadata": {},
   "outputs": [],
   "source": [
    "print(\"grid search on feed-forward network...\")\n",
    "\n",
    "x = df[item_labels + context_labels + user_labels]\n",
    "y = df['rating']\n",
    "\n",
    "ff_net = KerasClassifier(build_fn=rs_models.mobile_model, verbose=False)\n",
    "\n",
    "param_grid = {\n",
    "    'learn_rate': [0.0001, 0.001, 0.005, 0.01],\n",
    "    'batch_size': [64, 128, 256],\n",
    "    'epochs': [5, 10, 15, 20, 30], \n",
    "    'layers': [3],\n",
    "    'neurons': [200]\n",
    "}\n",
    "\n",
    "# create and fit gridsearch\n",
    "grid = GridSearchCV(estimator=ff_net, scoring=['accuracy', 'roc_auc'], refit='roc_auc', param_grid=param_grid, \n",
    "                    cv=KFold(shuffle=True, n_splits=2, random_state=42), verbose=True)\n",
    "grid_results = grid.fit(x, y)\n",
    "\n",
    "mean_accuracy = grid_results.cv_results_['mean_test_accuracy']\n",
    "mean_auc = grid_results.cv_results_['mean_test_roc_auc']\n",
    "params = grid_results.cv_results_['params']\n",
    "\n",
    "print(f'FFnet best AUC: {grid_results.best_score_} using {grid_results.best_params_}', file=open(\"grid_search_result.txt\", \"a\"))\n",
    "print(\"Done!\")"
   ]
  }
 ],
 "metadata": {
  "kernelspec": {
   "display_name": "Python 3",
   "language": "python",
   "name": "python3"
  },
  "language_info": {
   "codemirror_mode": {
    "name": "ipython",
    "version": 3
   },
   "file_extension": ".py",
   "mimetype": "text/x-python",
   "name": "python",
   "nbconvert_exporter": "python",
   "pygments_lexer": "ipython3",
   "version": "3.8.5"
  }
 },
 "nbformat": 4,
 "nbformat_minor": 5
}
