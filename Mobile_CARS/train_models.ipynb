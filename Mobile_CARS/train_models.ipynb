{
 "cells": [
  {
   "cell_type": "markdown",
   "metadata": {},
   "source": [
    "# Train models MDF dataset"
   ]
  },
  {
   "cell_type": "code",
   "execution_count": 88,
   "metadata": {},
   "outputs": [],
   "source": [
    "import numpy as np\n",
    "import pandas as pd\n",
    "\n",
    "import tensorflow as tf\n",
    "from tensorflow import keras\n",
    "from keras.utils import plot_model\n",
    "from keras.models import Sequential\n",
    "from keras.layers import Dense, Input, Embedding, Flatten, Concatenate, Lambda\n",
    "from keras.optimizers import Adam\n",
    "from keras.wrappers.scikit_learn import KerasClassifier\n",
    "\n",
    "from sklearn.model_selection import StratifiedKFold, cross_validate\n",
    "from sklearn.model_selection import GridSearchCV, KFold\n",
    "\n",
    "import rs_models\n",
    "from matplotlib import pyplot as plt\n",
    "import math\n",
    "from tqdm import tqdm\n",
    "\n",
    "import implicit\n",
    "from implicit.evaluation import AUC_at_k, precision_at_k, train_test_split\n",
    "from implicit.als import AlternatingLeastSquares\n",
    "from scipy.sparse import coo_matrix, csr_matrix\n",
    "\n",
    "from sklearn.metrics import precision_recall_curve\n",
    "from sklearn.metrics import precision_score\n",
    "from sklearn.metrics import recall_score\n",
    "from sklearn.metrics import roc_auc_score\n",
    "from sklearn.metrics import accuracy_score\n",
    "from sklearn.model_selection import cross_validate\n",
    "\n",
    "pd.options.display.max_columns = 1000\n",
    "import warnings\n",
    "warnings.filterwarnings(\"ignore\")"
   ]
  },
  {
   "cell_type": "code",
   "execution_count": 89,
   "metadata": {},
   "outputs": [
    {
     "data": {
      "text/plain": [
       "\"\\ndf = pd.read_csv('Datasets/MDF_final.csv')\\ncol = df.columns.to_list()\\ncat = [x for x in col if 'category' in x]\\ncol = set(col) - set(cat) - set(['user', 'item', 'rating'])\\ncol = list(col)\\ncol.sort()\\ncol = ['user', 'item', 'rating'] + col + cat\\ndf = df[col]\\ndf.user = pd.factorize(df.user)[0] # make sure that user and item IDs start from zero\\ndf.item = pd.factorize(df.item)[0]\\ndf = df.drop_duplicates()\\ndf.reset_index(drop=True, inplace=True)\\ndf.to_csv('Datasets/MDF_final.csv', index = False)\\n\""
      ]
     },
     "execution_count": 89,
     "metadata": {},
     "output_type": "execute_result"
    }
   ],
   "source": [
    "\"\"\"\n",
    "df = pd.read_csv('Datasets/MDF_final.csv')\n",
    "col = df.columns.to_list()\n",
    "cat = [x for x in col if 'category' in x]\n",
    "col = set(col) - set(cat) - set(['user', 'item', 'rating'])\n",
    "col = list(col)\n",
    "col.sort()\n",
    "col = ['user', 'item', 'rating'] + col + cat\n",
    "df = df[col]\n",
    "df.user = pd.factorize(df.user)[0] # make sure that user and item IDs start from zero\n",
    "df.item = pd.factorize(df.item)[0]\n",
    "df = df.drop_duplicates()\n",
    "df.reset_index(drop=True, inplace=True)\n",
    "df.to_csv('Datasets/MDF_final.csv', index = False)\n",
    "\"\"\""
   ]
  },
  {
   "cell_type": "markdown",
   "metadata": {},
   "source": [
    "## Load dataset"
   ]
  },
  {
   "cell_type": "code",
   "execution_count": 90,
   "metadata": {},
   "outputs": [],
   "source": [
    "dataset = 'yelp'\n",
    "\n",
    "if dataset == 'mdf':\n",
    "    df = pd.read_csv('Datasets/MDF_final.csv')\n",
    "    df_mf = pd.read_csv('Datasets/MDF_matrix_factorization.csv')\n",
    "    # df = df[df.item != 2]\n",
    "    # df = df.drop(['place_type_food_and_drink', 'place_type_health', 'place_type_home', 'place_type_lodging','place_type_outdoors', 'place_type_point_of_interest_establishment','place_type_public_transport_station', 'place_type_school','place_type_service', 'place_type_store', 'place_type_workplace'], axis = 1)\n",
    "    context_labels = list(df.columns[3:66])\n",
    "    item_labels = list(df.columns[66:])\n",
    "    user_labels = []\n",
    "\n",
    "elif dataset == 'frappe':\n",
    "    df = pd.read_csv('Datasets/frappe dataset/frappe_final.csv')\n",
    "    df_mf = pd.read_csv('Datasets/frappe dataset/frappe_matrix_factorization.csv')\n",
    "    item_labels = list(df.columns[27:54])\n",
    "    user_labels = list(df.columns[54:])\n",
    "    context_labels = list(df.columns[3:27])\n",
    "    \n",
    "elif dataset == 'yelp':\n",
    "    df = pd.read_csv('Datasets/yelp dataset/yelp_final.csv')\n",
    "    df_mf = pd.read_csv('Datasets/yelp dataset/yelp_matrix_factorization.csv')\n",
    "    item_labels = []\n",
    "    user_labels = []\n",
    "    context_labels = list(df.columns[3:])\n"
   ]
  },
  {
   "cell_type": "code",
   "execution_count": 91,
   "metadata": {},
   "outputs": [
    {
     "name": "stdout",
     "output_type": "stream",
     "text": [
      "rating with value 1: 60.24600499805122 %\n",
      "users: 3309 \t items: 8362 \t rating: 174468 \t user_features: 0 \t items_features: 0 \t contexts_features: 15 \t \n"
     ]
    }
   ],
   "source": [
    "n_users = df.user.nunique()\n",
    "n_items = df.item.nunique()\n",
    "n_contexts = len(context_labels)\n",
    "\n",
    "print(f\"rating with value 1: {df[df.rating == 1]['rating'].count() * 100 / len(df)} %\")\n",
    "print(f\"users: {n_users} \\t items: {n_items} \\t rating: {len(df)} \\t user_features: {len(user_labels)} \\t items_features: {len(item_labels)} \\t contexts_features: {n_contexts} \\t \")"
   ]
  },
  {
   "cell_type": "code",
   "execution_count": 93,
   "metadata": {},
   "outputs": [],
   "source": [
    "n_splits = 2\n",
    "models_eval_metrics = {}"
   ]
  },
  {
   "cell_type": "markdown",
   "metadata": {},
   "source": [
    "## ALS matrix factorization"
   ]
  },
  {
   "cell_type": "code",
   "execution_count": 96,
   "metadata": {
    "scrolled": true
   },
   "outputs": [
    {
     "name": "stdout",
     "output_type": "stream",
     "text": [
      "ALS \t AUC: 0.7685352290507209\n"
     ]
    }
   ],
   "source": [
    "ratings = coo_matrix((df_mf['rating'].astype(np.float32),\n",
    "                     (df_mf['item'],\n",
    "                      df_mf['user']))).tocsr()\n",
    "\n",
    "train, test = train_test_split(ratings, train_percentage=0.80)\n",
    "model = AlternatingLeastSquares(factors=128, regularization=8, iterations=10, calculate_training_loss=True)\n",
    "model.fit(train, show_progress=False)\n",
    "auc = rs_models.mf_AUC(model, train, test)\n",
    "print(f\"ALS \\t AUC: {auc}\")\n",
    "models_eval_metrics['ALS'] = [0, auc, 0, 0]"
   ]
  },
  {
   "cell_type": "markdown",
   "metadata": {},
   "source": [
    "## NeuMF"
   ]
  },
  {
   "cell_type": "code",
   "execution_count": 97,
   "metadata": {},
   "outputs": [
    {
     "name": "stdout",
     "output_type": "stream",
     "text": [
      "NeuMF \t accuracy: 64.27596807479858% \t AUC: 0.6716733574867249 \t precision: 0.6910565197467804 \t recall: 0.7361200749874115\n"
     ]
    }
   ],
   "source": [
    "param = {\n",
    "    'n_users': n_users,\n",
    "    'n_items': n_items,\n",
    "    'n_contexts': n_contexts,\n",
    "    'learn_rate': 0.001,\n",
    "    'batch_size': 128,\n",
    "    'epochs': 20\n",
    "}   \n",
    "\n",
    "\n",
    "std_dev, accuracy, auc, precision, recall = rs_models.kfold_train(rs_models.NeuMF, param, df, n_splits=n_splits)\n",
    "models_eval_metrics['NeuMF'] = [accuracy, auc, precision, recall]\n",
    "print(f\"NeuMF \\t accuracy: {accuracy*100}% \\t AUC: {auc} \\t precision: {precision} \\t recall: {recall}\")"
   ]
  },
  {
   "cell_type": "markdown",
   "metadata": {},
   "source": [
    "## ECAM NeuMF"
   ]
  },
  {
   "cell_type": "code",
   "execution_count": 77,
   "metadata": {},
   "outputs": [
    {
     "name": "stdout",
     "output_type": "stream",
     "text": [
      "ECAM NeuMF \t accuracy: 65.84548652172089% \t AUC: 0.6960329711437225 \t precision: 0.6904506087303162 \t recall: 0.7576001286506653\n"
     ]
    }
   ],
   "source": [
    "param = {\n",
    "    'n_users': n_users,\n",
    "    'n_items': n_items,\n",
    "    'n_contexts': n_contexts,\n",
    "    'learn_rate': 0.001,\n",
    "    'batch_size': 1024,\n",
    "    'epochs': 5\n",
    "}  \n",
    "\n",
    "std_dev, accuracy, auc, precision, recall = rs_models.kfold_train(rs_models.ECAM_NeuMF, param, df, context_labels=context_labels, n_splits=n_splits)\n",
    "models_eval_metrics['ECAM NeuMF'] = [accuracy, auc, precision, recall]\n",
    "print(f\"ECAM NeuMF \\t accuracy: {accuracy*100}% \\t AUC: {auc} \\t precision: {precision} \\t recall: {recall}\")"
   ]
  },
  {
   "cell_type": "markdown",
   "metadata": {},
   "source": [
    "## Classifier"
   ]
  },
  {
   "cell_type": "code",
   "execution_count": 70,
   "metadata": {},
   "outputs": [
    {
     "name": "stdout",
     "output_type": "stream",
     "text": [
      "Classifier \t accuracy: 60.939797921836224% \t AUC: 0.5063428340088179 \t precision: 0.6095358885460262 \t recall: 0.9991042283528673\n"
     ]
    }
   ],
   "source": [
    "ffnet = KerasClassifier(build_fn=rs_models.mobile_model, neurons=200, layers=3, learn_rate=0.001, epochs=10, batch_size=128, verbose=False)\n",
    "x = df[context_labels+item_labels+user_labels]\n",
    "y = df['rating']\n",
    "\n",
    "scores = cross_validate(ffnet, x, y, cv=KFold(shuffle=True, n_splits=n_splits, random_state=42), scoring=['accuracy', 'roc_auc', 'precision', 'recall'])\n",
    "\n",
    "accuracy = np.average(scores['test_accuracy'])\n",
    "auc = np.average(scores['test_roc_auc'])\n",
    "precision = np.average(scores['test_precision'])\n",
    "recall = np.average(scores['test_recall'])\n",
    "models_eval_metrics['Classifier'] = [accuracy, auc, precision, recall]\n",
    "\n",
    "print(f\"Classifier \\t accuracy: {accuracy*100}% \\t AUC: {auc} \\t precision: {precision} \\t recall: {recall}\")"
   ]
  },
  {
   "cell_type": "markdown",
   "metadata": {},
   "source": [
    "## Plot Results"
   ]
  },
  {
   "cell_type": "code",
   "execution_count": 71,
   "metadata": {},
   "outputs": [
    {
     "data": {
      "image/png": "[encoded data removed]",
      "text/plain": [
       "<Figure size 720x432 with 1 Axes>"
      ]
     },
     "metadata": {},
     "output_type": "display_data"
    },
    {
     "name": "stdout",
     "output_type": "stream",
     "text": [
      "Model: ALS      \t      AUC: 0.6755600216375207\n",
      "Model: NeuMF      \t      AUC: 0.705939918756485\n",
      "Model: ECAM NeuMF      \t      AUC: 0.7062040567398071\n",
      "Model: Classifier      \t      AUC: 0.5063428340088179\n"
     ]
    }
   ],
   "source": [
    "n_models = len(models_eval_metrics) # number of different models\n",
    "models_name = [x[0] for x in models_eval_metrics.items()] \n",
    "accuracy = [x[0] for x in models_eval_metrics.values()]\n",
    "auc = [x[1] for x in models_eval_metrics.values()]\n",
    "precision = [x[2] for x in models_eval_metrics.values()]\n",
    "recall = [x[3] for x in models_eval_metrics.values()]\n",
    "\n",
    "index = np.arange(n_models)\n",
    "bar_width = 0.50\n",
    "plt.figure(figsize=(10,6))\n",
    "\n",
    "plt.bar(index, auc, bar_width, color='tab:orange', label='AUC')\n",
    "\n",
    "for i, value in enumerate(auc): # add metric value at the top of the bar\n",
    "    plt.text(i-bar_width/3, value + 0.01, str(round(value, 4)))\n",
    "    \n",
    "plt.style.use(\"fivethirtyeight\")\n",
    "plt.xlabel('Models')\n",
    "plt.ylabel('Scores')\n",
    "plt.title('Prediction results')\n",
    "plt.xticks(index, models_name) # labels position\n",
    "plt.legend(bbox_to_anchor=(1.2, 1))\n",
    "plt.grid(True)\n",
    "plt.savefig('prediction_results.png')\n",
    "plt.show()\n",
    "    \n",
    "for key, item in models_eval_metrics.items():\n",
    "    print(f'Model: {key}      \\t      AUC: {item[1]}')"
   ]
  },
  {
   "cell_type": "code",
   "execution_count": null,
   "metadata": {},
   "outputs": [],
   "source": []
  }
 ],
 "metadata": {
  "kernelspec": {
   "display_name": "Python 3",
   "language": "python",
   "name": "python3"
  },
  "language_info": {
   "codemirror_mode": {
    "name": "ipython",
    "version": 3
   },
   "file_extension": ".py",
   "mimetype": "text/x-python",
   "name": "python",
   "nbconvert_exporter": "python",
   "pygments_lexer": "ipython3",
   "version": "3.8.5"
  },
  "toc-autonumbering": true,
  "toc-showmarkdowntxt": true
 },
 "nbformat": 4,
 "nbformat_minor": 4
}
