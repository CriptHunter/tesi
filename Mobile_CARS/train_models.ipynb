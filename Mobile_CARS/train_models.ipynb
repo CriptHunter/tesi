{
 "cells": [
  {
   "cell_type": "markdown",
   "metadata": {},
   "source": [
    "# Train models MDF dataset"
   ]
  },
  {
   "cell_type": "code",
   "execution_count": 1,
   "metadata": {},
   "outputs": [],
   "source": [
    "import numpy as np\n",
    "import pandas as pd\n",
    "\n",
    "import tensorflow as tf\n",
    "from tensorflow import keras\n",
    "from keras.utils import plot_model\n",
    "from keras.models import Sequential\n",
    "from keras.layers import Dense, Input, Embedding, Flatten, Concatenate, Lambda\n",
    "from keras.optimizers import Adam\n",
    "from keras.wrappers.scikit_learn import KerasClassifier\n",
    "\n",
    "from sklearn.model_selection import StratifiedKFold, cross_validate\n",
    "from sklearn.model_selection import GridSearchCV, KFold\n",
    "\n",
    "import rs_models\n",
    "from matplotlib import pyplot as plt\n",
    "import math\n",
    "from tqdm import tqdm\n",
    "\n",
    "import implicit\n",
    "from implicit.evaluation import AUC_at_k, precision_at_k, train_test_split\n",
    "from implicit.als import AlternatingLeastSquares\n",
    "from scipy.sparse import coo_matrix, csr_matrix\n",
    "\n",
    "from sklearn.metrics import precision_recall_curve\n",
    "from sklearn.metrics import precision_score\n",
    "from sklearn.metrics import recall_score\n",
    "from sklearn.metrics import roc_auc_score\n",
    "from sklearn.metrics import accuracy_score\n",
    "\n",
    "pd.options.display.max_columns = 1000\n",
    "import warnings\n",
    "warnings.filterwarnings(\"ignore\")"
   ]
  },
  {
   "cell_type": "markdown",
   "metadata": {},
   "source": [
    "## Load dataset"
   ]
  },
  {
   "cell_type": "code",
   "execution_count": 2,
   "metadata": {},
   "outputs": [],
   "source": [
    "dataset = 'frappe'\n",
    "\n",
    "if dataset == 'mdf':\n",
    "    df = pd.read_csv('Datasets/MDF_final.csv')\n",
    "    df_mf = pd.read_csv('Datasets/MDF_matrix_factorization.csv')\n",
    "    df = df.drop_duplicates()\n",
    "    df.user = pd.factorize(df.user)[0] # make sure that user and item IDs start from zero\n",
    "    df.item = pd.factorize(df.item)[0]\n",
    "    # df = df[df.item != 2]\n",
    "    # df = df.drop(['place_type_food_and_drink', 'place_type_health', 'place_type_home', 'place_type_lodging','place_type_outdoors', 'place_type_point_of_interest_establishment','place_type_public_transport_station', 'place_type_school','place_type_service', 'place_type_store', 'place_type_workplace'], axis = 1)\n",
    "    df.reset_index(drop=True, inplace=True)\n",
    "    item_labels = [i for i in list(df.columns) if i.find(\"category\") == 0] # labels that describe an item\n",
    "    context_labels = list(set(df.iloc[:, 3:]) - set(item_labels)) # takes all the columns after user, item rating and remove item labels\n",
    "\n",
    "elif dataset == 'frappe':\n",
    "    df = pd.read_csv('Datasets/frappe dataset/frappe_final.csv')\n",
    "    df_mf = pd.read_csv('Datasets/frappe dataset/frappe_matrix_factorization.csv')\n",
    "    item_labels = list(df.columns[27:])\n",
    "    context_labels = list(df.columns[3:27])\n"
   ]
  },
  {
   "cell_type": "code",
   "execution_count": 3,
   "metadata": {},
   "outputs": [
    {
     "name": "stdout",
     "output_type": "stream",
     "text": [
      "rating with value 1: 59.503414820961254 %\n",
      "users: 857 \t items: 3180 \t rating: 78335 \t items_features: 53 \t contexts_features: 24 \t \n"
     ]
    }
   ],
   "source": [
    "n_users = df.user.nunique()\n",
    "n_items = df.item.nunique()\n",
    "n_contexts = len(context_labels)\n",
    "\n",
    "print(f\"rating with value 1: {df[df.rating == 1]['rating'].count() * 100 / len(df)} %\")\n",
    "print(f\"users: {n_users} \\t items: {n_items} \\t rating: {len(df)} \\t items_features: {len(item_labels)} \\t contexts_features: {n_contexts} \\t \")"
   ]
  },
  {
   "cell_type": "code",
   "execution_count": 4,
   "metadata": {},
   "outputs": [],
   "source": [
    "n_splits = 2\n",
    "models_eval_metrics = {}"
   ]
  },
  {
   "cell_type": "markdown",
   "metadata": {},
   "source": [
    "## ALS matrix factorization"
   ]
  },
  {
   "cell_type": "code",
   "execution_count": null,
   "metadata": {
    "scrolled": true
   },
   "outputs": [],
   "source": [
    "accuracy, auc, precision, recall = rs_models.train_mf(df_mf, factors=256, regularization=3, iterations=10, n_splits=n_splits)\n",
    "models_eval_metrics['ALS'] = [accuracy, auc, precision, recall]\n",
    "print(f\"NeuMF \\t accuracy: {accuracy*100}% \\t AUC: {auc} \\t precision: {precision} \\t recall: {recall}\")"
   ]
  },
  {
   "cell_type": "markdown",
   "metadata": {},
   "source": [
    "## NeuMF"
   ]
  },
  {
   "cell_type": "code",
   "execution_count": null,
   "metadata": {},
   "outputs": [],
   "source": [
    "param = {\n",
    "    'n_users': n_users,\n",
    "    'n_items': n_items,\n",
    "    'n_contexts': n_contexts,\n",
    "    'learn_rate': 0.001,\n",
    "    'batch_size': 256,\n",
    "    'epochs': 10\n",
    "}   \n",
    "\n",
    "\n",
    "std_dev, accuracy, auc, precision, recall = rs_models.kfold_train(rs_models.NeuMF, param, df, n_splits=n_splits)\n",
    "models_eval_metrics['NeuMF'] = [accuracy, auc, precision, recall]\n",
    "print(f\"NeuMF \\t accuracy: {accuracy*100}% \\t AUC: {auc} \\t precision: {precision} \\t recall: {recall}\")"
   ]
  },
  {
   "cell_type": "markdown",
   "metadata": {},
   "source": [
    "## ECAM NeuMF"
   ]
  },
  {
   "cell_type": "code",
   "execution_count": 8,
   "metadata": {},
   "outputs": [
    {
     "name": "stdout",
     "output_type": "stream",
     "text": [
      "ECAM NeuMF \t accuracy: 76.75368785858154% \t AUC: 0.8188196122646332 \t precision: 0.7639977931976318 \t recall: 0.8817214071750641\n"
     ]
    }
   ],
   "source": [
    "param = {\n",
    "    'n_users': n_users,\n",
    "    'n_items': n_items,\n",
    "    'n_contexts': n_contexts,\n",
    "    'learn_rate': 0.001,\n",
    "    'batch_size': 256,\n",
    "    'epochs': 10\n",
    "}  \n",
    "\n",
    "std_dev, accuracy, auc, precision, recall = rs_models.kfold_train(rs_models.ECAM_NeuMF, param, df, context_labels=context_labels, n_splits=n_splits)\n",
    "models_eval_metrics['ECAM NeuMF'] = [accuracy, auc, precision, recall]\n",
    "print(f\"ECAM NeuMF \\t accuracy: {accuracy*100}% \\t AUC: {auc} \\t precision: {precision} \\t recall: {recall}\")"
   ]
  },
  {
   "cell_type": "markdown",
   "metadata": {},
   "source": [
    "## Classifier"
   ]
  },
  {
   "cell_type": "code",
   "execution_count": 5,
   "metadata": {},
   "outputs": [
    {
     "name": "stdout",
     "output_type": "stream",
     "text": [
      "Classifier \t accuracy: 63.44417932754139% \t AUC: 0.6303019854894414 \t precision: 0.6420488535140134 \t recall: 0.8714815354963308\n"
     ]
    }
   ],
   "source": [
    "from sklearn.model_selection import cross_validate\n",
    "\n",
    "ffnet = KerasClassifier(build_fn=rs_models.mobile_model, neurons=100, layers=3, learn_rate=0.005, epochs=10, batch_size=64, verbose=False)\n",
    "x = df[context_labels+item_labels]\n",
    "y = df['rating']\n",
    "\n",
    "scores = cross_validate(ffnet, x, y, cv=KFold(shuffle=True, n_splits=n_splits, random_state=42), scoring=['accuracy', 'roc_auc', 'precision', 'recall'])\n",
    "\n",
    "accuracy = np.average(scores['test_accuracy'])\n",
    "auc = np.average(scores['test_roc_auc'])\n",
    "precision = np.average(scores['test_precision'])\n",
    "recall = np.average(scores['test_recall'])\n",
    "models_eval_metrics['Classifier'] = [accuracy, auc, precision, recall]\n",
    "\n",
    "print(f\"Classifier \\t accuracy: {accuracy*100}% \\t AUC: {auc} \\t precision: {precision} \\t recall: {recall}\")"
   ]
  },
  {
   "cell_type": "markdown",
   "metadata": {},
   "source": [
    "## Plot Results"
   ]
  },
  {
   "cell_type": "code",
   "execution_count": 7,
   "metadata": {},
   "outputs": [
    {
     "data": {
      "image/png": "[encoded data removed]",
      "text/plain": [
       "<Figure size 720x432 with 1 Axes>"
      ]
     },
     "metadata": {
      "needs_background": "light"
     },
     "output_type": "display_data"
    },
    {
     "name": "stdout",
     "output_type": "stream",
     "text": [
      "Model: Classifier Accuracy: 63.44417932754139% AUC: 0.6303019854894414 Precision: 0.6420488535140134 Recall: 0.8714815354963308\n"
     ]
    }
   ],
   "source": [
    "n_models = len(models_eval_metrics) # number of different models\n",
    "models_name = [x[0] for x in models_eval_metrics.items()] \n",
    "accuracy = [x[0] for x in models_eval_metrics.values()]\n",
    "auc = [x[1] for x in models_eval_metrics.values()]\n",
    "precision = [x[2] for x in models_eval_metrics.values()]\n",
    "recall = [x[3] for x in models_eval_metrics.values()]\n",
    "\n",
    "index = np.arange(n_models)\n",
    "bar_width = 0.15\n",
    "plt.figure(figsize=(10,6))\n",
    "\n",
    "# accuracy bar\n",
    "rect1 = plt.bar(index, accuracy, bar_width, color='#ff7b00', label='Accuracy')\n",
    "\n",
    "# AUC bar\n",
    "rect2 = plt.bar(index + bar_width, auc, bar_width, color='b', label='AUC')\n",
    "\n",
    "# precision bar\n",
    "rect3 = plt.bar(index + bar_width*2, precision, bar_width, color='g', label='Precision')\n",
    "\n",
    "# recall bar\n",
    "rect4 = plt.bar(index + bar_width*3, recall, bar_width, color='r', label='Recall')\n",
    "\n",
    "plt.style.use(\"fivethirtyeight\")\n",
    "plt.xlabel('Models')\n",
    "plt.ylabel('Scores')\n",
    "plt.title('Prediction results')\n",
    "plt.xticks(index + bar_width * 3/2, models_name) # labels position\n",
    "plt.legend(bbox_to_anchor=(1.3, 1))\n",
    "plt.grid(True)\n",
    "plt.savefig('prediction_results.png')\n",
    "plt.show()\n",
    "\n",
    "for key, item in models_eval_metrics.items():\n",
    "    print(f'Model: {key} Accuracy: {item[0]*100}% AUC: {item[1]} Precision: {item[2]} Recall: {item[3]}')"
   ]
  },
  {
   "cell_type": "code",
   "execution_count": null,
   "metadata": {},
   "outputs": [],
   "source": []
  },
  {
   "cell_type": "code",
   "execution_count": null,
   "metadata": {},
   "outputs": [],
   "source": []
  },
  {
   "cell_type": "markdown",
   "metadata": {},
   "source": [
    "- prendere utenti che hanno almeno un rating alterato (uno o più rating con valore 1 sono stati messi a 0 nel train set)\n",
    "- per ogni utente alterato:\n",
    "    - `idx` = indici nel train set per cui rating == 0, in questo modo evito di calcolare l'AUC su rating con valore 1 nel train set\n",
    "    - `pred` = valori dalla matrice predicted con indici in idx\n",
    "    - `actual` = valori dal test set con indici idx\n",
    "    - calcolare AUC per l'utente tra actual e pred\n",
    "- fare media AUC"
   ]
  },
  {
   "cell_type": "code",
   "execution_count": 6,
   "metadata": {},
   "outputs": [
    {
     "name": "stdout",
     "output_type": "stream",
     "text": [
      "AUC: 0.6976260091992975\n"
     ]
    }
   ],
   "source": [
    "ratings = coo_matrix((df_mf['rating'].astype(np.float32),\n",
    "                     (df_mf['item'],\n",
    "                      df_mf['user']))).tocsr()\n",
    "\n",
    "train, test = train_test_split(ratings, train_percentage=0.80)\n",
    "model = AlternatingLeastSquares(factors=256, regularization=8, iterations=10, calculate_training_loss=True)\n",
    "model.fit(train, show_progress=False)\n",
    "\n",
    "altered_users = [] # list of user that has at least one rating with value 1 hidden from the train set\n",
    "train_dense = np.array(train.todense())\n",
    "test_dense = np.array(test.todense())\n",
    "pred_dense = np.dot(model.item_factors, model.user_factors.T)\n",
    "\n",
    "# fill altered_user list\n",
    "for user in df_mf.user.unique():\n",
    "    test_user = test_dense[:, user]\n",
    "    if 1 in test_user: # check if user has items altered\n",
    "        altered_users.append(user)\n",
    "\n",
    "auc = 0\n",
    "        \n",
    "for user in altered_users:\n",
    "    train_user = train_dense[:, user] # get ratings in train set for one user\n",
    "    zero_idx = np.where(train_user == 0) # find where ratings is zero\n",
    "    \n",
    "    # get predicted values\n",
    "    user_vec = pred_dense[:, user]\n",
    "    pred_user = user_vec[zero_idx]\n",
    "\n",
    "    # get actual value in test set\n",
    "    user_vec2 = test_dense[:, user]\n",
    "    actual_user = user_vec2[zero_idx]\n",
    "    \n",
    "    auc_user = roc_auc_score(actual_user, pred_user)\n",
    "    auc = auc + auc_user\n",
    "    \n",
    "    \n",
    "print(f'AUC: {auc/len(altered_users)}')"
   ]
  },
  {
   "cell_type": "code",
   "execution_count": null,
   "metadata": {},
   "outputs": [],
   "source": [
    "from sklearn.model_selection import ParameterGrid\n",
    "grid = ParameterGrid({'factors': [128, 256], 'regularization': [0, 3], 'iterations':[100, 200]})\n",
    "\n",
    "for params in grid:\n",
    "    model = AlternatingLeastSquares(**params)\n",
    "    print(train_mf(df_mf, **params, n_splits=5), params)"
   ]
  },
  {
   "cell_type": "code",
   "execution_count": null,
   "metadata": {},
   "outputs": [],
   "source": []
  }
 ],
 "metadata": {
  "kernelspec": {
   "display_name": "Python 3",
   "language": "python",
   "name": "python3"
  },
  "language_info": {
   "codemirror_mode": {
    "name": "ipython",
    "version": 3
   },
   "file_extension": ".py",
   "mimetype": "text/x-python",
   "name": "python",
   "nbconvert_exporter": "python",
   "pygments_lexer": "ipython3",
   "version": "3.8.5"
  },
  "toc-autonumbering": true,
  "toc-showmarkdowntxt": true
 },
 "nbformat": 4,
 "nbformat_minor": 4
}
