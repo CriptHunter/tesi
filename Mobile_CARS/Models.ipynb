{
 "cells": [
  {
   "cell_type": "markdown",
   "id": "identical-broad",
   "metadata": {},
   "source": [
    "# Running app recommendations"
   ]
  },
  {
   "cell_type": "code",
   "execution_count": null,
   "id": "animated-engagement",
   "metadata": {},
   "outputs": [],
   "source": [
    "import numpy as np\n",
    "import pandas as pd\n",
    "import tensorflow as tf\n",
    "from tensorflow import keras\n",
    "from keras.utils import plot_model\n",
    "from keras.models import Sequential\n",
    "from keras.layers import Dense, Input, Embedding, Flatten, Concatenate, Lambda\n",
    "from keras.optimizers import Adam\n",
    "from keras.wrappers.scikit_learn import KerasClassifier\n",
    "from sklearn.model_selection import StratifiedKFold, cross_validate, train_test_split\n",
    "from sklearn.model_selection import GridSearchCV, KFold\n",
    "import rs_models\n",
    "from kerashypetune import KerasGridSearch\n",
    "\n",
    "pd.options.display.max_columns = 1000\n",
    "import warnings\n",
    "warnings.filterwarnings(\"ignore\")"
   ]
  },
  {
   "cell_type": "markdown",
   "id": "extreme-springer",
   "metadata": {},
   "source": [
    "## Open Dataset"
   ]
  },
  {
   "cell_type": "code",
   "execution_count": null,
   "id": "banned-guarantee",
   "metadata": {},
   "outputs": [],
   "source": [
    "df = pd.read_csv('MDF_final.csv')\n",
    "df = df.drop_duplicates()\n",
    "df.reset_index(drop=True, inplace=True)\n",
    "\n",
    "item_labels = [i for i in list(df.columns) if i.find(\"category\") == 0] # labels that describe an item\n",
    "context_labels = list(set(df.iloc[:, 3:]) - set(item_labels)) # takes all the columns after user, item rating and remove item labels\n",
    "\n",
    "n_users = df.user.nunique()\n",
    "n_items = df.item.nunique()\n",
    "n_contexts = len(context_labels)\n",
    "    \n",
    "print(f\"rating with value 1: {df[df.rating == 1]['rating'].count() * 100 / len(df)} %\")\n",
    "print(f\"users: {n_users} \\t items: {n_items} \\t rating: {len(df)} \\t items_features: {len(item_labels)} \\t contexts_features: {n_contexts} \\t \")"
   ]
  },
  {
   "cell_type": "markdown",
   "id": "hungarian-stuart",
   "metadata": {},
   "source": [
    "## Matrix factorization"
   ]
  },
  {
   "cell_type": "code",
   "execution_count": null,
   "id": "japanese-outdoors",
   "metadata": {},
   "outputs": [],
   "source": [
    "mf = rs_models.MF(n_users, n_items)\n",
    "\n",
    "x_train, x_test, y_train, y_test = train_test_split(df[['user', 'item']], df['rating'], test_size=0.20, random_state=42)\n",
    "mf.fit([x_train.user, x_train.item], y_train, epochs=1, batch_size=128, verbose=False)\n",
    "results = mf.evaluate([x_test.user, x_test.item], y_test, verbose=False)\n",
    "print(f'ACCURACY = {results[1]*100} % \\t AUC = {results[2]}')"
   ]
  },
  {
   "cell_type": "markdown",
   "id": "drawn-business",
   "metadata": {},
   "source": [
    "## NCF"
   ]
  },
  {
   "cell_type": "code",
   "execution_count": null,
   "id": "accomplished-sensitivity",
   "metadata": {},
   "outputs": [],
   "source": [
    "ncf = rs_models.NCF(n_users, n_items)\n",
    "\n",
    "x_train, x_test, y_train, y_test = train_test_split(df[['user', 'item']], df['rating'], test_size=0.20, random_state=42)\n",
    "ncf.fit([x_train.user, x_train.item], y_train, epochs=1, batch_size=128, verbose=False)\n",
    "results = ncf.evaluate([x_test.user, x_test.item], y_test, verbose=False)\n",
    "print(f'ACCURACY = {results[1]*100} % \\t AUC = {results[2]}')"
   ]
  },
  {
   "cell_type": "markdown",
   "id": "sorted-palace",
   "metadata": {},
   "source": [
    "## NeuMF"
   ]
  },
  {
   "cell_type": "code",
   "execution_count": null,
   "id": "going-causing",
   "metadata": {},
   "outputs": [],
   "source": [
    "neumf = rs_models.NeuMF(n_users, n_items)\n",
    "\n",
    "x_train, x_test, y_train, y_test = train_test_split(df[['user', 'item']], df['rating'], test_size=0.20, random_state=42)\n",
    "neumf.fit([x_train.user, x_train.item], y_train, epochs=1, batch_size=128, verbose=False)\n",
    "results = neumf.evaluate([x_test.user, x_test.item], y_test, verbose=False)\n",
    "print(f'ACCURACY = {results[1]*100} % \\t AUC = {results[2]}')"
   ]
  },
  {
   "cell_type": "markdown",
   "id": "personalized-philip",
   "metadata": {},
   "source": [
    "### ECAM NCF"
   ]
  },
  {
   "cell_type": "code",
   "execution_count": null,
   "id": "inclusive-shopper",
   "metadata": {},
   "outputs": [],
   "source": [
    "ecam_ncf = rs_models.ECAM_NCF(n_users, n_items, n_contexts)\n",
    "\n",
    "x_train, x_test, y_train, y_test = train_test_split(df[['user', 'item'] + context_labels], df['rating'], test_size=0.20, random_state=42)\n",
    "ecam_ncf.fit([x_train.user, x_train.item, x_train[context_labels]], y_train, epochs=1, batch_size=128, verbose=False)\n",
    "results = ecam_ncf.evaluate([x_test.user, x_test.item, x_test[context_labels]], y_test, verbose=False)\n",
    "print(f'ACCURACY = {results[1]*100} % \\t AUC = {results[2]}')"
   ]
  },
  {
   "cell_type": "markdown",
   "id": "worthy-growth",
   "metadata": {},
   "source": [
    "## ECAM NeuMF"
   ]
  },
  {
   "cell_type": "code",
   "execution_count": null,
   "id": "seasonal-birthday",
   "metadata": {},
   "outputs": [],
   "source": [
    "ecam_neumf = rs_models.ECAM_NeuMF(n_users, n_items, n_contexts)\n",
    "\n",
    "x_train, x_test, y_train, y_test = train_test_split(df[['user', 'item'] + context_labels], df['rating'], test_size=0.20, random_state=42)\n",
    "ecam_neumf.fit([x_train.user, x_train.item, x_train[context_labels]], y_train, epochs=1, batch_size=128, verbose=False)\n",
    "results = ecam_neumf.evaluate([x_test.user, x_test.item, x_test[context_labels]], y_test, verbose=False)\n",
    "print(f'ACCURACY = {results[1]*100} % \\t AUC = {results[2]}')"
   ]
  },
  {
   "cell_type": "markdown",
   "id": "atomic-prefix",
   "metadata": {},
   "source": [
    "## Classifier"
   ]
  },
  {
   "cell_type": "code",
   "execution_count": null,
   "id": "fatal-million",
   "metadata": {},
   "outputs": [],
   "source": [
    "x = df[item_labels + context_labels]\n",
    "y = df['rating']\n",
    "\n",
    "ff_net = KerasClassifier(build_fn=rs_models.mobile_model, verbose=False)\n",
    "\n",
    "# define hyperparameters to tune\n",
    "learn_rate = [0.0005, 0.001, 0.005]\n",
    "batch_size = [64, 128, 256]\n",
    "epochs = [5, 10, 15, 20, 30]\n",
    "neurons = [200]\n",
    "\n",
    "# Make a dictionary of the grid search parameters\n",
    "param_grid = dict(learn_rate=learn_rate, batch_size=batch_size, epochs=epochs, neurons=neurons)\n",
    "\n",
    "# create and fit gridsearch\n",
    "grid = GridSearchCV(estimator=ff_net, scoring=['accuracy', 'roc_auc'], refit='roc_auc', param_grid=param_grid, \n",
    "                    cv=KFold(shuffle=True, n_splits=2, random_state=42), verbose=True)\n",
    "grid_results = grid.fit(x, y)\n",
    "\n",
    "mean_accuracy = grid_results.cv_results_['mean_test_accuracy']\n",
    "mean_auc = grid_results.cv_results_['mean_test_roc_auc']\n",
    "params = grid_results.cv_results_['params']\n",
    "\n",
    "print(\"Best: %f using %s\" % (grid_results.best_score_, grid_results.best_params_))\n",
    "\n",
    "# for accuracy, auc, params in zip(mean_accuracy, mean_auc, params):\n",
    "#    print(f'ACCURACY = {accuracy*100} % \\t AUC = {auc} \\t PARAMS = {params}')"
   ]
  },
  {
   "cell_type": "code",
   "execution_count": null,
   "id": "completed-tribune",
   "metadata": {},
   "outputs": [],
   "source": [
    "def MF2(param):\n",
    "    # Input variables\n",
    "    user_input = Input(shape=(1,), dtype='int32', name = 'user_input')\n",
    "    item_input = Input(shape=(1,), dtype='int32', name = 'item_input')\n",
    "\n",
    "    MF_Embedding_User = Embedding(input_dim = param['n_users']+1, output_dim = param['latent_dim'], name = 'user_embedding', input_length=1)\n",
    "    MF_Embedding_Item = Embedding(input_dim = param['n_items']+1, output_dim = param['latent_dim'], name = 'item_embedding', input_length=1)   \n",
    "    \n",
    "    # flatten an embedding vector\n",
    "    user_latent = Flatten()(MF_Embedding_User(user_input))\n",
    "    item_latent = Flatten()(MF_Embedding_Item(item_input))\n",
    "    \n",
    "    # Element-wise product of user and item embeddings \n",
    "    predict_vector = tf.keras.layers.Dot(axes=1)([user_latent, item_latent])\n",
    "    \n",
    "    # Final prediction layer\n",
    "    prediction = Dense(1, activation='sigmoid', name = 'prediction')(predict_vector)\n",
    "    \n",
    "    model = keras.Model([user_input, item_input], prediction)\n",
    "    model.compile(loss='binary_crossentropy', metrics=['accuracy', 'AUC'])\n",
    "\n",
    "    return model\n",
    "\n",
    "param_grid = {\n",
    "    'n_users': n_users,\n",
    "    'n_items': n_items,\n",
    "    'latent_dim': 50,\n",
    "    'epochs': [1, 5], \n",
    "    'batch_size': [64, 128]\n",
    "}\n",
    "\n",
    "x_train, x_test, y_train, y_test = train_test_split(df[['user', 'item']], df['rating'], test_size=0.20, random_state=42)\n",
    "hypermodel = MF2\n",
    "kgs = KerasGridSearch(hypermodel, param_grid, monitor='val_auc', greater_is_better=True, tuner_verbose=1)\n",
    "kgs.search([x_train.user, x_train.item], y_train, validation_data=([x_test.user, x_test.item], y_test))"
   ]
  },
  {
   "cell_type": "code",
   "execution_count": null,
   "id": "delayed-haiti",
   "metadata": {},
   "outputs": [],
   "source": [
    "!jupyter nbconvert --to script models.ipynb # convert to python script"
   ]
  }
 ],
 "metadata": {
  "kernelspec": {
   "display_name": "Python 3",
   "language": "python",
   "name": "python3"
  },
  "language_info": {
   "codemirror_mode": {
    "name": "ipython",
    "version": 3
   },
   "file_extension": ".py",
   "mimetype": "text/x-python",
   "name": "python",
   "nbconvert_exporter": "python",
   "pygments_lexer": "ipython3",
   "version": "3.8.5"
  }
 },
 "nbformat": 4,
 "nbformat_minor": 5
}
