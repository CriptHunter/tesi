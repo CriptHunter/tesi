{
 "cells": [
  {
   "cell_type": "markdown",
   "id": "clear-inspector",
   "metadata": {},
   "source": [
    "# Running app recommendations"
   ]
  },
  {
   "cell_type": "code",
   "execution_count": 43,
   "id": "german-divorce",
   "metadata": {},
   "outputs": [],
   "source": [
    "import numpy as np\n",
    "import pandas as pd\n",
    "import tensorflow as tf\n",
    "from tensorflow import keras\n",
    "from keras.utils import plot_model\n",
    "from keras.models import Sequential\n",
    "from keras.layers import Dense, Input, Embedding, Flatten, Concatenate\n",
    "from keras.optimizers import Adam\n",
    "from keras.wrappers.scikit_learn import KerasClassifier\n",
    "from sklearn.model_selection import StratifiedKFold, cross_validate, train_test_split\n",
    "from sklearn.model_selection import GridSearchCV, KFold\n",
    "from sklearn.metrics import accuracy_score, auc, roc_curve\n",
    "\n",
    "pd.options.display.max_columns = 1000\n",
    "import warnings\n",
    "warnings.filterwarnings(\"ignore\")"
   ]
  },
  {
   "cell_type": "code",
   "execution_count": 17,
   "id": "treated-gabriel",
   "metadata": {},
   "outputs": [
    {
     "name": "stdout",
     "output_type": "stream",
     "text": [
      "rating with value 1: 67.09481132724845 %\n",
      "number of users: 30 \t number of items: 338 \t number of rating: 72639\n"
     ]
    }
   ],
   "source": [
    "df = pd.read_csv('MDF_final.csv')\n",
    "df = df.drop_duplicates()\n",
    "df.reset_index(drop=True, inplace=True)\n",
    "\n",
    "x = df.iloc[:, 3:]\n",
    "y = df['rating']\n",
    "input_dim = len(x.columns)\n",
    "n_users = df.user.nunique()\n",
    "n_items = df.item.nunique()\n",
    "\n",
    "for col in 'music_active speaker_on headset_connected connected is_weekend is_holiday'.split():\n",
    "    x[col] = x[col].astype(int)\n",
    "    \n",
    "print(f\"rating with value 1: {df[df.rating == 1]['rating'].count() * 100 / len(df)} %\")\n",
    "print(f\"number of users: {n_users} \\t number of items: {n_items} \\t number of rating: {len(x)}\")"
   ]
  },
  {
   "cell_type": "markdown",
   "id": "animal-announcement",
   "metadata": {},
   "source": [
    "## Matrix factorization"
   ]
  },
  {
   "cell_type": "code",
   "execution_count": 49,
   "id": "flying-briefing",
   "metadata": {},
   "outputs": [],
   "source": [
    "def MF(latent_dim=50):\n",
    "    # Input variables\n",
    "    user_input = Input(shape=(1,), dtype='int32', name = 'user_input')\n",
    "    item_input = Input(shape=(1,), dtype='int32', name = 'item_input')\n",
    "\n",
    "    MF_Embedding_User = Embedding(input_dim = n_users+1, output_dim = latent_dim, name = 'user_embedding', input_length=1)\n",
    "    MF_Embedding_Item = Embedding(input_dim = n_items+1, output_dim = latent_dim, name = 'item_embedding', input_length=1)   \n",
    "    \n",
    "    # flatten an embedding vector\n",
    "    user_latent = Flatten()(MF_Embedding_User(user_input))\n",
    "    item_latent = Flatten()(MF_Embedding_Item(item_input))\n",
    "    \n",
    "    # Element-wise product of user and item embeddings \n",
    "    predict_vector = tf.keras.layers.Dot(axes=1)([user_latent, item_latent])\n",
    "    \n",
    "    # Final prediction layer\n",
    "    prediction = Dense(1, activation='sigmoid', name = 'prediction')(predict_vector)\n",
    "    \n",
    "    model = keras.Model([user_input, item_input], prediction)\n",
    "    model.compile(loss='binary_crossentropy')\n",
    "\n",
    "    return model"
   ]
  },
  {
   "cell_type": "code",
   "execution_count": 51,
   "id": "appointed-headset",
   "metadata": {},
   "outputs": [
    {
     "name": "stdout",
     "output_type": "stream",
     "text": [
      "0.8705258810572687\n",
      "0.8954871669001743\n"
     ]
    }
   ],
   "source": [
    "mf = MF()\n",
    "x_train, x_test, y_train, y_test = train_test_split(df[['user', 'item']], df['rating'], test_size=0.20, random_state=42)\n",
    "mf.fit([x_train.user, x_train.item], y_train, epochs=20, batch_size=64, verbose=False)\n",
    "y_pred = mf.predict([x_test.user, x_test.item]).flatten()\n",
    "print(accuracy_score(y_test, y_pred.round()))\n",
    "fpr, tpr, thresholds = roc_curve(y_test, y_pred.round())\n",
    "print(auc(fpr, tpr))"
   ]
  },
  {
   "cell_type": "code",
   "execution_count": null,
   "id": "adjacent-imagination",
   "metadata": {},
   "outputs": [],
   "source": []
  },
  {
   "cell_type": "markdown",
   "id": "informational-tuesday",
   "metadata": {},
   "source": [
    "## Classifier"
   ]
  },
  {
   "cell_type": "code",
   "execution_count": 26,
   "id": "occasional-stream",
   "metadata": {},
   "outputs": [],
   "source": [
    "def mobile_model(learn_rate):\n",
    "    model = Sequential()\n",
    "    model.add(Dense(200, input_dim=input_dim, activation='relu'))\n",
    "    model.add(Dense(100, input_dim=input_dim, activation='relu'))\n",
    "    model.add(Dense(50, input_dim=input_dim, activation='relu'))\n",
    "    model.add(Dense(1, activation='sigmoid'))\n",
    "    model.compile(loss='binary_crossentropy', optimizer=Adam(lr=learn_rate))\n",
    "    return model"
   ]
  },
  {
   "cell_type": "code",
   "execution_count": 28,
   "id": "unable-bacteria",
   "metadata": {},
   "outputs": [
    {
     "name": "stdout",
     "output_type": "stream",
     "text": [
      "Fitting 2 folds for each of 1 candidates, totalling 2 fits\n",
      "ACCURACY = 90.03427533288301 % \t AUC = 0.9660312888515299 \t PARAMS = {'batch_size': 128, 'epochs': 10, 'learn_rate': 0.001}\n"
     ]
    }
   ],
   "source": [
    "ff_net = KerasClassifier(build_fn=mobile_model, verbose=False)\n",
    "\n",
    "# define hyperparameters to tune\n",
    "learn_rate = [0.001]\n",
    "batch_size = [128]\n",
    "epochs = [10]\n",
    "\n",
    "# Make a dictionary of the grid search parameters\n",
    "param_grid = dict(learn_rate=learn_rate, batch_size=batch_size, epochs=epochs)\n",
    "\n",
    "# create and fit gridsearch\n",
    "grid = GridSearchCV(estimator=ff_net, scoring=['accuracy', 'roc_auc'], refit=False, param_grid=param_grid, \n",
    "                    cv=KFold(shuffle=True, n_splits=2, random_state=42), verbose=True)\n",
    "grid_results = grid.fit(x, y)\n",
    "\n",
    "mean_accuracy = grid_results.cv_results_['mean_test_accuracy']\n",
    "mean_auc = grid_results.cv_results_['mean_test_roc_auc']\n",
    "params = grid_results.cv_results_['params']\n",
    "\n",
    "for accuracy, auc, params in zip(mean_accuracy, mean_auc, params):\n",
    "    print(f'ACCURACY = {accuracy*100} % \\t AUC = {auc} \\t PARAMS = {params}') "
   ]
  }
 ],
 "metadata": {
  "kernelspec": {
   "display_name": "Python 3",
   "language": "python",
   "name": "python3"
  },
  "language_info": {
   "codemirror_mode": {
    "name": "ipython",
    "version": 3
   },
   "file_extension": ".py",
   "mimetype": "text/x-python",
   "name": "python",
   "nbconvert_exporter": "python",
   "pygments_lexer": "ipython3",
   "version": "3.8.5"
  }
 },
 "nbformat": 4,
 "nbformat_minor": 5
}
