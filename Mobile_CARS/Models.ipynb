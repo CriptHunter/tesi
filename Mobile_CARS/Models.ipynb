{
 "cells": [
  {
   "cell_type": "code",
   "execution_count": 37,
   "id": "excited-concrete",
   "metadata": {},
   "outputs": [],
   "source": [
    "import numpy as np\n",
    "import tensorflow as tf\n",
    "from tensorflow import keras\n",
    "import pandas as pd\n",
    "from keras.models import Sequential\n",
    "from keras.layers import Dense, Input, Embedding, Flatten, Concatenate\n",
    "from keras.optimizers import Adam\n",
    "from keras.wrappers.scikit_learn import KerasClassifier\n",
    "from sklearn.model_selection import StratifiedKFold, cross_validate, train_test_split\n",
    "from sklearn.model_selection import GridSearchCV, KFold\n",
    "from sklearn.metrics import accuracy_score\n",
    "\n",
    "pd.options.display.max_columns = 1000\n",
    "import warnings\n",
    "warnings.filterwarnings(\"ignore\")"
   ]
  },
  {
   "cell_type": "code",
   "execution_count": 33,
   "id": "chicken-restaurant",
   "metadata": {},
   "outputs": [
    {
     "name": "stdout",
     "output_type": "stream",
     "text": [
      "rating with value 1: 68.37503224142378 %\n",
      "number of users: 30 \t number of items: 338 \t number of rating: 77540\n"
     ]
    }
   ],
   "source": [
    "df = pd.read_csv('MDF_final.csv')\n",
    "\n",
    "x = df.iloc[:, 3:]\n",
    "y = df['rating']\n",
    "input_dim = len(x.columns)\n",
    "n_users = df.user.nunique()\n",
    "n_items = df.item.nunique()\n",
    "\n",
    "for col in 'music_active speaker_on headset_connected connected is_weekend is_holiday'.split():\n",
    "    x[col] = x[col].astype(int)\n",
    "    \n",
    "print(f\"rating with value 1: {df[df.rating == 1]['rating'].count() * 100 / len(df)} %\")\n",
    "print(f\"number of users: {n_users} \\t number of items: {n_items} \\t number of rating: {len(x)}\")"
   ]
  },
  {
   "cell_type": "code",
   "execution_count": 35,
   "id": "described-leave",
   "metadata": {},
   "outputs": [],
   "source": [
    "def mobile_model(learn_rate):\n",
    "    model = Sequential()\n",
    "    model.add(Dense(200, input_dim=input_dim, activation='relu'))\n",
    "    model.add(Dense(100, input_dim=input_dim, activation='relu'))\n",
    "    model.add(Dense(50, input_dim=input_dim, activation='relu'))\n",
    "    model.add(Dense(1, activation='sigmoid'))\n",
    "    model.compile(loss='binary_crossentropy', optimizer=Adam(lr=learn_rate))\n",
    "    return model"
   ]
  },
  {
   "cell_type": "code",
   "execution_count": 52,
   "id": "ahead-response",
   "metadata": {},
   "outputs": [
    {
     "name": "stdout",
     "output_type": "stream",
     "text": [
      "Fitting 2 folds for each of 1 candidates, totalling 2 fits\n",
      "ACCURACY = 0.902656693319577 \t AUC = 0.9665578599607316 \t PARAMS = {'batch_size': 128, 'epochs': 10, 'learn_rate': 0.001}\n"
     ]
    }
   ],
   "source": [
    "ff_net = KerasClassifier(build_fn=mobile_model, verbose=False)\n",
    "\n",
    "# define hyperparameters to tune\n",
    "learn_rate = [0.001]\n",
    "batch_size = [128]\n",
    "epochs = [10]\n",
    "\n",
    "# Make a dictionary of the grid search parameters\n",
    "param_grid = dict(learn_rate=learn_rate, batch_size=batch_size, epochs=epochs)\n",
    "\n",
    "# create and fit gridsearch\n",
    "grid = GridSearchCV(estimator=ff_net, scoring=['accuracy', 'roc_auc'], refit=False, param_grid=param_grid, cv=KFold(shuffle=True, n_splits=2, random_state=42), verbose=True)\n",
    "grid_results = grid.fit(x, y)\n",
    "\n",
    "mean_accuracy = grid_results.cv_results_['mean_test_accuracy']\n",
    "mean_auc = grid_results.cv_results_['mean_test_roc_auc']\n",
    "params = grid_results.cv_results_['params']\n",
    "\n",
    "for accuracy, auc, params in zip(mean_accuracy, mean_auc, params):\n",
    "    print(f'ACCURACY = {accuracy} \\t AUC = {auc} \\t PARAMS = {params}') "
   ]
  },
  {
   "cell_type": "code",
   "execution_count": null,
   "id": "compressed-scientist",
   "metadata": {},
   "outputs": [],
   "source": []
  }
 ],
 "metadata": {
  "kernelspec": {
   "display_name": "Python 3",
   "language": "python",
   "name": "python3"
  },
  "language_info": {
   "codemirror_mode": {
    "name": "ipython",
    "version": 3
   },
   "file_extension": ".py",
   "mimetype": "text/x-python",
   "name": "python",
   "nbconvert_exporter": "python",
   "pygments_lexer": "ipython3",
   "version": "3.8.5"
  }
 },
 "nbformat": 4,
 "nbformat_minor": 5
}
