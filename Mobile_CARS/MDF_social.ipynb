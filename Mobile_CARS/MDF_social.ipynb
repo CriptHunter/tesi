{
 "cells": [
  {
   "cell_type": "markdown",
   "id": "6d8ba149",
   "metadata": {},
   "source": [
    "# MDF social dataset\n",
    "Create one dataset foreach user including social feature layer"
   ]
  },
  {
   "cell_type": "code",
   "execution_count": 1,
   "id": "fc20be0e",
   "metadata": {},
   "outputs": [],
   "source": [
    "import pandas as pd\n",
    "import numpy as np\n",
    "import os.path\n",
    "from tqdm import tqdm"
   ]
  },
  {
   "cell_type": "code",
   "execution_count": 2,
   "id": "b19d0823",
   "metadata": {},
   "outputs": [
    {
     "name": "stderr",
     "output_type": "stream",
     "text": [
      "100%|██████████████████████████████████████████████████████████████████████████████████| 31/31 [01:18<00:00,  2.53s/it]\n"
     ]
    }
   ],
   "source": [
    "df = pd.read_csv('Datasets/MDF_social/MDF_with_social_features.csv', sep=\",\")\n",
    "df = df.drop_duplicates()\n",
    "load_path = 'Datasets/MDF_social/social_relationships/'\n",
    "save_path = 'Datasets/MDF_social/social_datasets/'\n",
    "\n",
    "if (not os.path.isdir(save_path)):\n",
    "    os.mkdir(save_path)\n",
    "\n",
    "for user in tqdm(range(31)):\n",
    "    df_rel = pd.read_csv(load_path + f'MDF_user_{user}_social_relationships.csv')\n",
    "    df_rel.drop(columns='contacts', inplace=True)\n",
    "    df_rel.columns = ['user', 'layer'] # rename \"alter\" to \"user\" for joining with df\n",
    "    df_user = df.merge(df_rel, how='left', left_on='user', right_on='user') # left join to keep all row but fill with NaN layer column\n",
    "    df_user['layer'] = df_user['layer'].astype('Int64')\n",
    "    df_user = pd.get_dummies(df_user, columns=['layer'], prefix='layer')\n",
    "    df_user.to_csv(save_path + f'MDF_user{user}.csv', index=False)"
   ]
  }
 ],
 "metadata": {
  "kernelspec": {
   "display_name": "Python 3",
   "language": "python",
   "name": "python3"
  },
  "language_info": {
   "codemirror_mode": {
    "name": "ipython",
    "version": 3
   },
   "file_extension": ".py",
   "mimetype": "text/x-python",
   "name": "python",
   "nbconvert_exporter": "python",
   "pygments_lexer": "ipython3",
   "version": "3.8.5"
  }
 },
 "nbformat": 4,
 "nbformat_minor": 5
}
