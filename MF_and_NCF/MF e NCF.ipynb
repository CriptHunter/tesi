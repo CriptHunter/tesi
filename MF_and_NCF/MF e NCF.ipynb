{
 "metadata": {
  "language_info": {
   "codemirror_mode": {
    "name": "ipython",
    "version": 3
   },
   "file_extension": ".py",
   "mimetype": "text/x-python",
   "name": "python",
   "nbconvert_exporter": "python",
   "pygments_lexer": "ipython3",
   "version": "3.8.3-final"
  },
  "orig_nbformat": 2,
  "kernelspec": {
   "name": "python3",
   "display_name": "Python 3"
  }
 },
 "nbformat": 4,
 "nbformat_minor": 2,
 "cells": [
  {
   "source": [
    "# Movie recommender system\n",
    "1. matrix factorization\n",
    "2. multilayer perceptron\n",
    "\n",
    "**dataset:** ml-100k"
   ],
   "cell_type": "markdown",
   "metadata": {}
  },
  {
   "cell_type": "code",
   "execution_count": 1,
   "metadata": {},
   "outputs": [],
   "source": [
    "from sklearn.datasets import dump_svmlight_file\n",
    "import numpy as np\n",
    "import pandas as pd\n",
    "import os\n",
    "import urllib\n",
    "import zipfile\n",
    "from sklearn.model_selection import train_test_split\n",
    "import shutil\n",
    " \n",
    "import matplotlib.pyplot as plt\n",
    "import warnings\n",
    "warnings.filterwarnings('ignore')\n",
    " \n",
    "%matplotlib inline\n",
    "\n",
    "import tensorflow as tf\n",
    "from tensorflow import keras\n",
    "from keras.optimizers import Adam"
   ]
  },
  {
   "source": [
    "## Load dataset"
   ],
   "cell_type": "markdown",
   "metadata": {}
  },
  {
   "cell_type": "code",
   "execution_count": 2,
   "metadata": {},
   "outputs": [],
   "source": [
    "# legge il dataset\n",
    "dataset = pd.read_csv(\"ml-100k/u.data\", sep='\\t', names=\"user_id,item_id,rating,timestamp\".split(\",\"))"
   ]
  },
  {
   "cell_type": "code",
   "execution_count": 3,
   "metadata": {},
   "outputs": [],
   "source": [
    "# fa partire gli indici da 0 invece che da 1\n",
    "dataset.user_id = dataset.user_id.astype('category').cat.codes.values\n",
    "dataset.item_id = dataset.item_id.astype('category').cat.codes.values"
   ]
  },
  {
   "cell_type": "code",
   "execution_count": 4,
   "metadata": {},
   "outputs": [],
   "source": [
    "train, test = train_test_split(dataset, test_size=0.2)"
   ]
  },
  {
   "cell_type": "code",
   "execution_count": 5,
   "metadata": {},
   "outputs": [
    {
     "output_type": "stream",
     "name": "stdout",
     "text": [
      "Number of users: 943      Number of movies: 1682\n"
     ]
    }
   ],
   "source": [
    "# conta il numero di film e utenti unici\n",
    "n_users, n_movies = len(dataset.user_id.unique()), len(dataset.item_id.unique())\n",
    "n_latent_factors = 10\n",
    "print(f'Number of users: {n_users}      Number of movies: {n_movies}')"
   ]
  },
  {
   "cell_type": "code",
   "execution_count": 6,
   "metadata": {},
   "outputs": [],
   "source": [
    "# vettore latente film\n",
    "movie_input = keras.layers.Input(shape=(1,), name='item')\n",
    "movie_embedding = keras.layers.Embedding(n_movies + 1, n_latent_factors, name='movie_embedding')(movie_input)\n",
    "movie_vec = keras.layers.Flatten(name='flatten_movie')(movie_embedding)\n",
    "\n",
    "# vettore latente film\n",
    "user_input = keras.layers.Input(shape=(1,),name='User')\n",
    "user_vec = keras.layers.Flatten(name='flatten_user')(keras.layers.Embedding(n_users + 1, n_latent_factors,name='user_embedding')(user_input))\n",
    "\n",
    "# prodotto scalare\n",
    "prod = keras.layers.dot([movie_vec, user_vec], axes=1,name='dot_product')\n",
    "model = keras.Model([user_input, movie_input], prod)"
   ]
  },
  {
   "cell_type": "code",
   "execution_count": 7,
   "metadata": {},
   "outputs": [],
   "source": [
    "# compila il modello monitorando mean absolute error (MAE) e mean squared error (MSE)\n",
    "model.compile(optimizer='adam', loss='mean_squared_error', metrics=['mae', 'mse'])"
   ]
  },
  {
   "cell_type": "code",
   "execution_count": 8,
   "metadata": {},
   "outputs": [
    {
     "output_type": "stream",
     "name": "stdout",
     "text": [
      "Model: \"model\"\n__________________________________________________________________________________________________\nLayer (type)                    Output Shape         Param #     Connected to                     \n==================================================================================================\nitem (InputLayer)               [(None, 1)]          0                                            \n__________________________________________________________________________________________________\nUser (InputLayer)               [(None, 1)]          0                                            \n__________________________________________________________________________________________________\nmovie_embedding (Embedding)     (None, 1, 10)        16830       item[0][0]                       \n__________________________________________________________________________________________________\nuser_embedding (Embedding)      (None, 1, 10)        9440        User[0][0]                       \n__________________________________________________________________________________________________\nflatten_movie (Flatten)         (None, 10)           0           movie_embedding[0][0]            \n__________________________________________________________________________________________________\nflatten_user (Flatten)          (None, 10)           0           user_embedding[0][0]             \n__________________________________________________________________________________________________\ndot_product (Dot)               (None, 1)            0           flatten_movie[0][0]              \n                                                                 flatten_user[0][0]               \n==================================================================================================\nTotal params: 26,270\nTrainable params: 26,270\nNon-trainable params: 0\n__________________________________________________________________________________________________\n"
     ]
    }
   ],
   "source": [
    "model.summary()"
   ]
  },
  {
   "cell_type": "code",
   "execution_count": 9,
   "metadata": {},
   "outputs": [
    {
     "output_type": "execute_result",
     "data": {
      "image/png": "[encoded data removed]",
      "text/plain": [
       "<IPython.core.display.Image object>"
      ]
     },
     "metadata": {},
     "execution_count": 9
    }
   ],
   "source": [
    "tf.keras.utils.plot_model(model)"
   ]
  },
  {
   "cell_type": "code",
   "execution_count": 10,
   "metadata": {},
   "outputs": [
    {
     "output_type": "stream",
     "name": "stdout",
     "text": [
      "Epoch 1/10\n",
      "625/625 [==============================] - 2s 3ms/step - loss: 13.0347 - mae: 3.4298 - mse: 13.0347\n",
      "Epoch 2/10\n",
      "625/625 [==============================] - 1s 2ms/step - loss: 5.5416 - mae: 2.0403 - mse: 5.5416\n",
      "Epoch 3/10\n",
      "625/625 [==============================] - 1s 1ms/step - loss: 1.9383 - mae: 1.1038 - mse: 1.9383\n",
      "Epoch 4/10\n",
      "625/625 [==============================] - 2s 3ms/step - loss: 1.2986 - mae: 0.8928 - mse: 1.2986\n",
      "Epoch 5/10\n",
      "625/625 [==============================] - 1s 2ms/step - loss: 1.0794 - mae: 0.8136 - mse: 1.0794\n",
      "Epoch 6/10\n",
      "625/625 [==============================] - 1s 1ms/step - loss: 0.9822 - mae: 0.7774 - mse: 0.9822\n",
      "Epoch 7/10\n",
      "625/625 [==============================] - 2s 3ms/step - loss: 0.9332 - mae: 0.7590 - mse: 0.9332\n",
      "Epoch 8/10\n",
      "625/625 [==============================] - 2s 3ms/step - loss: 0.9062 - mae: 0.7485 - mse: 0.9062\n",
      "Epoch 9/10\n",
      "625/625 [==============================] - 2s 3ms/step - loss: 0.8902 - mae: 0.7427 - mse: 0.8902\n",
      "Epoch 10/10\n",
      "625/625 [==============================] - 1s 2ms/step - loss: 0.8803 - mae: 0.7393 - mse: 0.8803\n"
     ]
    }
   ],
   "source": [
    "# train del modello \n",
    "history = model.fit([train.user_id, train.item_id], train.rating, epochs=10, batch_size=128, verbose=1)"
   ]
  },
  {
   "cell_type": "code",
   "execution_count": 11,
   "metadata": {},
   "outputs": [
    {
     "output_type": "execute_result",
     "data": {
      "text/plain": [
       "Text(0, 0.5, 'Training Error')"
      ]
     },
     "metadata": {},
     "execution_count": 11
    },
    {
     "output_type": "display_data",
     "data": {
      "text/plain": "<Figure size 432x288 with 1 Axes>",
      "image/svg+xml": "<?xml version=\"1.0\" encoding=\"utf-8\" standalone=\"no\"?>\n<!DOCTYPE svg PUBLIC \"-//W3C//DTD SVG 1.1//EN\"\n  \"http://www.w3.org/Graphics/SVG/1.1/DTD/svg11.dtd\">\n<!-- Created with matplotlib (https://matplotlib.org/) -->\n<svg height=\"262.19625pt\" version=\"1.1\" viewBox=\"0 0 387.478125 262.19625\" width=\"387.478125pt\" xmlns=\"http://www.w3.org/2000/svg\" xmlns:xlink=\"http://www.w3.org/1999/xlink\">\n <defs>\n  <style type=\"text/css\">\n*{stroke-linecap:butt;stroke-linejoin:round;}\n  </style>\n </defs>\n <g id=\"figure_1\">\n  <g id=\"patch_1\">\n   <path d=\"M 0 262.19625 \nL 387.478125 262.19625 \nL 387.478125 0 \nL 0 0 \nz\n\" style=\"fill:none;\"/>\n  </g>\n  <g id=\"axes_1\">\n   <g id=\"patch_2\">\n    <path d=\"M 45.478125 224.64 \nL 380.278125 224.64 \nL 380.278125 7.2 \nL 45.478125 7.2 \nz\n\" style=\"fill:#ffffff;\"/>\n   </g>\n   <g id=\"matplotlib.axis_1\">\n    <g id=\"xtick_1\">\n     <g id=\"line2d_1\">\n      <defs>\n       <path d=\"M 0 0 \nL 0 3.5 \n\" id=\"m58473c9b91\" style=\"stroke:#000000;stroke-width:0.8;\"/>\n      </defs>\n      <g>\n       <use style=\"stroke:#000000;stroke-width:0.8;\" x=\"60.696307\" xlink:href=\"#m58473c9b91\" y=\"224.64\"/>\n      </g>\n     </g>\n     <g id=\"text_1\">\n      <!-- 0 -->\n      <defs>\n       <path d=\"M 31.78125 66.40625 \nQ 24.171875 66.40625 20.328125 58.90625 \nQ 16.5 51.421875 16.5 36.375 \nQ 16.5 21.390625 20.328125 13.890625 \nQ 24.171875 6.390625 31.78125 6.390625 \nQ 39.453125 6.390625 43.28125 13.890625 \nQ 47.125 21.390625 47.125 36.375 \nQ 47.125 51.421875 43.28125 58.90625 \nQ 39.453125 66.40625 31.78125 66.40625 \nz\nM 31.78125 74.21875 \nQ 44.046875 74.21875 50.515625 64.515625 \nQ 56.984375 54.828125 56.984375 36.375 \nQ 56.984375 17.96875 50.515625 8.265625 \nQ 44.046875 -1.421875 31.78125 -1.421875 \nQ 19.53125 -1.421875 13.0625 8.265625 \nQ 6.59375 17.96875 6.59375 36.375 \nQ 6.59375 54.828125 13.0625 64.515625 \nQ 19.53125 74.21875 31.78125 74.21875 \nz\n\" id=\"DejaVuSans-48\"/>\n      </defs>\n      <g transform=\"translate(57.515057 239.238437)scale(0.1 -0.1)\">\n       <use xlink:href=\"#DejaVuSans-48\"/>\n      </g>\n     </g>\n    </g>\n    <g id=\"xtick_2\">\n     <g id=\"line2d_2\">\n      <g>\n       <use style=\"stroke:#000000;stroke-width:0.8;\" x=\"128.33267\" xlink:href=\"#m58473c9b91\" y=\"224.64\"/>\n      </g>\n     </g>\n     <g id=\"text_2\">\n      <!-- 2 -->\n      <defs>\n       <path d=\"M 19.1875 8.296875 \nL 53.609375 8.296875 \nL 53.609375 0 \nL 7.328125 0 \nL 7.328125 8.296875 \nQ 12.9375 14.109375 22.625 23.890625 \nQ 32.328125 33.6875 34.8125 36.53125 \nQ 39.546875 41.84375 41.421875 45.53125 \nQ 43.3125 49.21875 43.3125 52.78125 \nQ 43.3125 58.59375 39.234375 62.25 \nQ 35.15625 65.921875 28.609375 65.921875 \nQ 23.96875 65.921875 18.8125 64.3125 \nQ 13.671875 62.703125 7.8125 59.421875 \nL 7.8125 69.390625 \nQ 13.765625 71.78125 18.9375 73 \nQ 24.125 74.21875 28.421875 74.21875 \nQ 39.75 74.21875 46.484375 68.546875 \nQ 53.21875 62.890625 53.21875 53.421875 \nQ 53.21875 48.921875 51.53125 44.890625 \nQ 49.859375 40.875 45.40625 35.40625 \nQ 44.1875 33.984375 37.640625 27.21875 \nQ 31.109375 20.453125 19.1875 8.296875 \nz\n\" id=\"DejaVuSans-50\"/>\n      </defs>\n      <g transform=\"translate(125.15142 239.238437)scale(0.1 -0.1)\">\n       <use xlink:href=\"#DejaVuSans-50\"/>\n      </g>\n     </g>\n    </g>\n    <g id=\"xtick_3\">\n     <g id=\"line2d_3\">\n      <g>\n       <use style=\"stroke:#000000;stroke-width:0.8;\" x=\"195.969034\" xlink:href=\"#m58473c9b91\" y=\"224.64\"/>\n      </g>\n     </g>\n     <g id=\"text_3\">\n      <!-- 4 -->\n      <defs>\n       <path d=\"M 37.796875 64.3125 \nL 12.890625 25.390625 \nL 37.796875 25.390625 \nz\nM 35.203125 72.90625 \nL 47.609375 72.90625 \nL 47.609375 25.390625 \nL 58.015625 25.390625 \nL 58.015625 17.1875 \nL 47.609375 17.1875 \nL 47.609375 0 \nL 37.796875 0 \nL 37.796875 17.1875 \nL 4.890625 17.1875 \nL 4.890625 26.703125 \nz\n\" id=\"DejaVuSans-52\"/>\n      </defs>\n      <g transform=\"translate(192.787784 239.238437)scale(0.1 -0.1)\">\n       <use xlink:href=\"#DejaVuSans-52\"/>\n      </g>\n     </g>\n    </g>\n    <g id=\"xtick_4\">\n     <g id=\"line2d_4\">\n      <g>\n       <use style=\"stroke:#000000;stroke-width:0.8;\" x=\"263.605398\" xlink:href=\"#m58473c9b91\" y=\"224.64\"/>\n      </g>\n     </g>\n     <g id=\"text_4\">\n      <!-- 6 -->\n      <defs>\n       <path d=\"M 33.015625 40.375 \nQ 26.375 40.375 22.484375 35.828125 \nQ 18.609375 31.296875 18.609375 23.390625 \nQ 18.609375 15.53125 22.484375 10.953125 \nQ 26.375 6.390625 33.015625 6.390625 \nQ 39.65625 6.390625 43.53125 10.953125 \nQ 47.40625 15.53125 47.40625 23.390625 \nQ 47.40625 31.296875 43.53125 35.828125 \nQ 39.65625 40.375 33.015625 40.375 \nz\nM 52.59375 71.296875 \nL 52.59375 62.3125 \nQ 48.875 64.0625 45.09375 64.984375 \nQ 41.3125 65.921875 37.59375 65.921875 \nQ 27.828125 65.921875 22.671875 59.328125 \nQ 17.53125 52.734375 16.796875 39.40625 \nQ 19.671875 43.65625 24.015625 45.921875 \nQ 28.375 48.1875 33.59375 48.1875 \nQ 44.578125 48.1875 50.953125 41.515625 \nQ 57.328125 34.859375 57.328125 23.390625 \nQ 57.328125 12.15625 50.6875 5.359375 \nQ 44.046875 -1.421875 33.015625 -1.421875 \nQ 20.359375 -1.421875 13.671875 8.265625 \nQ 6.984375 17.96875 6.984375 36.375 \nQ 6.984375 53.65625 15.1875 63.9375 \nQ 23.390625 74.21875 37.203125 74.21875 \nQ 40.921875 74.21875 44.703125 73.484375 \nQ 48.484375 72.75 52.59375 71.296875 \nz\n\" id=\"DejaVuSans-54\"/>\n      </defs>\n      <g transform=\"translate(260.424148 239.238437)scale(0.1 -0.1)\">\n       <use xlink:href=\"#DejaVuSans-54\"/>\n      </g>\n     </g>\n    </g>\n    <g id=\"xtick_5\">\n     <g id=\"line2d_5\">\n      <g>\n       <use style=\"stroke:#000000;stroke-width:0.8;\" x=\"331.241761\" xlink:href=\"#m58473c9b91\" y=\"224.64\"/>\n      </g>\n     </g>\n     <g id=\"text_5\">\n      <!-- 8 -->\n      <defs>\n       <path d=\"M 31.78125 34.625 \nQ 24.75 34.625 20.71875 30.859375 \nQ 16.703125 27.09375 16.703125 20.515625 \nQ 16.703125 13.921875 20.71875 10.15625 \nQ 24.75 6.390625 31.78125 6.390625 \nQ 38.8125 6.390625 42.859375 10.171875 \nQ 46.921875 13.96875 46.921875 20.515625 \nQ 46.921875 27.09375 42.890625 30.859375 \nQ 38.875 34.625 31.78125 34.625 \nz\nM 21.921875 38.8125 \nQ 15.578125 40.375 12.03125 44.71875 \nQ 8.5 49.078125 8.5 55.328125 \nQ 8.5 64.0625 14.71875 69.140625 \nQ 20.953125 74.21875 31.78125 74.21875 \nQ 42.671875 74.21875 48.875 69.140625 \nQ 55.078125 64.0625 55.078125 55.328125 \nQ 55.078125 49.078125 51.53125 44.71875 \nQ 48 40.375 41.703125 38.8125 \nQ 48.828125 37.15625 52.796875 32.3125 \nQ 56.78125 27.484375 56.78125 20.515625 \nQ 56.78125 9.90625 50.3125 4.234375 \nQ 43.84375 -1.421875 31.78125 -1.421875 \nQ 19.734375 -1.421875 13.25 4.234375 \nQ 6.78125 9.90625 6.78125 20.515625 \nQ 6.78125 27.484375 10.78125 32.3125 \nQ 14.796875 37.15625 21.921875 38.8125 \nz\nM 18.3125 54.390625 \nQ 18.3125 48.734375 21.84375 45.5625 \nQ 25.390625 42.390625 31.78125 42.390625 \nQ 38.140625 42.390625 41.71875 45.5625 \nQ 45.3125 48.734375 45.3125 54.390625 \nQ 45.3125 60.0625 41.71875 63.234375 \nQ 38.140625 66.40625 31.78125 66.40625 \nQ 25.390625 66.40625 21.84375 63.234375 \nQ 18.3125 60.0625 18.3125 54.390625 \nz\n\" id=\"DejaVuSans-56\"/>\n      </defs>\n      <g transform=\"translate(328.060511 239.238437)scale(0.1 -0.1)\">\n       <use xlink:href=\"#DejaVuSans-56\"/>\n      </g>\n     </g>\n    </g>\n    <g id=\"text_6\">\n     <!-- Epoch -->\n     <defs>\n      <path d=\"M 9.8125 72.90625 \nL 55.90625 72.90625 \nL 55.90625 64.59375 \nL 19.671875 64.59375 \nL 19.671875 43.015625 \nL 54.390625 43.015625 \nL 54.390625 34.71875 \nL 19.671875 34.71875 \nL 19.671875 8.296875 \nL 56.78125 8.296875 \nL 56.78125 0 \nL 9.8125 0 \nz\n\" id=\"DejaVuSans-69\"/>\n      <path d=\"M 18.109375 8.203125 \nL 18.109375 -20.796875 \nL 9.078125 -20.796875 \nL 9.078125 54.6875 \nL 18.109375 54.6875 \nL 18.109375 46.390625 \nQ 20.953125 51.265625 25.265625 53.625 \nQ 29.59375 56 35.59375 56 \nQ 45.5625 56 51.78125 48.09375 \nQ 58.015625 40.1875 58.015625 27.296875 \nQ 58.015625 14.40625 51.78125 6.484375 \nQ 45.5625 -1.421875 35.59375 -1.421875 \nQ 29.59375 -1.421875 25.265625 0.953125 \nQ 20.953125 3.328125 18.109375 8.203125 \nz\nM 48.6875 27.296875 \nQ 48.6875 37.203125 44.609375 42.84375 \nQ 40.53125 48.484375 33.40625 48.484375 \nQ 26.265625 48.484375 22.1875 42.84375 \nQ 18.109375 37.203125 18.109375 27.296875 \nQ 18.109375 17.390625 22.1875 11.75 \nQ 26.265625 6.109375 33.40625 6.109375 \nQ 40.53125 6.109375 44.609375 11.75 \nQ 48.6875 17.390625 48.6875 27.296875 \nz\n\" id=\"DejaVuSans-112\"/>\n      <path d=\"M 30.609375 48.390625 \nQ 23.390625 48.390625 19.1875 42.75 \nQ 14.984375 37.109375 14.984375 27.296875 \nQ 14.984375 17.484375 19.15625 11.84375 \nQ 23.34375 6.203125 30.609375 6.203125 \nQ 37.796875 6.203125 41.984375 11.859375 \nQ 46.1875 17.53125 46.1875 27.296875 \nQ 46.1875 37.015625 41.984375 42.703125 \nQ 37.796875 48.390625 30.609375 48.390625 \nz\nM 30.609375 56 \nQ 42.328125 56 49.015625 48.375 \nQ 55.71875 40.765625 55.71875 27.296875 \nQ 55.71875 13.875 49.015625 6.21875 \nQ 42.328125 -1.421875 30.609375 -1.421875 \nQ 18.84375 -1.421875 12.171875 6.21875 \nQ 5.515625 13.875 5.515625 27.296875 \nQ 5.515625 40.765625 12.171875 48.375 \nQ 18.84375 56 30.609375 56 \nz\n\" id=\"DejaVuSans-111\"/>\n      <path d=\"M 48.78125 52.59375 \nL 48.78125 44.1875 \nQ 44.96875 46.296875 41.140625 47.34375 \nQ 37.3125 48.390625 33.40625 48.390625 \nQ 24.65625 48.390625 19.8125 42.84375 \nQ 14.984375 37.3125 14.984375 27.296875 \nQ 14.984375 17.28125 19.8125 11.734375 \nQ 24.65625 6.203125 33.40625 6.203125 \nQ 37.3125 6.203125 41.140625 7.25 \nQ 44.96875 8.296875 48.78125 10.40625 \nL 48.78125 2.09375 \nQ 45.015625 0.34375 40.984375 -0.53125 \nQ 36.96875 -1.421875 32.421875 -1.421875 \nQ 20.0625 -1.421875 12.78125 6.34375 \nQ 5.515625 14.109375 5.515625 27.296875 \nQ 5.515625 40.671875 12.859375 48.328125 \nQ 20.21875 56 33.015625 56 \nQ 37.15625 56 41.109375 55.140625 \nQ 45.0625 54.296875 48.78125 52.59375 \nz\n\" id=\"DejaVuSans-99\"/>\n      <path d=\"M 54.890625 33.015625 \nL 54.890625 0 \nL 45.90625 0 \nL 45.90625 32.71875 \nQ 45.90625 40.484375 42.875 44.328125 \nQ 39.84375 48.1875 33.796875 48.1875 \nQ 26.515625 48.1875 22.3125 43.546875 \nQ 18.109375 38.921875 18.109375 30.90625 \nL 18.109375 0 \nL 9.078125 0 \nL 9.078125 75.984375 \nL 18.109375 75.984375 \nL 18.109375 46.1875 \nQ 21.34375 51.125 25.703125 53.5625 \nQ 30.078125 56 35.796875 56 \nQ 45.21875 56 50.046875 50.171875 \nQ 54.890625 44.34375 54.890625 33.015625 \nz\n\" id=\"DejaVuSans-104\"/>\n     </defs>\n     <g transform=\"translate(197.567188 252.916562)scale(0.1 -0.1)\">\n      <use xlink:href=\"#DejaVuSans-69\"/>\n      <use x=\"63.183594\" xlink:href=\"#DejaVuSans-112\"/>\n      <use x=\"126.660156\" xlink:href=\"#DejaVuSans-111\"/>\n      <use x=\"187.841797\" xlink:href=\"#DejaVuSans-99\"/>\n      <use x=\"242.822266\" xlink:href=\"#DejaVuSans-104\"/>\n     </g>\n    </g>\n   </g>\n   <g id=\"matplotlib.axis_2\">\n    <g id=\"ytick_1\">\n     <g id=\"line2d_6\">\n      <defs>\n       <path d=\"M 0 0 \nL -3.5 0 \n\" id=\"m71d199c373\" style=\"stroke:#000000;stroke-width:0.8;\"/>\n      </defs>\n      <g>\n       <use style=\"stroke:#000000;stroke-width:0.8;\" x=\"45.478125\" xlink:href=\"#m71d199c373\" y=\"205.404758\"/>\n      </g>\n     </g>\n     <g id=\"text_7\">\n      <!-- $\\mathdefault{10^{0}}$ -->\n      <defs>\n       <path d=\"M 12.40625 8.296875 \nL 28.515625 8.296875 \nL 28.515625 63.921875 \nL 10.984375 60.40625 \nL 10.984375 69.390625 \nL 28.421875 72.90625 \nL 38.28125 72.90625 \nL 38.28125 8.296875 \nL 54.390625 8.296875 \nL 54.390625 0 \nL 12.40625 0 \nz\n\" id=\"DejaVuSans-49\"/>\n      </defs>\n      <g transform=\"translate(20.878125 209.203977)scale(0.1 -0.1)\">\n       <use transform=\"translate(0 0.765625)\" xlink:href=\"#DejaVuSans-49\"/>\n       <use transform=\"translate(63.623047 0.765625)\" xlink:href=\"#DejaVuSans-48\"/>\n       <use transform=\"translate(128.203125 39.046875)scale(0.7)\" xlink:href=\"#DejaVuSans-48\"/>\n      </g>\n     </g>\n    </g>\n    <g id=\"ytick_2\">\n     <g id=\"line2d_7\">\n      <g>\n       <use style=\"stroke:#000000;stroke-width:0.8;\" x=\"45.478125\" xlink:href=\"#m71d199c373\" y=\"36.52237\"/>\n      </g>\n     </g>\n     <g id=\"text_8\">\n      <!-- $\\mathdefault{10^{1}}$ -->\n      <g transform=\"translate(20.878125 40.321589)scale(0.1 -0.1)\">\n       <use transform=\"translate(0 0.684375)\" xlink:href=\"#DejaVuSans-49\"/>\n       <use transform=\"translate(63.623047 0.684375)\" xlink:href=\"#DejaVuSans-48\"/>\n       <use transform=\"translate(128.203125 38.965625)scale(0.7)\" xlink:href=\"#DejaVuSans-49\"/>\n      </g>\n     </g>\n    </g>\n    <g id=\"ytick_3\">\n     <g id=\"line2d_8\">\n      <defs>\n       <path d=\"M 0 0 \nL -2 0 \n\" id=\"mb42cbcadf1\" style=\"stroke:#000000;stroke-width:0.6;\"/>\n      </defs>\n      <g>\n       <use style=\"stroke:#000000;stroke-width:0.6;\" x=\"45.478125\" xlink:href=\"#mb42cbcadf1\" y=\"221.771152\"/>\n      </g>\n     </g>\n    </g>\n    <g id=\"ytick_4\">\n     <g id=\"line2d_9\">\n      <g>\n       <use style=\"stroke:#000000;stroke-width:0.6;\" x=\"45.478125\" xlink:href=\"#mb42cbcadf1\" y=\"213.132392\"/>\n      </g>\n     </g>\n    </g>\n    <g id=\"ytick_5\">\n     <g id=\"line2d_10\">\n      <g>\n       <use style=\"stroke:#000000;stroke-width:0.6;\" x=\"45.478125\" xlink:href=\"#mb42cbcadf1\" y=\"154.566094\"/>\n      </g>\n     </g>\n    </g>\n    <g id=\"ytick_6\">\n     <g id=\"line2d_11\">\n      <g>\n       <use style=\"stroke:#000000;stroke-width:0.6;\" x=\"45.478125\" xlink:href=\"#mb42cbcadf1\" y=\"124.827381\"/>\n      </g>\n     </g>\n    </g>\n    <g id=\"ytick_7\">\n     <g id=\"line2d_12\">\n      <g>\n       <use style=\"stroke:#000000;stroke-width:0.6;\" x=\"45.478125\" xlink:href=\"#mb42cbcadf1\" y=\"103.727429\"/>\n      </g>\n     </g>\n    </g>\n    <g id=\"ytick_8\">\n     <g id=\"line2d_13\">\n      <g>\n       <use style=\"stroke:#000000;stroke-width:0.6;\" x=\"45.478125\" xlink:href=\"#mb42cbcadf1\" y=\"87.361035\"/>\n      </g>\n     </g>\n    </g>\n    <g id=\"ytick_9\">\n     <g id=\"line2d_14\">\n      <g>\n       <use style=\"stroke:#000000;stroke-width:0.6;\" x=\"45.478125\" xlink:href=\"#mb42cbcadf1\" y=\"73.988717\"/>\n      </g>\n     </g>\n    </g>\n    <g id=\"ytick_10\">\n     <g id=\"line2d_15\">\n      <g>\n       <use style=\"stroke:#000000;stroke-width:0.6;\" x=\"45.478125\" xlink:href=\"#mb42cbcadf1\" y=\"62.682583\"/>\n      </g>\n     </g>\n    </g>\n    <g id=\"ytick_11\">\n     <g id=\"line2d_16\">\n      <g>\n       <use style=\"stroke:#000000;stroke-width:0.6;\" x=\"45.478125\" xlink:href=\"#mb42cbcadf1\" y=\"52.888765\"/>\n      </g>\n     </g>\n    </g>\n    <g id=\"ytick_12\">\n     <g id=\"line2d_17\">\n      <g>\n       <use style=\"stroke:#000000;stroke-width:0.6;\" x=\"45.478125\" xlink:href=\"#mb42cbcadf1\" y=\"44.250005\"/>\n      </g>\n     </g>\n    </g>\n    <g id=\"text_9\">\n     <!-- Training Error -->\n     <defs>\n      <path d=\"M -0.296875 72.90625 \nL 61.375 72.90625 \nL 61.375 64.59375 \nL 35.5 64.59375 \nL 35.5 0 \nL 25.59375 0 \nL 25.59375 64.59375 \nL -0.296875 64.59375 \nz\n\" id=\"DejaVuSans-84\"/>\n      <path d=\"M 41.109375 46.296875 \nQ 39.59375 47.171875 37.8125 47.578125 \nQ 36.03125 48 33.890625 48 \nQ 26.265625 48 22.1875 43.046875 \nQ 18.109375 38.09375 18.109375 28.8125 \nL 18.109375 0 \nL 9.078125 0 \nL 9.078125 54.6875 \nL 18.109375 54.6875 \nL 18.109375 46.1875 \nQ 20.953125 51.171875 25.484375 53.578125 \nQ 30.03125 56 36.53125 56 \nQ 37.453125 56 38.578125 55.875 \nQ 39.703125 55.765625 41.0625 55.515625 \nz\n\" id=\"DejaVuSans-114\"/>\n      <path d=\"M 34.28125 27.484375 \nQ 23.390625 27.484375 19.1875 25 \nQ 14.984375 22.515625 14.984375 16.5 \nQ 14.984375 11.71875 18.140625 8.90625 \nQ 21.296875 6.109375 26.703125 6.109375 \nQ 34.1875 6.109375 38.703125 11.40625 \nQ 43.21875 16.703125 43.21875 25.484375 \nL 43.21875 27.484375 \nz\nM 52.203125 31.203125 \nL 52.203125 0 \nL 43.21875 0 \nL 43.21875 8.296875 \nQ 40.140625 3.328125 35.546875 0.953125 \nQ 30.953125 -1.421875 24.3125 -1.421875 \nQ 15.921875 -1.421875 10.953125 3.296875 \nQ 6 8.015625 6 15.921875 \nQ 6 25.140625 12.171875 29.828125 \nQ 18.359375 34.515625 30.609375 34.515625 \nL 43.21875 34.515625 \nL 43.21875 35.40625 \nQ 43.21875 41.609375 39.140625 45 \nQ 35.0625 48.390625 27.6875 48.390625 \nQ 23 48.390625 18.546875 47.265625 \nQ 14.109375 46.140625 10.015625 43.890625 \nL 10.015625 52.203125 \nQ 14.9375 54.109375 19.578125 55.046875 \nQ 24.21875 56 28.609375 56 \nQ 40.484375 56 46.34375 49.84375 \nQ 52.203125 43.703125 52.203125 31.203125 \nz\n\" id=\"DejaVuSans-97\"/>\n      <path d=\"M 9.421875 54.6875 \nL 18.40625 54.6875 \nL 18.40625 0 \nL 9.421875 0 \nz\nM 9.421875 75.984375 \nL 18.40625 75.984375 \nL 18.40625 64.59375 \nL 9.421875 64.59375 \nz\n\" id=\"DejaVuSans-105\"/>\n      <path d=\"M 54.890625 33.015625 \nL 54.890625 0 \nL 45.90625 0 \nL 45.90625 32.71875 \nQ 45.90625 40.484375 42.875 44.328125 \nQ 39.84375 48.1875 33.796875 48.1875 \nQ 26.515625 48.1875 22.3125 43.546875 \nQ 18.109375 38.921875 18.109375 30.90625 \nL 18.109375 0 \nL 9.078125 0 \nL 9.078125 54.6875 \nL 18.109375 54.6875 \nL 18.109375 46.1875 \nQ 21.34375 51.125 25.703125 53.5625 \nQ 30.078125 56 35.796875 56 \nQ 45.21875 56 50.046875 50.171875 \nQ 54.890625 44.34375 54.890625 33.015625 \nz\n\" id=\"DejaVuSans-110\"/>\n      <path d=\"M 45.40625 27.984375 \nQ 45.40625 37.75 41.375 43.109375 \nQ 37.359375 48.484375 30.078125 48.484375 \nQ 22.859375 48.484375 18.828125 43.109375 \nQ 14.796875 37.75 14.796875 27.984375 \nQ 14.796875 18.265625 18.828125 12.890625 \nQ 22.859375 7.515625 30.078125 7.515625 \nQ 37.359375 7.515625 41.375 12.890625 \nQ 45.40625 18.265625 45.40625 27.984375 \nz\nM 54.390625 6.78125 \nQ 54.390625 -7.171875 48.1875 -13.984375 \nQ 42 -20.796875 29.203125 -20.796875 \nQ 24.46875 -20.796875 20.265625 -20.09375 \nQ 16.0625 -19.390625 12.109375 -17.921875 \nL 12.109375 -9.1875 \nQ 16.0625 -11.328125 19.921875 -12.34375 \nQ 23.78125 -13.375 27.78125 -13.375 \nQ 36.625 -13.375 41.015625 -8.765625 \nQ 45.40625 -4.15625 45.40625 5.171875 \nL 45.40625 9.625 \nQ 42.625 4.78125 38.28125 2.390625 \nQ 33.9375 0 27.875 0 \nQ 17.828125 0 11.671875 7.65625 \nQ 5.515625 15.328125 5.515625 27.984375 \nQ 5.515625 40.671875 11.671875 48.328125 \nQ 17.828125 56 27.875 56 \nQ 33.9375 56 38.28125 53.609375 \nQ 42.625 51.21875 45.40625 46.390625 \nL 45.40625 54.6875 \nL 54.390625 54.6875 \nz\n\" id=\"DejaVuSans-103\"/>\n      <path id=\"DejaVuSans-32\"/>\n     </defs>\n     <g transform=\"translate(14.798438 149.42)rotate(-90)scale(0.1 -0.1)\">\n      <use xlink:href=\"#DejaVuSans-84\"/>\n      <use x=\"46.333984\" xlink:href=\"#DejaVuSans-114\"/>\n      <use x=\"87.447266\" xlink:href=\"#DejaVuSans-97\"/>\n      <use x=\"148.726562\" xlink:href=\"#DejaVuSans-105\"/>\n      <use x=\"176.509766\" xlink:href=\"#DejaVuSans-110\"/>\n      <use x=\"239.888672\" xlink:href=\"#DejaVuSans-105\"/>\n      <use x=\"267.671875\" xlink:href=\"#DejaVuSans-110\"/>\n      <use x=\"331.050781\" xlink:href=\"#DejaVuSans-103\"/>\n      <use x=\"394.527344\" xlink:href=\"#DejaVuSans-32\"/>\n      <use x=\"426.314453\" xlink:href=\"#DejaVuSans-69\"/>\n      <use x=\"489.498047\" xlink:href=\"#DejaVuSans-114\"/>\n      <use x=\"528.861328\" xlink:href=\"#DejaVuSans-114\"/>\n      <use x=\"567.724609\" xlink:href=\"#DejaVuSans-111\"/>\n      <use x=\"628.90625\" xlink:href=\"#DejaVuSans-114\"/>\n     </g>\n    </g>\n   </g>\n   <g id=\"line2d_18\">\n    <path clip-path=\"url(#p1dbd3029e4)\" d=\"M 60.696307 17.083636 \nL 94.514489 79.817915 \nL 128.33267 156.863105 \nL 162.150852 186.242777 \nL 195.969034 199.798293 \nL 229.787216 206.723181 \nL 263.605398 210.47271 \nL 297.42358 212.627366 \nL 331.241761 213.939076 \nL 365.059943 214.756364 \n\" style=\"fill:none;stroke:#1f77b4;stroke-linecap:square;stroke-width:1.5;\"/>\n   </g>\n   <g id=\"patch_3\">\n    <path d=\"M 45.478125 224.64 \nL 45.478125 7.2 \n\" style=\"fill:none;stroke:#000000;stroke-linecap:square;stroke-linejoin:miter;stroke-width:0.8;\"/>\n   </g>\n   <g id=\"patch_4\">\n    <path d=\"M 380.278125 224.64 \nL 380.278125 7.2 \n\" style=\"fill:none;stroke:#000000;stroke-linecap:square;stroke-linejoin:miter;stroke-width:0.8;\"/>\n   </g>\n   <g id=\"patch_5\">\n    <path d=\"M 45.478125 224.64 \nL 380.278125 224.64 \n\" style=\"fill:none;stroke:#000000;stroke-linecap:square;stroke-linejoin:miter;stroke-width:0.8;\"/>\n   </g>\n   <g id=\"patch_6\">\n    <path d=\"M 45.478125 7.2 \nL 380.278125 7.2 \n\" style=\"fill:none;stroke:#000000;stroke-linecap:square;stroke-linejoin:miter;stroke-width:0.8;\"/>\n   </g>\n  </g>\n </g>\n <defs>\n  <clipPath id=\"p1dbd3029e4\">\n   <rect height=\"217.44\" width=\"334.8\" x=\"45.478125\" y=\"7.2\"/>\n  </clipPath>\n </defs>\n</svg>\n",
      "image/png": "[encoded data removed]"
     },
     "metadata": {
      "needs_background": "light"
     }
    }
   ],
   "source": [
    "pd.Series(history.history['loss']).plot(logy=True)\n",
    "plt.xlabel(\"Epoch\")\n",
    "plt.ylabel(\"Training Error\")"
   ]
  },
  {
   "cell_type": "code",
   "execution_count": 12,
   "metadata": {},
   "outputs": [
    {
     "output_type": "stream",
     "name": "stdout",
     "text": [
      "20000/20000 [==============================] - 19s 957us/step - loss: 0.9323 - mae: 0.7598 - mse: 0.9323\n"
     ]
    }
   ],
   "source": [
    "results = model.evaluate((test.user_id, test.item_id), test.rating, batch_size=1)"
   ]
  },
  {
   "cell_type": "code",
   "execution_count": 13,
   "metadata": {},
   "outputs": [
    {
     "output_type": "execute_result",
     "data": {
      "text/plain": [
       "             0         1         2         3         4         5         6  \\\n",
       "0    -0.661850  0.688298  0.550016  0.642208  0.622743 -0.592722  0.653979   \n",
       "1    -0.571590  0.529897  0.549336  0.616262  0.468416 -0.499984  0.550699   \n",
       "2    -0.543155  0.581949  0.519830  0.579575  0.441633 -0.544025  0.466679   \n",
       "3    -0.601527  0.657107  0.546533  0.571101  0.529397 -0.608924  0.578836   \n",
       "4    -0.533683  0.526648  0.521911  0.531141  0.501947 -0.506489  0.503056   \n",
       "...        ...       ...       ...       ...       ...       ...       ...   \n",
       "1678 -0.163874  0.196463  0.215077  0.178183  0.190934 -0.216903  0.257807   \n",
       "1679  0.021100 -0.042232  0.009979 -0.014002 -0.018506  0.007691 -0.004137   \n",
       "1680 -0.133251  0.250786  0.218874  0.207853  0.132789 -0.213222  0.208867   \n",
       "1681 -0.197618  0.166497  0.221582  0.174180  0.241146 -0.215717  0.239595   \n",
       "1682 -0.024334  0.035029 -0.021030 -0.044648 -0.001210 -0.015981  0.010287   \n",
       "\n",
       "             7         8         9  \n",
       "0     0.696544  0.719922 -0.605217  \n",
       "1     0.531678  0.525230 -0.557184  \n",
       "2     0.490135  0.552294 -0.495271  \n",
       "3     0.627444  0.541740 -0.642895  \n",
       "4     0.501307  0.565452 -0.531864  \n",
       "...        ...       ...       ...  \n",
       "1678  0.190887  0.197764 -0.199332  \n",
       "1679  0.018022 -0.027739 -0.025066  \n",
       "1680  0.206732  0.184930 -0.146350  \n",
       "1681  0.180062  0.158522 -0.201743  \n",
       "1682  0.014949  0.040074 -0.010308  \n",
       "\n",
       "[1683 rows x 10 columns]"
      ],
      "text/html": "<div>\n<style scoped>\n    .dataframe tbody tr th:only-of-type {\n        vertical-align: middle;\n    }\n\n    .dataframe tbody tr th {\n        vertical-align: top;\n    }\n\n    .dataframe thead th {\n        text-align: right;\n    }\n</style>\n<table border=\"1\" class=\"dataframe\">\n  <thead>\n    <tr style=\"text-align: right;\">\n      <th></th>\n      <th>0</th>\n      <th>1</th>\n      <th>2</th>\n      <th>3</th>\n      <th>4</th>\n      <th>5</th>\n      <th>6</th>\n      <th>7</th>\n      <th>8</th>\n      <th>9</th>\n    </tr>\n  </thead>\n  <tbody>\n    <tr>\n      <th>0</th>\n      <td>-0.661850</td>\n      <td>0.688298</td>\n      <td>0.550016</td>\n      <td>0.642208</td>\n      <td>0.622743</td>\n      <td>-0.592722</td>\n      <td>0.653979</td>\n      <td>0.696544</td>\n      <td>0.719922</td>\n      <td>-0.605217</td>\n    </tr>\n    <tr>\n      <th>1</th>\n      <td>-0.571590</td>\n      <td>0.529897</td>\n      <td>0.549336</td>\n      <td>0.616262</td>\n      <td>0.468416</td>\n      <td>-0.499984</td>\n      <td>0.550699</td>\n      <td>0.531678</td>\n      <td>0.525230</td>\n      <td>-0.557184</td>\n    </tr>\n    <tr>\n      <th>2</th>\n      <td>-0.543155</td>\n      <td>0.581949</td>\n      <td>0.519830</td>\n      <td>0.579575</td>\n      <td>0.441633</td>\n      <td>-0.544025</td>\n      <td>0.466679</td>\n      <td>0.490135</td>\n      <td>0.552294</td>\n      <td>-0.495271</td>\n    </tr>\n    <tr>\n      <th>3</th>\n      <td>-0.601527</td>\n      <td>0.657107</td>\n      <td>0.546533</td>\n      <td>0.571101</td>\n      <td>0.529397</td>\n      <td>-0.608924</td>\n      <td>0.578836</td>\n      <td>0.627444</td>\n      <td>0.541740</td>\n      <td>-0.642895</td>\n    </tr>\n    <tr>\n      <th>4</th>\n      <td>-0.533683</td>\n      <td>0.526648</td>\n      <td>0.521911</td>\n      <td>0.531141</td>\n      <td>0.501947</td>\n      <td>-0.506489</td>\n      <td>0.503056</td>\n      <td>0.501307</td>\n      <td>0.565452</td>\n      <td>-0.531864</td>\n    </tr>\n    <tr>\n      <th>...</th>\n      <td>...</td>\n      <td>...</td>\n      <td>...</td>\n      <td>...</td>\n      <td>...</td>\n      <td>...</td>\n      <td>...</td>\n      <td>...</td>\n      <td>...</td>\n      <td>...</td>\n    </tr>\n    <tr>\n      <th>1678</th>\n      <td>-0.163874</td>\n      <td>0.196463</td>\n      <td>0.215077</td>\n      <td>0.178183</td>\n      <td>0.190934</td>\n      <td>-0.216903</td>\n      <td>0.257807</td>\n      <td>0.190887</td>\n      <td>0.197764</td>\n      <td>-0.199332</td>\n    </tr>\n    <tr>\n      <th>1679</th>\n      <td>0.021100</td>\n      <td>-0.042232</td>\n      <td>0.009979</td>\n      <td>-0.014002</td>\n      <td>-0.018506</td>\n      <td>0.007691</td>\n      <td>-0.004137</td>\n      <td>0.018022</td>\n      <td>-0.027739</td>\n      <td>-0.025066</td>\n    </tr>\n    <tr>\n      <th>1680</th>\n      <td>-0.133251</td>\n      <td>0.250786</td>\n      <td>0.218874</td>\n      <td>0.207853</td>\n      <td>0.132789</td>\n      <td>-0.213222</td>\n      <td>0.208867</td>\n      <td>0.206732</td>\n      <td>0.184930</td>\n      <td>-0.146350</td>\n    </tr>\n    <tr>\n      <th>1681</th>\n      <td>-0.197618</td>\n      <td>0.166497</td>\n      <td>0.221582</td>\n      <td>0.174180</td>\n      <td>0.241146</td>\n      <td>-0.215717</td>\n      <td>0.239595</td>\n      <td>0.180062</td>\n      <td>0.158522</td>\n      <td>-0.201743</td>\n    </tr>\n    <tr>\n      <th>1682</th>\n      <td>-0.024334</td>\n      <td>0.035029</td>\n      <td>-0.021030</td>\n      <td>-0.044648</td>\n      <td>-0.001210</td>\n      <td>-0.015981</td>\n      <td>0.010287</td>\n      <td>0.014949</td>\n      <td>0.040074</td>\n      <td>-0.010308</td>\n    </tr>\n  </tbody>\n</table>\n<p>1683 rows × 10 columns</p>\n</div>"
     },
     "metadata": {},
     "execution_count": 13
    }
   ],
   "source": [
    "# movie embedding\n",
    "movie_embedding_learnt = model.get_layer(name='movie_embedding').get_weights()[0]\n",
    "pd.DataFrame(movie_embedding_learnt)"
   ]
  },
  {
   "cell_type": "code",
   "execution_count": 15,
   "metadata": {},
   "outputs": [
    {
     "output_type": "execute_result",
     "data": {
      "text/plain": [
       "            0         1         2         3         4         5         6  \\\n",
       "0   -0.611711  0.627048  0.634624  0.694858  0.609620 -0.568166  0.687920   \n",
       "1   -0.645251  0.647043  0.603852  0.639371  0.619357 -0.673145  0.641348   \n",
       "2   -0.499354  0.556897  0.475371  0.533103  0.507037 -0.443643  0.564400   \n",
       "3   -0.786618  0.788381  0.801090  0.702667  0.653803 -0.678501  0.720598   \n",
       "4   -0.521394  0.564132  0.575713  0.543320  0.499622 -0.469502  0.524230   \n",
       "..        ...       ...       ...       ...       ...       ...       ...   \n",
       "939 -0.538166  0.535893  0.577541  0.563556  0.543194 -0.572764  0.550633   \n",
       "940 -0.698238  0.683848  0.662898  0.655037  0.593002 -0.653667  0.649121   \n",
       "941 -0.725941  0.625746  0.752207  0.660016  0.670338 -0.641197  0.732943   \n",
       "942 -0.563412  0.635222  0.601045  0.571778  0.573065 -0.582629  0.585062   \n",
       "943  0.042019  0.031346  0.031590  0.040500 -0.025162  0.003383  0.018243   \n",
       "\n",
       "            7         8         9  \n",
       "0    0.567563  0.649526 -0.665944  \n",
       "1    0.649831  0.697425 -0.627263  \n",
       "2    0.557719  0.452940 -0.545915  \n",
       "3    0.734149  0.821822 -0.711246  \n",
       "4    0.520249  0.531506 -0.571056  \n",
       "..        ...       ...       ...  \n",
       "939  0.577170  0.567067 -0.596351  \n",
       "940  0.586364  0.667670 -0.629653  \n",
       "941  0.647906  0.660022 -0.657259  \n",
       "942  0.631040  0.665515 -0.610530  \n",
       "943  0.024592 -0.037163 -0.023650  \n",
       "\n",
       "[944 rows x 10 columns]"
      ],
      "text/html": "<div>\n<style scoped>\n    .dataframe tbody tr th:only-of-type {\n        vertical-align: middle;\n    }\n\n    .dataframe tbody tr th {\n        vertical-align: top;\n    }\n\n    .dataframe thead th {\n        text-align: right;\n    }\n</style>\n<table border=\"1\" class=\"dataframe\">\n  <thead>\n    <tr style=\"text-align: right;\">\n      <th></th>\n      <th>0</th>\n      <th>1</th>\n      <th>2</th>\n      <th>3</th>\n      <th>4</th>\n      <th>5</th>\n      <th>6</th>\n      <th>7</th>\n      <th>8</th>\n      <th>9</th>\n    </tr>\n  </thead>\n  <tbody>\n    <tr>\n      <th>0</th>\n      <td>-0.611711</td>\n      <td>0.627048</td>\n      <td>0.634624</td>\n      <td>0.694858</td>\n      <td>0.609620</td>\n      <td>-0.568166</td>\n      <td>0.687920</td>\n      <td>0.567563</td>\n      <td>0.649526</td>\n      <td>-0.665944</td>\n    </tr>\n    <tr>\n      <th>1</th>\n      <td>-0.645251</td>\n      <td>0.647043</td>\n      <td>0.603852</td>\n      <td>0.639371</td>\n      <td>0.619357</td>\n      <td>-0.673145</td>\n      <td>0.641348</td>\n      <td>0.649831</td>\n      <td>0.697425</td>\n      <td>-0.627263</td>\n    </tr>\n    <tr>\n      <th>2</th>\n      <td>-0.499354</td>\n      <td>0.556897</td>\n      <td>0.475371</td>\n      <td>0.533103</td>\n      <td>0.507037</td>\n      <td>-0.443643</td>\n      <td>0.564400</td>\n      <td>0.557719</td>\n      <td>0.452940</td>\n      <td>-0.545915</td>\n    </tr>\n    <tr>\n      <th>3</th>\n      <td>-0.786618</td>\n      <td>0.788381</td>\n      <td>0.801090</td>\n      <td>0.702667</td>\n      <td>0.653803</td>\n      <td>-0.678501</td>\n      <td>0.720598</td>\n      <td>0.734149</td>\n      <td>0.821822</td>\n      <td>-0.711246</td>\n    </tr>\n    <tr>\n      <th>4</th>\n      <td>-0.521394</td>\n      <td>0.564132</td>\n      <td>0.575713</td>\n      <td>0.543320</td>\n      <td>0.499622</td>\n      <td>-0.469502</td>\n      <td>0.524230</td>\n      <td>0.520249</td>\n      <td>0.531506</td>\n      <td>-0.571056</td>\n    </tr>\n    <tr>\n      <th>...</th>\n      <td>...</td>\n      <td>...</td>\n      <td>...</td>\n      <td>...</td>\n      <td>...</td>\n      <td>...</td>\n      <td>...</td>\n      <td>...</td>\n      <td>...</td>\n      <td>...</td>\n    </tr>\n    <tr>\n      <th>939</th>\n      <td>-0.538166</td>\n      <td>0.535893</td>\n      <td>0.577541</td>\n      <td>0.563556</td>\n      <td>0.543194</td>\n      <td>-0.572764</td>\n      <td>0.550633</td>\n      <td>0.577170</td>\n      <td>0.567067</td>\n      <td>-0.596351</td>\n    </tr>\n    <tr>\n      <th>940</th>\n      <td>-0.698238</td>\n      <td>0.683848</td>\n      <td>0.662898</td>\n      <td>0.655037</td>\n      <td>0.593002</td>\n      <td>-0.653667</td>\n      <td>0.649121</td>\n      <td>0.586364</td>\n      <td>0.667670</td>\n      <td>-0.629653</td>\n    </tr>\n    <tr>\n      <th>941</th>\n      <td>-0.725941</td>\n      <td>0.625746</td>\n      <td>0.752207</td>\n      <td>0.660016</td>\n      <td>0.670338</td>\n      <td>-0.641197</td>\n      <td>0.732943</td>\n      <td>0.647906</td>\n      <td>0.660022</td>\n      <td>-0.657259</td>\n    </tr>\n    <tr>\n      <th>942</th>\n      <td>-0.563412</td>\n      <td>0.635222</td>\n      <td>0.601045</td>\n      <td>0.571778</td>\n      <td>0.573065</td>\n      <td>-0.582629</td>\n      <td>0.585062</td>\n      <td>0.631040</td>\n      <td>0.665515</td>\n      <td>-0.610530</td>\n    </tr>\n    <tr>\n      <th>943</th>\n      <td>0.042019</td>\n      <td>0.031346</td>\n      <td>0.031590</td>\n      <td>0.040500</td>\n      <td>-0.025162</td>\n      <td>0.003383</td>\n      <td>0.018243</td>\n      <td>0.024592</td>\n      <td>-0.037163</td>\n      <td>-0.023650</td>\n    </tr>\n  </tbody>\n</table>\n<p>944 rows × 10 columns</p>\n</div>"
     },
     "metadata": {},
     "execution_count": 15
    }
   ],
   "source": [
    "# user embedding\n",
    "user_embedding_learnt = model.get_layer(name='user_embedding').get_weights()[0]\n",
    "pd.DataFrame(user_embedding_learnt)"
   ]
  },
  {
   "source": [
    "### Predict top-k and rating"
   ],
   "cell_type": "markdown",
   "metadata": {}
  },
  {
   "cell_type": "code",
   "execution_count": 16,
   "metadata": {},
   "outputs": [],
   "source": [
    "\n",
    "# migliori raccomandazione per un utente user_id\n",
    "def recommend(user_id, number_of_movies=5):\n",
    "    # prodotto tra la matrice user_embedding e la trasposta di movie_embedding, si ottengono i rating per l'utente user_id\n",
    "    movies = user_embedding_learnt[user_id].dot(movie_embedding_learnt.T)\n",
    "\n",
    "    # l'output di argpartition contiene la posizione che avrebbe un rating se fosse in una lista ordinata, prendendo i primi\n",
    "    # n valori si ottengono gli id dei migliori film per l'utente.\n",
    "    # movies_id può essere usato per trovare il rating nella lista dei film\n",
    "    mids = np.argpartition(movies, -number_of_movies)[-number_of_movies:]\n",
    "    return mids\n",
    "\n",
    "# ritorna un df dei valori reali e predetti per un utente\n",
    "def predict(user_id):\n",
    "    df_actual_rating = test[(test['user_id'] == user_id)]\n",
    "    predicted_rating_list = user_embedding_learnt[user_id].dot(movie_embedding_learnt.T)\n",
    "    predicted_dict = {k:[] for k in ['item_id', 'actual_rating', 'pred_rating']}\n",
    "    \n",
    "    for index, row in df_actual_rating.iterrows():\n",
    "        movie_id = row['item_id']\n",
    "        actual_rating = row['rating']\n",
    "        predicted_rating = predicted_rating_list[movie_id]\n",
    "\n",
    "        predicted_dict['item_id'].append(movie_id)\n",
    "        predicted_dict['actual_rating'].append(actual_rating)\n",
    "        predicted_dict['pred_rating'].append(predicted_rating)\n",
    "    \n",
    "    df = pd.DataFrame(predicted_dict)\n",
    "\n",
    "    return df\n"
   ]
  },
  {
   "cell_type": "code",
   "execution_count": 17,
   "metadata": {
    "tags": []
   },
   "outputs": [
    {
     "output_type": "execute_result",
     "data": {
      "text/plain": [
       "array([479, 602, 133, 317, 113,  63, 177, 168, 482, 407])"
      ]
     },
     "metadata": {},
     "execution_count": 17
    }
   ],
   "source": [
    "user = 377\n",
    "movie = 800\n",
    "n_movie_recommended = 10\n",
    "recommended_id = recommend(user, n_movie_recommended)\n",
    "recommended_id # lista film consigliati\n"
   ]
  },
  {
   "cell_type": "code",
   "execution_count": 18,
   "metadata": {},
   "outputs": [
    {
     "output_type": "execute_result",
     "data": {
      "text/plain": [
       "    item_id  actual_rating  pred_rating\n",
       "0       215              4     3.798611\n",
       "1         4              3     3.085093\n",
       "2       507              4     3.531724\n",
       "3       297              3     3.620838\n",
       "4       755              3     2.827781\n",
       "5       325              3     3.310058\n",
       "6       192              4     3.872886\n",
       "7       722              3     3.099267\n",
       "8       662              3     3.873980\n",
       "9      1036              2     1.803223\n",
       "10      442              4     3.717878\n",
       "11     1424              2     2.484297\n",
       "12      178              2     3.822721\n",
       "13      874              3     2.513067\n",
       "14        0              4     3.800866\n",
       "15      802              3     2.466922\n",
       "16      166              4     2.912079\n",
       "17      120              4     3.269934\n",
       "18      244              3     3.012409\n",
       "19      172              5     3.998209"
      ],
      "text/html": "<div>\n<style scoped>\n    .dataframe tbody tr th:only-of-type {\n        vertical-align: middle;\n    }\n\n    .dataframe tbody tr th {\n        vertical-align: top;\n    }\n\n    .dataframe thead th {\n        text-align: right;\n    }\n</style>\n<table border=\"1\" class=\"dataframe\">\n  <thead>\n    <tr style=\"text-align: right;\">\n      <th></th>\n      <th>item_id</th>\n      <th>actual_rating</th>\n      <th>pred_rating</th>\n    </tr>\n  </thead>\n  <tbody>\n    <tr>\n      <th>0</th>\n      <td>215</td>\n      <td>4</td>\n      <td>3.798611</td>\n    </tr>\n    <tr>\n      <th>1</th>\n      <td>4</td>\n      <td>3</td>\n      <td>3.085093</td>\n    </tr>\n    <tr>\n      <th>2</th>\n      <td>507</td>\n      <td>4</td>\n      <td>3.531724</td>\n    </tr>\n    <tr>\n      <th>3</th>\n      <td>297</td>\n      <td>3</td>\n      <td>3.620838</td>\n    </tr>\n    <tr>\n      <th>4</th>\n      <td>755</td>\n      <td>3</td>\n      <td>2.827781</td>\n    </tr>\n    <tr>\n      <th>5</th>\n      <td>325</td>\n      <td>3</td>\n      <td>3.310058</td>\n    </tr>\n    <tr>\n      <th>6</th>\n      <td>192</td>\n      <td>4</td>\n      <td>3.872886</td>\n    </tr>\n    <tr>\n      <th>7</th>\n      <td>722</td>\n      <td>3</td>\n      <td>3.099267</td>\n    </tr>\n    <tr>\n      <th>8</th>\n      <td>662</td>\n      <td>3</td>\n      <td>3.873980</td>\n    </tr>\n    <tr>\n      <th>9</th>\n      <td>1036</td>\n      <td>2</td>\n      <td>1.803223</td>\n    </tr>\n    <tr>\n      <th>10</th>\n      <td>442</td>\n      <td>4</td>\n      <td>3.717878</td>\n    </tr>\n    <tr>\n      <th>11</th>\n      <td>1424</td>\n      <td>2</td>\n      <td>2.484297</td>\n    </tr>\n    <tr>\n      <th>12</th>\n      <td>178</td>\n      <td>2</td>\n      <td>3.822721</td>\n    </tr>\n    <tr>\n      <th>13</th>\n      <td>874</td>\n      <td>3</td>\n      <td>2.513067</td>\n    </tr>\n    <tr>\n      <th>14</th>\n      <td>0</td>\n      <td>4</td>\n      <td>3.800866</td>\n    </tr>\n    <tr>\n      <th>15</th>\n      <td>802</td>\n      <td>3</td>\n      <td>2.466922</td>\n    </tr>\n    <tr>\n      <th>16</th>\n      <td>166</td>\n      <td>4</td>\n      <td>2.912079</td>\n    </tr>\n    <tr>\n      <th>17</th>\n      <td>120</td>\n      <td>4</td>\n      <td>3.269934</td>\n    </tr>\n    <tr>\n      <th>18</th>\n      <td>244</td>\n      <td>3</td>\n      <td>3.012409</td>\n    </tr>\n    <tr>\n      <th>19</th>\n      <td>172</td>\n      <td>5</td>\n      <td>3.998209</td>\n    </tr>\n  </tbody>\n</table>\n</div>"
     },
     "metadata": {},
     "execution_count": 18
    }
   ],
   "source": [
    "predict(user).head(20) # df che contiene rating reali e rating predetti"
   ]
  },
  {
   "cell_type": "code",
   "execution_count": 19,
   "metadata": {
    "tags": []
   },
   "outputs": [
    {
     "output_type": "execute_result",
     "data": {
      "text/plain": [
       "'rating for movie 113: 4.331613540649414'"
      ]
     },
     "metadata": {},
     "execution_count": 19
    }
   ],
   "source": [
    "# come trovare rating di un film\n",
    "movies = user_embedding_learnt[user].dot(movie_embedding_learnt.T)\n",
    "f\"rating for movie {recommended_id[4]}: {movies[recommended_id[4]]}\""
   ]
  },
  {
   "cell_type": "code",
   "execution_count": 20,
   "metadata": {},
   "outputs": [],
   "source": [
    "# movie lookup dataframe\n",
    "movie_lookup = pd.read_csv(\"ml-100k/u-utf8.item\", sep='|', names=\"movie_id,movie_title\".split(\",\"), usecols=[0,1])\n",
    "movie_lookup.movie_id = movie_lookup.movie_id.astype('category').cat.codes.values # indici da 0 invece che 1"
   ]
  },
  {
   "cell_type": "code",
   "execution_count": 21,
   "metadata": {},
   "outputs": [
    {
     "output_type": "execute_result",
     "data": {
      "text/plain": [
       "      movie_id                                movie_title\n",
       "0            0                           Toy Story (1995)\n",
       "1            1                           GoldenEye (1995)\n",
       "2            2                          Four Rooms (1995)\n",
       "3            3                          Get Shorty (1995)\n",
       "4            4                             Copycat (1995)\n",
       "...        ...                                        ...\n",
       "1677      1677                          Mat' i syn (1997)\n",
       "1678      1678                           B. Monkey (1998)\n",
       "1679      1679                       Sliding Doors (1998)\n",
       "1680      1680                        You So Crazy (1994)\n",
       "1681      1681  Scream of Stone (Schrei aus Stein) (1991)\n",
       "\n",
       "[1682 rows x 2 columns]"
      ],
      "text/html": "<div>\n<style scoped>\n    .dataframe tbody tr th:only-of-type {\n        vertical-align: middle;\n    }\n\n    .dataframe tbody tr th {\n        vertical-align: top;\n    }\n\n    .dataframe thead th {\n        text-align: right;\n    }\n</style>\n<table border=\"1\" class=\"dataframe\">\n  <thead>\n    <tr style=\"text-align: right;\">\n      <th></th>\n      <th>movie_id</th>\n      <th>movie_title</th>\n    </tr>\n  </thead>\n  <tbody>\n    <tr>\n      <th>0</th>\n      <td>0</td>\n      <td>Toy Story (1995)</td>\n    </tr>\n    <tr>\n      <th>1</th>\n      <td>1</td>\n      <td>GoldenEye (1995)</td>\n    </tr>\n    <tr>\n      <th>2</th>\n      <td>2</td>\n      <td>Four Rooms (1995)</td>\n    </tr>\n    <tr>\n      <th>3</th>\n      <td>3</td>\n      <td>Get Shorty (1995)</td>\n    </tr>\n    <tr>\n      <th>4</th>\n      <td>4</td>\n      <td>Copycat (1995)</td>\n    </tr>\n    <tr>\n      <th>...</th>\n      <td>...</td>\n      <td>...</td>\n    </tr>\n    <tr>\n      <th>1677</th>\n      <td>1677</td>\n      <td>Mat' i syn (1997)</td>\n    </tr>\n    <tr>\n      <th>1678</th>\n      <td>1678</td>\n      <td>B. Monkey (1998)</td>\n    </tr>\n    <tr>\n      <th>1679</th>\n      <td>1679</td>\n      <td>Sliding Doors (1998)</td>\n    </tr>\n    <tr>\n      <th>1680</th>\n      <td>1680</td>\n      <td>You So Crazy (1994)</td>\n    </tr>\n    <tr>\n      <th>1681</th>\n      <td>1681</td>\n      <td>Scream of Stone (Schrei aus Stein) (1991)</td>\n    </tr>\n  </tbody>\n</table>\n<p>1682 rows × 2 columns</p>\n</div>"
     },
     "metadata": {},
     "execution_count": 21
    }
   ],
   "source": [
    "movie_lookup"
   ]
  },
  {
   "cell_type": "code",
   "execution_count": 22,
   "metadata": {},
   "outputs": [
    {
     "output_type": "execute_result",
     "data": {
      "text/plain": [
       "     movie_id                                        movie_title\n",
       "63         63                   Shawshank Redemption, The (1994)\n",
       "113       113  Wallace & Gromit: The Best of Aardman Animatio...\n",
       "133       133                                Citizen Kane (1941)\n",
       "168       168                         Wrong Trousers, The (1993)\n",
       "177       177                                12 Angry Men (1957)\n",
       "317       317                            Schindler's List (1993)\n",
       "407       407                              Close Shave, A (1995)\n",
       "479       479                          North by Northwest (1959)\n",
       "482       482                                  Casablanca (1942)\n",
       "602       602                                 Rear Window (1954)"
      ],
      "text/html": "<div>\n<style scoped>\n    .dataframe tbody tr th:only-of-type {\n        vertical-align: middle;\n    }\n\n    .dataframe tbody tr th {\n        vertical-align: top;\n    }\n\n    .dataframe thead th {\n        text-align: right;\n    }\n</style>\n<table border=\"1\" class=\"dataframe\">\n  <thead>\n    <tr style=\"text-align: right;\">\n      <th></th>\n      <th>movie_id</th>\n      <th>movie_title</th>\n    </tr>\n  </thead>\n  <tbody>\n    <tr>\n      <th>63</th>\n      <td>63</td>\n      <td>Shawshank Redemption, The (1994)</td>\n    </tr>\n    <tr>\n      <th>113</th>\n      <td>113</td>\n      <td>Wallace &amp; Gromit: The Best of Aardman Animatio...</td>\n    </tr>\n    <tr>\n      <th>133</th>\n      <td>133</td>\n      <td>Citizen Kane (1941)</td>\n    </tr>\n    <tr>\n      <th>168</th>\n      <td>168</td>\n      <td>Wrong Trousers, The (1993)</td>\n    </tr>\n    <tr>\n      <th>177</th>\n      <td>177</td>\n      <td>12 Angry Men (1957)</td>\n    </tr>\n    <tr>\n      <th>317</th>\n      <td>317</td>\n      <td>Schindler's List (1993)</td>\n    </tr>\n    <tr>\n      <th>407</th>\n      <td>407</td>\n      <td>Close Shave, A (1995)</td>\n    </tr>\n    <tr>\n      <th>479</th>\n      <td>479</td>\n      <td>North by Northwest (1959)</td>\n    </tr>\n    <tr>\n      <th>482</th>\n      <td>482</td>\n      <td>Casablanca (1942)</td>\n    </tr>\n    <tr>\n      <th>602</th>\n      <td>602</td>\n      <td>Rear Window (1954)</td>\n    </tr>\n  </tbody>\n</table>\n</div>"
     },
     "metadata": {},
     "execution_count": 22
    }
   ],
   "source": [
    "# converte da id a nomi di film\n",
    "recommended = movie_lookup[movie_lookup['movie_id'].isin(recommended_id)]\n",
    "recommended"
   ]
  },
  {
   "source": [
    "## MLP"
   ],
   "cell_type": "markdown",
   "metadata": {}
  },
  {
   "cell_type": "code",
   "execution_count": 23,
   "metadata": {},
   "outputs": [],
   "source": [
    "movie_input = keras.layers.Input(shape=[1],name='item')\n",
    "\n",
    "# Movie embedding\n",
    "movie_embedding_mlp = keras.layers.Embedding(n_movies + 1, n_latent_factors, name='movies_embedding')(movie_input)\n",
    "movie_vec_mlp = keras.layers.Flatten(name='flatten_movies')(movie_embedding_mlp)\n",
    "\n",
    "# User embedding\n",
    "user_input = keras.layers.Input(shape=[1],name='user')\n",
    "user_vec_mlp = keras.layers.Flatten(name='flatten_users')(keras.layers.Embedding(n_users + 1, n_latent_factors,name='users_embedding')(user_input))\n",
    "\n",
    "# Concat embedding utenti e film\n",
    "concat = tf.keras.layers.Concatenate(name='users_movies')([movie_vec_mlp, user_vec_mlp])\n",
    "\n",
    "# layers densi\n",
    "dense = keras.layers.Dense(20,name='fully_connected_1')(concat)\n",
    "dense_2 = keras.layers.Dense(10,name='fully_connected_2')(dense)\n",
    "\n",
    "# Output\n",
    "pred_mlp = keras.layers.Dense(1, activation='relu',name='Activation')(dense_2)\n",
    "\n",
    "# crea e compila il modello\n",
    "mlp = keras.Model([user_input, movie_input], pred_mlp)\n",
    "mlp.compile(optimizer='adam',loss= 'mean_absolute_error', metrics=['mae', 'mse'])"
   ]
  },
  {
   "cell_type": "code",
   "execution_count": 24,
   "metadata": {},
   "outputs": [
    {
     "output_type": "stream",
     "name": "stdout",
     "text": [
      "Model: \"model_1\"\n__________________________________________________________________________________________________\nLayer (type)                    Output Shape         Param #     Connected to                     \n==================================================================================================\nitem (InputLayer)               [(None, 1)]          0                                            \n__________________________________________________________________________________________________\nuser (InputLayer)               [(None, 1)]          0                                            \n__________________________________________________________________________________________________\nmovies_embedding (Embedding)    (None, 1, 10)        16830       item[0][0]                       \n__________________________________________________________________________________________________\nusers_embedding (Embedding)     (None, 1, 10)        9440        user[0][0]                       \n__________________________________________________________________________________________________\nflatten_movies (Flatten)        (None, 10)           0           movies_embedding[0][0]           \n__________________________________________________________________________________________________\nflatten_users (Flatten)         (None, 10)           0           users_embedding[0][0]            \n__________________________________________________________________________________________________\nusers_movies (Concatenate)      (None, 20)           0           flatten_movies[0][0]             \n                                                                 flatten_users[0][0]              \n__________________________________________________________________________________________________\nfully_connected_1 (Dense)       (None, 20)           420         users_movies[0][0]               \n__________________________________________________________________________________________________\nfully_connected_2 (Dense)       (None, 10)           210         fully_connected_1[0][0]          \n__________________________________________________________________________________________________\nActivation (Dense)              (None, 1)            11          fully_connected_2[0][0]          \n==================================================================================================\nTotal params: 26,911\nTrainable params: 26,911\nNon-trainable params: 0\n__________________________________________________________________________________________________\n"
     ]
    },
    {
     "output_type": "execute_result",
     "data": {
      "image/png": "[encoded data removed]",
      "text/plain": [
       "<IPython.core.display.Image object>"
      ]
     },
     "metadata": {},
     "execution_count": 24
    }
   ],
   "source": [
    "mlp.summary()\n",
    "tf.keras.utils.plot_model(mlp)"
   ]
  },
  {
   "cell_type": "code",
   "execution_count": 29,
   "metadata": {},
   "outputs": [
    {
     "output_type": "stream",
     "name": "stdout",
     "text": [
      "Epoch 1/30\n",
      "625/625 [==============================] - 3s 6ms/step - loss: 0.7197 - mae: 0.7197 - mse: 0.8821\n",
      "Epoch 2/30\n",
      "625/625 [==============================] - 3s 5ms/step - loss: 0.7189 - mae: 0.7189 - mse: 0.8812\n",
      "Epoch 3/30\n",
      "625/625 [==============================] - 3s 5ms/step - loss: 0.7186 - mae: 0.7186 - mse: 0.8815\n",
      "Epoch 4/30\n",
      "625/625 [==============================] - 3s 4ms/step - loss: 0.7183 - mae: 0.7183 - mse: 0.8811\n",
      "Epoch 5/30\n",
      "625/625 [==============================] - 3s 4ms/step - loss: 0.7174 - mae: 0.7174 - mse: 0.8803\n",
      "Epoch 6/30\n",
      "625/625 [==============================] - 3s 4ms/step - loss: 0.7178 - mae: 0.7178 - mse: 0.8809\n",
      "Epoch 7/30\n",
      "625/625 [==============================] - 2s 4ms/step - loss: 0.7167 - mae: 0.7167 - mse: 0.8801\n",
      "Epoch 8/30\n",
      "625/625 [==============================] - 3s 4ms/step - loss: 0.7168 - mae: 0.7168 - mse: 0.8809\n",
      "Epoch 9/30\n",
      "625/625 [==============================] - 3s 4ms/step - loss: 0.7156 - mae: 0.7156 - mse: 0.8791\n",
      "Epoch 10/30\n",
      "625/625 [==============================] - 3s 4ms/step - loss: 0.7160 - mae: 0.7160 - mse: 0.8811\n",
      "Epoch 11/30\n",
      "625/625 [==============================] - 3s 4ms/step - loss: 0.7157 - mae: 0.7157 - mse: 0.8813\n",
      "Epoch 12/30\n",
      "625/625 [==============================] - 3s 4ms/step - loss: 0.7154 - mae: 0.7154 - mse: 0.8807\n",
      "Epoch 13/30\n",
      "625/625 [==============================] - 2s 4ms/step - loss: 0.7152 - mae: 0.7152 - mse: 0.8795\n",
      "Epoch 14/30\n",
      "625/625 [==============================] - 3s 5ms/step - loss: 0.7145 - mae: 0.7145 - mse: 0.8796\n",
      "Epoch 15/30\n",
      "625/625 [==============================] - 3s 4ms/step - loss: 0.7142 - mae: 0.7142 - mse: 0.8805\n",
      "Epoch 16/30\n",
      "625/625 [==============================] - 3s 4ms/step - loss: 0.7140 - mae: 0.7140 - mse: 0.8809\n",
      "Epoch 17/30\n",
      "625/625 [==============================] - 3s 5ms/step - loss: 0.7142 - mae: 0.7142 - mse: 0.8813\n",
      "Epoch 18/30\n",
      "625/625 [==============================] - 3s 4ms/step - loss: 0.7139 - mae: 0.7139 - mse: 0.8807\n",
      "Epoch 19/30\n",
      "625/625 [==============================] - 2s 4ms/step - loss: 0.7139 - mae: 0.7139 - mse: 0.8801\n",
      "Epoch 20/30\n",
      "625/625 [==============================] - 3s 5ms/step - loss: 0.7138 - mae: 0.7138 - mse: 0.8814\n",
      "Epoch 21/30\n",
      "625/625 [==============================] - 3s 5ms/step - loss: 0.7132 - mae: 0.7132 - mse: 0.8802\n",
      "Epoch 22/30\n",
      "625/625 [==============================] - 3s 5ms/step - loss: 0.7132 - mae: 0.7132 - mse: 0.8803\n",
      "Epoch 23/30\n",
      "625/625 [==============================] - 3s 4ms/step - loss: 0.7128 - mae: 0.7128 - mse: 0.8804\n",
      "Epoch 24/30\n",
      "625/625 [==============================] - 3s 5ms/step - loss: 0.7129 - mae: 0.7129 - mse: 0.8809\n",
      "Epoch 25/30\n",
      "625/625 [==============================] - 3s 5ms/step - loss: 0.7128 - mae: 0.7128 - mse: 0.8805\n",
      "Epoch 26/30\n",
      "625/625 [==============================] - 2s 4ms/step - loss: 0.7127 - mae: 0.7127 - mse: 0.8819\n",
      "Epoch 27/30\n",
      "625/625 [==============================] - 2s 4ms/step - loss: 0.7126 - mae: 0.7126 - mse: 0.8804\n",
      "Epoch 28/30\n",
      "625/625 [==============================] - 2s 4ms/step - loss: 0.7121 - mae: 0.7121 - mse: 0.8796\n",
      "Epoch 29/30\n",
      "625/625 [==============================] - 2s 4ms/step - loss: 0.7118 - mae: 0.7118 - mse: 0.8807\n",
      "Epoch 30/30\n",
      "625/625 [==============================] - 2s 4ms/step - loss: 0.7125 - mae: 0.7125 - mse: 0.8809\n"
     ]
    }
   ],
   "source": [
    "history = mlp.fit([train.user_id, train.item_id], train.rating, epochs = 30, batch_size = 128, verbose = 1)"
   ]
  },
  {
   "cell_type": "code",
   "execution_count": 30,
   "metadata": {},
   "outputs": [
    {
     "output_type": "stream",
     "name": "stdout",
     "text": [
      "20000/20000 [==============================] - 42s 2ms/step - loss: 0.7473 - mae: 0.7473 - mse: 0.9495\n"
     ]
    }
   ],
   "source": [
    " results_mlp = mlp.evaluate((test.user_id, test.item_id), test.rating, batch_size=1)"
   ]
  },
  {
   "cell_type": "code",
   "execution_count": 31,
   "metadata": {},
   "outputs": [],
   "source": [
    "# predizioni sul test set per un MLP\n",
    "def predict_mlp():\n",
    "    predicted_dict = {k:[] for k in ['user_id', 'item_id', 'actual_rating', 'pred_rating']}\n",
    "    mlp_predicted = mlp.predict([test.user_id, test.item_id])\n",
    "    test2 = test.reset_index(drop=True)\n",
    "\n",
    "    for idx, row in test2.iterrows():\n",
    "        predicted_dict['user_id'].append(row['user_id'])\n",
    "        predicted_dict['item_id'].append(row['item_id'])\n",
    "        predicted_dict['actual_rating'].append(row['rating'])\n",
    "        predicted_dict['pred_rating'].append(mlp_predicted[idx][0])\n",
    "        \n",
    "    df = pd.DataFrame(predicted_dict)\n",
    "    return df"
   ]
  },
  {
   "cell_type": "code",
   "execution_count": 32,
   "metadata": {
    "tags": []
   },
   "outputs": [
    {
     "output_type": "execute_result",
     "data": {
      "text/plain": [
       "       user_id  item_id  actual_rating  pred_rating\n",
       "0           56        0              5     4.083109\n",
       "1           42      271              5     4.469436\n",
       "2          497       99              3     3.654265\n",
       "3          454      123              4     4.127738\n",
       "4          285      401              3     3.776524\n",
       "...        ...      ...            ...          ...\n",
       "19995      374      233              5     3.926463\n",
       "19996      527      257              4     4.006219\n",
       "19997      343      117              3     3.094669\n",
       "19998      850      982              2     2.616165\n",
       "19999       43      426              3     4.313823\n",
       "\n",
       "[20000 rows x 4 columns]"
      ],
      "text/html": "<div>\n<style scoped>\n    .dataframe tbody tr th:only-of-type {\n        vertical-align: middle;\n    }\n\n    .dataframe tbody tr th {\n        vertical-align: top;\n    }\n\n    .dataframe thead th {\n        text-align: right;\n    }\n</style>\n<table border=\"1\" class=\"dataframe\">\n  <thead>\n    <tr style=\"text-align: right;\">\n      <th></th>\n      <th>user_id</th>\n      <th>item_id</th>\n      <th>actual_rating</th>\n      <th>pred_rating</th>\n    </tr>\n  </thead>\n  <tbody>\n    <tr>\n      <th>0</th>\n      <td>56</td>\n      <td>0</td>\n      <td>5</td>\n      <td>4.083109</td>\n    </tr>\n    <tr>\n      <th>1</th>\n      <td>42</td>\n      <td>271</td>\n      <td>5</td>\n      <td>4.469436</td>\n    </tr>\n    <tr>\n      <th>2</th>\n      <td>497</td>\n      <td>99</td>\n      <td>3</td>\n      <td>3.654265</td>\n    </tr>\n    <tr>\n      <th>3</th>\n      <td>454</td>\n      <td>123</td>\n      <td>4</td>\n      <td>4.127738</td>\n    </tr>\n    <tr>\n      <th>4</th>\n      <td>285</td>\n      <td>401</td>\n      <td>3</td>\n      <td>3.776524</td>\n    </tr>\n    <tr>\n      <th>...</th>\n      <td>...</td>\n      <td>...</td>\n      <td>...</td>\n      <td>...</td>\n    </tr>\n    <tr>\n      <th>19995</th>\n      <td>374</td>\n      <td>233</td>\n      <td>5</td>\n      <td>3.926463</td>\n    </tr>\n    <tr>\n      <th>19996</th>\n      <td>527</td>\n      <td>257</td>\n      <td>4</td>\n      <td>4.006219</td>\n    </tr>\n    <tr>\n      <th>19997</th>\n      <td>343</td>\n      <td>117</td>\n      <td>3</td>\n      <td>3.094669</td>\n    </tr>\n    <tr>\n      <th>19998</th>\n      <td>850</td>\n      <td>982</td>\n      <td>2</td>\n      <td>2.616165</td>\n    </tr>\n    <tr>\n      <th>19999</th>\n      <td>43</td>\n      <td>426</td>\n      <td>3</td>\n      <td>4.313823</td>\n    </tr>\n  </tbody>\n</table>\n<p>20000 rows × 4 columns</p>\n</div>"
     },
     "metadata": {},
     "execution_count": 32
    }
   ],
   "source": [
    "predict_mlp()"
   ]
  },
  {
   "cell_type": "code",
   "execution_count": null,
   "metadata": {},
   "outputs": [],
   "source": []
  }
 ]
}