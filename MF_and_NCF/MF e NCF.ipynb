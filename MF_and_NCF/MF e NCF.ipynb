{
 "metadata": {
  "language_info": {
   "codemirror_mode": {
    "name": "ipython",
    "version": 3
   },
   "file_extension": ".py",
   "mimetype": "text/x-python",
   "name": "python",
   "nbconvert_exporter": "python",
   "pygments_lexer": "ipython3",
   "version": "3.8.3-final"
  },
  "orig_nbformat": 2,
  "kernelspec": {
   "name": "python3",
   "display_name": "Python 3"
  }
 },
 "nbformat": 4,
 "nbformat_minor": 2,
 "cells": [
  {
   "source": [
    "# Movie recommender system\n",
    "1. matrix factorization\n",
    "2. multilayer perceptron\n",
    "\n",
    "**dataset:** ml-100k"
   ],
   "cell_type": "markdown",
   "metadata": {}
  },
  {
   "cell_type": "code",
   "execution_count": 1,
   "metadata": {},
   "outputs": [],
   "source": [
    "from sklearn.datasets import dump_svmlight_file\n",
    "import numpy as np\n",
    "import pandas as pd\n",
    "import os\n",
    "import urllib\n",
    "import zipfile\n",
    "from sklearn.model_selection import train_test_split\n",
    "import shutil\n",
    " \n",
    "import matplotlib.pyplot as plt\n",
    "import warnings\n",
    "warnings.filterwarnings('ignore')\n",
    " \n",
    "%matplotlib inline\n",
    "\n",
    "import tensorflow as tf\n",
    "from tensorflow import keras\n",
    "from keras.optimizers import Adam"
   ]
  },
  {
   "source": [
    "## Load dataset"
   ],
   "cell_type": "markdown",
   "metadata": {}
  },
  {
   "cell_type": "code",
   "execution_count": 2,
   "metadata": {},
   "outputs": [
    {
     "output_type": "stream",
     "name": "stdout",
     "text": [
      "Number of users: 943      Number of movies: 1682\n"
     ]
    }
   ],
   "source": [
    "# legge il dataset\n",
    "dataset = pd.read_csv(\"ml-100k/u.data\", sep='\\t', names=\"user_id,item_id,rating,timestamp\".split(\",\"))\n",
    "\n",
    "# fa partire gli indici da 0 invece che da 1\n",
    "dataset.user_id = dataset.user_id.astype('category').cat.codes.values\n",
    "dataset.item_id = dataset.item_id.astype('category').cat.codes.values\n",
    "\n",
    "train, test = train_test_split(dataset, test_size=0.2)\n",
    "\n",
    "# conta il numero di film e utenti unici\n",
    "n_users, n_movies = len(dataset.user_id.unique()), len(dataset.item_id.unique())\n",
    "n_latent_factors = 5\n",
    "print(f'Number of users: {n_users}      Number of movies: {n_movies}')"
   ]
  },
  {
   "cell_type": "code",
   "execution_count": 3,
   "metadata": {},
   "outputs": [],
   "source": [
    "# vettore latente film\n",
    "movie_input = keras.layers.Input(shape=(1,), name='item')\n",
    "movie_embedding = keras.layers.Embedding(n_movies + 1, n_latent_factors, name='movie_embedding')(movie_input)\n",
    "movie_vec = keras.layers.Flatten(name='flatten_movie')(movie_embedding)\n",
    "\n",
    "# vettore latente film\n",
    "user_input = keras.layers.Input(shape=(1,),name='User')\n",
    "user_vec = keras.layers.Flatten(name='flatten_user')(keras.layers.Embedding(n_users + 1, n_latent_factors,name='user_embedding')(user_input))\n",
    "\n",
    "# prodotto scalare\n",
    "prod = keras.layers.dot([movie_vec, user_vec], axes=1,name='dot_product')\n",
    "model = keras.Model([user_input, movie_input], prod)"
   ]
  },
  {
   "cell_type": "code",
   "execution_count": 4,
   "metadata": {},
   "outputs": [],
   "source": [
    "# compila il modello monitorando mean absolute error (MAE) e mean squared error (MSE)\n",
    "model.compile(optimizer='adam', loss='mean_squared_error', metrics=['mae', 'mse'])"
   ]
  },
  {
   "cell_type": "code",
   "execution_count": 5,
   "metadata": {},
   "outputs": [
    {
     "output_type": "stream",
     "name": "stdout",
     "text": [
      "Model: \"model\"\n__________________________________________________________________________________________________\nLayer (type)                    Output Shape         Param #     Connected to                     \n==================================================================================================\nitem (InputLayer)               [(None, 1)]          0                                            \n__________________________________________________________________________________________________\nUser (InputLayer)               [(None, 1)]          0                                            \n__________________________________________________________________________________________________\nmovie_embedding (Embedding)     (None, 1, 5)         8415        item[0][0]                       \n__________________________________________________________________________________________________\nuser_embedding (Embedding)      (None, 1, 5)         4720        User[0][0]                       \n__________________________________________________________________________________________________\nflatten_movie (Flatten)         (None, 5)            0           movie_embedding[0][0]            \n__________________________________________________________________________________________________\nflatten_user (Flatten)          (None, 5)            0           user_embedding[0][0]             \n__________________________________________________________________________________________________\ndot_product (Dot)               (None, 1)            0           flatten_movie[0][0]              \n                                                                 flatten_user[0][0]               \n==================================================================================================\nTotal params: 13,135\nTrainable params: 13,135\nNon-trainable params: 0\n__________________________________________________________________________________________________\n"
     ]
    }
   ],
   "source": [
    "model.summary()"
   ]
  },
  {
   "cell_type": "code",
   "execution_count": 9,
   "metadata": {},
   "outputs": [
    {
     "output_type": "execute_result",
     "data": {
      "image/png": "[encoded data removed]",
      "text/plain": [
       "<IPython.core.display.Image object>"
      ]
     },
     "metadata": {},
     "execution_count": 9
    }
   ],
   "source": [
    "tf.keras.utils.plot_model(model)"
   ]
  },
  {
   "cell_type": "code",
   "execution_count": 10,
   "metadata": {
    "tags": [
     "outputPrepend"
    ]
   },
   "outputs": [
    {
     "output_type": "stream",
     "name": "stdout",
     "text": [
      "625/625 [==============================] - 1s 2ms/step - loss: 0.8552 - mae: 0.7294 - mse: 0.8552\n",
      "Epoch 23/200\n",
      "625/625 [==============================] - 2s 2ms/step - loss: 0.8540 - mae: 0.7287 - mse: 0.8540\n",
      "Epoch 24/200\n",
      "625/625 [==============================] - 2s 3ms/step - loss: 0.8526 - mae: 0.7281 - mse: 0.8526\n",
      "Epoch 25/200\n",
      "625/625 [==============================] - 2s 3ms/step - loss: 0.8517 - mae: 0.7280 - mse: 0.8517\n",
      "Epoch 26/200\n",
      "625/625 [==============================] - 2s 2ms/step - loss: 0.8505 - mae: 0.7277 - mse: 0.8505\n",
      "Epoch 27/200\n",
      "625/625 [==============================] - 2s 3ms/step - loss: 0.8497 - mae: 0.7271 - mse: 0.8497\n",
      "Epoch 28/200\n",
      "625/625 [==============================] - 2s 3ms/step - loss: 0.8485 - mae: 0.7267 - mse: 0.8485\n",
      "Epoch 29/200\n",
      "625/625 [==============================] - 4s 6ms/step - loss: 0.8474 - mae: 0.7259 - mse: 0.8474\n",
      "Epoch 30/200\n",
      "625/625 [==============================] - 6s 10ms/step - loss: 0.8464 - mae: 0.7256 - mse: 0.8464\n",
      "Epoch 31/200\n",
      "625/625 [==============================] - 6s 10ms/step - loss: 0.8450 - mae: 0.7251 - mse: 0.8450\n",
      "Epoch 32/200\n",
      "625/625 [==============================] - 6s 9ms/step - loss: 0.8439 - mae: 0.7248 - mse: 0.8439\n",
      "Epoch 33/200\n",
      "625/625 [==============================] - 5s 8ms/step - loss: 0.8427 - mae: 0.7237 - mse: 0.8427\n",
      "Epoch 34/200\n",
      "625/625 [==============================] - 4s 7ms/step - loss: 0.8413 - mae: 0.7236 - mse: 0.8413\n",
      "Epoch 35/200\n",
      "625/625 [==============================] - 6s 9ms/step - loss: 0.8396 - mae: 0.7227 - mse: 0.8396\n",
      "Epoch 36/200\n",
      "625/625 [==============================] - 5s 8ms/step - loss: 0.8381 - mae: 0.7219 - mse: 0.8381\n",
      "Epoch 37/200\n",
      "625/625 [==============================] - 5s 8ms/step - loss: 0.8362 - mae: 0.7212 - mse: 0.8362\n",
      "Epoch 38/200\n",
      "625/625 [==============================] - 5s 9ms/step - loss: 0.8343 - mae: 0.7205 - mse: 0.8343\n",
      "Epoch 39/200\n",
      "625/625 [==============================] - 3s 6ms/step - loss: 0.8325 - mae: 0.7192 - mse: 0.8325\n",
      "Epoch 40/200\n",
      "625/625 [==============================] - 1s 2ms/step - loss: 0.8300 - mae: 0.7185 - mse: 0.8300\n",
      "Epoch 41/200\n",
      "625/625 [==============================] - 1s 2ms/step - loss: 0.8277 - mae: 0.7168 - mse: 0.8277\n",
      "Epoch 42/200\n",
      "625/625 [==============================] - 1s 2ms/step - loss: 0.8251 - mae: 0.7161 - mse: 0.8251\n",
      "Epoch 43/200\n",
      "625/625 [==============================] - 1s 2ms/step - loss: 0.8222 - mae: 0.7143 - mse: 0.8222\n",
      "Epoch 44/200\n",
      "625/625 [==============================] - 1s 2ms/step - loss: 0.8192 - mae: 0.7131 - mse: 0.8192\n",
      "Epoch 45/200\n",
      "625/625 [==============================] - 1s 2ms/step - loss: 0.8159 - mae: 0.7119 - mse: 0.8159\n",
      "Epoch 46/200\n",
      "625/625 [==============================] - 2s 3ms/step - loss: 0.8124 - mae: 0.7101 - mse: 0.8124\n",
      "Epoch 47/200\n",
      "625/625 [==============================] - 1s 2ms/step - loss: 0.8087 - mae: 0.7084 - mse: 0.8087\n",
      "Epoch 48/200\n",
      "625/625 [==============================] - 2s 3ms/step - loss: 0.8050 - mae: 0.7063 - mse: 0.8050\n",
      "Epoch 49/200\n",
      "625/625 [==============================] - 1s 2ms/step - loss: 0.8009 - mae: 0.7048 - mse: 0.8009\n",
      "Epoch 50/200\n",
      "625/625 [==============================] - 1s 2ms/step - loss: 0.7967 - mae: 0.7027 - mse: 0.7967\n",
      "Epoch 51/200\n",
      "625/625 [==============================] - 1s 2ms/step - loss: 0.7926 - mae: 0.7005 - mse: 0.7926\n",
      "Epoch 52/200\n",
      "625/625 [==============================] - 1s 2ms/step - loss: 0.7880 - mae: 0.6985 - mse: 0.7880\n",
      "Epoch 53/200\n",
      "625/625 [==============================] - 1s 2ms/step - loss: 0.7838 - mae: 0.6966 - mse: 0.7838\n",
      "Epoch 54/200\n",
      "625/625 [==============================] - 1s 2ms/step - loss: 0.7791 - mae: 0.6939 - mse: 0.7791\n",
      "Epoch 55/200\n",
      "625/625 [==============================] - 2s 3ms/step - loss: 0.7745 - mae: 0.6919 - mse: 0.7745\n",
      "Epoch 56/200\n",
      "625/625 [==============================] - 1s 2ms/step - loss: 0.7698 - mae: 0.6899 - mse: 0.7698\n",
      "Epoch 57/200\n",
      "625/625 [==============================] - 1s 2ms/step - loss: 0.7655 - mae: 0.6874 - mse: 0.7655\n",
      "Epoch 58/200\n",
      "625/625 [==============================] - 2s 3ms/step - loss: 0.7610 - mae: 0.6855 - mse: 0.7610\n",
      "Epoch 59/200\n",
      "625/625 [==============================] - 2s 3ms/step - loss: 0.7568 - mae: 0.6835 - mse: 0.7568\n",
      "Epoch 60/200\n",
      "625/625 [==============================] - 1s 2ms/step - loss: 0.7523 - mae: 0.6813 - mse: 0.7523\n",
      "Epoch 61/200\n",
      "625/625 [==============================] - 1s 2ms/step - loss: 0.7481 - mae: 0.6791 - mse: 0.7481\n",
      "Epoch 62/200\n",
      "625/625 [==============================] - 1s 2ms/step - loss: 0.7440 - mae: 0.6771 - mse: 0.7440\n",
      "Epoch 63/200\n",
      "625/625 [==============================] - 1s 2ms/step - loss: 0.7402 - mae: 0.6753 - mse: 0.7402\n",
      "Epoch 64/200\n",
      "625/625 [==============================] - 1s 2ms/step - loss: 0.7365 - mae: 0.6732 - mse: 0.7365\n",
      "Epoch 65/200\n",
      "625/625 [==============================] - 1s 2ms/step - loss: 0.7328 - mae: 0.6719 - mse: 0.7328\n",
      "Epoch 66/200\n",
      "625/625 [==============================] - 1s 2ms/step - loss: 0.7293 - mae: 0.6696 - mse: 0.7293\n",
      "Epoch 67/200\n",
      "625/625 [==============================] - 1s 2ms/step - loss: 0.7259 - mae: 0.6682 - mse: 0.7259\n",
      "Epoch 68/200\n",
      "625/625 [==============================] - 1s 2ms/step - loss: 0.7224 - mae: 0.6665 - mse: 0.7224\n",
      "Epoch 69/200\n",
      "625/625 [==============================] - 1s 2ms/step - loss: 0.7194 - mae: 0.6651 - mse: 0.7194\n",
      "Epoch 70/200\n",
      "625/625 [==============================] - 1s 2ms/step - loss: 0.7163 - mae: 0.6634 - mse: 0.7163\n",
      "Epoch 71/200\n",
      "625/625 [==============================] - 1s 2ms/step - loss: 0.7135 - mae: 0.6619 - mse: 0.7135\n",
      "Epoch 72/200\n",
      "625/625 [==============================] - 1s 2ms/step - loss: 0.7106 - mae: 0.6606 - mse: 0.7106\n",
      "Epoch 73/200\n",
      "625/625 [==============================] - 1s 2ms/step - loss: 0.7080 - mae: 0.6593 - mse: 0.7080\n",
      "Epoch 74/200\n",
      "625/625 [==============================] - 1s 2ms/step - loss: 0.7053 - mae: 0.6578 - mse: 0.7053\n",
      "Epoch 75/200\n",
      "625/625 [==============================] - 1s 2ms/step - loss: 0.7028 - mae: 0.6568 - mse: 0.7028\n",
      "Epoch 76/200\n",
      "625/625 [==============================] - 1s 2ms/step - loss: 0.7004 - mae: 0.6555 - mse: 0.7004\n",
      "Epoch 77/200\n",
      "625/625 [==============================] - 1s 2ms/step - loss: 0.6981 - mae: 0.6542 - mse: 0.6981\n",
      "Epoch 78/200\n",
      "625/625 [==============================] - 1s 2ms/step - loss: 0.6959 - mae: 0.6533 - mse: 0.6959\n",
      "Epoch 79/200\n",
      "625/625 [==============================] - 1s 2ms/step - loss: 0.6936 - mae: 0.6521 - mse: 0.6936\n",
      "Epoch 80/200\n",
      "625/625 [==============================] - 1s 2ms/step - loss: 0.6916 - mae: 0.6512 - mse: 0.6916\n",
      "Epoch 81/200\n",
      "625/625 [==============================] - 1s 2ms/step - loss: 0.6898 - mae: 0.6500 - mse: 0.6898\n",
      "Epoch 82/200\n",
      "625/625 [==============================] - 1s 2ms/step - loss: 0.6877 - mae: 0.6491 - mse: 0.6877\n",
      "Epoch 83/200\n",
      "625/625 [==============================] - 1s 2ms/step - loss: 0.6859 - mae: 0.6481 - mse: 0.6859\n",
      "Epoch 84/200\n",
      "625/625 [==============================] - 1s 2ms/step - loss: 0.6843 - mae: 0.6474 - mse: 0.6843\n",
      "Epoch 85/200\n",
      "625/625 [==============================] - 1s 2ms/step - loss: 0.6823 - mae: 0.6463 - mse: 0.6823\n",
      "Epoch 86/200\n",
      "625/625 [==============================] - 1s 2ms/step - loss: 0.6809 - mae: 0.6454 - mse: 0.6809\n",
      "Epoch 87/200\n",
      "625/625 [==============================] - 1s 2ms/step - loss: 0.6793 - mae: 0.6449 - mse: 0.6793\n",
      "Epoch 88/200\n",
      "625/625 [==============================] - 1s 2ms/step - loss: 0.6778 - mae: 0.6438 - mse: 0.6778\n",
      "Epoch 89/200\n",
      "625/625 [==============================] - 1s 2ms/step - loss: 0.6763 - mae: 0.6432 - mse: 0.6763\n",
      "Epoch 90/200\n",
      "625/625 [==============================] - 1s 2ms/step - loss: 0.6748 - mae: 0.6426 - mse: 0.6748\n",
      "Epoch 91/200\n",
      "625/625 [==============================] - 1s 2ms/step - loss: 0.6734 - mae: 0.6417 - mse: 0.6734\n",
      "Epoch 92/200\n",
      "625/625 [==============================] - 1s 2ms/step - loss: 0.6721 - mae: 0.6408 - mse: 0.6721\n",
      "Epoch 93/200\n",
      "625/625 [==============================] - 1s 2ms/step - loss: 0.6705 - mae: 0.6401 - mse: 0.6705\n",
      "Epoch 94/200\n",
      "625/625 [==============================] - 1s 2ms/step - loss: 0.6695 - mae: 0.6396 - mse: 0.6695\n",
      "Epoch 95/200\n",
      "625/625 [==============================] - 1s 2ms/step - loss: 0.6683 - mae: 0.6390 - mse: 0.6683\n",
      "Epoch 96/200\n",
      "625/625 [==============================] - 1s 2ms/step - loss: 0.6672 - mae: 0.6386 - mse: 0.6672\n",
      "Epoch 97/200\n",
      "625/625 [==============================] - 1s 2ms/step - loss: 0.6659 - mae: 0.6378 - mse: 0.6659\n",
      "Epoch 98/200\n",
      "625/625 [==============================] - 1s 2ms/step - loss: 0.6649 - mae: 0.6371 - mse: 0.6649\n",
      "Epoch 99/200\n",
      "625/625 [==============================] - 1s 2ms/step - loss: 0.6639 - mae: 0.6369 - mse: 0.6639\n",
      "Epoch 100/200\n",
      "625/625 [==============================] - 1s 2ms/step - loss: 0.6627 - mae: 0.6362 - mse: 0.6627\n",
      "Epoch 101/200\n",
      "625/625 [==============================] - 1s 2ms/step - loss: 0.6618 - mae: 0.6356 - mse: 0.6618\n",
      "Epoch 102/200\n",
      "625/625 [==============================] - 1s 2ms/step - loss: 0.6608 - mae: 0.6350 - mse: 0.6608\n",
      "Epoch 103/200\n",
      "625/625 [==============================] - 1s 2ms/step - loss: 0.6600 - mae: 0.6348 - mse: 0.6600\n",
      "Epoch 104/200\n",
      "625/625 [==============================] - 1s 2ms/step - loss: 0.6590 - mae: 0.6341 - mse: 0.6590\n",
      "Epoch 105/200\n",
      "625/625 [==============================] - 1s 2ms/step - loss: 0.6582 - mae: 0.6337 - mse: 0.6582\n",
      "Epoch 106/200\n",
      "625/625 [==============================] - 1s 2ms/step - loss: 0.6571 - mae: 0.6332 - mse: 0.6571\n",
      "Epoch 107/200\n",
      "625/625 [==============================] - 1s 2ms/step - loss: 0.6564 - mae: 0.6327 - mse: 0.6564\n",
      "Epoch 108/200\n",
      "625/625 [==============================] - 1s 2ms/step - loss: 0.6555 - mae: 0.6325 - mse: 0.6555\n",
      "Epoch 109/200\n",
      "625/625 [==============================] - 1s 2ms/step - loss: 0.6548 - mae: 0.6317 - mse: 0.6548\n",
      "Epoch 110/200\n",
      "625/625 [==============================] - 1s 2ms/step - loss: 0.6540 - mae: 0.6317 - mse: 0.6540\n",
      "Epoch 111/200\n",
      "625/625 [==============================] - 1s 2ms/step - loss: 0.6534 - mae: 0.6310 - mse: 0.6534\n",
      "Epoch 112/200\n",
      "625/625 [==============================] - 1s 2ms/step - loss: 0.6525 - mae: 0.6307 - mse: 0.6525\n",
      "Epoch 113/200\n",
      "625/625 [==============================] - 1s 2ms/step - loss: 0.6517 - mae: 0.6303 - mse: 0.6517\n",
      "Epoch 114/200\n",
      "625/625 [==============================] - 1s 2ms/step - loss: 0.6512 - mae: 0.6301 - mse: 0.6512\n",
      "Epoch 115/200\n",
      "625/625 [==============================] - 1s 2ms/step - loss: 0.6504 - mae: 0.6292 - mse: 0.6504\n",
      "Epoch 116/200\n",
      "625/625 [==============================] - 1s 2ms/step - loss: 0.6498 - mae: 0.6292 - mse: 0.6498\n",
      "Epoch 117/200\n",
      "625/625 [==============================] - 1s 2ms/step - loss: 0.6489 - mae: 0.6288 - mse: 0.6489\n",
      "Epoch 118/200\n",
      "625/625 [==============================] - 1s 2ms/step - loss: 0.6487 - mae: 0.6285 - mse: 0.6487\n",
      "Epoch 119/200\n",
      "625/625 [==============================] - 1s 2ms/step - loss: 0.6478 - mae: 0.6282 - mse: 0.6478\n",
      "Epoch 120/200\n",
      "625/625 [==============================] - 1s 2ms/step - loss: 0.6473 - mae: 0.6278 - mse: 0.6473\n",
      "Epoch 121/200\n",
      "625/625 [==============================] - 3s 5ms/step - loss: 0.6467 - mae: 0.6276 - mse: 0.6467\n",
      "Epoch 122/200\n",
      "625/625 [==============================] - 6s 10ms/step - loss: 0.6461 - mae: 0.6273 - mse: 0.6461\n",
      "Epoch 123/200\n",
      "625/625 [==============================] - 7s 11ms/step - loss: 0.6456 - mae: 0.6272 - mse: 0.6456\n",
      "Epoch 124/200\n",
      "625/625 [==============================] - 7s 11ms/step - loss: 0.6450 - mae: 0.6267 - mse: 0.6450\n",
      "Epoch 125/200\n",
      "625/625 [==============================] - 7s 10ms/step - loss: 0.6445 - mae: 0.6265 - mse: 0.6445\n",
      "Epoch 126/200\n",
      "625/625 [==============================] - 7s 10ms/step - loss: 0.6441 - mae: 0.6260 - mse: 0.6441\n",
      "Epoch 127/200\n",
      "625/625 [==============================] - 6s 10ms/step - loss: 0.6434 - mae: 0.6259 - mse: 0.6434\n",
      "Epoch 128/200\n",
      "625/625 [==============================] - 6s 10ms/step - loss: 0.6429 - mae: 0.6253 - mse: 0.6429\n",
      "Epoch 129/200\n",
      "625/625 [==============================] - 6s 10ms/step - loss: 0.6424 - mae: 0.6252 - mse: 0.6424\n",
      "Epoch 130/200\n",
      "625/625 [==============================] - 7s 11ms/step - loss: 0.6420 - mae: 0.6250 - mse: 0.6420\n",
      "Epoch 131/200\n",
      "625/625 [==============================] - 7s 12ms/step - loss: 0.6416 - mae: 0.6246 - mse: 0.6416\n",
      "Epoch 132/200\n",
      "625/625 [==============================] - 7s 11ms/step - loss: 0.6410 - mae: 0.6245 - mse: 0.6410\n",
      "Epoch 133/200\n",
      "625/625 [==============================] - 7s 11ms/step - loss: 0.6408 - mae: 0.6243 - mse: 0.6408\n",
      "Epoch 134/200\n",
      "625/625 [==============================] - 7s 11ms/step - loss: 0.6401 - mae: 0.6239 - mse: 0.6401\n",
      "Epoch 135/200\n",
      "625/625 [==============================] - 9s 14ms/step - loss: 0.6398 - mae: 0.6237 - mse: 0.6398\n",
      "Epoch 136/200\n",
      "625/625 [==============================] - 8s 12ms/step - loss: 0.6393 - mae: 0.6236 - mse: 0.6393\n",
      "Epoch 137/200\n",
      "625/625 [==============================] - 7s 12ms/step - loss: 0.6390 - mae: 0.6233 - mse: 0.6390\n",
      "Epoch 138/200\n",
      "625/625 [==============================] - 7s 11ms/step - loss: 0.6386 - mae: 0.6230 - mse: 0.6386\n",
      "Epoch 139/200\n",
      "625/625 [==============================] - 7s 11ms/step - loss: 0.6381 - mae: 0.6226 - mse: 0.6381\n",
      "Epoch 140/200\n",
      "625/625 [==============================] - 6s 10ms/step - loss: 0.6378 - mae: 0.6225 - mse: 0.6378\n",
      "Epoch 141/200\n",
      "625/625 [==============================] - 7s 11ms/step - loss: 0.6376 - mae: 0.6226 - mse: 0.6376\n",
      "Epoch 142/200\n",
      "625/625 [==============================] - 7s 11ms/step - loss: 0.6370 - mae: 0.6222 - mse: 0.6370\n",
      "Epoch 143/200\n",
      "625/625 [==============================] - 7s 11ms/step - loss: 0.6366 - mae: 0.6220 - mse: 0.6366\n",
      "Epoch 144/200\n",
      "625/625 [==============================] - 7s 11ms/step - loss: 0.6362 - mae: 0.6220 - mse: 0.6362\n",
      "Epoch 145/200\n",
      "625/625 [==============================] - 6s 10ms/step - loss: 0.6359 - mae: 0.6215 - mse: 0.6359\n",
      "Epoch 146/200\n",
      "625/625 [==============================] - 6s 10ms/step - loss: 0.6356 - mae: 0.6214 - mse: 0.6356\n",
      "Epoch 147/200\n",
      "625/625 [==============================] - 6s 9ms/step - loss: 0.6352 - mae: 0.6211 - mse: 0.6352\n",
      "Epoch 148/200\n",
      "625/625 [==============================] - 6s 9ms/step - loss: 0.6349 - mae: 0.6210 - mse: 0.6349\n",
      "Epoch 149/200\n",
      "625/625 [==============================] - 6s 10ms/step - loss: 0.6345 - mae: 0.6208 - mse: 0.6345\n",
      "Epoch 150/200\n",
      "625/625 [==============================] - 5s 8ms/step - loss: 0.6342 - mae: 0.6206 - mse: 0.6342\n",
      "Epoch 151/200\n",
      "625/625 [==============================] - 6s 9ms/step - loss: 0.6339 - mae: 0.6205 - mse: 0.6339\n",
      "Epoch 152/200\n",
      "625/625 [==============================] - 5s 9ms/step - loss: 0.6337 - mae: 0.6205 - mse: 0.6337\n",
      "Epoch 153/200\n",
      "625/625 [==============================] - 5s 9ms/step - loss: 0.6332 - mae: 0.6201 - mse: 0.6332\n",
      "Epoch 154/200\n",
      "625/625 [==============================] - 6s 9ms/step - loss: 0.6330 - mae: 0.6199 - mse: 0.6330\n",
      "Epoch 155/200\n",
      "625/625 [==============================] - 5s 9ms/step - loss: 0.6328 - mae: 0.6200 - mse: 0.6328\n",
      "Epoch 156/200\n",
      "625/625 [==============================] - 6s 10ms/step - loss: 0.6324 - mae: 0.6197 - mse: 0.6324\n",
      "Epoch 157/200\n",
      "625/625 [==============================] - 6s 10ms/step - loss: 0.6320 - mae: 0.6192 - mse: 0.6320\n",
      "Epoch 158/200\n",
      "625/625 [==============================] - 7s 11ms/step - loss: 0.6318 - mae: 0.6194 - mse: 0.6318\n",
      "Epoch 159/200\n",
      "625/625 [==============================] - 8s 13ms/step - loss: 0.6315 - mae: 0.6193 - mse: 0.6315\n",
      "Epoch 160/200\n",
      "625/625 [==============================] - 8s 13ms/step - loss: 0.6312 - mae: 0.6191 - mse: 0.6312\n",
      "Epoch 161/200\n",
      "625/625 [==============================] - 10s 16ms/step - loss: 0.6311 - mae: 0.6191 - mse: 0.6311\n",
      "Epoch 162/200\n",
      "625/625 [==============================] - 7s 12ms/step - loss: 0.6307 - mae: 0.6189 - mse: 0.6307\n",
      "Epoch 163/200\n",
      "625/625 [==============================] - 7s 11ms/step - loss: 0.6305 - mae: 0.6183 - mse: 0.6305\n",
      "Epoch 164/200\n",
      "625/625 [==============================] - 7s 12ms/step - loss: 0.6301 - mae: 0.6182 - mse: 0.6301\n",
      "Epoch 165/200\n",
      "625/625 [==============================] - 8s 12ms/step - loss: 0.6300 - mae: 0.6185 - mse: 0.6300\n",
      "Epoch 166/200\n",
      "625/625 [==============================] - 7s 12ms/step - loss: 0.6297 - mae: 0.6181 - mse: 0.6297\n",
      "Epoch 167/200\n",
      "625/625 [==============================] - 9s 14ms/step - loss: 0.6294 - mae: 0.6180 - mse: 0.6294\n",
      "Epoch 168/200\n",
      "625/625 [==============================] - 7s 12ms/step - loss: 0.6290 - mae: 0.6176 - mse: 0.6290\n",
      "Epoch 169/200\n",
      "625/625 [==============================] - 6s 10ms/step - loss: 0.6290 - mae: 0.6178 - mse: 0.6290\n",
      "Epoch 170/200\n",
      "625/625 [==============================] - 1s 2ms/step - loss: 0.6286 - mae: 0.6175 - mse: 0.6286\n",
      "Epoch 171/200\n",
      "625/625 [==============================] - 5s 8ms/step - loss: 0.6285 - mae: 0.6174 - mse: 0.6285\n",
      "Epoch 172/200\n",
      "625/625 [==============================] - 5s 8ms/step - loss: 0.6282 - mae: 0.6173 - mse: 0.6282\n",
      "Epoch 173/200\n",
      "625/625 [==============================] - 5s 9ms/step - loss: 0.6279 - mae: 0.6173 - mse: 0.6279\n",
      "Epoch 174/200\n",
      "625/625 [==============================] - 5s 9ms/step - loss: 0.6279 - mae: 0.6171 - mse: 0.6279\n",
      "Epoch 175/200\n",
      "625/625 [==============================] - 5s 9ms/step - loss: 0.6275 - mae: 0.6169 - mse: 0.6275\n",
      "Epoch 176/200\n",
      "625/625 [==============================] - 6s 9ms/step - loss: 0.6273 - mae: 0.6168 - mse: 0.6273\n",
      "Epoch 177/200\n",
      "625/625 [==============================] - 4s 7ms/step - loss: 0.6272 - mae: 0.6167 - mse: 0.6272\n",
      "Epoch 178/200\n",
      "625/625 [==============================] - 5s 8ms/step - loss: 0.6268 - mae: 0.6165 - mse: 0.6268\n",
      "Epoch 179/200\n",
      "625/625 [==============================] - 5s 9ms/step - loss: 0.6266 - mae: 0.6165 - mse: 0.6266\n",
      "Epoch 180/200\n",
      "625/625 [==============================] - 5s 9ms/step - loss: 0.6265 - mae: 0.6164 - mse: 0.6265\n",
      "Epoch 181/200\n",
      "625/625 [==============================] - 5s 8ms/step - loss: 0.6261 - mae: 0.6160 - mse: 0.6261\n",
      "Epoch 182/200\n",
      "625/625 [==============================] - 5s 8ms/step - loss: 0.6261 - mae: 0.6163 - mse: 0.6261\n",
      "Epoch 183/200\n",
      "625/625 [==============================] - 5s 8ms/step - loss: 0.6259 - mae: 0.6159 - mse: 0.6259\n",
      "Epoch 184/200\n",
      "625/625 [==============================] - 5s 9ms/step - loss: 0.6257 - mae: 0.6159 - mse: 0.6257\n",
      "Epoch 185/200\n",
      "625/625 [==============================] - 5s 8ms/step - loss: 0.6254 - mae: 0.6156 - mse: 0.6254\n",
      "Epoch 186/200\n",
      "625/625 [==============================] - 5s 9ms/step - loss: 0.6253 - mae: 0.6156 - mse: 0.6253\n",
      "Epoch 187/200\n",
      "625/625 [==============================] - 5s 8ms/step - loss: 0.6251 - mae: 0.6156 - mse: 0.6251\n",
      "Epoch 188/200\n",
      "625/625 [==============================] - 5s 9ms/step - loss: 0.6249 - mae: 0.6156 - mse: 0.6249\n",
      "Epoch 189/200\n",
      "625/625 [==============================] - 5s 9ms/step - loss: 0.6246 - mae: 0.6152 - mse: 0.6246\n",
      "Epoch 190/200\n",
      "625/625 [==============================] - 5s 8ms/step - loss: 0.6246 - mae: 0.6153 - mse: 0.6246\n",
      "Epoch 191/200\n",
      "625/625 [==============================] - 5s 9ms/step - loss: 0.6244 - mae: 0.6150 - mse: 0.6244\n",
      "Epoch 192/200\n",
      "625/625 [==============================] - 5s 9ms/step - loss: 0.6242 - mae: 0.6150 - mse: 0.6242\n",
      "Epoch 193/200\n",
      "625/625 [==============================] - 6s 9ms/step - loss: 0.6240 - mae: 0.6150 - mse: 0.6240\n",
      "Epoch 194/200\n",
      "625/625 [==============================] - 5s 8ms/step - loss: 0.6238 - mae: 0.6149 - mse: 0.6238\n",
      "Epoch 195/200\n",
      "625/625 [==============================] - 5s 9ms/step - loss: 0.6236 - mae: 0.6147 - mse: 0.6236\n",
      "Epoch 196/200\n",
      "625/625 [==============================] - 5s 9ms/step - loss: 0.6234 - mae: 0.6144 - mse: 0.6234\n",
      "Epoch 197/200\n",
      "625/625 [==============================] - 5s 8ms/step - loss: 0.6235 - mae: 0.6146 - mse: 0.6235\n",
      "Epoch 198/200\n",
      "625/625 [==============================] - 5s 8ms/step - loss: 0.6231 - mae: 0.6146 - mse: 0.6231\n",
      "Epoch 199/200\n",
      "625/625 [==============================] - 5s 8ms/step - loss: 0.6231 - mae: 0.6142 - mse: 0.6231\n",
      "Epoch 200/200\n",
      "625/625 [==============================] - 5s 8ms/step - loss: 0.6227 - mae: 0.6143 - mse: 0.6227\n"
     ]
    }
   ],
   "source": [
    "# train del modello \n",
    "history = model.fit([train.user_id, train.item_id], train.rating, epochs=200, batch_size=128, verbose=1)"
   ]
  },
  {
   "cell_type": "code",
   "execution_count": 13,
   "metadata": {},
   "outputs": [
    {
     "output_type": "execute_result",
     "data": {
      "text/plain": [
       "Text(0, 0.5, 'Training Error')"
      ]
     },
     "metadata": {},
     "execution_count": 13
    },
    {
     "output_type": "display_data",
     "data": {
      "text/plain": "<Figure size 432x288 with 1 Axes>",
      "image/svg+xml": "<?xml version=\"1.0\" encoding=\"utf-8\" standalone=\"no\"?>\n<!DOCTYPE svg PUBLIC \"-//W3C//DTD SVG 1.1//EN\"\n  \"http://www.w3.org/Graphics/SVG/1.1/DTD/svg11.dtd\">\n<!-- Created with matplotlib (https://matplotlib.org/) -->\n<svg height=\"262.19625pt\" version=\"1.1\" viewBox=\"0 0 387.478125 262.19625\" width=\"387.478125pt\" xmlns=\"http://www.w3.org/2000/svg\" xmlns:xlink=\"http://www.w3.org/1999/xlink\">\n <defs>\n  <style type=\"text/css\">\n*{stroke-linecap:butt;stroke-linejoin:round;}\n  </style>\n </defs>\n <g id=\"figure_1\">\n  <g id=\"patch_1\">\n   <path d=\"M 0 262.19625 \nL 387.478125 262.19625 \nL 387.478125 0 \nL 0 0 \nz\n\" style=\"fill:none;\"/>\n  </g>\n  <g id=\"axes_1\">\n   <g id=\"patch_2\">\n    <path d=\"M 45.478125 224.64 \nL 380.278125 224.64 \nL 380.278125 7.2 \nL 45.478125 7.2 \nz\n\" style=\"fill:#ffffff;\"/>\n   </g>\n   <g id=\"matplotlib.axis_1\">\n    <g id=\"xtick_1\">\n     <g id=\"line2d_1\">\n      <defs>\n       <path d=\"M 0 0 \nL 0 3.5 \n\" id=\"m58617c9851\" style=\"stroke:#000000;stroke-width:0.8;\"/>\n      </defs>\n      <g>\n       <use style=\"stroke:#000000;stroke-width:0.8;\" x=\"60.696307\" xlink:href=\"#m58617c9851\" y=\"224.64\"/>\n      </g>\n     </g>\n     <g id=\"text_1\">\n      <!-- 0 -->\n      <defs>\n       <path d=\"M 31.78125 66.40625 \nQ 24.171875 66.40625 20.328125 58.90625 \nQ 16.5 51.421875 16.5 36.375 \nQ 16.5 21.390625 20.328125 13.890625 \nQ 24.171875 6.390625 31.78125 6.390625 \nQ 39.453125 6.390625 43.28125 13.890625 \nQ 47.125 21.390625 47.125 36.375 \nQ 47.125 51.421875 43.28125 58.90625 \nQ 39.453125 66.40625 31.78125 66.40625 \nz\nM 31.78125 74.21875 \nQ 44.046875 74.21875 50.515625 64.515625 \nQ 56.984375 54.828125 56.984375 36.375 \nQ 56.984375 17.96875 50.515625 8.265625 \nQ 44.046875 -1.421875 31.78125 -1.421875 \nQ 19.53125 -1.421875 13.0625 8.265625 \nQ 6.59375 17.96875 6.59375 36.375 \nQ 6.59375 54.828125 13.0625 64.515625 \nQ 19.53125 74.21875 31.78125 74.21875 \nz\n\" id=\"DejaVuSans-48\"/>\n      </defs>\n      <g transform=\"translate(57.515057 239.238437)scale(0.1 -0.1)\">\n       <use xlink:href=\"#DejaVuSans-48\"/>\n      </g>\n     </g>\n    </g>\n    <g id=\"xtick_2\">\n     <g id=\"line2d_2\">\n      <g>\n       <use style=\"stroke:#000000;stroke-width:0.8;\" x=\"98.932945\" xlink:href=\"#m58617c9851\" y=\"224.64\"/>\n      </g>\n     </g>\n     <g id=\"text_2\">\n      <!-- 25 -->\n      <defs>\n       <path d=\"M 19.1875 8.296875 \nL 53.609375 8.296875 \nL 53.609375 0 \nL 7.328125 0 \nL 7.328125 8.296875 \nQ 12.9375 14.109375 22.625 23.890625 \nQ 32.328125 33.6875 34.8125 36.53125 \nQ 39.546875 41.84375 41.421875 45.53125 \nQ 43.3125 49.21875 43.3125 52.78125 \nQ 43.3125 58.59375 39.234375 62.25 \nQ 35.15625 65.921875 28.609375 65.921875 \nQ 23.96875 65.921875 18.8125 64.3125 \nQ 13.671875 62.703125 7.8125 59.421875 \nL 7.8125 69.390625 \nQ 13.765625 71.78125 18.9375 73 \nQ 24.125 74.21875 28.421875 74.21875 \nQ 39.75 74.21875 46.484375 68.546875 \nQ 53.21875 62.890625 53.21875 53.421875 \nQ 53.21875 48.921875 51.53125 44.890625 \nQ 49.859375 40.875 45.40625 35.40625 \nQ 44.1875 33.984375 37.640625 27.21875 \nQ 31.109375 20.453125 19.1875 8.296875 \nz\n\" id=\"DejaVuSans-50\"/>\n       <path d=\"M 10.796875 72.90625 \nL 49.515625 72.90625 \nL 49.515625 64.59375 \nL 19.828125 64.59375 \nL 19.828125 46.734375 \nQ 21.96875 47.46875 24.109375 47.828125 \nQ 26.265625 48.1875 28.421875 48.1875 \nQ 40.625 48.1875 47.75 41.5 \nQ 54.890625 34.8125 54.890625 23.390625 \nQ 54.890625 11.625 47.5625 5.09375 \nQ 40.234375 -1.421875 26.90625 -1.421875 \nQ 22.3125 -1.421875 17.546875 -0.640625 \nQ 12.796875 0.140625 7.71875 1.703125 \nL 7.71875 11.625 \nQ 12.109375 9.234375 16.796875 8.0625 \nQ 21.484375 6.890625 26.703125 6.890625 \nQ 35.15625 6.890625 40.078125 11.328125 \nQ 45.015625 15.765625 45.015625 23.390625 \nQ 45.015625 31 40.078125 35.4375 \nQ 35.15625 39.890625 26.703125 39.890625 \nQ 22.75 39.890625 18.8125 39.015625 \nQ 14.890625 38.140625 10.796875 36.28125 \nz\n\" id=\"DejaVuSans-53\"/>\n      </defs>\n      <g transform=\"translate(92.570445 239.238437)scale(0.1 -0.1)\">\n       <use xlink:href=\"#DejaVuSans-50\"/>\n       <use x=\"63.623047\" xlink:href=\"#DejaVuSans-53\"/>\n      </g>\n     </g>\n    </g>\n    <g id=\"xtick_3\">\n     <g id=\"line2d_3\">\n      <g>\n       <use style=\"stroke:#000000;stroke-width:0.8;\" x=\"137.169582\" xlink:href=\"#m58617c9851\" y=\"224.64\"/>\n      </g>\n     </g>\n     <g id=\"text_3\">\n      <!-- 50 -->\n      <g transform=\"translate(130.807082 239.238437)scale(0.1 -0.1)\">\n       <use xlink:href=\"#DejaVuSans-53\"/>\n       <use x=\"63.623047\" xlink:href=\"#DejaVuSans-48\"/>\n      </g>\n     </g>\n    </g>\n    <g id=\"xtick_4\">\n     <g id=\"line2d_4\">\n      <g>\n       <use style=\"stroke:#000000;stroke-width:0.8;\" x=\"175.40622\" xlink:href=\"#m58617c9851\" y=\"224.64\"/>\n      </g>\n     </g>\n     <g id=\"text_4\">\n      <!-- 75 -->\n      <defs>\n       <path d=\"M 8.203125 72.90625 \nL 55.078125 72.90625 \nL 55.078125 68.703125 \nL 28.609375 0 \nL 18.3125 0 \nL 43.21875 64.59375 \nL 8.203125 64.59375 \nz\n\" id=\"DejaVuSans-55\"/>\n      </defs>\n      <g transform=\"translate(169.04372 239.238437)scale(0.1 -0.1)\">\n       <use xlink:href=\"#DejaVuSans-55\"/>\n       <use x=\"63.623047\" xlink:href=\"#DejaVuSans-53\"/>\n      </g>\n     </g>\n    </g>\n    <g id=\"xtick_5\">\n     <g id=\"line2d_5\">\n      <g>\n       <use style=\"stroke:#000000;stroke-width:0.8;\" x=\"213.642858\" xlink:href=\"#m58617c9851\" y=\"224.64\"/>\n      </g>\n     </g>\n     <g id=\"text_5\">\n      <!-- 100 -->\n      <defs>\n       <path d=\"M 12.40625 8.296875 \nL 28.515625 8.296875 \nL 28.515625 63.921875 \nL 10.984375 60.40625 \nL 10.984375 69.390625 \nL 28.421875 72.90625 \nL 38.28125 72.90625 \nL 38.28125 8.296875 \nL 54.390625 8.296875 \nL 54.390625 0 \nL 12.40625 0 \nz\n\" id=\"DejaVuSans-49\"/>\n      </defs>\n      <g transform=\"translate(204.099108 239.238437)scale(0.1 -0.1)\">\n       <use xlink:href=\"#DejaVuSans-49\"/>\n       <use x=\"63.623047\" xlink:href=\"#DejaVuSans-48\"/>\n       <use x=\"127.246094\" xlink:href=\"#DejaVuSans-48\"/>\n      </g>\n     </g>\n    </g>\n    <g id=\"xtick_6\">\n     <g id=\"line2d_6\">\n      <g>\n       <use style=\"stroke:#000000;stroke-width:0.8;\" x=\"251.879495\" xlink:href=\"#m58617c9851\" y=\"224.64\"/>\n      </g>\n     </g>\n     <g id=\"text_6\">\n      <!-- 125 -->\n      <g transform=\"translate(242.335745 239.238437)scale(0.1 -0.1)\">\n       <use xlink:href=\"#DejaVuSans-49\"/>\n       <use x=\"63.623047\" xlink:href=\"#DejaVuSans-50\"/>\n       <use x=\"127.246094\" xlink:href=\"#DejaVuSans-53\"/>\n      </g>\n     </g>\n    </g>\n    <g id=\"xtick_7\">\n     <g id=\"line2d_7\">\n      <g>\n       <use style=\"stroke:#000000;stroke-width:0.8;\" x=\"290.116133\" xlink:href=\"#m58617c9851\" y=\"224.64\"/>\n      </g>\n     </g>\n     <g id=\"text_7\">\n      <!-- 150 -->\n      <g transform=\"translate(280.572383 239.238437)scale(0.1 -0.1)\">\n       <use xlink:href=\"#DejaVuSans-49\"/>\n       <use x=\"63.623047\" xlink:href=\"#DejaVuSans-53\"/>\n       <use x=\"127.246094\" xlink:href=\"#DejaVuSans-48\"/>\n      </g>\n     </g>\n    </g>\n    <g id=\"xtick_8\">\n     <g id=\"line2d_8\">\n      <g>\n       <use style=\"stroke:#000000;stroke-width:0.8;\" x=\"328.352771\" xlink:href=\"#m58617c9851\" y=\"224.64\"/>\n      </g>\n     </g>\n     <g id=\"text_8\">\n      <!-- 175 -->\n      <g transform=\"translate(318.809021 239.238437)scale(0.1 -0.1)\">\n       <use xlink:href=\"#DejaVuSans-49\"/>\n       <use x=\"63.623047\" xlink:href=\"#DejaVuSans-55\"/>\n       <use x=\"127.246094\" xlink:href=\"#DejaVuSans-53\"/>\n      </g>\n     </g>\n    </g>\n    <g id=\"xtick_9\">\n     <g id=\"line2d_9\">\n      <g>\n       <use style=\"stroke:#000000;stroke-width:0.8;\" x=\"366.589409\" xlink:href=\"#m58617c9851\" y=\"224.64\"/>\n      </g>\n     </g>\n     <g id=\"text_9\">\n      <!-- 200 -->\n      <g transform=\"translate(357.045659 239.238437)scale(0.1 -0.1)\">\n       <use xlink:href=\"#DejaVuSans-50\"/>\n       <use x=\"63.623047\" xlink:href=\"#DejaVuSans-48\"/>\n       <use x=\"127.246094\" xlink:href=\"#DejaVuSans-48\"/>\n      </g>\n     </g>\n    </g>\n    <g id=\"text_10\">\n     <!-- Epoch -->\n     <defs>\n      <path d=\"M 9.8125 72.90625 \nL 55.90625 72.90625 \nL 55.90625 64.59375 \nL 19.671875 64.59375 \nL 19.671875 43.015625 \nL 54.390625 43.015625 \nL 54.390625 34.71875 \nL 19.671875 34.71875 \nL 19.671875 8.296875 \nL 56.78125 8.296875 \nL 56.78125 0 \nL 9.8125 0 \nz\n\" id=\"DejaVuSans-69\"/>\n      <path d=\"M 18.109375 8.203125 \nL 18.109375 -20.796875 \nL 9.078125 -20.796875 \nL 9.078125 54.6875 \nL 18.109375 54.6875 \nL 18.109375 46.390625 \nQ 20.953125 51.265625 25.265625 53.625 \nQ 29.59375 56 35.59375 56 \nQ 45.5625 56 51.78125 48.09375 \nQ 58.015625 40.1875 58.015625 27.296875 \nQ 58.015625 14.40625 51.78125 6.484375 \nQ 45.5625 -1.421875 35.59375 -1.421875 \nQ 29.59375 -1.421875 25.265625 0.953125 \nQ 20.953125 3.328125 18.109375 8.203125 \nz\nM 48.6875 27.296875 \nQ 48.6875 37.203125 44.609375 42.84375 \nQ 40.53125 48.484375 33.40625 48.484375 \nQ 26.265625 48.484375 22.1875 42.84375 \nQ 18.109375 37.203125 18.109375 27.296875 \nQ 18.109375 17.390625 22.1875 11.75 \nQ 26.265625 6.109375 33.40625 6.109375 \nQ 40.53125 6.109375 44.609375 11.75 \nQ 48.6875 17.390625 48.6875 27.296875 \nz\n\" id=\"DejaVuSans-112\"/>\n      <path d=\"M 30.609375 48.390625 \nQ 23.390625 48.390625 19.1875 42.75 \nQ 14.984375 37.109375 14.984375 27.296875 \nQ 14.984375 17.484375 19.15625 11.84375 \nQ 23.34375 6.203125 30.609375 6.203125 \nQ 37.796875 6.203125 41.984375 11.859375 \nQ 46.1875 17.53125 46.1875 27.296875 \nQ 46.1875 37.015625 41.984375 42.703125 \nQ 37.796875 48.390625 30.609375 48.390625 \nz\nM 30.609375 56 \nQ 42.328125 56 49.015625 48.375 \nQ 55.71875 40.765625 55.71875 27.296875 \nQ 55.71875 13.875 49.015625 6.21875 \nQ 42.328125 -1.421875 30.609375 -1.421875 \nQ 18.84375 -1.421875 12.171875 6.21875 \nQ 5.515625 13.875 5.515625 27.296875 \nQ 5.515625 40.765625 12.171875 48.375 \nQ 18.84375 56 30.609375 56 \nz\n\" id=\"DejaVuSans-111\"/>\n      <path d=\"M 48.78125 52.59375 \nL 48.78125 44.1875 \nQ 44.96875 46.296875 41.140625 47.34375 \nQ 37.3125 48.390625 33.40625 48.390625 \nQ 24.65625 48.390625 19.8125 42.84375 \nQ 14.984375 37.3125 14.984375 27.296875 \nQ 14.984375 17.28125 19.8125 11.734375 \nQ 24.65625 6.203125 33.40625 6.203125 \nQ 37.3125 6.203125 41.140625 7.25 \nQ 44.96875 8.296875 48.78125 10.40625 \nL 48.78125 2.09375 \nQ 45.015625 0.34375 40.984375 -0.53125 \nQ 36.96875 -1.421875 32.421875 -1.421875 \nQ 20.0625 -1.421875 12.78125 6.34375 \nQ 5.515625 14.109375 5.515625 27.296875 \nQ 5.515625 40.671875 12.859375 48.328125 \nQ 20.21875 56 33.015625 56 \nQ 37.15625 56 41.109375 55.140625 \nQ 45.0625 54.296875 48.78125 52.59375 \nz\n\" id=\"DejaVuSans-99\"/>\n      <path d=\"M 54.890625 33.015625 \nL 54.890625 0 \nL 45.90625 0 \nL 45.90625 32.71875 \nQ 45.90625 40.484375 42.875 44.328125 \nQ 39.84375 48.1875 33.796875 48.1875 \nQ 26.515625 48.1875 22.3125 43.546875 \nQ 18.109375 38.921875 18.109375 30.90625 \nL 18.109375 0 \nL 9.078125 0 \nL 9.078125 75.984375 \nL 18.109375 75.984375 \nL 18.109375 46.1875 \nQ 21.34375 51.125 25.703125 53.5625 \nQ 30.078125 56 35.796875 56 \nQ 45.21875 56 50.046875 50.171875 \nQ 54.890625 44.34375 54.890625 33.015625 \nz\n\" id=\"DejaVuSans-104\"/>\n     </defs>\n     <g transform=\"translate(197.567188 252.916562)scale(0.1 -0.1)\">\n      <use xlink:href=\"#DejaVuSans-69\"/>\n      <use x=\"63.183594\" xlink:href=\"#DejaVuSans-112\"/>\n      <use x=\"126.660156\" xlink:href=\"#DejaVuSans-111\"/>\n      <use x=\"187.841797\" xlink:href=\"#DejaVuSans-99\"/>\n      <use x=\"242.822266\" xlink:href=\"#DejaVuSans-104\"/>\n     </g>\n    </g>\n   </g>\n   <g id=\"matplotlib.axis_2\">\n    <g id=\"ytick_1\">\n     <g id=\"line2d_10\">\n      <defs>\n       <path d=\"M 0 0 \nL -3.5 0 \n\" id=\"m08caffafcb\" style=\"stroke:#000000;stroke-width:0.8;\"/>\n      </defs>\n      <g>\n       <use style=\"stroke:#000000;stroke-width:0.8;\" x=\"45.478125\" xlink:href=\"#m08caffafcb\" y=\"184.263842\"/>\n      </g>\n     </g>\n     <g id=\"text_11\">\n      <!-- $\\mathdefault{10^{0}}$ -->\n      <g transform=\"translate(20.878125 188.06306)scale(0.1 -0.1)\">\n       <use transform=\"translate(0 0.765625)\" xlink:href=\"#DejaVuSans-49\"/>\n       <use transform=\"translate(63.623047 0.765625)\" xlink:href=\"#DejaVuSans-48\"/>\n       <use transform=\"translate(128.203125 39.046875)scale(0.7)\" xlink:href=\"#DejaVuSans-48\"/>\n      </g>\n     </g>\n    </g>\n    <g id=\"ytick_2\">\n     <g id=\"line2d_11\">\n      <g>\n       <use style=\"stroke:#000000;stroke-width:0.8;\" x=\"45.478125\" xlink:href=\"#m08caffafcb\" y=\"36.056255\"/>\n      </g>\n     </g>\n     <g id=\"text_12\">\n      <!-- $\\mathdefault{10^{1}}$ -->\n      <g transform=\"translate(20.878125 39.855474)scale(0.1 -0.1)\">\n       <use transform=\"translate(0 0.684375)\" xlink:href=\"#DejaVuSans-49\"/>\n       <use transform=\"translate(63.623047 0.684375)\" xlink:href=\"#DejaVuSans-48\"/>\n       <use transform=\"translate(128.203125 38.965625)scale(0.7)\" xlink:href=\"#DejaVuSans-49\"/>\n      </g>\n     </g>\n    </g>\n    <g id=\"ytick_3\">\n     <g id=\"line2d_12\">\n      <defs>\n       <path d=\"M 0 0 \nL -2 0 \n\" id=\"m524acb436b\" style=\"stroke:#000000;stroke-width:0.6;\"/>\n      </defs>\n      <g>\n       <use style=\"stroke:#000000;stroke-width:0.6;\" x=\"45.478125\" xlink:href=\"#m524acb436b\" y=\"217.143509\"/>\n      </g>\n     </g>\n    </g>\n    <g id=\"ytick_4\">\n     <g id=\"line2d_13\">\n      <g>\n       <use style=\"stroke:#000000;stroke-width:0.6;\" x=\"45.478125\" xlink:href=\"#m524acb436b\" y=\"207.221487\"/>\n      </g>\n     </g>\n    </g>\n    <g id=\"ytick_5\">\n     <g id=\"line2d_14\">\n      <g>\n       <use style=\"stroke:#000000;stroke-width:0.6;\" x=\"45.478125\" xlink:href=\"#m524acb436b\" y=\"198.626641\"/>\n      </g>\n     </g>\n    </g>\n    <g id=\"ytick_6\">\n     <g id=\"line2d_15\">\n      <g>\n       <use style=\"stroke:#000000;stroke-width:0.6;\" x=\"45.478125\" xlink:href=\"#m524acb436b\" y=\"191.045449\"/>\n      </g>\n     </g>\n    </g>\n    <g id=\"ytick_7\">\n     <g id=\"line2d_16\">\n      <g>\n       <use style=\"stroke:#000000;stroke-width:0.6;\" x=\"45.478125\" xlink:href=\"#m524acb436b\" y=\"139.648912\"/>\n      </g>\n     </g>\n    </g>\n    <g id=\"ytick_8\">\n     <g id=\"line2d_17\">\n      <g>\n       <use style=\"stroke:#000000;stroke-width:0.6;\" x=\"45.478125\" xlink:href=\"#m524acb436b\" y=\"113.550852\"/>\n      </g>\n     </g>\n    </g>\n    <g id=\"ytick_9\">\n     <g id=\"line2d_18\">\n      <g>\n       <use style=\"stroke:#000000;stroke-width:0.6;\" x=\"45.478125\" xlink:href=\"#m524acb436b\" y=\"95.033983\"/>\n      </g>\n     </g>\n    </g>\n    <g id=\"ytick_10\">\n     <g id=\"line2d_19\">\n      <g>\n       <use style=\"stroke:#000000;stroke-width:0.6;\" x=\"45.478125\" xlink:href=\"#m524acb436b\" y=\"80.671184\"/>\n      </g>\n     </g>\n    </g>\n    <g id=\"ytick_11\">\n     <g id=\"line2d_20\">\n      <g>\n       <use style=\"stroke:#000000;stroke-width:0.6;\" x=\"45.478125\" xlink:href=\"#m524acb436b\" y=\"68.935923\"/>\n      </g>\n     </g>\n    </g>\n    <g id=\"ytick_12\">\n     <g id=\"line2d_21\">\n      <g>\n       <use style=\"stroke:#000000;stroke-width:0.6;\" x=\"45.478125\" xlink:href=\"#m524acb436b\" y=\"59.013901\"/>\n      </g>\n     </g>\n    </g>\n    <g id=\"ytick_13\">\n     <g id=\"line2d_22\">\n      <g>\n       <use style=\"stroke:#000000;stroke-width:0.6;\" x=\"45.478125\" xlink:href=\"#m524acb436b\" y=\"50.419054\"/>\n      </g>\n     </g>\n    </g>\n    <g id=\"ytick_14\">\n     <g id=\"line2d_23\">\n      <g>\n       <use style=\"stroke:#000000;stroke-width:0.6;\" x=\"45.478125\" xlink:href=\"#m524acb436b\" y=\"42.837862\"/>\n      </g>\n     </g>\n    </g>\n    <g id=\"text_13\">\n     <!-- Training Error -->\n     <defs>\n      <path d=\"M -0.296875 72.90625 \nL 61.375 72.90625 \nL 61.375 64.59375 \nL 35.5 64.59375 \nL 35.5 0 \nL 25.59375 0 \nL 25.59375 64.59375 \nL -0.296875 64.59375 \nz\n\" id=\"DejaVuSans-84\"/>\n      <path d=\"M 41.109375 46.296875 \nQ 39.59375 47.171875 37.8125 47.578125 \nQ 36.03125 48 33.890625 48 \nQ 26.265625 48 22.1875 43.046875 \nQ 18.109375 38.09375 18.109375 28.8125 \nL 18.109375 0 \nL 9.078125 0 \nL 9.078125 54.6875 \nL 18.109375 54.6875 \nL 18.109375 46.1875 \nQ 20.953125 51.171875 25.484375 53.578125 \nQ 30.03125 56 36.53125 56 \nQ 37.453125 56 38.578125 55.875 \nQ 39.703125 55.765625 41.0625 55.515625 \nz\n\" id=\"DejaVuSans-114\"/>\n      <path d=\"M 34.28125 27.484375 \nQ 23.390625 27.484375 19.1875 25 \nQ 14.984375 22.515625 14.984375 16.5 \nQ 14.984375 11.71875 18.140625 8.90625 \nQ 21.296875 6.109375 26.703125 6.109375 \nQ 34.1875 6.109375 38.703125 11.40625 \nQ 43.21875 16.703125 43.21875 25.484375 \nL 43.21875 27.484375 \nz\nM 52.203125 31.203125 \nL 52.203125 0 \nL 43.21875 0 \nL 43.21875 8.296875 \nQ 40.140625 3.328125 35.546875 0.953125 \nQ 30.953125 -1.421875 24.3125 -1.421875 \nQ 15.921875 -1.421875 10.953125 3.296875 \nQ 6 8.015625 6 15.921875 \nQ 6 25.140625 12.171875 29.828125 \nQ 18.359375 34.515625 30.609375 34.515625 \nL 43.21875 34.515625 \nL 43.21875 35.40625 \nQ 43.21875 41.609375 39.140625 45 \nQ 35.0625 48.390625 27.6875 48.390625 \nQ 23 48.390625 18.546875 47.265625 \nQ 14.109375 46.140625 10.015625 43.890625 \nL 10.015625 52.203125 \nQ 14.9375 54.109375 19.578125 55.046875 \nQ 24.21875 56 28.609375 56 \nQ 40.484375 56 46.34375 49.84375 \nQ 52.203125 43.703125 52.203125 31.203125 \nz\n\" id=\"DejaVuSans-97\"/>\n      <path d=\"M 9.421875 54.6875 \nL 18.40625 54.6875 \nL 18.40625 0 \nL 9.421875 0 \nz\nM 9.421875 75.984375 \nL 18.40625 75.984375 \nL 18.40625 64.59375 \nL 9.421875 64.59375 \nz\n\" id=\"DejaVuSans-105\"/>\n      <path d=\"M 54.890625 33.015625 \nL 54.890625 0 \nL 45.90625 0 \nL 45.90625 32.71875 \nQ 45.90625 40.484375 42.875 44.328125 \nQ 39.84375 48.1875 33.796875 48.1875 \nQ 26.515625 48.1875 22.3125 43.546875 \nQ 18.109375 38.921875 18.109375 30.90625 \nL 18.109375 0 \nL 9.078125 0 \nL 9.078125 54.6875 \nL 18.109375 54.6875 \nL 18.109375 46.1875 \nQ 21.34375 51.125 25.703125 53.5625 \nQ 30.078125 56 35.796875 56 \nQ 45.21875 56 50.046875 50.171875 \nQ 54.890625 44.34375 54.890625 33.015625 \nz\n\" id=\"DejaVuSans-110\"/>\n      <path d=\"M 45.40625 27.984375 \nQ 45.40625 37.75 41.375 43.109375 \nQ 37.359375 48.484375 30.078125 48.484375 \nQ 22.859375 48.484375 18.828125 43.109375 \nQ 14.796875 37.75 14.796875 27.984375 \nQ 14.796875 18.265625 18.828125 12.890625 \nQ 22.859375 7.515625 30.078125 7.515625 \nQ 37.359375 7.515625 41.375 12.890625 \nQ 45.40625 18.265625 45.40625 27.984375 \nz\nM 54.390625 6.78125 \nQ 54.390625 -7.171875 48.1875 -13.984375 \nQ 42 -20.796875 29.203125 -20.796875 \nQ 24.46875 -20.796875 20.265625 -20.09375 \nQ 16.0625 -19.390625 12.109375 -17.921875 \nL 12.109375 -9.1875 \nQ 16.0625 -11.328125 19.921875 -12.34375 \nQ 23.78125 -13.375 27.78125 -13.375 \nQ 36.625 -13.375 41.015625 -8.765625 \nQ 45.40625 -4.15625 45.40625 5.171875 \nL 45.40625 9.625 \nQ 42.625 4.78125 38.28125 2.390625 \nQ 33.9375 0 27.875 0 \nQ 17.828125 0 11.671875 7.65625 \nQ 5.515625 15.328125 5.515625 27.984375 \nQ 5.515625 40.671875 11.671875 48.328125 \nQ 17.828125 56 27.875 56 \nQ 33.9375 56 38.28125 53.609375 \nQ 42.625 51.21875 45.40625 46.390625 \nL 45.40625 54.6875 \nL 54.390625 54.6875 \nz\n\" id=\"DejaVuSans-103\"/>\n      <path id=\"DejaVuSans-32\"/>\n     </defs>\n     <g transform=\"translate(14.798438 149.42)rotate(-90)scale(0.1 -0.1)\">\n      <use xlink:href=\"#DejaVuSans-84\"/>\n      <use x=\"46.333984\" xlink:href=\"#DejaVuSans-114\"/>\n      <use x=\"87.447266\" xlink:href=\"#DejaVuSans-97\"/>\n      <use x=\"148.726562\" xlink:href=\"#DejaVuSans-105\"/>\n      <use x=\"176.509766\" xlink:href=\"#DejaVuSans-110\"/>\n      <use x=\"239.888672\" xlink:href=\"#DejaVuSans-105\"/>\n      <use x=\"267.671875\" xlink:href=\"#DejaVuSans-110\"/>\n      <use x=\"331.050781\" xlink:href=\"#DejaVuSans-103\"/>\n      <use x=\"394.527344\" xlink:href=\"#DejaVuSans-32\"/>\n      <use x=\"426.314453\" xlink:href=\"#DejaVuSans-69\"/>\n      <use x=\"489.498047\" xlink:href=\"#DejaVuSans-114\"/>\n      <use x=\"528.861328\" xlink:href=\"#DejaVuSans-114\"/>\n      <use x=\"567.724609\" xlink:href=\"#DejaVuSans-111\"/>\n      <use x=\"628.90625\" xlink:href=\"#DejaVuSans-114\"/>\n     </g>\n    </g>\n   </g>\n   <g id=\"line2d_24\">\n    <path clip-path=\"url(#pb1ddf08666)\" d=\"M 60.696307 17.083636 \nL 62.225772 45.249382 \nL 63.755238 103.227083 \nL 65.284703 141.618949 \nL 66.814169 161.309036 \nL 68.343634 172.890203 \nL 69.8731 180.055812 \nL 71.402565 184.569421 \nL 72.932031 187.490101 \nL 74.461496 189.424341 \nL 75.990962 190.733172 \nL 77.520427 191.649481 \nL 79.049893 192.279083 \nL 82.108824 193.141275 \nL 85.167755 193.625992 \nL 89.756151 194.122886 \nL 108.109738 195.186297 \nL 115.757065 195.777418 \nL 121.874927 196.437925 \nL 127.992789 197.361261 \nL 134.110651 198.55612 \nL 141.757979 200.332545 \nL 155.523168 203.624947 \nL 163.170496 205.191582 \nL 173.876755 206.965119 \nL 183.053548 208.168005 \nL 189.17141 208.866642 \nL 207.524996 210.437931 \nL 227.408047 211.592696 \nL 256.467892 212.744743 \nL 283.998271 213.471789 \nL 311.52865 214.005348 \nL 337.529564 214.40226 \nL 365.059943 214.756364 \nL 365.059943 214.756364 \n\" style=\"fill:none;stroke:#1f77b4;stroke-linecap:square;stroke-width:1.5;\"/>\n   </g>\n   <g id=\"patch_3\">\n    <path d=\"M 45.478125 224.64 \nL 45.478125 7.2 \n\" style=\"fill:none;stroke:#000000;stroke-linecap:square;stroke-linejoin:miter;stroke-width:0.8;\"/>\n   </g>\n   <g id=\"patch_4\">\n    <path d=\"M 380.278125 224.64 \nL 380.278125 7.2 \n\" style=\"fill:none;stroke:#000000;stroke-linecap:square;stroke-linejoin:miter;stroke-width:0.8;\"/>\n   </g>\n   <g id=\"patch_5\">\n    <path d=\"M 45.478125 224.64 \nL 380.278125 224.64 \n\" style=\"fill:none;stroke:#000000;stroke-linecap:square;stroke-linejoin:miter;stroke-width:0.8;\"/>\n   </g>\n   <g id=\"patch_6\">\n    <path d=\"M 45.478125 7.2 \nL 380.278125 7.2 \n\" style=\"fill:none;stroke:#000000;stroke-linecap:square;stroke-linejoin:miter;stroke-width:0.8;\"/>\n   </g>\n  </g>\n </g>\n <defs>\n  <clipPath id=\"pb1ddf08666\">\n   <rect height=\"217.44\" width=\"334.8\" x=\"45.478125\" y=\"7.2\"/>\n  </clipPath>\n </defs>\n</svg>\n",
      "image/png": "[encoded data removed]"
     },
     "metadata": {
      "needs_background": "light"
     }
    }
   ],
   "source": [
    "pd.Series(history.history['loss']).plot(logy=True)\n",
    "plt.xlabel(\"Epoch\")\n",
    "plt.ylabel(\"Training Error\")"
   ]
  },
  {
   "cell_type": "code",
   "execution_count": 12,
   "metadata": {},
   "outputs": [
    {
     "output_type": "stream",
     "name": "stdout",
     "text": [
      "20000/20000 [==============================] - 85s 4ms/step - loss: 0.9575 - mae: 0.7519 - mse: 0.9575\n"
     ]
    }
   ],
   "source": [
    "results = model.evaluate((test.user_id, test.item_id), test.rating, batch_size=1)"
   ]
  },
  {
   "cell_type": "code",
   "execution_count": 14,
   "metadata": {},
   "outputs": [
    {
     "output_type": "execute_result",
     "data": {
      "text/plain": [
       "             0         1         2         3         4\n",
       "0    -1.002164 -1.297313  0.806395 -0.581879 -0.755434\n",
       "1    -1.264288 -0.767032  0.711527 -0.443018 -0.518258\n",
       "2    -1.225812  0.082744  0.598887 -0.100142 -1.795794\n",
       "3    -0.540931 -1.129386  1.197583 -1.026920 -0.024167\n",
       "4    -1.271261 -0.833028  0.170629 -0.833080 -0.736995\n",
       "...        ...       ...       ...       ...       ...\n",
       "1678 -0.782293 -0.710115  0.680705 -0.779473 -0.639199\n",
       "1679 -0.456115 -0.466445  0.500545 -0.531318 -0.328147\n",
       "1680 -0.828265 -0.840178  0.807994 -0.855479 -0.789276\n",
       "1681 -0.676024 -0.739343  0.725215 -0.779132 -0.720391\n",
       "1682 -0.008981  0.040247  0.010998  0.004187  0.002593\n",
       "\n",
       "[1683 rows x 5 columns]"
      ],
      "text/html": "<div>\n<style scoped>\n    .dataframe tbody tr th:only-of-type {\n        vertical-align: middle;\n    }\n\n    .dataframe tbody tr th {\n        vertical-align: top;\n    }\n\n    .dataframe thead th {\n        text-align: right;\n    }\n</style>\n<table border=\"1\" class=\"dataframe\">\n  <thead>\n    <tr style=\"text-align: right;\">\n      <th></th>\n      <th>0</th>\n      <th>1</th>\n      <th>2</th>\n      <th>3</th>\n      <th>4</th>\n    </tr>\n  </thead>\n  <tbody>\n    <tr>\n      <th>0</th>\n      <td>-1.002164</td>\n      <td>-1.297313</td>\n      <td>0.806395</td>\n      <td>-0.581879</td>\n      <td>-0.755434</td>\n    </tr>\n    <tr>\n      <th>1</th>\n      <td>-1.264288</td>\n      <td>-0.767032</td>\n      <td>0.711527</td>\n      <td>-0.443018</td>\n      <td>-0.518258</td>\n    </tr>\n    <tr>\n      <th>2</th>\n      <td>-1.225812</td>\n      <td>0.082744</td>\n      <td>0.598887</td>\n      <td>-0.100142</td>\n      <td>-1.795794</td>\n    </tr>\n    <tr>\n      <th>3</th>\n      <td>-0.540931</td>\n      <td>-1.129386</td>\n      <td>1.197583</td>\n      <td>-1.026920</td>\n      <td>-0.024167</td>\n    </tr>\n    <tr>\n      <th>4</th>\n      <td>-1.271261</td>\n      <td>-0.833028</td>\n      <td>0.170629</td>\n      <td>-0.833080</td>\n      <td>-0.736995</td>\n    </tr>\n    <tr>\n      <th>...</th>\n      <td>...</td>\n      <td>...</td>\n      <td>...</td>\n      <td>...</td>\n      <td>...</td>\n    </tr>\n    <tr>\n      <th>1678</th>\n      <td>-0.782293</td>\n      <td>-0.710115</td>\n      <td>0.680705</td>\n      <td>-0.779473</td>\n      <td>-0.639199</td>\n    </tr>\n    <tr>\n      <th>1679</th>\n      <td>-0.456115</td>\n      <td>-0.466445</td>\n      <td>0.500545</td>\n      <td>-0.531318</td>\n      <td>-0.328147</td>\n    </tr>\n    <tr>\n      <th>1680</th>\n      <td>-0.828265</td>\n      <td>-0.840178</td>\n      <td>0.807994</td>\n      <td>-0.855479</td>\n      <td>-0.789276</td>\n    </tr>\n    <tr>\n      <th>1681</th>\n      <td>-0.676024</td>\n      <td>-0.739343</td>\n      <td>0.725215</td>\n      <td>-0.779132</td>\n      <td>-0.720391</td>\n    </tr>\n    <tr>\n      <th>1682</th>\n      <td>-0.008981</td>\n      <td>0.040247</td>\n      <td>0.010998</td>\n      <td>0.004187</td>\n      <td>0.002593</td>\n    </tr>\n  </tbody>\n</table>\n<p>1683 rows × 5 columns</p>\n</div>"
     },
     "metadata": {},
     "execution_count": 14
    }
   ],
   "source": [
    "# movie embedding\n",
    "movie_embedding_learnt = model.get_layer(name='movie_embedding').get_weights()[0]\n",
    "pd.DataFrame(movie_embedding_learnt)"
   ]
  },
  {
   "cell_type": "code",
   "execution_count": 15,
   "metadata": {},
   "outputs": [
    {
     "output_type": "execute_result",
     "data": {
      "text/plain": [
       "            0         1         2         3         4\n",
       "0   -0.215182 -1.087345  1.401779 -0.867919 -0.884994\n",
       "1   -0.721350 -0.691849  1.296249 -0.784166 -1.291198\n",
       "2   -0.987859  0.155875  0.905097 -1.091032 -0.932449\n",
       "3   -0.982251 -0.454629  1.224923 -2.231773 -0.255070\n",
       "4   -1.164809 -0.053161  2.110773 -0.498113  0.059856\n",
       "..        ...       ...       ...       ...       ...\n",
       "939 -1.141377 -0.864469  0.561763 -0.749312 -0.712845\n",
       "940 -0.460163 -1.376372  0.322481 -2.110453 -1.343451\n",
       "941 -1.274684 -1.033382  0.443511 -0.820614 -1.493900\n",
       "942 -1.498256 -0.042739  1.617836 -1.707287  0.619539\n",
       "943  0.036403 -0.011440 -0.017321 -0.022763 -0.037878\n",
       "\n",
       "[944 rows x 5 columns]"
      ],
      "text/html": "<div>\n<style scoped>\n    .dataframe tbody tr th:only-of-type {\n        vertical-align: middle;\n    }\n\n    .dataframe tbody tr th {\n        vertical-align: top;\n    }\n\n    .dataframe thead th {\n        text-align: right;\n    }\n</style>\n<table border=\"1\" class=\"dataframe\">\n  <thead>\n    <tr style=\"text-align: right;\">\n      <th></th>\n      <th>0</th>\n      <th>1</th>\n      <th>2</th>\n      <th>3</th>\n      <th>4</th>\n    </tr>\n  </thead>\n  <tbody>\n    <tr>\n      <th>0</th>\n      <td>-0.215182</td>\n      <td>-1.087345</td>\n      <td>1.401779</td>\n      <td>-0.867919</td>\n      <td>-0.884994</td>\n    </tr>\n    <tr>\n      <th>1</th>\n      <td>-0.721350</td>\n      <td>-0.691849</td>\n      <td>1.296249</td>\n      <td>-0.784166</td>\n      <td>-1.291198</td>\n    </tr>\n    <tr>\n      <th>2</th>\n      <td>-0.987859</td>\n      <td>0.155875</td>\n      <td>0.905097</td>\n      <td>-1.091032</td>\n      <td>-0.932449</td>\n    </tr>\n    <tr>\n      <th>3</th>\n      <td>-0.982251</td>\n      <td>-0.454629</td>\n      <td>1.224923</td>\n      <td>-2.231773</td>\n      <td>-0.255070</td>\n    </tr>\n    <tr>\n      <th>4</th>\n      <td>-1.164809</td>\n      <td>-0.053161</td>\n      <td>2.110773</td>\n      <td>-0.498113</td>\n      <td>0.059856</td>\n    </tr>\n    <tr>\n      <th>...</th>\n      <td>...</td>\n      <td>...</td>\n      <td>...</td>\n      <td>...</td>\n      <td>...</td>\n    </tr>\n    <tr>\n      <th>939</th>\n      <td>-1.141377</td>\n      <td>-0.864469</td>\n      <td>0.561763</td>\n      <td>-0.749312</td>\n      <td>-0.712845</td>\n    </tr>\n    <tr>\n      <th>940</th>\n      <td>-0.460163</td>\n      <td>-1.376372</td>\n      <td>0.322481</td>\n      <td>-2.110453</td>\n      <td>-1.343451</td>\n    </tr>\n    <tr>\n      <th>941</th>\n      <td>-1.274684</td>\n      <td>-1.033382</td>\n      <td>0.443511</td>\n      <td>-0.820614</td>\n      <td>-1.493900</td>\n    </tr>\n    <tr>\n      <th>942</th>\n      <td>-1.498256</td>\n      <td>-0.042739</td>\n      <td>1.617836</td>\n      <td>-1.707287</td>\n      <td>0.619539</td>\n    </tr>\n    <tr>\n      <th>943</th>\n      <td>0.036403</td>\n      <td>-0.011440</td>\n      <td>-0.017321</td>\n      <td>-0.022763</td>\n      <td>-0.037878</td>\n    </tr>\n  </tbody>\n</table>\n<p>944 rows × 5 columns</p>\n</div>"
     },
     "metadata": {},
     "execution_count": 15
    }
   ],
   "source": [
    "# user embedding\n",
    "user_embedding_learnt = model.get_layer(name='user_embedding').get_weights()[0]\n",
    "pd.DataFrame(user_embedding_learnt)"
   ]
  },
  {
   "source": [
    "### Predict top-k and rating"
   ],
   "cell_type": "markdown",
   "metadata": {}
  },
  {
   "cell_type": "code",
   "execution_count": 16,
   "metadata": {},
   "outputs": [],
   "source": [
    "\n",
    "# migliori raccomandazione per un utente user_id\n",
    "def recommend(user_id, number_of_movies=5):\n",
    "    # prodotto tra la matrice user_embedding e la trasposta di movie_embedding, si ottengono i rating per l'utente user_id\n",
    "    movies = user_embedding_learnt[user_id].dot(movie_embedding_learnt.T)\n",
    "\n",
    "    # l'output di argpartition contiene la posizione che avrebbe un rating se fosse in una lista ordinata, prendendo i primi\n",
    "    # n valori si ottengono gli id dei migliori film per l'utente.\n",
    "    # movies_id può essere usato per trovare il rating nella lista dei film\n",
    "    mids = np.argpartition(movies, -number_of_movies)[-number_of_movies:]\n",
    "    return mids\n",
    "\n",
    "# ritorna un df dei valori reali e predetti per un utente\n",
    "def predict(user_id):\n",
    "    df_actual_rating = test[(test['user_id'] == user_id)]\n",
    "    predicted_rating_list = user_embedding_learnt[user_id].dot(movie_embedding_learnt.T)\n",
    "    predicted_dict = {k:[] for k in ['item_id', 'actual_rating', 'pred_rating']}\n",
    "    \n",
    "    for index, row in df_actual_rating.iterrows():\n",
    "        movie_id = row['item_id']\n",
    "        actual_rating = row['rating']\n",
    "        predicted_rating = predicted_rating_list[movie_id]\n",
    "\n",
    "        predicted_dict['item_id'].append(movie_id)\n",
    "        predicted_dict['actual_rating'].append(actual_rating)\n",
    "        predicted_dict['pred_rating'].append(predicted_rating)\n",
    "    \n",
    "    df = pd.DataFrame(predicted_dict)\n",
    "\n",
    "    return df\n"
   ]
  },
  {
   "cell_type": "code",
   "execution_count": 17,
   "metadata": {
    "tags": []
   },
   "outputs": [
    {
     "output_type": "execute_result",
     "data": {
      "text/plain": [
       "array([1357, 1449, 1393, 1642, 1535, 1641,  813, 1356, 1499,  112])"
      ]
     },
     "metadata": {},
     "execution_count": 17
    }
   ],
   "source": [
    "user = 377\n",
    "movie = 800\n",
    "n_movie_recommended = 10\n",
    "recommended_id = recommend(user, n_movie_recommended)\n",
    "recommended_id # lista film consigliati\n"
   ]
  },
  {
   "cell_type": "code",
   "execution_count": 18,
   "metadata": {},
   "outputs": [
    {
     "output_type": "execute_result",
     "data": {
      "text/plain": [
       "    item_id  actual_rating  pred_rating\n",
       "0       327              3     3.167816\n",
       "1       172              5     3.878302\n",
       "2       484              4     3.469178\n",
       "3        67              2     3.113904\n",
       "4       181              4     3.589193\n",
       "5       196              3     4.330615\n",
       "6      1036              2     1.981285\n",
       "7       743              3     3.844636\n",
       "8       355              4     3.251974\n",
       "9       193              4     3.812138\n",
       "10      143              4     3.966786\n",
       "11      754              3     3.093865\n",
       "12       88              4     3.962542\n",
       "13        7              4     4.092784\n",
       "14      117              4     2.943340\n",
       "15     1106              3     3.097212\n",
       "16       72              3     3.324787\n",
       "17      481              4     3.861379\n",
       "18      152              4     4.124162\n",
       "19     1310              4     3.127830"
      ],
      "text/html": "<div>\n<style scoped>\n    .dataframe tbody tr th:only-of-type {\n        vertical-align: middle;\n    }\n\n    .dataframe tbody tr th {\n        vertical-align: top;\n    }\n\n    .dataframe thead th {\n        text-align: right;\n    }\n</style>\n<table border=\"1\" class=\"dataframe\">\n  <thead>\n    <tr style=\"text-align: right;\">\n      <th></th>\n      <th>item_id</th>\n      <th>actual_rating</th>\n      <th>pred_rating</th>\n    </tr>\n  </thead>\n  <tbody>\n    <tr>\n      <th>0</th>\n      <td>327</td>\n      <td>3</td>\n      <td>3.167816</td>\n    </tr>\n    <tr>\n      <th>1</th>\n      <td>172</td>\n      <td>5</td>\n      <td>3.878302</td>\n    </tr>\n    <tr>\n      <th>2</th>\n      <td>484</td>\n      <td>4</td>\n      <td>3.469178</td>\n    </tr>\n    <tr>\n      <th>3</th>\n      <td>67</td>\n      <td>2</td>\n      <td>3.113904</td>\n    </tr>\n    <tr>\n      <th>4</th>\n      <td>181</td>\n      <td>4</td>\n      <td>3.589193</td>\n    </tr>\n    <tr>\n      <th>5</th>\n      <td>196</td>\n      <td>3</td>\n      <td>4.330615</td>\n    </tr>\n    <tr>\n      <th>6</th>\n      <td>1036</td>\n      <td>2</td>\n      <td>1.981285</td>\n    </tr>\n    <tr>\n      <th>7</th>\n      <td>743</td>\n      <td>3</td>\n      <td>3.844636</td>\n    </tr>\n    <tr>\n      <th>8</th>\n      <td>355</td>\n      <td>4</td>\n      <td>3.251974</td>\n    </tr>\n    <tr>\n      <th>9</th>\n      <td>193</td>\n      <td>4</td>\n      <td>3.812138</td>\n    </tr>\n    <tr>\n      <th>10</th>\n      <td>143</td>\n      <td>4</td>\n      <td>3.966786</td>\n    </tr>\n    <tr>\n      <th>11</th>\n      <td>754</td>\n      <td>3</td>\n      <td>3.093865</td>\n    </tr>\n    <tr>\n      <th>12</th>\n      <td>88</td>\n      <td>4</td>\n      <td>3.962542</td>\n    </tr>\n    <tr>\n      <th>13</th>\n      <td>7</td>\n      <td>4</td>\n      <td>4.092784</td>\n    </tr>\n    <tr>\n      <th>14</th>\n      <td>117</td>\n      <td>4</td>\n      <td>2.943340</td>\n    </tr>\n    <tr>\n      <th>15</th>\n      <td>1106</td>\n      <td>3</td>\n      <td>3.097212</td>\n    </tr>\n    <tr>\n      <th>16</th>\n      <td>72</td>\n      <td>3</td>\n      <td>3.324787</td>\n    </tr>\n    <tr>\n      <th>17</th>\n      <td>481</td>\n      <td>4</td>\n      <td>3.861379</td>\n    </tr>\n    <tr>\n      <th>18</th>\n      <td>152</td>\n      <td>4</td>\n      <td>4.124162</td>\n    </tr>\n    <tr>\n      <th>19</th>\n      <td>1310</td>\n      <td>4</td>\n      <td>3.127830</td>\n    </tr>\n  </tbody>\n</table>\n</div>"
     },
     "metadata": {},
     "execution_count": 18
    }
   ],
   "source": [
    "predict(user).head(20) # df che contiene rating reali e rating predetti"
   ]
  },
  {
   "cell_type": "code",
   "execution_count": 19,
   "metadata": {
    "tags": []
   },
   "outputs": [
    {
     "output_type": "execute_result",
     "data": {
      "text/plain": [
       "'rating for movie 1535: 5.757889747619629'"
      ]
     },
     "metadata": {},
     "execution_count": 19
    }
   ],
   "source": [
    "# come trovare rating di un film\n",
    "movies = user_embedding_learnt[user].dot(movie_embedding_learnt.T)\n",
    "f\"rating for movie {recommended_id[4]}: {movies[recommended_id[4]]}\""
   ]
  },
  {
   "cell_type": "code",
   "execution_count": 20,
   "metadata": {},
   "outputs": [],
   "source": [
    "# movie lookup dataframe\n",
    "movie_lookup = pd.read_csv(\"ml-100k/u-utf8.item\", sep='|', names=\"movie_id,movie_title\".split(\",\"), usecols=[0,1])\n",
    "movie_lookup.movie_id = movie_lookup.movie_id.astype('category').cat.codes.values # indici da 0 invece che 1"
   ]
  },
  {
   "cell_type": "code",
   "execution_count": 21,
   "metadata": {},
   "outputs": [
    {
     "output_type": "execute_result",
     "data": {
      "text/plain": [
       "      movie_id                                movie_title\n",
       "0            0                           Toy Story (1995)\n",
       "1            1                           GoldenEye (1995)\n",
       "2            2                          Four Rooms (1995)\n",
       "3            3                          Get Shorty (1995)\n",
       "4            4                             Copycat (1995)\n",
       "...        ...                                        ...\n",
       "1677      1677                          Mat' i syn (1997)\n",
       "1678      1678                           B. Monkey (1998)\n",
       "1679      1679                       Sliding Doors (1998)\n",
       "1680      1680                        You So Crazy (1994)\n",
       "1681      1681  Scream of Stone (Schrei aus Stein) (1991)\n",
       "\n",
       "[1682 rows x 2 columns]"
      ],
      "text/html": "<div>\n<style scoped>\n    .dataframe tbody tr th:only-of-type {\n        vertical-align: middle;\n    }\n\n    .dataframe tbody tr th {\n        vertical-align: top;\n    }\n\n    .dataframe thead th {\n        text-align: right;\n    }\n</style>\n<table border=\"1\" class=\"dataframe\">\n  <thead>\n    <tr style=\"text-align: right;\">\n      <th></th>\n      <th>movie_id</th>\n      <th>movie_title</th>\n    </tr>\n  </thead>\n  <tbody>\n    <tr>\n      <th>0</th>\n      <td>0</td>\n      <td>Toy Story (1995)</td>\n    </tr>\n    <tr>\n      <th>1</th>\n      <td>1</td>\n      <td>GoldenEye (1995)</td>\n    </tr>\n    <tr>\n      <th>2</th>\n      <td>2</td>\n      <td>Four Rooms (1995)</td>\n    </tr>\n    <tr>\n      <th>3</th>\n      <td>3</td>\n      <td>Get Shorty (1995)</td>\n    </tr>\n    <tr>\n      <th>4</th>\n      <td>4</td>\n      <td>Copycat (1995)</td>\n    </tr>\n    <tr>\n      <th>...</th>\n      <td>...</td>\n      <td>...</td>\n    </tr>\n    <tr>\n      <th>1677</th>\n      <td>1677</td>\n      <td>Mat' i syn (1997)</td>\n    </tr>\n    <tr>\n      <th>1678</th>\n      <td>1678</td>\n      <td>B. Monkey (1998)</td>\n    </tr>\n    <tr>\n      <th>1679</th>\n      <td>1679</td>\n      <td>Sliding Doors (1998)</td>\n    </tr>\n    <tr>\n      <th>1680</th>\n      <td>1680</td>\n      <td>You So Crazy (1994)</td>\n    </tr>\n    <tr>\n      <th>1681</th>\n      <td>1681</td>\n      <td>Scream of Stone (Schrei aus Stein) (1991)</td>\n    </tr>\n  </tbody>\n</table>\n<p>1682 rows × 2 columns</p>\n</div>"
     },
     "metadata": {},
     "execution_count": 21
    }
   ],
   "source": [
    "movie_lookup"
   ]
  },
  {
   "cell_type": "code",
   "execution_count": 22,
   "metadata": {},
   "outputs": [
    {
     "output_type": "execute_result",
     "data": {
      "text/plain": [
       "      movie_id                                        movie_title\n",
       "112        112  Horseman on the Roof, The (Hussard sur le toit...\n",
       "813        813                      Great Day in Harlem, A (1994)\n",
       "1356      1356                              For the Moment (1994)\n",
       "1357      1357                             The Deadly Cure (1996)\n",
       "1393      1393                          Swept from the Sea (1997)\n",
       "1449      1449                             Golden Earrings (1947)\n",
       "1499      1499                          Santa with Muscles (1996)\n",
       "1535      1535                               Aiqing wansui (1994)\n",
       "1641      1641                           Some Mother's Son (1996)\n",
       "1642      1642                                  Angel Baby (1995)"
      ],
      "text/html": "<div>\n<style scoped>\n    .dataframe tbody tr th:only-of-type {\n        vertical-align: middle;\n    }\n\n    .dataframe tbody tr th {\n        vertical-align: top;\n    }\n\n    .dataframe thead th {\n        text-align: right;\n    }\n</style>\n<table border=\"1\" class=\"dataframe\">\n  <thead>\n    <tr style=\"text-align: right;\">\n      <th></th>\n      <th>movie_id</th>\n      <th>movie_title</th>\n    </tr>\n  </thead>\n  <tbody>\n    <tr>\n      <th>112</th>\n      <td>112</td>\n      <td>Horseman on the Roof, The (Hussard sur le toit...</td>\n    </tr>\n    <tr>\n      <th>813</th>\n      <td>813</td>\n      <td>Great Day in Harlem, A (1994)</td>\n    </tr>\n    <tr>\n      <th>1356</th>\n      <td>1356</td>\n      <td>For the Moment (1994)</td>\n    </tr>\n    <tr>\n      <th>1357</th>\n      <td>1357</td>\n      <td>The Deadly Cure (1996)</td>\n    </tr>\n    <tr>\n      <th>1393</th>\n      <td>1393</td>\n      <td>Swept from the Sea (1997)</td>\n    </tr>\n    <tr>\n      <th>1449</th>\n      <td>1449</td>\n      <td>Golden Earrings (1947)</td>\n    </tr>\n    <tr>\n      <th>1499</th>\n      <td>1499</td>\n      <td>Santa with Muscles (1996)</td>\n    </tr>\n    <tr>\n      <th>1535</th>\n      <td>1535</td>\n      <td>Aiqing wansui (1994)</td>\n    </tr>\n    <tr>\n      <th>1641</th>\n      <td>1641</td>\n      <td>Some Mother's Son (1996)</td>\n    </tr>\n    <tr>\n      <th>1642</th>\n      <td>1642</td>\n      <td>Angel Baby (1995)</td>\n    </tr>\n  </tbody>\n</table>\n</div>"
     },
     "metadata": {},
     "execution_count": 22
    }
   ],
   "source": [
    "# converte da id a nomi di film\n",
    "recommended = movie_lookup[movie_lookup['movie_id'].isin(recommended_id)]\n",
    "recommended"
   ]
  },
  {
   "source": [
    "## MLP"
   ],
   "cell_type": "markdown",
   "metadata": {}
  },
  {
   "cell_type": "code",
   "execution_count": 23,
   "metadata": {},
   "outputs": [],
   "source": [
    "movie_input = keras.layers.Input(shape=[1],name='item')\n",
    "\n",
    "# Movie embedding\n",
    "movie_embedding_mlp = keras.layers.Embedding(n_movies + 1, n_latent_factors, name='movies_embedding')(movie_input)\n",
    "movie_vec_mlp = keras.layers.Flatten(name='flatten_movies')(movie_embedding_mlp)\n",
    "\n",
    "# User embedding\n",
    "user_input = keras.layers.Input(shape=[1],name='user')\n",
    "user_vec_mlp = keras.layers.Flatten(name='flatten_users')(keras.layers.Embedding(n_users + 1, n_latent_factors,name='users_embedding')(user_input))\n",
    "\n",
    "# Concat embedding utenti e film\n",
    "concat = tf.keras.layers.Concatenate(name='users_movies')([movie_vec_mlp, user_vec_mlp])\n",
    "\n",
    "# layers densi\n",
    "dense = keras.layers.Dense(20,name='fully_connected_1')(concat)\n",
    "dense_2 = keras.layers.Dense(10,name='fully_connected_2')(dense)\n",
    "\n",
    "# Output\n",
    "pred_mlp = keras.layers.Dense(1, activation='relu',name='Activation')(dense_2)\n",
    "\n",
    "# crea e compila il modello\n",
    "mlp = keras.Model([user_input, movie_input], pred_mlp)\n",
    "mlp.compile(optimizer='adam',loss= 'mean_absolute_error', metrics=['mae', 'mse'])"
   ]
  },
  {
   "cell_type": "code",
   "execution_count": 24,
   "metadata": {},
   "outputs": [
    {
     "output_type": "stream",
     "name": "stdout",
     "text": [
      "Model: \"model_1\"\n__________________________________________________________________________________________________\nLayer (type)                    Output Shape         Param #     Connected to                     \n==================================================================================================\nitem (InputLayer)               [(None, 1)]          0                                            \n__________________________________________________________________________________________________\nuser (InputLayer)               [(None, 1)]          0                                            \n__________________________________________________________________________________________________\nmovies_embedding (Embedding)    (None, 1, 5)         8415        item[0][0]                       \n__________________________________________________________________________________________________\nusers_embedding (Embedding)     (None, 1, 5)         4720        user[0][0]                       \n__________________________________________________________________________________________________\nflatten_movies (Flatten)        (None, 5)            0           movies_embedding[0][0]           \n__________________________________________________________________________________________________\nflatten_users (Flatten)         (None, 5)            0           users_embedding[0][0]            \n__________________________________________________________________________________________________\nusers_movies (Concatenate)      (None, 10)           0           flatten_movies[0][0]             \n                                                                 flatten_users[0][0]              \n__________________________________________________________________________________________________\nfully_connected_1 (Dense)       (None, 20)           220         users_movies[0][0]               \n__________________________________________________________________________________________________\nfully_connected_2 (Dense)       (None, 10)           210         fully_connected_1[0][0]          \n__________________________________________________________________________________________________\nActivation (Dense)              (None, 1)            11          fully_connected_2[0][0]          \n==================================================================================================\nTotal params: 13,576\nTrainable params: 13,576\nNon-trainable params: 0\n__________________________________________________________________________________________________\n"
     ]
    },
    {
     "output_type": "execute_result",
     "data": {
      "image/png": "[encoded data removed]",
      "text/plain": [
       "<IPython.core.display.Image object>"
      ]
     },
     "metadata": {},
     "execution_count": 24
    }
   ],
   "source": [
    "mlp.summary()\n",
    "tf.keras.utils.plot_model(mlp)"
   ]
  },
  {
   "cell_type": "code",
   "execution_count": 25,
   "metadata": {},
   "outputs": [
    {
     "output_type": "stream",
     "name": "stdout",
     "text": [
      "Epoch 1/30\n",
      "625/625 [==============================] - 2s 3ms/step - loss: 1.0090 - mae: 1.0090 - mse: 1.9106\n",
      "Epoch 2/30\n",
      "625/625 [==============================] - 2s 3ms/step - loss: 0.7379 - mae: 0.7379 - mse: 0.9079\n",
      "Epoch 3/30\n",
      "625/625 [==============================] - 2s 3ms/step - loss: 0.7314 - mae: 0.7314 - mse: 0.8965\n",
      "Epoch 4/30\n",
      "625/625 [==============================] - 2s 3ms/step - loss: 0.7281 - mae: 0.7281 - mse: 0.8927\n",
      "Epoch 5/30\n",
      "625/625 [==============================] - 2s 3ms/step - loss: 0.7263 - mae: 0.7263 - mse: 0.8892\n",
      "Epoch 6/30\n",
      "625/625 [==============================] - 2s 3ms/step - loss: 0.7246 - mae: 0.7246 - mse: 0.8874\n",
      "Epoch 7/30\n",
      "625/625 [==============================] - 2s 3ms/step - loss: 0.7235 - mae: 0.7235 - mse: 0.8859\n",
      "Epoch 8/30\n",
      "625/625 [==============================] - 2s 3ms/step - loss: 0.7230 - mae: 0.7230 - mse: 0.8849\n",
      "Epoch 9/30\n",
      "625/625 [==============================] - 2s 3ms/step - loss: 0.7215 - mae: 0.7215 - mse: 0.8840\n",
      "Epoch 10/30\n",
      "625/625 [==============================] - 2s 3ms/step - loss: 0.7210 - mae: 0.7210 - mse: 0.8835\n",
      "Epoch 11/30\n",
      "625/625 [==============================] - 2s 3ms/step - loss: 0.7208 - mae: 0.7208 - mse: 0.8831\n",
      "Epoch 12/30\n",
      "625/625 [==============================] - 2s 4ms/step - loss: 0.7202 - mae: 0.7202 - mse: 0.8833\n",
      "Epoch 13/30\n",
      "625/625 [==============================] - 2s 4ms/step - loss: 0.7196 - mae: 0.7196 - mse: 0.8829\n",
      "Epoch 14/30\n",
      "625/625 [==============================] - 2s 4ms/step - loss: 0.7190 - mae: 0.7190 - mse: 0.8824\n",
      "Epoch 15/30\n",
      "625/625 [==============================] - 2s 4ms/step - loss: 0.7187 - mae: 0.7187 - mse: 0.8814\n",
      "Epoch 16/30\n",
      "625/625 [==============================] - 3s 5ms/step - loss: 0.7186 - mae: 0.7186 - mse: 0.8814\n",
      "Epoch 17/30\n",
      "625/625 [==============================] - 3s 4ms/step - loss: 0.7179 - mae: 0.7179 - mse: 0.8812\n",
      "Epoch 18/30\n",
      "625/625 [==============================] - 2s 3ms/step - loss: 0.7175 - mae: 0.7175 - mse: 0.8813\n",
      "Epoch 19/30\n",
      "625/625 [==============================] - 2s 4ms/step - loss: 0.7175 - mae: 0.7175 - mse: 0.8816\n",
      "Epoch 20/30\n",
      "625/625 [==============================] - 2s 3ms/step - loss: 0.7167 - mae: 0.7167 - mse: 0.8808\n",
      "Epoch 21/30\n",
      "625/625 [==============================] - 2s 3ms/step - loss: 0.7167 - mae: 0.7167 - mse: 0.8826\n",
      "Epoch 22/30\n",
      "625/625 [==============================] - 2s 3ms/step - loss: 0.7165 - mae: 0.7165 - mse: 0.8810\n",
      "Epoch 23/30\n",
      "625/625 [==============================] - 2s 3ms/step - loss: 0.7167 - mae: 0.7167 - mse: 0.8807\n",
      "Epoch 24/30\n",
      "625/625 [==============================] - 2s 3ms/step - loss: 0.7160 - mae: 0.7160 - mse: 0.8808\n",
      "Epoch 25/30\n",
      "625/625 [==============================] - 3s 5ms/step - loss: 0.7154 - mae: 0.7154 - mse: 0.8802\n",
      "Epoch 26/30\n",
      "625/625 [==============================] - 2s 3ms/step - loss: 0.7159 - mae: 0.7159 - mse: 0.8809\n",
      "Epoch 27/30\n",
      "625/625 [==============================] - 2s 3ms/step - loss: 0.7155 - mae: 0.7155 - mse: 0.8804\n",
      "Epoch 28/30\n",
      "625/625 [==============================] - 2s 3ms/step - loss: 0.7152 - mae: 0.7152 - mse: 0.8810\n",
      "Epoch 29/30\n",
      "625/625 [==============================] - 3s 4ms/step - loss: 0.7150 - mae: 0.7150 - mse: 0.8817\n",
      "Epoch 30/30\n",
      "625/625 [==============================] - 2s 3ms/step - loss: 0.7150 - mae: 0.7150 - mse: 0.8813\n"
     ]
    }
   ],
   "source": [
    "history = mlp.fit([train.user_id, train.item_id], train.rating, epochs = 30, batch_size = 128, verbose = 1)"
   ]
  },
  {
   "cell_type": "code",
   "execution_count": 26,
   "metadata": {},
   "outputs": [
    {
     "output_type": "stream",
     "name": "stdout",
     "text": [
      "20000/20000 [==============================] - 86s 4ms/step - loss: 0.7385 - mae: 0.7385 - mse: 0.9159\n"
     ]
    }
   ],
   "source": [
    " results_mlp = mlp.evaluate((test.user_id, test.item_id), test.rating, batch_size=1)"
   ]
  },
  {
   "cell_type": "code",
   "execution_count": 27,
   "metadata": {},
   "outputs": [],
   "source": [
    "# predizioni sul test set per un MLP\n",
    "def predict_mlp():\n",
    "    predicted_dict = {k:[] for k in ['user_id', 'item_id', 'actual_rating', 'pred_rating']}\n",
    "    mlp_predicted = mlp.predict([test.user_id, test.item_id])\n",
    "    test2 = test.reset_index(drop=True)\n",
    "\n",
    "    for idx, row in test2.iterrows():\n",
    "        predicted_dict['user_id'].append(row['user_id'])\n",
    "        predicted_dict['item_id'].append(row['item_id'])\n",
    "        predicted_dict['actual_rating'].append(row['rating'])\n",
    "        predicted_dict['pred_rating'].append(mlp_predicted[idx][0])\n",
    "        \n",
    "    df = pd.DataFrame(predicted_dict)\n",
    "    return df"
   ]
  },
  {
   "cell_type": "code",
   "execution_count": 28,
   "metadata": {
    "tags": []
   },
   "outputs": [
    {
     "output_type": "execute_result",
     "data": {
      "text/plain": [
       "       user_id  item_id  actual_rating  pred_rating\n",
       "0          738      196              1     3.961779\n",
       "1          416      245              4     4.017724\n",
       "2          338      216              3     3.367577\n",
       "3          705      686              1     2.151093\n",
       "4          906      219              5     4.272842\n",
       "...        ...      ...            ...          ...\n",
       "19995      604      131              5     4.156857\n",
       "19996      473       41              4     4.135766\n",
       "19997      712      341              3     1.998381\n",
       "19998      217      516              3     3.824699\n",
       "19999      373       24              5     3.572327\n",
       "\n",
       "[20000 rows x 4 columns]"
      ],
      "text/html": "<div>\n<style scoped>\n    .dataframe tbody tr th:only-of-type {\n        vertical-align: middle;\n    }\n\n    .dataframe tbody tr th {\n        vertical-align: top;\n    }\n\n    .dataframe thead th {\n        text-align: right;\n    }\n</style>\n<table border=\"1\" class=\"dataframe\">\n  <thead>\n    <tr style=\"text-align: right;\">\n      <th></th>\n      <th>user_id</th>\n      <th>item_id</th>\n      <th>actual_rating</th>\n      <th>pred_rating</th>\n    </tr>\n  </thead>\n  <tbody>\n    <tr>\n      <th>0</th>\n      <td>738</td>\n      <td>196</td>\n      <td>1</td>\n      <td>3.961779</td>\n    </tr>\n    <tr>\n      <th>1</th>\n      <td>416</td>\n      <td>245</td>\n      <td>4</td>\n      <td>4.017724</td>\n    </tr>\n    <tr>\n      <th>2</th>\n      <td>338</td>\n      <td>216</td>\n      <td>3</td>\n      <td>3.367577</td>\n    </tr>\n    <tr>\n      <th>3</th>\n      <td>705</td>\n      <td>686</td>\n      <td>1</td>\n      <td>2.151093</td>\n    </tr>\n    <tr>\n      <th>4</th>\n      <td>906</td>\n      <td>219</td>\n      <td>5</td>\n      <td>4.272842</td>\n    </tr>\n    <tr>\n      <th>...</th>\n      <td>...</td>\n      <td>...</td>\n      <td>...</td>\n      <td>...</td>\n    </tr>\n    <tr>\n      <th>19995</th>\n      <td>604</td>\n      <td>131</td>\n      <td>5</td>\n      <td>4.156857</td>\n    </tr>\n    <tr>\n      <th>19996</th>\n      <td>473</td>\n      <td>41</td>\n      <td>4</td>\n      <td>4.135766</td>\n    </tr>\n    <tr>\n      <th>19997</th>\n      <td>712</td>\n      <td>341</td>\n      <td>3</td>\n      <td>1.998381</td>\n    </tr>\n    <tr>\n      <th>19998</th>\n      <td>217</td>\n      <td>516</td>\n      <td>3</td>\n      <td>3.824699</td>\n    </tr>\n    <tr>\n      <th>19999</th>\n      <td>373</td>\n      <td>24</td>\n      <td>5</td>\n      <td>3.572327</td>\n    </tr>\n  </tbody>\n</table>\n<p>20000 rows × 4 columns</p>\n</div>"
     },
     "metadata": {},
     "execution_count": 28
    }
   ],
   "source": [
    "predict_mlp()"
   ]
  },
  {
   "source": [
    "## NeuMF\n",
    "Modello che combina MF a MLP"
   ],
   "cell_type": "markdown",
   "metadata": {}
  },
  {
   "cell_type": "code",
   "execution_count": 55,
   "metadata": {},
   "outputs": [],
   "source": [
    "# number of latent factor for MLP and MF\n",
    "n_latent_factors_user = 8\n",
    "n_latent_factors_movie = 8\n",
    "n_latent_factors_mf = 5\n",
    "\n",
    "# movie embedding MLP\n",
    "movie_input = keras.layers.Input(shape=[1],name='Item')\n",
    "movie_embedding_mlp = keras.layers.Embedding(n_movies + 1, n_latent_factors_movie, name='movie_embedding_MLP')(movie_input)\n",
    "movie_vec_mlp = keras.layers.Flatten(name='flatten_movie_MLP')(movie_embedding_mlp)\n",
    "\n",
    "# movie embedding MF\n",
    "movie_embedding_mf = keras.layers.Embedding(n_movies + 1, n_latent_factors_mf, name='movie_embedding_MF')(movie_input)\n",
    "movie_vec_mf = keras.layers.Flatten(name='flatten_movie_MF')(movie_embedding_mf)\n",
    "\n",
    "# user embedding MLP\n",
    "user_input = keras.layers.Input(shape=[1],name='User')\n",
    "user_vec_mlp = keras.layers.Flatten(name='flatten_user_MLP')(keras.layers.Embedding(n_users + 1, n_latent_factors_user,name='user_embedding_MLP')(user_input))\n",
    "\n",
    "# user embedding MF\n",
    "user_vec_mf = keras.layers.Flatten(name='flatten_user_MF')(keras.layers.Embedding(n_users + 1, n_latent_factors_mf,name='user_embedding_MF')(user_input))\n",
    "\n",
    "# concat movie embedding and user embedding for MLP\n",
    "concat = keras.layers.Concatenate(name='user_concat_movie')([movie_vec_mlp, user_vec_mlp])\n",
    "\n",
    "# fully connected layers for MLP\n",
    "dense_1 = keras.layers.Dense(24,name='fully_connected_1')(concat)\n",
    "dense_2 = keras.layers.Dense(16,name='fully_connected_2')(dense_1)\n",
    "dense_3 = keras.layers.Dense(8,name='fully_connected_3')(dense_2)\n",
    "\n",
    "# MF dot product\n",
    "dot_mf = keras.layers.dot([movie_vec_mf, user_vec_mf], axes=1,name='dot_product')\n",
    "\n",
    "# Concatenate MF and MLP\n",
    "concat_mlp_mf = keras.layers.Concatenate(name='concat_MF_MLP')([dot_mf, dense_3])\n",
    "\n",
    "# Output layer\n",
    "result = keras.layers.Dense(1,name='output')(concat_mlp_mf)"
   ]
  },
  {
   "cell_type": "code",
   "execution_count": 56,
   "metadata": {},
   "outputs": [
    {
     "output_type": "stream",
     "name": "stdout",
     "text": [
      "Model: \"model_15\"\n__________________________________________________________________________________________________\nLayer (type)                    Output Shape         Param #     Connected to                     \n==================================================================================================\nItem (InputLayer)               [(None, 1)]          0                                            \n__________________________________________________________________________________________________\nUser (InputLayer)               [(None, 1)]          0                                            \n__________________________________________________________________________________________________\nmovie_embedding_MLP (Embedding) (None, 1, 8)         13464       Item[0][0]                       \n__________________________________________________________________________________________________\nuser_embedding_MLP (Embedding)  (None, 1, 8)         7552        User[0][0]                       \n__________________________________________________________________________________________________\nflatten_movie_MLP (Flatten)     (None, 8)            0           movie_embedding_MLP[0][0]        \n__________________________________________________________________________________________________\nflatten_user_MLP (Flatten)      (None, 8)            0           user_embedding_MLP[0][0]         \n__________________________________________________________________________________________________\nuser_concat_movie (Concatenate) (None, 16)           0           flatten_movie_MLP[0][0]          \n                                                                 flatten_user_MLP[0][0]           \n__________________________________________________________________________________________________\nmovie_embedding_MF (Embedding)  (None, 1, 3)         5049        Item[0][0]                       \n__________________________________________________________________________________________________\nuser_embedding_MF (Embedding)   (None, 1, 3)         2832        User[0][0]                       \n__________________________________________________________________________________________________\nfully_connected_1 (Dense)       (None, 24)           408         user_concat_movie[0][0]          \n__________________________________________________________________________________________________\nflatten_movie_MF (Flatten)      (None, 3)            0           movie_embedding_MF[0][0]         \n__________________________________________________________________________________________________\nflatten_user_MF (Flatten)       (None, 3)            0           user_embedding_MF[0][0]          \n__________________________________________________________________________________________________\nfully_connected_2 (Dense)       (None, 16)           400         fully_connected_1[0][0]          \n__________________________________________________________________________________________________\ndot_product (Dot)               (None, 1)            0           flatten_movie_MF[0][0]           \n                                                                 flatten_user_MF[0][0]            \n__________________________________________________________________________________________________\nfully_connected_3 (Dense)       (None, 8)            136         fully_connected_2[0][0]          \n__________________________________________________________________________________________________\nconcat_MF_MLP (Concatenate)     (None, 9)            0           dot_product[0][0]                \n                                                                 fully_connected_3[0][0]          \n__________________________________________________________________________________________________\noutput (Dense)                  (None, 1)            10          concat_MF_MLP[0][0]              \n==================================================================================================\nTotal params: 29,851\nTrainable params: 29,851\nNon-trainable params: 0\n__________________________________________________________________________________________________\n"
     ]
    }
   ],
   "source": [
    "neumf = keras.Model([user_input, movie_input], result)\n",
    "neumf.compile(optimizer='adam',loss= 'mean_absolute_error', metrics=['mae', 'mse'])\n",
    "neumf.summary()\n"
   ]
  },
  {
   "cell_type": "code",
   "execution_count": 57,
   "metadata": {},
   "outputs": [
    {
     "output_type": "execute_result",
     "data": {
      "image/png": "[encoded data removed]",
      "text/plain": [
       "<IPython.core.display.Image object>"
      ]
     },
     "metadata": {},
     "execution_count": 57
    }
   ],
   "source": [
    "tf.keras.utils.plot_model(neumf)"
   ]
  },
  {
   "cell_type": "code",
   "execution_count": 51,
   "metadata": {},
   "outputs": [
    {
     "output_type": "stream",
     "name": "stdout",
     "text": [
      "Epoch 1/10\n",
      "2500/2500 [==============================] - 9s 4ms/step - loss: 0.8212 - mae: 0.8212 - mse: 1.1575\n",
      "Epoch 2/10\n",
      "2500/2500 [==============================] - 12s 5ms/step - loss: 0.7409 - mae: 0.7409 - mse: 0.9127\n",
      "Epoch 3/10\n",
      "2500/2500 [==============================] - 10s 4ms/step - loss: 0.7150 - mae: 0.7150 - mse: 0.8642\n",
      "Epoch 4/10\n",
      "2500/2500 [==============================] - 11s 5ms/step - loss: 0.6953 - mae: 0.6953 - mse: 0.8287\n",
      "Epoch 5/10\n",
      "2500/2500 [==============================] - 13s 5ms/step - loss: 0.6842 - mae: 0.6842 - mse: 0.8084\n",
      "Epoch 6/10\n",
      "2500/2500 [==============================] - 12s 5ms/step - loss: 0.6750 - mae: 0.6750 - mse: 0.7923\n",
      "Epoch 7/10\n",
      "2500/2500 [==============================] - 11s 5ms/step - loss: 0.6683 - mae: 0.6683 - mse: 0.7819\n",
      "Epoch 8/10\n",
      "2500/2500 [==============================] - 12s 5ms/step - loss: 0.6630 - mae: 0.6630 - mse: 0.7734\n",
      "Epoch 9/10\n",
      "2500/2500 [==============================] - 13s 5ms/step - loss: 0.6586 - mae: 0.6586 - mse: 0.7665\n",
      "Epoch 10/10\n",
      "2500/2500 [==============================] - 13s 5ms/step - loss: 0.6547 - mae: 0.6547 - mse: 0.7602\n"
     ]
    },
    {
     "output_type": "execute_result",
     "data": {
      "text/plain": [
       "<tensorflow.python.keras.callbacks.History at 0x7f396c2964f0>"
      ]
     },
     "metadata": {},
     "execution_count": 51
    }
   ],
   "source": [
    "neumf.fit([train.user_id, train.item_id], train.rating, epochs=10, verbose=1)"
   ]
  },
  {
   "cell_type": "code",
   "execution_count": 53,
   "metadata": {},
   "outputs": [
    {
     "output_type": "stream",
     "name": "stdout",
     "text": [
      "20000/20000 [==============================] - 56s 3ms/step - loss: 0.7520 - mae: 0.7520 - mse: 0.9489\n"
     ]
    }
   ],
   "source": [
    " results_neumf = neumf.evaluate((test.user_id, test.item_id), test.rating, batch_size=1)"
   ]
  },
  {
   "cell_type": "code",
   "execution_count": null,
   "metadata": {},
   "outputs": [],
   "source": []
  }
 ]
}