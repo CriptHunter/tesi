{
  "nbformat": 4,
  "nbformat_minor": 0,
  "metadata": {
    "language_info": {
      "codemirror_mode": {
        "name": "ipython",
        "version": 3
      },
      "file_extension": ".py",
      "mimetype": "text/x-python",
      "name": "python",
      "nbconvert_exporter": "python",
      "pygments_lexer": "ipython3",
      "version": "3.8.3-final"
    },
    "orig_nbformat": 2,
    "kernelspec": {
      "name": "python3",
      "display_name": "Python 3",
      "language": "python"
    },
    "colab": {
      "name": "CARS_DL_Colab.ipynb",
      "provenance": [],
      "collapsed_sections": [
        "YasL9GIGF3Jb",
        "IzbMVL48MAcU",
        "Hc-eF273f_OO",
        "OZPRR_K7yxM7",
        "NIfSxcyQzRzn",
        "P04efe0tHSi1",
        "Wi6Hnk5grCYQ",
        "ykDB1wk2y6ku",
        "REozrj4XYyD9",
        "Q9v4gahGImJG",
        "1cozjpFFyxM-",
        "IBf_rCHlBnes",
        "okY4WYDkgNHz",
        "Cx_QLRDs73oa"
      ],
      "toc_visible": true
    },
    "accelerator": "GPU"
  },
  "cells": [
    {
      "cell_type": "markdown",
      "metadata": {
        "id": "A7qy_0RayxMy"
      },
      "source": [
        "# CARS recommender system\n",
        "Implementation of the deep NN model described in the paper \"Context-Aware Recommendations Based on Deep\n",
        "Learning Frameworks\".\n",
        "https://dl.acm.org/doi/10.1145/3386243\n",
        "\n",
        "Datasets:\n",
        "- frappe\n"
      ]
    },
    {
      "cell_type": "markdown",
      "metadata": {
        "id": "YasL9GIGF3Jb"
      },
      "source": [
        "## Import"
      ]
    },
    {
      "cell_type": "markdown",
      "metadata": {
        "id": "wUPMS2KCF0nl"
      },
      "source": [
        ""
      ]
    },
    {
      "cell_type": "code",
      "metadata": {
        "id": "1q4UgOkhyxM4",
        "colab": {
          "base_uri": "https://localhost:8080/"
        },
        "outputId": "b1df51e7-c065-4ed5-869b-e9d3f5032c03"
      },
      "source": [
        "import pandas as pd\n",
        "import numpy as np\n",
        "from sklearn.model_selection import train_test_split # to split dataset in two parts\n",
        "from sklearn.model_selection import KFold # to split dataset using  k-fold cross validation\n",
        "from sklearn.metrics import * # evaluation metrics\n",
        "import tensorflow as tf\n",
        "from tensorflow import keras\n",
        "from keras.layers import Dense, BatchNormalization, Dropout, Input, Embedding, Flatten, Concatenate\n",
        "from keras.optimizers import Adam\n",
        "import matplotlib\n",
        "import matplotlib.pyplot as plt # for creating chart\n",
        "import requests # for downloading the dataset\n",
        "from collections import deque # queue data structure\n",
        "from scipy.cluster.hierarchy import * # for hierarchical clustering\n",
        "from sklearn.cluster import AgglomerativeClustering\n",
        "import itertools\n",
        "from sklearn.decomposition import PCA\n",
        "!pip install scikit-surprise\n",
        "from surprise import Reader, Dataset, SVD\n",
        "from surprise.model_selection.validation import cross_validate"
      ],
      "execution_count": 1,
      "outputs": [
        {
          "output_type": "stream",
          "text": [
            "Requirement already satisfied: scikit-surprise in /usr/local/lib/python3.6/dist-packages (1.1.1)\n",
            "Requirement already satisfied: numpy>=1.11.2 in /usr/local/lib/python3.6/dist-packages (from scikit-surprise) (1.19.5)\n",
            "Requirement already satisfied: six>=1.10.0 in /usr/local/lib/python3.6/dist-packages (from scikit-surprise) (1.15.0)\n",
            "Requirement already satisfied: joblib>=0.11 in /usr/local/lib/python3.6/dist-packages (from scikit-surprise) (1.0.0)\n",
            "Requirement already satisfied: scipy>=1.0.0 in /usr/local/lib/python3.6/dist-packages (from scikit-surprise) (1.4.1)\n"
          ],
          "name": "stdout"
        }
      ]
    },
    {
      "cell_type": "markdown",
      "metadata": {
        "id": "IzbMVL48MAcU"
      },
      "source": [
        "\n",
        "\n",
        "## Some functions\n",
        "\n"
      ]
    },
    {
      "cell_type": "code",
      "metadata": {
        "id": "5CFVxgFQL_4P"
      },
      "source": [
        "# plot loss based on history of model.fit, ymin and ymax are the minimum and maximum values of the y axis\n",
        "def plot_loss(history, ymin=0, ymax=1):\n",
        "  plt.plot(history.history['loss'], label='loss')\n",
        "  plt.ylim([ymin, ymax])\n",
        "  plt.xlabel('Epoch')\n",
        "  plt.ylabel('Error')\n",
        "  plt.legend()\n",
        "  plt.grid(True)\n",
        "\n",
        "# plot chart of true values on predictions\n",
        "def plot_predictions(test_y, pred_y):\n",
        "  a = plt.axes(aspect='equal')\n",
        "  plt.scatter(test_y, pred_y)\n",
        "  plt.xlabel('True Values')\n",
        "  plt.ylabel('Predictions')\n",
        "  lims = [0, 5]\n",
        "  plt.xlim(lims)\n",
        "  plt.ylim(lims)\n",
        "  _ = plt.plot(lims, lims)\n",
        "\n",
        "def sigmoid(x):\n",
        "   return 1 / ( 1 + np.exp(-x))\n",
        "\n",
        "# k-fold cross validation object\n",
        "kf = KFold(n_splits=2, random_state=42, shuffle=True)\n",
        "\n",
        "def kfold_train(model, epochs, batch_size, verbose, df, x_labels, y_label, \n",
        "                kf, using_context=False, context_labels=None):\n",
        "    '''\n",
        "    Train a model using K-fold CV\n",
        "\n",
        "    Parameters:\n",
        "        model: the model to be trained\n",
        "        epochs: training epochs for each fold\n",
        "        batch_size: batch size for each fold\n",
        "        verbose: show training batch and loss\n",
        "        df: the dataframe on which the model will be trained\n",
        "        x_labels: features labels\n",
        "        y_label: desired output labels\n",
        "        using_context: if the model incorporates context\n",
        "        context_labels: contextual features labels\n",
        "        kf: sklearn kfold object\n",
        "    '''\n",
        "    idx = 0\n",
        "    rmse = np.empty(kf.n_splits)\n",
        "    mae = np.empty(kf.n_splits)\n",
        "\n",
        "    for train_index, test_index in kf.split(df):\n",
        "        print(f'Training on fold {idx}...')\n",
        "        train_x = df.loc[train_index, x_labels]  # get a dataset subset with df.loc[rows, columns]\n",
        "        train_y = df.loc[train_index, y_label]\n",
        "        if using_context: # if the model supports contextual features\n",
        "            train_context = df.loc[train_index, context_labels]\n",
        "            model.fit([train_x.user, train_x.item, train_context], train_y, epochs=epochs, batch_size=batch_size, verbose=verbose)\n",
        "        else:\n",
        "            model.fit([train_x.user, train_x.item], train_y, epochs=epochs, batch_size=batch_size, verbose=verbose)\n",
        "\n",
        "        print(f'Testing on fold {idx}...')\n",
        "        test_x = df.loc[test_index, x_labels]\n",
        "        test_y = df.loc[test_index, y_label]\n",
        "        if using_context:\n",
        "            test_context = df.loc[test_index, context_labels]\n",
        "            pred_y = model.predict([test_x.user, test_x.item, test_context]).flatten()\n",
        "        else:\n",
        "            pred_y = model.predict([test_x.user, test_x.item]).flatten()\n",
        "\n",
        "        rmse[idx] = mean_squared_error(test_y, pred_y, squared = False)\n",
        "        mae[idx] = mean_absolute_error(test_y, pred_y)\n",
        "        print(f'RMSE = {rmse[idx]}    MAE = {mae[idx]}')\n",
        "\n",
        "        idx = idx + 1\n",
        "    \n",
        "    return np.mean(rmse), np.mean(mae)"
      ],
      "execution_count": 2,
      "outputs": []
    },
    {
      "cell_type": "markdown",
      "metadata": {
        "id": "Q1m4VXWTFeGE"
      },
      "source": [
        "\n",
        "## Dataset"
      ]
    },
    {
      "cell_type": "markdown",
      "metadata": {
        "id": "Hc-eF273f_OO"
      },
      "source": [
        "### Load dataset"
      ]
    },
    {
      "cell_type": "code",
      "metadata": {
        "id": "dxz5jCSiyxM6",
        "colab": {
          "base_uri": "https://localhost:8080/"
        },
        "outputId": "cc152dc7-3fbe-489b-ab86-c476c5e73399"
      },
      "source": [
        "# download the dataset\n",
        "url = 'https://raw.githubusercontent.com/CriptHunter/tesi/master/CARS_DL/frappe/frappe.csv'\n",
        "req = requests.get(url, allow_redirects=True)\n",
        "open('frappe.csv', 'wb').write(req.content)"
      ],
      "execution_count": 3,
      "outputs": [
        {
          "output_type": "execute_result",
          "data": {
            "text/plain": [
              "6313241"
            ]
          },
          "metadata": {
            "tags": []
          },
          "execution_count": 3
        }
      ]
    },
    {
      "cell_type": "code",
      "metadata": {
        "id": "TlzGyC-g6HQM",
        "colab": {
          "base_uri": "https://localhost:8080/",
          "height": 0
        },
        "outputId": "3f536de5-33c4-4ae1-d840-9d8fb10cc1a5"
      },
      "source": [
        "# open the dataset\n",
        "df = pd.read_csv('/content/frappe.csv', sep=\"\\t\")\n",
        "df"
      ],
      "execution_count": 4,
      "outputs": [
        {
          "output_type": "execute_result",
          "data": {
            "text/html": [
              "<div>\n",
              "<style scoped>\n",
              "    .dataframe tbody tr th:only-of-type {\n",
              "        vertical-align: middle;\n",
              "    }\n",
              "\n",
              "    .dataframe tbody tr th {\n",
              "        vertical-align: top;\n",
              "    }\n",
              "\n",
              "    .dataframe thead th {\n",
              "        text-align: right;\n",
              "    }\n",
              "</style>\n",
              "<table border=\"1\" class=\"dataframe\">\n",
              "  <thead>\n",
              "    <tr style=\"text-align: right;\">\n",
              "      <th></th>\n",
              "      <th>user</th>\n",
              "      <th>item</th>\n",
              "      <th>cnt</th>\n",
              "      <th>daytime</th>\n",
              "      <th>weekday</th>\n",
              "      <th>isweekend</th>\n",
              "      <th>homework</th>\n",
              "      <th>cost</th>\n",
              "      <th>weather</th>\n",
              "      <th>country</th>\n",
              "      <th>city</th>\n",
              "    </tr>\n",
              "  </thead>\n",
              "  <tbody>\n",
              "    <tr>\n",
              "      <th>0</th>\n",
              "      <td>0</td>\n",
              "      <td>0</td>\n",
              "      <td>1</td>\n",
              "      <td>morning</td>\n",
              "      <td>sunday</td>\n",
              "      <td>weekend</td>\n",
              "      <td>unknown</td>\n",
              "      <td>free</td>\n",
              "      <td>sunny</td>\n",
              "      <td>United States</td>\n",
              "      <td>0</td>\n",
              "    </tr>\n",
              "    <tr>\n",
              "      <th>1</th>\n",
              "      <td>1</td>\n",
              "      <td>1</td>\n",
              "      <td>7</td>\n",
              "      <td>afternoon</td>\n",
              "      <td>saturday</td>\n",
              "      <td>weekend</td>\n",
              "      <td>unknown</td>\n",
              "      <td>free</td>\n",
              "      <td>cloudy</td>\n",
              "      <td>Spain</td>\n",
              "      <td>0</td>\n",
              "    </tr>\n",
              "    <tr>\n",
              "      <th>2</th>\n",
              "      <td>2</td>\n",
              "      <td>2</td>\n",
              "      <td>6</td>\n",
              "      <td>evening</td>\n",
              "      <td>monday</td>\n",
              "      <td>workday</td>\n",
              "      <td>unknown</td>\n",
              "      <td>free</td>\n",
              "      <td>cloudy</td>\n",
              "      <td>Spain</td>\n",
              "      <td>369</td>\n",
              "    </tr>\n",
              "    <tr>\n",
              "      <th>3</th>\n",
              "      <td>3</td>\n",
              "      <td>3</td>\n",
              "      <td>1</td>\n",
              "      <td>sunset</td>\n",
              "      <td>thursday</td>\n",
              "      <td>workday</td>\n",
              "      <td>unknown</td>\n",
              "      <td>free</td>\n",
              "      <td>unknown</td>\n",
              "      <td>United States</td>\n",
              "      <td>1028</td>\n",
              "    </tr>\n",
              "    <tr>\n",
              "      <th>4</th>\n",
              "      <td>4</td>\n",
              "      <td>4</td>\n",
              "      <td>428</td>\n",
              "      <td>night</td>\n",
              "      <td>thursday</td>\n",
              "      <td>workday</td>\n",
              "      <td>home</td>\n",
              "      <td>free</td>\n",
              "      <td>sunny</td>\n",
              "      <td>Switzerland</td>\n",
              "      <td>147</td>\n",
              "    </tr>\n",
              "    <tr>\n",
              "      <th>...</th>\n",
              "      <td>...</td>\n",
              "      <td>...</td>\n",
              "      <td>...</td>\n",
              "      <td>...</td>\n",
              "      <td>...</td>\n",
              "      <td>...</td>\n",
              "      <td>...</td>\n",
              "      <td>...</td>\n",
              "      <td>...</td>\n",
              "      <td>...</td>\n",
              "      <td>...</td>\n",
              "    </tr>\n",
              "    <tr>\n",
              "      <th>96198</th>\n",
              "      <td>110</td>\n",
              "      <td>0</td>\n",
              "      <td>5</td>\n",
              "      <td>evening</td>\n",
              "      <td>sunday</td>\n",
              "      <td>weekend</td>\n",
              "      <td>unknown</td>\n",
              "      <td>free</td>\n",
              "      <td>sunny</td>\n",
              "      <td>United States</td>\n",
              "      <td>0</td>\n",
              "    </tr>\n",
              "    <tr>\n",
              "      <th>96199</th>\n",
              "      <td>37</td>\n",
              "      <td>16</td>\n",
              "      <td>101</td>\n",
              "      <td>sunset</td>\n",
              "      <td>sunday</td>\n",
              "      <td>weekend</td>\n",
              "      <td>unknown</td>\n",
              "      <td>free</td>\n",
              "      <td>cloudy</td>\n",
              "      <td>Canada</td>\n",
              "      <td>128</td>\n",
              "    </tr>\n",
              "    <tr>\n",
              "      <th>96200</th>\n",
              "      <td>181</td>\n",
              "      <td>33</td>\n",
              "      <td>243</td>\n",
              "      <td>afternoon</td>\n",
              "      <td>sunday</td>\n",
              "      <td>weekend</td>\n",
              "      <td>unknown</td>\n",
              "      <td>free</td>\n",
              "      <td>cloudy</td>\n",
              "      <td>Israel</td>\n",
              "      <td>454</td>\n",
              "    </tr>\n",
              "    <tr>\n",
              "      <th>96201</th>\n",
              "      <td>451</td>\n",
              "      <td>752</td>\n",
              "      <td>1</td>\n",
              "      <td>evening</td>\n",
              "      <td>sunday</td>\n",
              "      <td>weekend</td>\n",
              "      <td>unknown</td>\n",
              "      <td>free</td>\n",
              "      <td>sunny</td>\n",
              "      <td>United States</td>\n",
              "      <td>0</td>\n",
              "    </tr>\n",
              "    <tr>\n",
              "      <th>96202</th>\n",
              "      <td>364</td>\n",
              "      <td>380</td>\n",
              "      <td>3</td>\n",
              "      <td>evening</td>\n",
              "      <td>thursday</td>\n",
              "      <td>workday</td>\n",
              "      <td>unknown</td>\n",
              "      <td>free</td>\n",
              "      <td>cloudy</td>\n",
              "      <td>United States</td>\n",
              "      <td>0</td>\n",
              "    </tr>\n",
              "  </tbody>\n",
              "</table>\n",
              "<p>96203 rows × 11 columns</p>\n",
              "</div>"
            ],
            "text/plain": [
              "       user  item  cnt    daytime  ...  cost  weather        country  city\n",
              "0         0     0    1    morning  ...  free    sunny  United States     0\n",
              "1         1     1    7  afternoon  ...  free   cloudy          Spain     0\n",
              "2         2     2    6    evening  ...  free   cloudy          Spain   369\n",
              "3         3     3    1     sunset  ...  free  unknown  United States  1028\n",
              "4         4     4  428      night  ...  free    sunny    Switzerland   147\n",
              "...     ...   ...  ...        ...  ...   ...      ...            ...   ...\n",
              "96198   110     0    5    evening  ...  free    sunny  United States     0\n",
              "96199    37    16  101     sunset  ...  free   cloudy         Canada   128\n",
              "96200   181    33  243  afternoon  ...  free   cloudy         Israel   454\n",
              "96201   451   752    1    evening  ...  free    sunny  United States     0\n",
              "96202   364   380    3    evening  ...  free   cloudy  United States     0\n",
              "\n",
              "[96203 rows x 11 columns]"
            ]
          },
          "metadata": {
            "tags": []
          },
          "execution_count": 4
        }
      ]
    },
    {
      "cell_type": "code",
      "metadata": {
        "id": "WoRlfX6OyxM7",
        "colab": {
          "base_uri": "https://localhost:8080/",
          "height": 0
        },
        "outputId": "327c6446-f14d-4d3d-ade1-0119360b0de4"
      },
      "source": [
        "# count unique values for each column\n",
        "display(\"------ unique values ------\")\n",
        "display(df.nunique())\n",
        "\n",
        "# count number of unknown values for each column\n",
        "display(\"------ unknown values ------\")\n",
        "display(df.isin(['unknown']).sum(axis=0))\n",
        "\n",
        "# count number of zero values for each column (for city 0 == unknown)\n",
        "display(\"------ zero values ------\")\n",
        "display(df.isin([0]).sum(axis=0))"
      ],
      "execution_count": 5,
      "outputs": [
        {
          "output_type": "display_data",
          "data": {
            "application/vnd.google.colaboratory.intrinsic+json": {
              "type": "string"
            },
            "text/plain": [
              "'------ unique values ------'"
            ]
          },
          "metadata": {
            "tags": []
          }
        },
        {
          "output_type": "display_data",
          "data": {
            "text/plain": [
              "user          957\n",
              "item         4082\n",
              "cnt          1981\n",
              "daytime         7\n",
              "weekday         7\n",
              "isweekend       2\n",
              "homework        3\n",
              "cost            2\n",
              "weather         9\n",
              "country        80\n",
              "city          233\n",
              "dtype: int64"
            ]
          },
          "metadata": {
            "tags": []
          }
        },
        {
          "output_type": "display_data",
          "data": {
            "application/vnd.google.colaboratory.intrinsic+json": {
              "type": "string"
            },
            "text/plain": [
              "'------ unknown values ------'"
            ]
          },
          "metadata": {
            "tags": []
          }
        },
        {
          "output_type": "display_data",
          "data": {
            "text/plain": [
              "user             0\n",
              "item             0\n",
              "cnt              0\n",
              "daytime          0\n",
              "weekday          0\n",
              "isweekend        0\n",
              "homework     75670\n",
              "cost             0\n",
              "weather      12529\n",
              "country       7025\n",
              "city             0\n",
              "dtype: int64"
            ]
          },
          "metadata": {
            "tags": []
          }
        },
        {
          "output_type": "display_data",
          "data": {
            "application/vnd.google.colaboratory.intrinsic+json": {
              "type": "string"
            },
            "text/plain": [
              "'------ zero values ------'"
            ]
          },
          "metadata": {
            "tags": []
          }
        },
        {
          "output_type": "display_data",
          "data": {
            "text/plain": [
              "user            25\n",
              "item           521\n",
              "cnt              0\n",
              "daytime          0\n",
              "weekday          0\n",
              "isweekend        0\n",
              "homework         0\n",
              "cost             0\n",
              "weather          0\n",
              "country          0\n",
              "city         38052\n",
              "dtype: int64"
            ]
          },
          "metadata": {
            "tags": []
          }
        }
      ]
    },
    {
      "cell_type": "markdown",
      "metadata": {
        "id": "OZPRR_K7yxM7"
      },
      "source": [
        "### Dataset preprocessing"
      ]
    },
    {
      "cell_type": "code",
      "metadata": {
        "id": "i6_OSazcyxM8"
      },
      "source": [
        "# log transformation on the raw frequency numbers that represent the applications usage\n",
        "df['cnt'] = df['cnt'].apply(np.log10)\n",
        "f\"frequency range is {df['cnt'][df['cnt'] == df['cnt'].min()].values[0]} to {df['cnt'][df['cnt'] == df['cnt'].max()].values[0]}\"\n",
        "\n",
        "# delete columns that are not needed\n",
        "del df['homework']\n",
        "del df['cost']\n",
        "del df['city']\n",
        "del df['isweekend']\n",
        "del df['country']"
      ],
      "execution_count": 6,
      "outputs": []
    },
    {
      "cell_type": "code",
      "metadata": {
        "id": "qFAc_KxJyxM8",
        "colab": {
          "base_uri": "https://localhost:8080/",
          "height": 0
        },
        "outputId": "b78dff6a-cc48-496d-b4c9-9af28a3b81c9"
      },
      "source": [
        "# delete rows where weather is unknown\n",
        "df = df[df.weather != 'unknown']\n",
        "df = df.reset_index(drop=True)\n",
        "\n",
        "# make user and items id start from 0\n",
        "df.user = pd.factorize(df.user)[0]\n",
        "df.item = pd.factorize(df.item)[0]\n",
        "\n",
        "df"
      ],
      "execution_count": 7,
      "outputs": [
        {
          "output_type": "execute_result",
          "data": {
            "text/html": [
              "<div>\n",
              "<style scoped>\n",
              "    .dataframe tbody tr th:only-of-type {\n",
              "        vertical-align: middle;\n",
              "    }\n",
              "\n",
              "    .dataframe tbody tr th {\n",
              "        vertical-align: top;\n",
              "    }\n",
              "\n",
              "    .dataframe thead th {\n",
              "        text-align: right;\n",
              "    }\n",
              "</style>\n",
              "<table border=\"1\" class=\"dataframe\">\n",
              "  <thead>\n",
              "    <tr style=\"text-align: right;\">\n",
              "      <th></th>\n",
              "      <th>user</th>\n",
              "      <th>item</th>\n",
              "      <th>cnt</th>\n",
              "      <th>daytime</th>\n",
              "      <th>weekday</th>\n",
              "      <th>weather</th>\n",
              "    </tr>\n",
              "  </thead>\n",
              "  <tbody>\n",
              "    <tr>\n",
              "      <th>0</th>\n",
              "      <td>0</td>\n",
              "      <td>0</td>\n",
              "      <td>0.000000</td>\n",
              "      <td>morning</td>\n",
              "      <td>sunday</td>\n",
              "      <td>sunny</td>\n",
              "    </tr>\n",
              "    <tr>\n",
              "      <th>1</th>\n",
              "      <td>1</td>\n",
              "      <td>1</td>\n",
              "      <td>0.845098</td>\n",
              "      <td>afternoon</td>\n",
              "      <td>saturday</td>\n",
              "      <td>cloudy</td>\n",
              "    </tr>\n",
              "    <tr>\n",
              "      <th>2</th>\n",
              "      <td>2</td>\n",
              "      <td>2</td>\n",
              "      <td>0.778151</td>\n",
              "      <td>evening</td>\n",
              "      <td>monday</td>\n",
              "      <td>cloudy</td>\n",
              "    </tr>\n",
              "    <tr>\n",
              "      <th>3</th>\n",
              "      <td>3</td>\n",
              "      <td>3</td>\n",
              "      <td>2.631444</td>\n",
              "      <td>night</td>\n",
              "      <td>thursday</td>\n",
              "      <td>sunny</td>\n",
              "    </tr>\n",
              "    <tr>\n",
              "      <th>4</th>\n",
              "      <td>4</td>\n",
              "      <td>4</td>\n",
              "      <td>0.778151</td>\n",
              "      <td>sunset</td>\n",
              "      <td>saturday</td>\n",
              "      <td>sunny</td>\n",
              "    </tr>\n",
              "    <tr>\n",
              "      <th>...</th>\n",
              "      <td>...</td>\n",
              "      <td>...</td>\n",
              "      <td>...</td>\n",
              "      <td>...</td>\n",
              "      <td>...</td>\n",
              "      <td>...</td>\n",
              "    </tr>\n",
              "    <tr>\n",
              "      <th>83669</th>\n",
              "      <td>96</td>\n",
              "      <td>0</td>\n",
              "      <td>0.698970</td>\n",
              "      <td>evening</td>\n",
              "      <td>sunday</td>\n",
              "      <td>sunny</td>\n",
              "    </tr>\n",
              "    <tr>\n",
              "      <th>83670</th>\n",
              "      <td>30</td>\n",
              "      <td>33</td>\n",
              "      <td>2.004321</td>\n",
              "      <td>sunset</td>\n",
              "      <td>sunday</td>\n",
              "      <td>cloudy</td>\n",
              "    </tr>\n",
              "    <tr>\n",
              "      <th>83671</th>\n",
              "      <td>156</td>\n",
              "      <td>26</td>\n",
              "      <td>2.385606</td>\n",
              "      <td>afternoon</td>\n",
              "      <td>sunday</td>\n",
              "      <td>cloudy</td>\n",
              "    </tr>\n",
              "    <tr>\n",
              "      <th>83672</th>\n",
              "      <td>399</td>\n",
              "      <td>672</td>\n",
              "      <td>0.000000</td>\n",
              "      <td>evening</td>\n",
              "      <td>sunday</td>\n",
              "      <td>sunny</td>\n",
              "    </tr>\n",
              "    <tr>\n",
              "      <th>83673</th>\n",
              "      <td>319</td>\n",
              "      <td>343</td>\n",
              "      <td>0.477121</td>\n",
              "      <td>evening</td>\n",
              "      <td>thursday</td>\n",
              "      <td>cloudy</td>\n",
              "    </tr>\n",
              "  </tbody>\n",
              "</table>\n",
              "<p>83674 rows × 6 columns</p>\n",
              "</div>"
            ],
            "text/plain": [
              "       user  item       cnt    daytime   weekday weather\n",
              "0         0     0  0.000000    morning    sunday   sunny\n",
              "1         1     1  0.845098  afternoon  saturday  cloudy\n",
              "2         2     2  0.778151    evening    monday  cloudy\n",
              "3         3     3  2.631444      night  thursday   sunny\n",
              "4         4     4  0.778151     sunset  saturday   sunny\n",
              "...     ...   ...       ...        ...       ...     ...\n",
              "83669    96     0  0.698970    evening    sunday   sunny\n",
              "83670    30    33  2.004321     sunset    sunday  cloudy\n",
              "83671   156    26  2.385606  afternoon    sunday  cloudy\n",
              "83672   399   672  0.000000    evening    sunday   sunny\n",
              "83673   319   343  0.477121    evening  thursday  cloudy\n",
              "\n",
              "[83674 rows x 6 columns]"
            ]
          },
          "metadata": {
            "tags": []
          },
          "execution_count": 7
        }
      ]
    },
    {
      "cell_type": "code",
      "metadata": {
        "id": "vzwi3oscyxM8",
        "colab": {
          "base_uri": "https://localhost:8080/",
          "height": 0
        },
        "outputId": "a09365a0-611a-4298-eff3-913c52b11fc4"
      },
      "source": [
        "x_labels = ['user', 'item']\n",
        "y_label = 'cnt'\n",
        "context_labels = ['daytime', 'weekday', 'weather']\n",
        "\n",
        "# convert categorical data to one-hot encoding\n",
        "for col in context_labels:\n",
        "  df = pd.get_dummies(df, columns=[col], prefix = [col])\n",
        "\n",
        "# new context labels after one-hot encoding are columns from 3 to the end\n",
        "context_labels = df.columns[3:]\n",
        "df"
      ],
      "execution_count": 8,
      "outputs": [
        {
          "output_type": "execute_result",
          "data": {
            "text/html": [
              "<div>\n",
              "<style scoped>\n",
              "    .dataframe tbody tr th:only-of-type {\n",
              "        vertical-align: middle;\n",
              "    }\n",
              "\n",
              "    .dataframe tbody tr th {\n",
              "        vertical-align: top;\n",
              "    }\n",
              "\n",
              "    .dataframe thead th {\n",
              "        text-align: right;\n",
              "    }\n",
              "</style>\n",
              "<table border=\"1\" class=\"dataframe\">\n",
              "  <thead>\n",
              "    <tr style=\"text-align: right;\">\n",
              "      <th></th>\n",
              "      <th>user</th>\n",
              "      <th>item</th>\n",
              "      <th>cnt</th>\n",
              "      <th>daytime_afternoon</th>\n",
              "      <th>daytime_evening</th>\n",
              "      <th>daytime_morning</th>\n",
              "      <th>daytime_night</th>\n",
              "      <th>daytime_noon</th>\n",
              "      <th>daytime_sunrise</th>\n",
              "      <th>daytime_sunset</th>\n",
              "      <th>weekday_friday</th>\n",
              "      <th>weekday_monday</th>\n",
              "      <th>weekday_saturday</th>\n",
              "      <th>weekday_sunday</th>\n",
              "      <th>weekday_thursday</th>\n",
              "      <th>weekday_tuesday</th>\n",
              "      <th>weekday_wednesday</th>\n",
              "      <th>weather_cloudy</th>\n",
              "      <th>weather_drizzle</th>\n",
              "      <th>weather_foggy</th>\n",
              "      <th>weather_rainy</th>\n",
              "      <th>weather_sleet</th>\n",
              "      <th>weather_snowy</th>\n",
              "      <th>weather_stormy</th>\n",
              "      <th>weather_sunny</th>\n",
              "    </tr>\n",
              "  </thead>\n",
              "  <tbody>\n",
              "    <tr>\n",
              "      <th>0</th>\n",
              "      <td>0</td>\n",
              "      <td>0</td>\n",
              "      <td>0.000000</td>\n",
              "      <td>0</td>\n",
              "      <td>0</td>\n",
              "      <td>1</td>\n",
              "      <td>0</td>\n",
              "      <td>0</td>\n",
              "      <td>0</td>\n",
              "      <td>0</td>\n",
              "      <td>0</td>\n",
              "      <td>0</td>\n",
              "      <td>0</td>\n",
              "      <td>1</td>\n",
              "      <td>0</td>\n",
              "      <td>0</td>\n",
              "      <td>0</td>\n",
              "      <td>0</td>\n",
              "      <td>0</td>\n",
              "      <td>0</td>\n",
              "      <td>0</td>\n",
              "      <td>0</td>\n",
              "      <td>0</td>\n",
              "      <td>0</td>\n",
              "      <td>1</td>\n",
              "    </tr>\n",
              "    <tr>\n",
              "      <th>1</th>\n",
              "      <td>1</td>\n",
              "      <td>1</td>\n",
              "      <td>0.845098</td>\n",
              "      <td>1</td>\n",
              "      <td>0</td>\n",
              "      <td>0</td>\n",
              "      <td>0</td>\n",
              "      <td>0</td>\n",
              "      <td>0</td>\n",
              "      <td>0</td>\n",
              "      <td>0</td>\n",
              "      <td>0</td>\n",
              "      <td>1</td>\n",
              "      <td>0</td>\n",
              "      <td>0</td>\n",
              "      <td>0</td>\n",
              "      <td>0</td>\n",
              "      <td>1</td>\n",
              "      <td>0</td>\n",
              "      <td>0</td>\n",
              "      <td>0</td>\n",
              "      <td>0</td>\n",
              "      <td>0</td>\n",
              "      <td>0</td>\n",
              "      <td>0</td>\n",
              "    </tr>\n",
              "    <tr>\n",
              "      <th>2</th>\n",
              "      <td>2</td>\n",
              "      <td>2</td>\n",
              "      <td>0.778151</td>\n",
              "      <td>0</td>\n",
              "      <td>1</td>\n",
              "      <td>0</td>\n",
              "      <td>0</td>\n",
              "      <td>0</td>\n",
              "      <td>0</td>\n",
              "      <td>0</td>\n",
              "      <td>0</td>\n",
              "      <td>1</td>\n",
              "      <td>0</td>\n",
              "      <td>0</td>\n",
              "      <td>0</td>\n",
              "      <td>0</td>\n",
              "      <td>0</td>\n",
              "      <td>1</td>\n",
              "      <td>0</td>\n",
              "      <td>0</td>\n",
              "      <td>0</td>\n",
              "      <td>0</td>\n",
              "      <td>0</td>\n",
              "      <td>0</td>\n",
              "      <td>0</td>\n",
              "    </tr>\n",
              "    <tr>\n",
              "      <th>3</th>\n",
              "      <td>3</td>\n",
              "      <td>3</td>\n",
              "      <td>2.631444</td>\n",
              "      <td>0</td>\n",
              "      <td>0</td>\n",
              "      <td>0</td>\n",
              "      <td>1</td>\n",
              "      <td>0</td>\n",
              "      <td>0</td>\n",
              "      <td>0</td>\n",
              "      <td>0</td>\n",
              "      <td>0</td>\n",
              "      <td>0</td>\n",
              "      <td>0</td>\n",
              "      <td>1</td>\n",
              "      <td>0</td>\n",
              "      <td>0</td>\n",
              "      <td>0</td>\n",
              "      <td>0</td>\n",
              "      <td>0</td>\n",
              "      <td>0</td>\n",
              "      <td>0</td>\n",
              "      <td>0</td>\n",
              "      <td>0</td>\n",
              "      <td>1</td>\n",
              "    </tr>\n",
              "    <tr>\n",
              "      <th>4</th>\n",
              "      <td>4</td>\n",
              "      <td>4</td>\n",
              "      <td>0.778151</td>\n",
              "      <td>0</td>\n",
              "      <td>0</td>\n",
              "      <td>0</td>\n",
              "      <td>0</td>\n",
              "      <td>0</td>\n",
              "      <td>0</td>\n",
              "      <td>1</td>\n",
              "      <td>0</td>\n",
              "      <td>0</td>\n",
              "      <td>1</td>\n",
              "      <td>0</td>\n",
              "      <td>0</td>\n",
              "      <td>0</td>\n",
              "      <td>0</td>\n",
              "      <td>0</td>\n",
              "      <td>0</td>\n",
              "      <td>0</td>\n",
              "      <td>0</td>\n",
              "      <td>0</td>\n",
              "      <td>0</td>\n",
              "      <td>0</td>\n",
              "      <td>1</td>\n",
              "    </tr>\n",
              "    <tr>\n",
              "      <th>...</th>\n",
              "      <td>...</td>\n",
              "      <td>...</td>\n",
              "      <td>...</td>\n",
              "      <td>...</td>\n",
              "      <td>...</td>\n",
              "      <td>...</td>\n",
              "      <td>...</td>\n",
              "      <td>...</td>\n",
              "      <td>...</td>\n",
              "      <td>...</td>\n",
              "      <td>...</td>\n",
              "      <td>...</td>\n",
              "      <td>...</td>\n",
              "      <td>...</td>\n",
              "      <td>...</td>\n",
              "      <td>...</td>\n",
              "      <td>...</td>\n",
              "      <td>...</td>\n",
              "      <td>...</td>\n",
              "      <td>...</td>\n",
              "      <td>...</td>\n",
              "      <td>...</td>\n",
              "      <td>...</td>\n",
              "      <td>...</td>\n",
              "      <td>...</td>\n",
              "    </tr>\n",
              "    <tr>\n",
              "      <th>83669</th>\n",
              "      <td>96</td>\n",
              "      <td>0</td>\n",
              "      <td>0.698970</td>\n",
              "      <td>0</td>\n",
              "      <td>1</td>\n",
              "      <td>0</td>\n",
              "      <td>0</td>\n",
              "      <td>0</td>\n",
              "      <td>0</td>\n",
              "      <td>0</td>\n",
              "      <td>0</td>\n",
              "      <td>0</td>\n",
              "      <td>0</td>\n",
              "      <td>1</td>\n",
              "      <td>0</td>\n",
              "      <td>0</td>\n",
              "      <td>0</td>\n",
              "      <td>0</td>\n",
              "      <td>0</td>\n",
              "      <td>0</td>\n",
              "      <td>0</td>\n",
              "      <td>0</td>\n",
              "      <td>0</td>\n",
              "      <td>0</td>\n",
              "      <td>1</td>\n",
              "    </tr>\n",
              "    <tr>\n",
              "      <th>83670</th>\n",
              "      <td>30</td>\n",
              "      <td>33</td>\n",
              "      <td>2.004321</td>\n",
              "      <td>0</td>\n",
              "      <td>0</td>\n",
              "      <td>0</td>\n",
              "      <td>0</td>\n",
              "      <td>0</td>\n",
              "      <td>0</td>\n",
              "      <td>1</td>\n",
              "      <td>0</td>\n",
              "      <td>0</td>\n",
              "      <td>0</td>\n",
              "      <td>1</td>\n",
              "      <td>0</td>\n",
              "      <td>0</td>\n",
              "      <td>0</td>\n",
              "      <td>1</td>\n",
              "      <td>0</td>\n",
              "      <td>0</td>\n",
              "      <td>0</td>\n",
              "      <td>0</td>\n",
              "      <td>0</td>\n",
              "      <td>0</td>\n",
              "      <td>0</td>\n",
              "    </tr>\n",
              "    <tr>\n",
              "      <th>83671</th>\n",
              "      <td>156</td>\n",
              "      <td>26</td>\n",
              "      <td>2.385606</td>\n",
              "      <td>1</td>\n",
              "      <td>0</td>\n",
              "      <td>0</td>\n",
              "      <td>0</td>\n",
              "      <td>0</td>\n",
              "      <td>0</td>\n",
              "      <td>0</td>\n",
              "      <td>0</td>\n",
              "      <td>0</td>\n",
              "      <td>0</td>\n",
              "      <td>1</td>\n",
              "      <td>0</td>\n",
              "      <td>0</td>\n",
              "      <td>0</td>\n",
              "      <td>1</td>\n",
              "      <td>0</td>\n",
              "      <td>0</td>\n",
              "      <td>0</td>\n",
              "      <td>0</td>\n",
              "      <td>0</td>\n",
              "      <td>0</td>\n",
              "      <td>0</td>\n",
              "    </tr>\n",
              "    <tr>\n",
              "      <th>83672</th>\n",
              "      <td>399</td>\n",
              "      <td>672</td>\n",
              "      <td>0.000000</td>\n",
              "      <td>0</td>\n",
              "      <td>1</td>\n",
              "      <td>0</td>\n",
              "      <td>0</td>\n",
              "      <td>0</td>\n",
              "      <td>0</td>\n",
              "      <td>0</td>\n",
              "      <td>0</td>\n",
              "      <td>0</td>\n",
              "      <td>0</td>\n",
              "      <td>1</td>\n",
              "      <td>0</td>\n",
              "      <td>0</td>\n",
              "      <td>0</td>\n",
              "      <td>0</td>\n",
              "      <td>0</td>\n",
              "      <td>0</td>\n",
              "      <td>0</td>\n",
              "      <td>0</td>\n",
              "      <td>0</td>\n",
              "      <td>0</td>\n",
              "      <td>1</td>\n",
              "    </tr>\n",
              "    <tr>\n",
              "      <th>83673</th>\n",
              "      <td>319</td>\n",
              "      <td>343</td>\n",
              "      <td>0.477121</td>\n",
              "      <td>0</td>\n",
              "      <td>1</td>\n",
              "      <td>0</td>\n",
              "      <td>0</td>\n",
              "      <td>0</td>\n",
              "      <td>0</td>\n",
              "      <td>0</td>\n",
              "      <td>0</td>\n",
              "      <td>0</td>\n",
              "      <td>0</td>\n",
              "      <td>0</td>\n",
              "      <td>1</td>\n",
              "      <td>0</td>\n",
              "      <td>0</td>\n",
              "      <td>1</td>\n",
              "      <td>0</td>\n",
              "      <td>0</td>\n",
              "      <td>0</td>\n",
              "      <td>0</td>\n",
              "      <td>0</td>\n",
              "      <td>0</td>\n",
              "      <td>0</td>\n",
              "    </tr>\n",
              "  </tbody>\n",
              "</table>\n",
              "<p>83674 rows × 25 columns</p>\n",
              "</div>"
            ],
            "text/plain": [
              "       user  item       cnt  ...  weather_snowy  weather_stormy  weather_sunny\n",
              "0         0     0  0.000000  ...              0               0              1\n",
              "1         1     1  0.845098  ...              0               0              0\n",
              "2         2     2  0.778151  ...              0               0              0\n",
              "3         3     3  2.631444  ...              0               0              1\n",
              "4         4     4  0.778151  ...              0               0              1\n",
              "...     ...   ...       ...  ...            ...             ...            ...\n",
              "83669    96     0  0.698970  ...              0               0              1\n",
              "83670    30    33  2.004321  ...              0               0              0\n",
              "83671   156    26  2.385606  ...              0               0              0\n",
              "83672   399   672  0.000000  ...              0               0              1\n",
              "83673   319   343  0.477121  ...              0               0              0\n",
              "\n",
              "[83674 rows x 25 columns]"
            ]
          },
          "metadata": {
            "tags": []
          },
          "execution_count": 8
        }
      ]
    },
    {
      "cell_type": "code",
      "metadata": {
        "id": "SYutpX2ryxM-",
        "colab": {
          "base_uri": "https://localhost:8080/",
          "height": 0
        },
        "outputId": "f74a226a-8723-490f-f7d4-a98e17241a42"
      },
      "source": [
        "# count number of unique users and items\n",
        "n_users, n_items = len(df.user.unique()), len(df.item.unique())\n",
        "n_context = len(context_labels)\n",
        "\n",
        "f'Number of users: {n_users}      Number of apps: {n_items}     Number of context features: {n_context}'"
      ],
      "execution_count": 9,
      "outputs": [
        {
          "output_type": "execute_result",
          "data": {
            "application/vnd.google.colaboratory.intrinsic+json": {
              "type": "string"
            },
            "text/plain": [
              "'Number of users: 862      Number of apps: 3663     Number of context features: 22'"
            ]
          },
          "metadata": {
            "tags": []
          },
          "execution_count": 9
        }
      ]
    },
    {
      "cell_type": "markdown",
      "metadata": {
        "id": "NIfSxcyQzRzn"
      },
      "source": [
        "### Latent context extraction\n"
      ]
    },
    {
      "cell_type": "markdown",
      "metadata": {
        "id": "7OclHf_U97Pr"
      },
      "source": [
        "#### With autoencoder"
      ]
    },
    {
      "cell_type": "code",
      "metadata": {
        "id": "DO1R_ZVl783U"
      },
      "source": [
        "train_context_AE, test_context_AE = train_test_split(df.loc[:,context_labels], test_size=0.2)"
      ],
      "execution_count": 10,
      "outputs": []
    },
    {
      "cell_type": "code",
      "metadata": {
        "id": "0iHJfOanzNQy"
      },
      "source": [
        "# size of the encoded representation\n",
        "n_latent_context = 11\n",
        "\n",
        "# input layer\n",
        "input = Input(shape=(n_context,))\n",
        "# the encoded representation of the input\n",
        "encoded = Dense(n_latent_context, activation='sigmoid')(input)\n",
        "# the reconstruction of the input\n",
        "decoded = Dense(n_context, activation='sigmoid')(encoded)\n",
        "\n",
        "# Autoencoder model\n",
        "autoencoder = keras.Model(input, decoded)\n",
        "\n",
        "# Only encoder model\n",
        "encoder = keras.Model(input, encoded)\n",
        "\n",
        "# Only Decoder model\n",
        "encoded_input = keras.Input(shape=(n_latent_context,))   # takes as input the encoded context\n",
        "decoder_layer = autoencoder.layers[-1]   # Retrieve the last layer of the autoencoder model\n",
        "decoder = keras.Model(encoded_input, decoder_layer(encoded_input))\n",
        "\n",
        "autoencoder.compile(optimizer='adam', loss='binary_crossentropy')"
      ],
      "execution_count": 11,
      "outputs": []
    },
    {
      "cell_type": "code",
      "metadata": {
        "id": "fqmXeqgOZ0KZ"
      },
      "source": [
        "# train the autoencoder on the context\n",
        "history = autoencoder.fit(train_context_AE, train_context_AE,\n",
        "                          epochs=50,\n",
        "                          verbose=False,\n",
        "                          batch_size=128,\n",
        "                          validation_data=(test_context_AE, test_context_AE))"
      ],
      "execution_count": 12,
      "outputs": []
    },
    {
      "cell_type": "code",
      "metadata": {
        "id": "mnPVHgFhOvzx",
        "colab": {
          "base_uri": "https://localhost:8080/",
          "height": 0
        },
        "outputId": "bf52a319-81bb-4b31-b794-bb7e7925c860"
      },
      "source": [
        "plot_loss(history, ymin=0, ymax=0.5)"
      ],
      "execution_count": 13,
      "outputs": [
        {
          "output_type": "display_data",
          "data": {
            "image/png": "[encoded data removed]",
            "text/plain": [
              "<Figure size 432x288 with 1 Axes>"
            ]
          },
          "metadata": {
            "tags": [],
            "needs_background": "light"
          }
        }
      ]
    },
    {
      "cell_type": "code",
      "metadata": {
        "id": "ZDXtf6_aEm_S"
      },
      "source": [
        "# weight matrix of neurons that connect input layers to hidden layer\n",
        "# get weight returns a list of weights and biases, by taking weight[0] you extract only the weights\n",
        "weight_matrix = autoencoder.layers[1].get_weights()[0]\n",
        "weight_matrix = np.asarray(weight_matrix)\n",
        "\n",
        "def get_latent_context_AE():\n",
        "    latent_context = np.empty(shape=(df.shape[0], n_latent_context))\n",
        "    latent_context_labels = [f\"latent_{x}\" for x in range(n_latent_context)]\n",
        "    \n",
        "    # multiply each context sample for the weight matrix\n",
        "    for idx, s in enumerate(df.loc[:, context_labels].values):\n",
        "        latent_context[idx] = s @ weight_matrix\n",
        "    \n",
        "    # apply activation function\n",
        "    latent_context = sigmoid(latent_context)\n",
        "    df_latent_context = pd.DataFrame(latent_context, columns=latent_context_labels)\n",
        "\n",
        "    return df_latent_context, latent_context_labels"
      ],
      "execution_count": 14,
      "outputs": []
    },
    {
      "cell_type": "markdown",
      "metadata": {
        "id": "VV89AtG_-Ms5"
      },
      "source": [
        "####With PCA"
      ]
    },
    {
      "cell_type": "code",
      "metadata": {
        "id": "AQiYQ_kJ-UoB"
      },
      "source": [
        "def get_latent_context_PCA(n_latent_context):\n",
        "    latent_context_labels = [f\"latent_{x}\" for x in range(n_latent_context)]\n",
        "    pca = PCA(n_components=n_latent_context)\n",
        "    pca.fit(df.loc[:,context_labels])\n",
        "    latent_context = pca.transform(df.loc[:,context_labels])  \n",
        "    df_latent_context = pd.DataFrame(latent_context, columns=latent_context_labels)\n",
        "    return df_latent_context, latent_context_labels"
      ],
      "execution_count": 15,
      "outputs": []
    },
    {
      "cell_type": "markdown",
      "metadata": {
        "id": "P04efe0tHSi1"
      },
      "source": [
        "#### Run selected method"
      ]
    },
    {
      "cell_type": "code",
      "metadata": {
        "colab": {
          "base_uri": "https://localhost:8080/",
          "height": 0
        },
        "id": "FGbX4jMLHgzQ",
        "outputId": "6e2be50b-344a-4830-a8c0-e9ba9c76a6d7"
      },
      "source": [
        "method = 'AE'\n",
        "if method == 'PCA': # latent context with PCA\n",
        "    df_latent_context, latent_context_labels = get_latent_context_PCA(n_latent_context)\n",
        "    df = pd.concat([df, df_latent_context], axis=1)\n",
        "elif method == 'AE': # latent context with AE\n",
        "    df_latent_context, latent_context_labels = get_latent_context_AE()\n",
        "    df = pd.concat([df, df_latent_context], axis=1)\n",
        "df"
      ],
      "execution_count": 16,
      "outputs": [
        {
          "output_type": "execute_result",
          "data": {
            "text/html": [
              "<div>\n",
              "<style scoped>\n",
              "    .dataframe tbody tr th:only-of-type {\n",
              "        vertical-align: middle;\n",
              "    }\n",
              "\n",
              "    .dataframe tbody tr th {\n",
              "        vertical-align: top;\n",
              "    }\n",
              "\n",
              "    .dataframe thead th {\n",
              "        text-align: right;\n",
              "    }\n",
              "</style>\n",
              "<table border=\"1\" class=\"dataframe\">\n",
              "  <thead>\n",
              "    <tr style=\"text-align: right;\">\n",
              "      <th></th>\n",
              "      <th>user</th>\n",
              "      <th>item</th>\n",
              "      <th>cnt</th>\n",
              "      <th>daytime_afternoon</th>\n",
              "      <th>daytime_evening</th>\n",
              "      <th>daytime_morning</th>\n",
              "      <th>daytime_night</th>\n",
              "      <th>daytime_noon</th>\n",
              "      <th>daytime_sunrise</th>\n",
              "      <th>daytime_sunset</th>\n",
              "      <th>weekday_friday</th>\n",
              "      <th>weekday_monday</th>\n",
              "      <th>weekday_saturday</th>\n",
              "      <th>weekday_sunday</th>\n",
              "      <th>weekday_thursday</th>\n",
              "      <th>weekday_tuesday</th>\n",
              "      <th>weekday_wednesday</th>\n",
              "      <th>weather_cloudy</th>\n",
              "      <th>weather_drizzle</th>\n",
              "      <th>weather_foggy</th>\n",
              "      <th>weather_rainy</th>\n",
              "      <th>weather_sleet</th>\n",
              "      <th>weather_snowy</th>\n",
              "      <th>weather_stormy</th>\n",
              "      <th>weather_sunny</th>\n",
              "      <th>latent_0</th>\n",
              "      <th>latent_1</th>\n",
              "      <th>latent_2</th>\n",
              "      <th>latent_3</th>\n",
              "      <th>latent_4</th>\n",
              "      <th>latent_5</th>\n",
              "      <th>latent_6</th>\n",
              "      <th>latent_7</th>\n",
              "      <th>latent_8</th>\n",
              "      <th>latent_9</th>\n",
              "      <th>latent_10</th>\n",
              "    </tr>\n",
              "  </thead>\n",
              "  <tbody>\n",
              "    <tr>\n",
              "      <th>0</th>\n",
              "      <td>0</td>\n",
              "      <td>0</td>\n",
              "      <td>0.000000</td>\n",
              "      <td>0</td>\n",
              "      <td>0</td>\n",
              "      <td>1</td>\n",
              "      <td>0</td>\n",
              "      <td>0</td>\n",
              "      <td>0</td>\n",
              "      <td>0</td>\n",
              "      <td>0</td>\n",
              "      <td>0</td>\n",
              "      <td>0</td>\n",
              "      <td>1</td>\n",
              "      <td>0</td>\n",
              "      <td>0</td>\n",
              "      <td>0</td>\n",
              "      <td>0</td>\n",
              "      <td>0</td>\n",
              "      <td>0</td>\n",
              "      <td>0</td>\n",
              "      <td>0</td>\n",
              "      <td>0</td>\n",
              "      <td>0</td>\n",
              "      <td>1</td>\n",
              "      <td>0.001305</td>\n",
              "      <td>0.976896</td>\n",
              "      <td>0.914369</td>\n",
              "      <td>0.599577</td>\n",
              "      <td>0.114146</td>\n",
              "      <td>0.017636</td>\n",
              "      <td>0.997196</td>\n",
              "      <td>0.924460</td>\n",
              "      <td>0.480097</td>\n",
              "      <td>0.013814</td>\n",
              "      <td>0.510822</td>\n",
              "    </tr>\n",
              "    <tr>\n",
              "      <th>1</th>\n",
              "      <td>1</td>\n",
              "      <td>1</td>\n",
              "      <td>0.845098</td>\n",
              "      <td>1</td>\n",
              "      <td>0</td>\n",
              "      <td>0</td>\n",
              "      <td>0</td>\n",
              "      <td>0</td>\n",
              "      <td>0</td>\n",
              "      <td>0</td>\n",
              "      <td>0</td>\n",
              "      <td>0</td>\n",
              "      <td>1</td>\n",
              "      <td>0</td>\n",
              "      <td>0</td>\n",
              "      <td>0</td>\n",
              "      <td>0</td>\n",
              "      <td>1</td>\n",
              "      <td>0</td>\n",
              "      <td>0</td>\n",
              "      <td>0</td>\n",
              "      <td>0</td>\n",
              "      <td>0</td>\n",
              "      <td>0</td>\n",
              "      <td>0</td>\n",
              "      <td>0.998195</td>\n",
              "      <td>0.800464</td>\n",
              "      <td>0.889886</td>\n",
              "      <td>0.955961</td>\n",
              "      <td>0.914488</td>\n",
              "      <td>0.050380</td>\n",
              "      <td>0.007933</td>\n",
              "      <td>0.906656</td>\n",
              "      <td>0.279149</td>\n",
              "      <td>0.994040</td>\n",
              "      <td>0.172615</td>\n",
              "    </tr>\n",
              "    <tr>\n",
              "      <th>2</th>\n",
              "      <td>2</td>\n",
              "      <td>2</td>\n",
              "      <td>0.778151</td>\n",
              "      <td>0</td>\n",
              "      <td>1</td>\n",
              "      <td>0</td>\n",
              "      <td>0</td>\n",
              "      <td>0</td>\n",
              "      <td>0</td>\n",
              "      <td>0</td>\n",
              "      <td>0</td>\n",
              "      <td>1</td>\n",
              "      <td>0</td>\n",
              "      <td>0</td>\n",
              "      <td>0</td>\n",
              "      <td>0</td>\n",
              "      <td>0</td>\n",
              "      <td>1</td>\n",
              "      <td>0</td>\n",
              "      <td>0</td>\n",
              "      <td>0</td>\n",
              "      <td>0</td>\n",
              "      <td>0</td>\n",
              "      <td>0</td>\n",
              "      <td>0</td>\n",
              "      <td>0.997458</td>\n",
              "      <td>0.957544</td>\n",
              "      <td>0.031465</td>\n",
              "      <td>0.207913</td>\n",
              "      <td>0.893735</td>\n",
              "      <td>0.938680</td>\n",
              "      <td>0.807353</td>\n",
              "      <td>0.245144</td>\n",
              "      <td>0.913804</td>\n",
              "      <td>0.171387</td>\n",
              "      <td>0.305884</td>\n",
              "    </tr>\n",
              "    <tr>\n",
              "      <th>3</th>\n",
              "      <td>3</td>\n",
              "      <td>3</td>\n",
              "      <td>2.631444</td>\n",
              "      <td>0</td>\n",
              "      <td>0</td>\n",
              "      <td>0</td>\n",
              "      <td>1</td>\n",
              "      <td>0</td>\n",
              "      <td>0</td>\n",
              "      <td>0</td>\n",
              "      <td>0</td>\n",
              "      <td>0</td>\n",
              "      <td>0</td>\n",
              "      <td>0</td>\n",
              "      <td>1</td>\n",
              "      <td>0</td>\n",
              "      <td>0</td>\n",
              "      <td>0</td>\n",
              "      <td>0</td>\n",
              "      <td>0</td>\n",
              "      <td>0</td>\n",
              "      <td>0</td>\n",
              "      <td>0</td>\n",
              "      <td>0</td>\n",
              "      <td>1</td>\n",
              "      <td>0.158519</td>\n",
              "      <td>0.814041</td>\n",
              "      <td>0.467998</td>\n",
              "      <td>0.119519</td>\n",
              "      <td>0.867447</td>\n",
              "      <td>0.437767</td>\n",
              "      <td>0.384655</td>\n",
              "      <td>0.945900</td>\n",
              "      <td>0.039677</td>\n",
              "      <td>0.725747</td>\n",
              "      <td>0.990565</td>\n",
              "    </tr>\n",
              "    <tr>\n",
              "      <th>4</th>\n",
              "      <td>4</td>\n",
              "      <td>4</td>\n",
              "      <td>0.778151</td>\n",
              "      <td>0</td>\n",
              "      <td>0</td>\n",
              "      <td>0</td>\n",
              "      <td>0</td>\n",
              "      <td>0</td>\n",
              "      <td>0</td>\n",
              "      <td>1</td>\n",
              "      <td>0</td>\n",
              "      <td>0</td>\n",
              "      <td>1</td>\n",
              "      <td>0</td>\n",
              "      <td>0</td>\n",
              "      <td>0</td>\n",
              "      <td>0</td>\n",
              "      <td>0</td>\n",
              "      <td>0</td>\n",
              "      <td>0</td>\n",
              "      <td>0</td>\n",
              "      <td>0</td>\n",
              "      <td>0</td>\n",
              "      <td>0</td>\n",
              "      <td>1</td>\n",
              "      <td>0.052132</td>\n",
              "      <td>0.671061</td>\n",
              "      <td>0.054495</td>\n",
              "      <td>0.996131</td>\n",
              "      <td>0.561741</td>\n",
              "      <td>0.004581</td>\n",
              "      <td>0.994524</td>\n",
              "      <td>0.989246</td>\n",
              "      <td>0.225741</td>\n",
              "      <td>0.867215</td>\n",
              "      <td>0.868675</td>\n",
              "    </tr>\n",
              "    <tr>\n",
              "      <th>...</th>\n",
              "      <td>...</td>\n",
              "      <td>...</td>\n",
              "      <td>...</td>\n",
              "      <td>...</td>\n",
              "      <td>...</td>\n",
              "      <td>...</td>\n",
              "      <td>...</td>\n",
              "      <td>...</td>\n",
              "      <td>...</td>\n",
              "      <td>...</td>\n",
              "      <td>...</td>\n",
              "      <td>...</td>\n",
              "      <td>...</td>\n",
              "      <td>...</td>\n",
              "      <td>...</td>\n",
              "      <td>...</td>\n",
              "      <td>...</td>\n",
              "      <td>...</td>\n",
              "      <td>...</td>\n",
              "      <td>...</td>\n",
              "      <td>...</td>\n",
              "      <td>...</td>\n",
              "      <td>...</td>\n",
              "      <td>...</td>\n",
              "      <td>...</td>\n",
              "      <td>...</td>\n",
              "      <td>...</td>\n",
              "      <td>...</td>\n",
              "      <td>...</td>\n",
              "      <td>...</td>\n",
              "      <td>...</td>\n",
              "      <td>...</td>\n",
              "      <td>...</td>\n",
              "      <td>...</td>\n",
              "      <td>...</td>\n",
              "      <td>...</td>\n",
              "    </tr>\n",
              "    <tr>\n",
              "      <th>83669</th>\n",
              "      <td>96</td>\n",
              "      <td>0</td>\n",
              "      <td>0.698970</td>\n",
              "      <td>0</td>\n",
              "      <td>1</td>\n",
              "      <td>0</td>\n",
              "      <td>0</td>\n",
              "      <td>0</td>\n",
              "      <td>0</td>\n",
              "      <td>0</td>\n",
              "      <td>0</td>\n",
              "      <td>0</td>\n",
              "      <td>0</td>\n",
              "      <td>1</td>\n",
              "      <td>0</td>\n",
              "      <td>0</td>\n",
              "      <td>0</td>\n",
              "      <td>0</td>\n",
              "      <td>0</td>\n",
              "      <td>0</td>\n",
              "      <td>0</td>\n",
              "      <td>0</td>\n",
              "      <td>0</td>\n",
              "      <td>0</td>\n",
              "      <td>1</td>\n",
              "      <td>0.995512</td>\n",
              "      <td>0.976556</td>\n",
              "      <td>0.148583</td>\n",
              "      <td>0.983539</td>\n",
              "      <td>0.630194</td>\n",
              "      <td>0.012011</td>\n",
              "      <td>0.996249</td>\n",
              "      <td>0.847592</td>\n",
              "      <td>0.639146</td>\n",
              "      <td>0.006869</td>\n",
              "      <td>0.866655</td>\n",
              "    </tr>\n",
              "    <tr>\n",
              "      <th>83670</th>\n",
              "      <td>30</td>\n",
              "      <td>33</td>\n",
              "      <td>2.004321</td>\n",
              "      <td>0</td>\n",
              "      <td>0</td>\n",
              "      <td>0</td>\n",
              "      <td>0</td>\n",
              "      <td>0</td>\n",
              "      <td>0</td>\n",
              "      <td>1</td>\n",
              "      <td>0</td>\n",
              "      <td>0</td>\n",
              "      <td>0</td>\n",
              "      <td>1</td>\n",
              "      <td>0</td>\n",
              "      <td>0</td>\n",
              "      <td>0</td>\n",
              "      <td>1</td>\n",
              "      <td>0</td>\n",
              "      <td>0</td>\n",
              "      <td>0</td>\n",
              "      <td>0</td>\n",
              "      <td>0</td>\n",
              "      <td>0</td>\n",
              "      <td>0</td>\n",
              "      <td>0.069387</td>\n",
              "      <td>0.918339</td>\n",
              "      <td>0.027701</td>\n",
              "      <td>0.992352</td>\n",
              "      <td>0.674419</td>\n",
              "      <td>0.144369</td>\n",
              "      <td>0.782460</td>\n",
              "      <td>0.822234</td>\n",
              "      <td>0.978062</td>\n",
              "      <td>0.310383</td>\n",
              "      <td>0.067929</td>\n",
              "    </tr>\n",
              "    <tr>\n",
              "      <th>83671</th>\n",
              "      <td>156</td>\n",
              "      <td>26</td>\n",
              "      <td>2.385606</td>\n",
              "      <td>1</td>\n",
              "      <td>0</td>\n",
              "      <td>0</td>\n",
              "      <td>0</td>\n",
              "      <td>0</td>\n",
              "      <td>0</td>\n",
              "      <td>0</td>\n",
              "      <td>0</td>\n",
              "      <td>0</td>\n",
              "      <td>0</td>\n",
              "      <td>1</td>\n",
              "      <td>0</td>\n",
              "      <td>0</td>\n",
              "      <td>0</td>\n",
              "      <td>1</td>\n",
              "      <td>0</td>\n",
              "      <td>0</td>\n",
              "      <td>0</td>\n",
              "      <td>0</td>\n",
              "      <td>0</td>\n",
              "      <td>0</td>\n",
              "      <td>0</td>\n",
              "      <td>0.998410</td>\n",
              "      <td>0.972603</td>\n",
              "      <td>0.895367</td>\n",
              "      <td>0.941562</td>\n",
              "      <td>0.748977</td>\n",
              "      <td>0.151971</td>\n",
              "      <td>0.007852</td>\n",
              "      <td>0.660177</td>\n",
              "      <td>0.884832</td>\n",
              "      <td>0.237526</td>\n",
              "      <td>0.110042</td>\n",
              "    </tr>\n",
              "    <tr>\n",
              "      <th>83672</th>\n",
              "      <td>399</td>\n",
              "      <td>672</td>\n",
              "      <td>0.000000</td>\n",
              "      <td>0</td>\n",
              "      <td>1</td>\n",
              "      <td>0</td>\n",
              "      <td>0</td>\n",
              "      <td>0</td>\n",
              "      <td>0</td>\n",
              "      <td>0</td>\n",
              "      <td>0</td>\n",
              "      <td>0</td>\n",
              "      <td>0</td>\n",
              "      <td>1</td>\n",
              "      <td>0</td>\n",
              "      <td>0</td>\n",
              "      <td>0</td>\n",
              "      <td>0</td>\n",
              "      <td>0</td>\n",
              "      <td>0</td>\n",
              "      <td>0</td>\n",
              "      <td>0</td>\n",
              "      <td>0</td>\n",
              "      <td>0</td>\n",
              "      <td>1</td>\n",
              "      <td>0.995512</td>\n",
              "      <td>0.976556</td>\n",
              "      <td>0.148583</td>\n",
              "      <td>0.983539</td>\n",
              "      <td>0.630194</td>\n",
              "      <td>0.012011</td>\n",
              "      <td>0.996249</td>\n",
              "      <td>0.847592</td>\n",
              "      <td>0.639146</td>\n",
              "      <td>0.006869</td>\n",
              "      <td>0.866655</td>\n",
              "    </tr>\n",
              "    <tr>\n",
              "      <th>83673</th>\n",
              "      <td>319</td>\n",
              "      <td>343</td>\n",
              "      <td>0.477121</td>\n",
              "      <td>0</td>\n",
              "      <td>1</td>\n",
              "      <td>0</td>\n",
              "      <td>0</td>\n",
              "      <td>0</td>\n",
              "      <td>0</td>\n",
              "      <td>0</td>\n",
              "      <td>0</td>\n",
              "      <td>0</td>\n",
              "      <td>0</td>\n",
              "      <td>0</td>\n",
              "      <td>1</td>\n",
              "      <td>0</td>\n",
              "      <td>0</td>\n",
              "      <td>1</td>\n",
              "      <td>0</td>\n",
              "      <td>0</td>\n",
              "      <td>0</td>\n",
              "      <td>0</td>\n",
              "      <td>0</td>\n",
              "      <td>0</td>\n",
              "      <td>0</td>\n",
              "      <td>0.997836</td>\n",
              "      <td>0.673386</td>\n",
              "      <td>0.027784</td>\n",
              "      <td>0.136912</td>\n",
              "      <td>0.978574</td>\n",
              "      <td>0.920004</td>\n",
              "      <td>0.823332</td>\n",
              "      <td>0.853250</td>\n",
              "      <td>0.311689</td>\n",
              "      <td>0.992634</td>\n",
              "      <td>0.503030</td>\n",
              "    </tr>\n",
              "  </tbody>\n",
              "</table>\n",
              "<p>83674 rows × 36 columns</p>\n",
              "</div>"
            ],
            "text/plain": [
              "       user  item       cnt  ...  latent_8  latent_9  latent_10\n",
              "0         0     0  0.000000  ...  0.480097  0.013814   0.510822\n",
              "1         1     1  0.845098  ...  0.279149  0.994040   0.172615\n",
              "2         2     2  0.778151  ...  0.913804  0.171387   0.305884\n",
              "3         3     3  2.631444  ...  0.039677  0.725747   0.990565\n",
              "4         4     4  0.778151  ...  0.225741  0.867215   0.868675\n",
              "...     ...   ...       ...  ...       ...       ...        ...\n",
              "83669    96     0  0.698970  ...  0.639146  0.006869   0.866655\n",
              "83670    30    33  2.004321  ...  0.978062  0.310383   0.067929\n",
              "83671   156    26  2.385606  ...  0.884832  0.237526   0.110042\n",
              "83672   399   672  0.000000  ...  0.639146  0.006869   0.866655\n",
              "83673   319   343  0.477121  ...  0.311689  0.992634   0.503030\n",
              "\n",
              "[83674 rows x 36 columns]"
            ]
          },
          "metadata": {
            "tags": []
          },
          "execution_count": 16
        }
      ]
    },
    {
      "cell_type": "markdown",
      "metadata": {
        "id": "Wi6Hnk5grCYQ"
      },
      "source": [
        "### Hierarchical context extraction"
      ]
    },
    {
      "cell_type": "code",
      "metadata": {
        "id": "pK0q24YHrQmo"
      },
      "source": [
        "def is_leaf(node):\n",
        "    return node.left is None and node.right is None\n",
        "\n",
        "# Recursive function to find paths from root node to every leaf node of a binary tree\n",
        "def root_leaf_paths(node, path, hierarchy):\n",
        "\n",
        "    if node is None:\n",
        "        return\n",
        " \n",
        "    path.append(node.id)\n",
        " \n",
        "    if is_leaf(node):\n",
        "        hierarchy.append(list(path)) # append a complete path to the list of all paths\n",
        " \n",
        "    # Call the functions on left and right subtrees\n",
        "    root_leaf_paths(node.left, path, hierarchy)\n",
        "    root_leaf_paths(node.right, path, hierarchy)\n",
        " \n",
        "    # remove current node after left and right subtrees are done\n",
        "    path.pop()\n",
        "\n",
        "def hierarchical_clustering(df):\n",
        "    linked = linkage(df, 'ward')  # linkage matrix\n",
        "    rootnode, nodelist = to_tree(linked, rd=True) # tree representing the hierarchical clustering\n",
        "    path = deque() # a path from the root node to a leaf\n",
        "    hierarchy = []\n",
        "    root_leaf_paths(rootnode, path, hierarchy)\n",
        "    longest_path = len(max(hierarchy, key=len)) # find longest path from root to leaf\n",
        "    hierarchy = [x + [x[-1]]*(longest_path - len(x)) for x in hierarchy] # make path of equal size\n",
        "    hierarchy.sort(key=lambda x: x[-1]) # sort the list by the last element (datapoints id)\n",
        "    return hierarchy"
      ],
      "execution_count": 17,
      "outputs": []
    },
    {
      "cell_type": "code",
      "metadata": {
        "id": "1-t8S6hDe9Jo",
        "colab": {
          "base_uri": "https://localhost:8080/"
        },
        "outputId": "f2251e1d-bf17-45b3-ade9-f99a88c5bcc5"
      },
      "source": [
        "# hier_context = hierarchical_clustering(df.loc[:30, latent_context_labels])\n",
        "# hier_context"
      ],
      "execution_count": 18,
      "outputs": [
        {
          "output_type": "execute_result",
          "data": {
            "text/plain": [
              "[[60, 57, 53, 52, 39, 0, 0, 0],\n",
              " [60, 59, 58, 54, 48, 31, 1, 1],\n",
              " [60, 59, 56, 42, 2, 2, 2, 2],\n",
              " [60, 59, 58, 55, 51, 37, 34, 3],\n",
              " [60, 57, 53, 40, 4, 4, 4, 4],\n",
              " [60, 59, 58, 54, 48, 43, 5, 5],\n",
              " [60, 57, 49, 35, 6, 6, 6, 6],\n",
              " [60, 59, 58, 55, 51, 45, 7, 7],\n",
              " [60, 57, 53, 40, 8, 8, 8, 8],\n",
              " [60, 59, 58, 55, 51, 37, 34, 9],\n",
              " [60, 59, 58, 54, 48, 43, 10, 10],\n",
              " [60, 59, 56, 50, 47, 32, 11, 11],\n",
              " [60, 57, 53, 52, 41, 12, 12, 12],\n",
              " [60, 59, 58, 55, 44, 13, 13, 13],\n",
              " [60, 57, 53, 52, 41, 14, 14, 14],\n",
              " [60, 59, 56, 50, 47, 15, 15, 15],\n",
              " [60, 57, 49, 46, 16, 16, 16, 16],\n",
              " [60, 57, 49, 46, 33, 17, 17, 17],\n",
              " [60, 59, 58, 54, 48, 31, 18, 18],\n",
              " [60, 59, 56, 42, 36, 19, 19, 19],\n",
              " [60, 59, 58, 55, 51, 37, 20, 20],\n",
              " [60, 59, 58, 55, 44, 38, 21, 21],\n",
              " [60, 59, 56, 42, 36, 22, 22, 22],\n",
              " [60, 59, 58, 55, 51, 45, 23, 23],\n",
              " [60, 57, 49, 35, 24, 24, 24, 24],\n",
              " [60, 57, 53, 52, 39, 25, 25, 25],\n",
              " [60, 59, 56, 50, 47, 32, 26, 26],\n",
              " [60, 57, 49, 46, 33, 27, 27, 27],\n",
              " [60, 59, 56, 50, 28, 28, 28, 28],\n",
              " [60, 59, 58, 55, 44, 38, 29, 29],\n",
              " [60, 59, 58, 54, 30, 30, 30, 30]]"
            ]
          },
          "metadata": {
            "tags": []
          },
          "execution_count": 18
        }
      ]
    },
    {
      "cell_type": "markdown",
      "metadata": {
        "id": "nvcSAyPmfgtc"
      },
      "source": [
        "## Models"
      ]
    },
    {
      "cell_type": "code",
      "metadata": {
        "id": "GRlRnW0w6lpo"
      },
      "source": [
        "# Dictionary that contain evaluation metrics for each model\n",
        "models_eval_metrics = {}\n",
        "\n",
        "# embedding vectors length\n",
        "n_latent_factors_user = n_users // 100\n",
        "n_latent_factors_item = n_items // 100\n",
        "\n",
        "# latent factors for matrix factorization\n",
        "n_latent_factors_mf = n_items // 100"
      ],
      "execution_count": 19,
      "outputs": []
    },
    {
      "cell_type": "markdown",
      "metadata": {
        "id": "ykDB1wk2y6ku"
      },
      "source": [
        "### Matrix factorization\r\n",
        "The famous SVD algorithm, as popularized by Simon Funk during the Netflix Prize"
      ]
    },
    {
      "cell_type": "code",
      "metadata": {
        "colab": {
          "base_uri": "https://localhost:8080/"
        },
        "id": "BzxFuYa2zAW6",
        "outputId": "4e9caadb-9e17-44db-e05a-960d3d9301d5"
      },
      "source": [
        "reader = Reader()\r\n",
        "data = Dataset.load_from_df(df[x_labels + [y_label]], reader) # load df in surprise\r\n",
        "svd = SVD() # MF model\r\n",
        "result = cross_validate(svd, data, measures=['RMSE', 'MAE'], cv=3, verbose=True) # get result\r\n",
        "rmse = np.mean(result['test_rmse'])\r\n",
        "mae = np.mean(result['test_mae'])\r\n",
        "models_eval_metrics['MF'] = [rmse, mae]"
      ],
      "execution_count": 20,
      "outputs": [
        {
          "output_type": "stream",
          "text": [
            "Evaluating RMSE, MAE of algorithm SVD on 3 split(s).\n",
            "\n",
            "                  Fold 1  Fold 2  Fold 3  Mean    Std     \n",
            "RMSE (testset)    0.7497  0.7531  0.7490  0.7506  0.0018  \n",
            "MAE (testset)     0.6305  0.6344  0.6294  0.6315  0.0021  \n",
            "Fit time          3.74    3.52    3.50    3.59    0.10    \n",
            "Test time         0.35    0.22    0.36    0.31    0.07    \n"
          ],
          "name": "stdout"
        }
      ]
    },
    {
      "cell_type": "markdown",
      "metadata": {
        "id": "REozrj4XYyD9"
      },
      "source": [
        "### NCF\r\n",
        "Multi-layer perceptron without context features"
      ]
    },
    {
      "cell_type": "code",
      "metadata": {
        "id": "Gz9i1ATFY6aS"
      },
      "source": [
        "def base_ncf(n_users, n_items, n_latent_factors_user, n_latent_factors_item):\r\n",
        "    # inputs\r\n",
        "    item_input = Input(shape=[1],name='item')\r\n",
        "    user_input = Input(shape=[1],name='user')\r\n",
        "\r\n",
        "    # Item embedding\r\n",
        "    item_embedding_mlp = Embedding(n_items + 1, n_latent_factors_item, name='item_embedding')(item_input)\r\n",
        "    item_vec_mlp = Flatten(name='flatten_item')(item_embedding_mlp)\r\n",
        "\r\n",
        "    # User embedding\r\n",
        "    user_embedding_mlp = Embedding(n_users + 1, n_latent_factors_user,name='user_embedding')(user_input)\r\n",
        "    user_vec_mlp = Flatten(name='flatten_user')(user_embedding_mlp)\r\n",
        "\r\n",
        "    # Concat user embedding,item embeddings and context vector\r\n",
        "    concat = Concatenate(name='user_item')([item_vec_mlp, user_vec_mlp])\r\n",
        "\r\n",
        "    # dense layers\r\n",
        "    dense = Dense(8, name='fully_connected_1')(concat)\r\n",
        "    dense_2 = Dense(4, name='fully_connected_2')(dense)\r\n",
        "    dense_3 = Dense(2, name='fully_connected_3')(dense_2)\r\n",
        "\r\n",
        "    # Output\r\n",
        "    pred_mlp = Dense(1, activation='relu', name='Activation')(dense_3)\r\n",
        "\r\n",
        "    # make and build the model\r\n",
        "    return keras.Model([user_input, item_input], pred_mlp)"
      ],
      "execution_count": 21,
      "outputs": []
    },
    {
      "cell_type": "code",
      "metadata": {
        "colab": {
          "base_uri": "https://localhost:8080/",
          "height": 758
        },
        "id": "1AulSy1Ear21",
        "outputId": "43037cc7-ceb5-40b8-b29b-7ae3787bb170"
      },
      "source": [
        "ncf = base_ncf(n_users, n_items, n_latent_factors_user, n_latent_factors_item)\r\n",
        "opt = keras.optimizers.Adam(lr = 0.0005)\r\n",
        "ncf.compile(optimizer = opt,loss= 'mean_absolute_error', metrics=['mae', 'mse'])\r\n",
        "\r\n",
        "tf.keras.utils.plot_model(ncf)"
      ],
      "execution_count": 22,
      "outputs": [
        {
          "output_type": "execute_result",
          "data": {
            "image/png": "[encoded data removed]",
            "text/plain": [
              "<IPython.core.display.Image object>"
            ]
          },
          "metadata": {
            "tags": []
          },
          "execution_count": 22
        }
      ]
    },
    {
      "cell_type": "code",
      "metadata": {
        "colab": {
          "base_uri": "https://localhost:8080/",
          "height": 555
        },
        "id": "LOKOMSjxb9Km",
        "outputId": "36808025-8ed2-4424-f7e8-0963a2947e8b"
      },
      "source": [
        "rmse, mae = kfold_train(ncf, 15, 128, False, df, x_labels, y_label, kf, using_context=False)\r\n",
        "models_eval_metrics['NCF'] = [rmse, mae]\r\n",
        "f'k-fold RMSE = {rmse}     k-fold MAE = {mae}'"
      ],
      "execution_count": 23,
      "outputs": [
        {
          "output_type": "stream",
          "text": [
            "Training on fold 0...\n",
            "Testing on fold 0...\n",
            "RMSE = 0.6962478598119668    MAE = 0.5253295905783005\n",
            "Training on fold 1...\n",
            "Testing on fold 1...\n",
            "RMSE = 0.6981397343632632    MAE = 0.5211836923242505\n",
            "Training on fold 2...\n",
            "Testing on fold 2...\n",
            "RMSE = 0.6940922558177484    MAE = 0.515382841262498\n",
            "Training on fold 3...\n",
            "Testing on fold 3...\n",
            "RMSE = 0.688045817390975    MAE = 0.5132832302596508\n",
            "Training on fold 4...\n",
            "Testing on fold 4...\n",
            "RMSE = 0.6785138923879851    MAE = 0.5036183634762281\n",
            "Training on fold 5...\n",
            "Testing on fold 5...\n",
            "RMSE = 0.6876710543057569    MAE = 0.5103083085358793\n",
            "Training on fold 6...\n",
            "Testing on fold 6...\n",
            "RMSE = 0.681822781541953    MAE = 0.5035428951444758\n",
            "Training on fold 7...\n",
            "Testing on fold 7...\n",
            "RMSE = 0.6910650704097209    MAE = 0.5101419821611707\n",
            "Training on fold 8...\n",
            "Testing on fold 8...\n",
            "RMSE = 0.6879669011630869    MAE = 0.5097680958251174\n",
            "Training on fold 9...\n",
            "Testing on fold 9...\n",
            "RMSE = 0.6917660866489579    MAE = 0.5135459583870379\n"
          ],
          "name": "stdout"
        },
        {
          "output_type": "execute_result",
          "data": {
            "application/vnd.google.colaboratory.intrinsic+json": {
              "type": "string"
            },
            "text/plain": [
              "'k-fold RMSE = 0.6895331453841413     k-fold MAE = 0.5126104957954609'"
            ]
          },
          "metadata": {
            "tags": []
          },
          "execution_count": 23
        }
      ]
    },
    {
      "cell_type": "markdown",
      "metadata": {
        "id": "Q9v4gahGImJG"
      },
      "source": [
        "### NeuMF\r\n",
        "Multi-layer perceptron + dot product without context features"
      ]
    },
    {
      "cell_type": "code",
      "metadata": {
        "id": "MvvU8JM5IzAF"
      },
      "source": [
        "def base_neumf(n_users, n_items, n_latent_factors_user, n_latent_factors_item, n_latent_factors_mf):\r\n",
        "    # inputs\r\n",
        "    item_input = Input(shape=[1],name='item')\r\n",
        "    user_input = Input(shape=[1],name='user')\r\n",
        "\r\n",
        "    # item embedding MF\r\n",
        "    item_embedding_mf = Embedding(n_items + 1, n_latent_factors_mf, name='item_embedding_MF')(item_input)\r\n",
        "    item_vec_mf = Flatten(name='flatten_item_MF')(item_embedding_mf)\r\n",
        "\r\n",
        "    # User embedding MF\r\n",
        "    user_embedding_mf = Embedding(n_users + 1, n_latent_factors_mf,name='user_embedding_MF')(user_input)\r\n",
        "    user_vec_mf = Flatten(name='flatten_user_MF')(user_embedding_mf)\r\n",
        "\r\n",
        "    # Dot product MF\r\n",
        "    dot = tf.keras.layers.Dot(axes=1)([user_vec_mf, item_vec_mf])\r\n",
        "\r\n",
        "    # Item embedding MLP\r\n",
        "    item_embedding_mlp = Embedding(n_items + 1, n_latent_factors_item, name='item_embedding_MLP')(item_input)\r\n",
        "    item_vec_mlp = Flatten(name='flatten_item_MLP')(item_embedding_mlp)\r\n",
        "\r\n",
        "    # User embedding MLP\r\n",
        "    user_embedding_mlp = Embedding(n_users + 1, n_latent_factors_user,name='user_embedding_MLP')(user_input)\r\n",
        "    user_vec_mlp = Flatten(name='flatten_user_MLP')(user_embedding_mlp)\r\n",
        "\r\n",
        "    # Concat user embedding,item embeddings and context vector\r\n",
        "    concat = Concatenate(name='user_item_context_MLP')([item_vec_mlp, user_vec_mlp])\r\n",
        "\r\n",
        "    # dense layers\r\n",
        "    dense = Dense(8, name='fully_connected_1')(concat)\r\n",
        "    dense_2 = Dense(4, name='fully_connected_2')(dense)\r\n",
        "    dense_3 = Dense(2, name='fully_connected_3')(dense_2)\r\n",
        "\r\n",
        "    # concat MF and MLP\r\n",
        "    concat_mf_mlp = Concatenate(name='MF_MLP')([dense_3, dot])\r\n",
        "\r\n",
        "    # Output\r\n",
        "    output = Dense(1, activation='relu',name='Activation')(concat_mf_mlp)\r\n",
        "\r\n",
        "    # make and build the model\r\n",
        "    return keras.Model([user_input, item_input], output)"
      ],
      "execution_count": 24,
      "outputs": []
    },
    {
      "cell_type": "code",
      "metadata": {
        "id": "rm0Uul47LuFG"
      },
      "source": [
        "neumf = base_neumf(n_users, n_items, n_latent_factors_user, n_latent_factors_item, n_latent_factors_mf)\r\n",
        "opt = keras.optimizers.Adam(lr = 0.0005)\r\n",
        "neumf.compile(optimizer = opt,loss= 'mean_absolute_error', metrics=['mae', 'mse'])"
      ],
      "execution_count": 25,
      "outputs": []
    },
    {
      "cell_type": "code",
      "metadata": {
        "colab": {
          "base_uri": "https://localhost:8080/",
          "height": 555
        },
        "id": "p5ILww0IMy98",
        "outputId": "66e0b97f-48f1-4cdb-8277-0da42207bcd1"
      },
      "source": [
        "rmse, mae = kfold_train(neumf, 15, 128, False, df, x_labels, y_label, kf, using_context=False)\r\n",
        "models_eval_metrics['NEUMF'] = [rmse, mae]\r\n",
        "f'k-fold RMSE = {rmse}     k-fold MAE = {mae}'"
      ],
      "execution_count": 26,
      "outputs": [
        {
          "output_type": "stream",
          "text": [
            "Training on fold 0...\n",
            "Testing on fold 0...\n",
            "RMSE = 0.6389413028548676    MAE = 0.47806217058279493\n",
            "Training on fold 1...\n",
            "Testing on fold 1...\n",
            "RMSE = 0.6278148449042448    MAE = 0.45281393179943047\n",
            "Training on fold 2...\n",
            "Testing on fold 2...\n",
            "RMSE = 0.6237997655958435    MAE = 0.4455225864337168\n",
            "Training on fold 3...\n",
            "Testing on fold 3...\n",
            "RMSE = 0.6237518750702968    MAE = 0.448061911155653\n",
            "Training on fold 4...\n",
            "Testing on fold 4...\n",
            "RMSE = 0.614143222903344    MAE = 0.4388740732719593\n",
            "Training on fold 5...\n",
            "Testing on fold 5...\n",
            "RMSE = 0.6176290729647278    MAE = 0.43977592716971287\n",
            "Training on fold 6...\n",
            "Testing on fold 6...\n",
            "RMSE = 0.6091181581120702    MAE = 0.43214265131575147\n",
            "Training on fold 7...\n",
            "Testing on fold 7...\n",
            "RMSE = 0.6083145376984659    MAE = 0.432937188748363\n",
            "Training on fold 8...\n",
            "Testing on fold 8...\n",
            "RMSE = 0.6116521340241158    MAE = 0.4336290606043625\n",
            "Training on fold 9...\n",
            "Testing on fold 9...\n",
            "RMSE = 0.6183337595384979    MAE = 0.44217157339503066\n"
          ],
          "name": "stdout"
        },
        {
          "output_type": "execute_result",
          "data": {
            "application/vnd.google.colaboratory.intrinsic+json": {
              "type": "string"
            },
            "text/plain": [
              "'k-fold RMSE = 0.6193498673666473     k-fold MAE = 0.4443991074476775'"
            ]
          },
          "metadata": {
            "tags": []
          },
          "execution_count": 26
        }
      ]
    },
    {
      "cell_type": "markdown",
      "metadata": {
        "id": "1cozjpFFyxM-"
      },
      "source": [
        "### ECAM NCF\r\n",
        "Multi-layer perceptron with explicit context"
      ]
    },
    {
      "cell_type": "code",
      "metadata": {
        "id": "kmSrKokyyxM-"
      },
      "source": [
        "def ncf(n_users, n_items, n_context, n_latent_factors_user, n_latent_factors_item):\n",
        "    # inputs\n",
        "    item_input = Input(shape=[1],name='item')\n",
        "    user_input = Input(shape=[1],name='user')\n",
        "    context_input = Input(shape=(n_context, ), name='context')\n",
        "\n",
        "    # Item embedding\n",
        "    item_embedding_mlp = Embedding(n_items + 1, n_latent_factors_item, name='item_embedding')(item_input)\n",
        "    item_vec_mlp = Flatten(name='flatten_item')(item_embedding_mlp)\n",
        "\n",
        "    # User embedding\n",
        "    user_embedding_mlp = Embedding(n_users + 1, n_latent_factors_user,name='user_embedding')(user_input)\n",
        "    user_vec_mlp = Flatten(name='flatten_user')(user_embedding_mlp)\n",
        "\n",
        "    # Concat user embedding,item embeddings and context vector\n",
        "    concat = Concatenate(name='user_item')([item_vec_mlp, user_vec_mlp, context_input])\n",
        "\n",
        "    # dense layers\n",
        "    dense = Dense(8, name='fully_connected_1')(concat)\n",
        "    dense_2 = Dense(4, name='fully_connected_2')(dense)\n",
        "    dense_3 = Dense(2, name='fully_connected_3')(dense_2)\n",
        "\n",
        "    # Output\n",
        "    pred_mlp = Dense(1, activation='relu', name='Activation')(dense_3)\n",
        "\n",
        "    # make and build the model\n",
        "    return keras.Model([user_input, item_input, context_input], pred_mlp)"
      ],
      "execution_count": 27,
      "outputs": []
    },
    {
      "cell_type": "code",
      "metadata": {
        "id": "kQKkj6_LyxM_"
      },
      "source": [
        "ecam_ncf = ncf(n_users, n_items, n_context, n_latent_factors_user, n_latent_factors_item)\n",
        "opt = keras.optimizers.Adam(lr = 0.0005)\n",
        "ecam_ncf.compile(optimizer = opt,loss= 'mean_absolute_error', metrics=['mae', 'mse'])\n",
        "\n",
        "#ecam_ncf.summary()\n",
        "#tf.keras.utils.plot_model(ecam_ncf)"
      ],
      "execution_count": 28,
      "outputs": []
    },
    {
      "cell_type": "code",
      "metadata": {
        "id": "nJGY7tzAz5Tj",
        "colab": {
          "base_uri": "https://localhost:8080/",
          "height": 0
        },
        "outputId": "bf430025-ff8f-4b7f-adc5-b8313022f008"
      },
      "source": [
        "rmse, mae = kfold_train(ecam_ncf, 15, 128, False, df, x_labels, y_label, kf, using_context=True, context_labels=context_labels)\n",
        "models_eval_metrics['ECAM NCF'] = [rmse, mae]\n",
        "f'k-fold RMSE = {rmse}     k-fold MAE = {mae}'"
      ],
      "execution_count": 29,
      "outputs": [
        {
          "output_type": "stream",
          "text": [
            "Training on fold 0...\n",
            "Testing on fold 0...\n",
            "RMSE = 0.682157356501663    MAE = 0.5131719993719788\n",
            "Training on fold 1...\n",
            "Testing on fold 1...\n",
            "RMSE = 0.6812671167548741    MAE = 0.5077583159372472\n",
            "Training on fold 2...\n",
            "Testing on fold 2...\n",
            "RMSE = 0.6825787690929264    MAE = 0.5066918722631794\n",
            "Training on fold 3...\n",
            "Testing on fold 3...\n",
            "RMSE = 0.6761739980786354    MAE = 0.5038064065154576\n",
            "Training on fold 4...\n",
            "Testing on fold 4...\n",
            "RMSE = 0.6648384236144862    MAE = 0.49266851331325906\n",
            "Training on fold 5...\n",
            "Testing on fold 5...\n",
            "RMSE = 0.6748647846390421    MAE = 0.5003355334029814\n",
            "Training on fold 6...\n",
            "Testing on fold 6...\n",
            "RMSE = 0.6678572245253074    MAE = 0.49329694170186356\n",
            "Training on fold 7...\n",
            "Testing on fold 7...\n",
            "RMSE = 0.6811697932167052    MAE = 0.5012355126010367\n",
            "Training on fold 8...\n",
            "Testing on fold 8...\n",
            "RMSE = 0.6734452800047538    MAE = 0.4987365343006246\n",
            "Training on fold 9...\n",
            "Testing on fold 9...\n",
            "RMSE = 0.6767791671999893    MAE = 0.5010748368763989\n"
          ],
          "name": "stdout"
        },
        {
          "output_type": "execute_result",
          "data": {
            "application/vnd.google.colaboratory.intrinsic+json": {
              "type": "string"
            },
            "text/plain": [
              "'k-fold RMSE = 0.6761131913628383     k-fold MAE = 0.5018776466284027'"
            ]
          },
          "metadata": {
            "tags": []
          },
          "execution_count": 29
        }
      ]
    },
    {
      "cell_type": "markdown",
      "metadata": {
        "id": "IBf_rCHlBnes"
      },
      "source": [
        "### ECAM NeuMF\r\n",
        "Multi-layer perceptron + dot product with explicit context"
      ]
    },
    {
      "cell_type": "code",
      "metadata": {
        "id": "_z_cfe0bBmUz"
      },
      "source": [
        "def neumf(n_users, n_items, n_context, n_latent_factors_user, n_latent_factors_item, n_latent_factors_mf):\n",
        "    # inputs\n",
        "    item_input = Input(shape=[1],name='item')\n",
        "    user_input = Input(shape=[1],name='user')\n",
        "    context_input = Input(shape=(n_context, ), name='context')\n",
        "\n",
        "    # item embedding MF\n",
        "    item_embedding_mf = Embedding(n_items + 1, n_latent_factors_mf, name='item_embedding_MF')(item_input)\n",
        "    item_vec_mf = Flatten(name='flatten_item_MF')(item_embedding_mf)\n",
        "\n",
        "    # User embedding MF\n",
        "    user_embedding_mf = Embedding(n_users + 1, n_latent_factors_mf,name='user_embedding_MF')(user_input)\n",
        "    user_vec_mf = Flatten(name='flatten_user_MF')(user_embedding_mf)\n",
        "\n",
        "    # Dot product MF\n",
        "    dot = tf.keras.layers.Dot(axes=1)([user_vec_mf, item_vec_mf])\n",
        "\n",
        "    # Item embedding MLP\n",
        "    item_embedding_mlp = Embedding(n_items + 1, n_latent_factors_item, name='item_embedding_MLP')(item_input)\n",
        "    item_vec_mlp = Flatten(name='flatten_item_MLP')(item_embedding_mlp)\n",
        "\n",
        "    # User embedding MLP\n",
        "    user_embedding_mlp = Embedding(n_users + 1, n_latent_factors_user,name='user_embedding_MLP')(user_input)\n",
        "    user_vec_mlp = Flatten(name='flatten_user_MLP')(user_embedding_mlp)\n",
        "\n",
        "    # Concat user embedding,item embeddings and context vector\n",
        "    concat = Concatenate(name='user_item_context_MLP')([item_vec_mlp, user_vec_mlp, context_input])\n",
        "\n",
        "    # dense layers\n",
        "    dense = Dense(8, name='fully_connected_1')(concat)\n",
        "    dense_2 = Dense(4, name='fully_connected_2')(dense)\n",
        "    dense_3 = Dense(2, name='fully_connected_3')(dense_2)\n",
        "\n",
        "    # concat MF and MLP\n",
        "    concat_mf_mlp = Concatenate(name='MF_MLP')([dense_3, dot])\n",
        "\n",
        "    # Output\n",
        "    output = Dense(1, activation='relu',name='Activation')(concat_mf_mlp)\n",
        "\n",
        "    # make and build the model\n",
        "    return keras.Model([user_input, item_input, context_input], output)"
      ],
      "execution_count": 30,
      "outputs": []
    },
    {
      "cell_type": "code",
      "metadata": {
        "id": "YOK2BsrLB5nb"
      },
      "source": [
        "ecam_neumf = neumf(n_users, n_items, n_context, n_latent_factors_user, n_latent_factors_item, n_latent_factors_mf)\n",
        "opt = keras.optimizers.Adam(lr = 0.0005)\n",
        "ecam_neumf.compile(optimizer = opt,loss= 'mean_absolute_error', metrics=['mae', 'mse'])\n",
        "\n",
        "#ecam_neumf.summary()\n",
        "#tf.keras.utils.plot_model(ecam_neumf)"
      ],
      "execution_count": 31,
      "outputs": []
    },
    {
      "cell_type": "code",
      "metadata": {
        "id": "qQ7sbQdFqF0M",
        "colab": {
          "base_uri": "https://localhost:8080/",
          "height": 0
        },
        "outputId": "91029263-59eb-46ef-8323-19dbcbe88ff8"
      },
      "source": [
        "rmse, mae = kfold_train(ecam_neumf, 15, 128, False, df, x_labels, y_label, kf, using_context=True, context_labels=context_labels)\n",
        "models_eval_metrics['ECAM NEUMF'] = [rmse, mae]\n",
        "f'k-fold RMSE = {rmse}     k-fold MAE = {mae}'"
      ],
      "execution_count": 32,
      "outputs": [
        {
          "output_type": "stream",
          "text": [
            "Training on fold 0...\n",
            "Testing on fold 0...\n",
            "RMSE = 0.622895296698481    MAE = 0.463129471055493\n",
            "Training on fold 1...\n",
            "Testing on fold 1...\n",
            "RMSE = 0.6066839733809085    MAE = 0.43617325459530465\n",
            "Training on fold 2...\n",
            "Testing on fold 2...\n",
            "RMSE = 0.6080292978487456    MAE = 0.4324931809525803\n",
            "Training on fold 3...\n",
            "Testing on fold 3...\n",
            "RMSE = 0.6040087201500933    MAE = 0.43273483245611993\n",
            "Training on fold 4...\n",
            "Testing on fold 4...\n",
            "RMSE = 0.5964603448880361    MAE = 0.424602495364199\n",
            "Training on fold 5...\n",
            "Testing on fold 5...\n",
            "RMSE = 0.5989339154154495    MAE = 0.42560967188004495\n",
            "Training on fold 6...\n",
            "Testing on fold 6...\n",
            "RMSE = 0.5949384717218978    MAE = 0.4186557360932154\n",
            "Training on fold 7...\n",
            "Testing on fold 7...\n",
            "RMSE = 0.5928002517184138    MAE = 0.4205045691426673\n",
            "Training on fold 8...\n",
            "Testing on fold 8...\n",
            "RMSE = 0.5941631162223466    MAE = 0.42037376910031465\n",
            "Training on fold 9...\n",
            "Testing on fold 9...\n",
            "RMSE = 0.5983924346659751    MAE = 0.42571299654764366\n"
          ],
          "name": "stdout"
        },
        {
          "output_type": "execute_result",
          "data": {
            "application/vnd.google.colaboratory.intrinsic+json": {
              "type": "string"
            },
            "text/plain": [
              "'k-fold RMSE = 0.6017305822710347     k-fold MAE = 0.42999899771875827'"
            ]
          },
          "metadata": {
            "tags": []
          },
          "execution_count": 32
        }
      ]
    },
    {
      "cell_type": "markdown",
      "metadata": {
        "id": "okY4WYDkgNHz"
      },
      "source": [
        "### UCAM NCF\r\n",
        "Multi-layer perceptron with latent context"
      ]
    },
    {
      "cell_type": "code",
      "metadata": {
        "id": "PMqa52lDgHyc"
      },
      "source": [
        "ucam_ncf = ncf(n_users, n_items, n_latent_context, n_latent_factors_user, n_latent_factors_item)\n",
        "opt = keras.optimizers.Adam(lr = 0.005)\n",
        "ucam_ncf.compile(optimizer = opt,loss= 'mean_absolute_error', metrics=['mae', 'mse'])\n",
        "\n",
        "#ucam_ncf.summary()\n",
        "#tf.keras.utils.plot_model(ucam_ncf)"
      ],
      "execution_count": 33,
      "outputs": []
    },
    {
      "cell_type": "code",
      "metadata": {
        "id": "HQkIzbvHqT5c",
        "colab": {
          "base_uri": "https://localhost:8080/",
          "height": 0
        },
        "outputId": "86d46b45-c502-429f-e022-b69b0f509ce7"
      },
      "source": [
        "rmse, mae = kfold_train(ucam_ncf, 15, 128, False, df, x_labels, y_label, kf, \n",
        "                        using_context=True, context_labels=latent_context_labels)\n",
        "models_eval_metrics['UCAM NCF'] = [rmse, mae]\n",
        "f'k-fold RMSE = {rmse}     k-fold MAE = {mae}'"
      ],
      "execution_count": 34,
      "outputs": [
        {
          "output_type": "stream",
          "text": [
            "Training on fold 0...\n",
            "Testing on fold 0...\n",
            "RMSE = 0.6856713015418128    MAE = 0.5172534517057156\n",
            "Training on fold 1...\n",
            "Testing on fold 1...\n",
            "RMSE = 0.6843845184959414    MAE = 0.5107049276640616\n",
            "Training on fold 2...\n",
            "Testing on fold 2...\n",
            "RMSE = 0.6833507112063861    MAE = 0.5080243022591047\n",
            "Training on fold 3...\n",
            "Testing on fold 3...\n",
            "RMSE = 0.6768773218853934    MAE = 0.5058926991142834\n",
            "Training on fold 4...\n",
            "Testing on fold 4...\n",
            "RMSE = 0.6674521640864451    MAE = 0.4955435184100679\n",
            "Training on fold 5...\n",
            "Testing on fold 5...\n",
            "RMSE = 0.678025335032389    MAE = 0.5022588789434906\n",
            "Training on fold 6...\n",
            "Testing on fold 6...\n",
            "RMSE = 0.6688199882364911    MAE = 0.4947002922053629\n",
            "Training on fold 7...\n",
            "Testing on fold 7...\n",
            "RMSE = 0.6795037983206932    MAE = 0.5015414084503605\n",
            "Training on fold 8...\n",
            "Testing on fold 8...\n",
            "RMSE = 0.6759459645426856    MAE = 0.5010363488654939\n",
            "Training on fold 9...\n",
            "Testing on fold 9...\n",
            "RMSE = 0.6803853652112642    MAE = 0.5027574726268141\n"
          ],
          "name": "stdout"
        },
        {
          "output_type": "execute_result",
          "data": {
            "application/vnd.google.colaboratory.intrinsic+json": {
              "type": "string"
            },
            "text/plain": [
              "'k-fold RMSE = 0.6780416468559501     k-fold MAE = 0.5039713300244755'"
            ]
          },
          "metadata": {
            "tags": []
          },
          "execution_count": 34
        }
      ]
    },
    {
      "cell_type": "markdown",
      "metadata": {
        "id": "Cx_QLRDs73oa"
      },
      "source": [
        "### UCAM NeuMF\r\n",
        "Multi-layer perceptron + dot product with latent context"
      ]
    },
    {
      "cell_type": "code",
      "metadata": {
        "id": "PmWmcZRR72RX"
      },
      "source": [
        "ucam_neumf = neumf(n_users, n_items, n_latent_context, n_latent_factors_user, n_latent_factors_item, n_latent_factors_mf)\r\n",
        "opt = keras.optimizers.Adam(lr = 0.0005)\r\n",
        "ucam_neumf.compile(optimizer = opt,loss= 'mean_absolute_error', metrics=['mae', 'mse'])"
      ],
      "execution_count": 35,
      "outputs": []
    },
    {
      "cell_type": "code",
      "metadata": {
        "id": "mI0qsmrKV8Bl",
        "colab": {
          "base_uri": "https://localhost:8080/",
          "height": 0
        },
        "outputId": "ff4c816d-cd07-42a4-cb50-4593f53fb525"
      },
      "source": [
        "rmse, mae = kfold_train(ucam_neumf, 15, 128, False, df, x_labels, y_label, kf, \n",
        "                        using_context=True, context_labels=latent_context_labels)\n",
        "models_eval_metrics['UCAM NEUMF'] = [rmse, mae]\n",
        "f'k-fold RMSE = {rmse}     k-fold MAE = {mae}'"
      ],
      "execution_count": 36,
      "outputs": [
        {
          "output_type": "stream",
          "text": [
            "Training on fold 0...\n",
            "Testing on fold 0...\n",
            "RMSE = 0.6251081976695114    MAE = 0.46525753502929124\n",
            "Training on fold 1...\n",
            "Testing on fold 1...\n",
            "RMSE = 0.6069532378484762    MAE = 0.4360696278690884\n",
            "Training on fold 2...\n",
            "Testing on fold 2...\n",
            "RMSE = 0.610663378869054    MAE = 0.43443681453926114\n",
            "Training on fold 3...\n",
            "Testing on fold 3...\n",
            "RMSE = 0.6053271672845051    MAE = 0.43509485772378137\n",
            "Training on fold 4...\n",
            "Testing on fold 4...\n",
            "RMSE = 0.598636118960358    MAE = 0.4256371990305242\n",
            "Training on fold 5...\n",
            "Testing on fold 5...\n",
            "RMSE = 0.6022681902001469    MAE = 0.428530742872208\n",
            "Training on fold 6...\n",
            "Testing on fold 6...\n",
            "RMSE = 0.5946587185562355    MAE = 0.41933622089625583\n",
            "Training on fold 7...\n",
            "Testing on fold 7...\n",
            "RMSE = 0.5952411092538626    MAE = 0.42228886655683506\n",
            "Training on fold 8...\n",
            "Testing on fold 8...\n",
            "RMSE = 0.5975509748239275    MAE = 0.4226133733303783\n",
            "Training on fold 9...\n",
            "Testing on fold 9...\n",
            "RMSE = 0.6001868335475017    MAE = 0.42685216697516537\n"
          ],
          "name": "stdout"
        },
        {
          "output_type": "execute_result",
          "data": {
            "application/vnd.google.colaboratory.intrinsic+json": {
              "type": "string"
            },
            "text/plain": [
              "'k-fold RMSE = 0.6036593927013579     k-fold MAE = 0.4316117404822789'"
            ]
          },
          "metadata": {
            "tags": []
          },
          "execution_count": 36
        }
      ]
    },
    {
      "cell_type": "markdown",
      "metadata": {
        "id": "LHQ2FEwlBdhq"
      },
      "source": [
        "## Performance comparison"
      ]
    },
    {
      "cell_type": "code",
      "metadata": {
        "id": "rbOmETzaBhq3",
        "colab": {
          "base_uri": "https://localhost:8080/",
          "height": 527
        },
        "outputId": "5ac89a38-2bc9-45df-90a5-57258c5240d8"
      },
      "source": [
        "n_models = len(models_eval_metrics) # number of different models\n",
        "models_name = [x[0] for x in models_eval_metrics.items()] \n",
        "rmse = [x[0] for x in models_eval_metrics.values()]\n",
        "mae = [x[1] for x in models_eval_metrics.values()]\n",
        "\n",
        "index = np.arange(n_models)\n",
        "bar_width = 0.30\n",
        "plt.figure(figsize=(10,6))\n",
        "\n",
        "# MAE bar\n",
        "rect1 = plt.bar(index + bar_width, mae, bar_width,\n",
        "color='b',\n",
        "label='MAE')\n",
        "\n",
        "# RMSE bar\n",
        "rect2 = plt.bar(index, rmse, bar_width,\n",
        "color='#ff7b00',\n",
        "label='RMSE')\n",
        "\n",
        "plt.style.use('seaborn-ticks') # readable chart on dark editor\n",
        "plt.xlabel('Models')\n",
        "plt.ylabel('Scores')\n",
        "plt.title('Models comparison')\n",
        "plt.xticks(index + bar_width/2, models_name) # labels position\n",
        "plt.legend()\n",
        "plt.grid(True)\n",
        "plt.show()\n",
        "\n",
        "for name, rmse, mae in zip(models_name, rmse, mae):\n",
        "    print(f\"Name: {name}      \\t      RMSE: {rmse}      \\t      MAE: {mae}\")"
      ],
      "execution_count": 38,
      "outputs": [
        {
          "output_type": "display_data",
          "data": {
            "image/png": "[encoded data removed]",
            "text/plain": [
              "<Figure size 720x432 with 1 Axes>"
            ]
          },
          "metadata": {
            "tags": []
          }
        },
        {
          "output_type": "stream",
          "text": [
            "Name: MF      \t      RMSE: 0.7505975056634542      \t      MAE: 0.6314524760252739\n",
            "Name: NCF      \t      RMSE: 0.6895331453841413      \t      MAE: 0.5126104957954609\n",
            "Name: NEUMF      \t      RMSE: 0.6193498673666473      \t      MAE: 0.4443991074476775\n",
            "Name: ECAM NCF      \t      RMSE: 0.6761131913628383      \t      MAE: 0.5018776466284027\n",
            "Name: ECAM NEUMF      \t      RMSE: 0.6017305822710347      \t      MAE: 0.42999899771875827\n",
            "Name: UCAM NCF      \t      RMSE: 0.6780416468559501      \t      MAE: 0.5039713300244755\n",
            "Name: UCAM NEUMF      \t      RMSE: 0.6036593927013579      \t      MAE: 0.4316117404822789\n"
          ],
          "name": "stdout"
        }
      ]
    }
  ]
}