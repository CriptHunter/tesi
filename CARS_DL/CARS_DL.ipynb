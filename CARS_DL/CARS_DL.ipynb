{
  "nbformat": 4,
  "nbformat_minor": 0,
  "metadata": {
    "language_info": {
      "codemirror_mode": {
        "name": "ipython",
        "version": 3
      },
      "file_extension": ".py",
      "mimetype": "text/x-python",
      "name": "python",
      "nbconvert_exporter": "python",
      "pygments_lexer": "ipython3",
      "version": "3.8.3-final"
    },
    "orig_nbformat": 2,
    "kernelspec": {
      "name": "python3",
      "display_name": "Python 3",
      "language": "python"
    },
    "colab": {
      "name": "Copia di CARS_DL.ipynb",
      "provenance": [],
      "collapsed_sections": [
        "YasL9GIGF3Jb",
        "IzbMVL48MAcU",
        "Hc-eF273f_OO",
        "OZPRR_K7yxM7",
        "NIfSxcyQzRzn",
        "1cozjpFFyxM-",
        "IBf_rCHlBnes",
        "okY4WYDkgNHz",
        "Cx_QLRDs73oa",
        "LHQ2FEwlBdhq"
      ],
      "toc_visible": true
    },
    "accelerator": "TPU"
  },
  "cells": [
    {
      "cell_type": "markdown",
      "metadata": {
        "id": "A7qy_0RayxMy"
      },
      "source": [
        "# CARS recommender system\n",
        "Implementation of the deep NN model described in the paper \"Context-Aware Recommendations Based on Deep\n",
        "Learning Frameworks\".\n",
        "https://dl.acm.org/doi/10.1145/3386243\n",
        "\n",
        "Datasets:\n",
        "- frappe\n"
      ]
    },
    {
      "cell_type": "markdown",
      "metadata": {
        "id": "YasL9GIGF3Jb"
      },
      "source": [
        "## Import"
      ]
    },
    {
      "cell_type": "markdown",
      "metadata": {
        "id": "wUPMS2KCF0nl"
      },
      "source": [
        ""
      ]
    },
    {
      "cell_type": "code",
      "metadata": {
        "id": "1q4UgOkhyxM4"
      },
      "source": [
        "import pandas as pd\n",
        "import numpy as np\n",
        "from sklearn.model_selection import train_test_split # to split dataset in two parts\n",
        "from sklearn.model_selection import KFold # to split dataset using  k-fold cross validation\n",
        "from sklearn.metrics import * # evaluation metrics\n",
        "import tensorflow as tf\n",
        "from tensorflow import keras\n",
        "from keras.layers import Dense\n",
        "from keras.layers import BatchNormalization\n",
        "from keras.layers import Dropout\n",
        "from keras.layers import Input\n",
        "from keras.layers import Embedding\n",
        "from keras.layers import Flatten\n",
        "from keras.layers import Concatenate\n",
        "from keras.optimizers import Adam\n",
        "import matplotlib\n",
        "import matplotlib.pyplot as plt # for creating chart\n",
        "plt.style.use('seaborn-ticks') # readable chart on dark editor\n",
        "import requests # for downloading the dataset\n",
        "from sklearn.cluster import AgglomerativeClustering"
      ],
      "execution_count": null,
      "outputs": []
    },
    {
      "cell_type": "markdown",
      "metadata": {
        "id": "IzbMVL48MAcU"
      },
      "source": [
        "\n",
        "\n",
        "### Some functions\n",
        "\n"
      ]
    },
    {
      "cell_type": "code",
      "metadata": {
        "id": "5CFVxgFQL_4P"
      },
      "source": [
        "# plot loss based on history of model.fit, ymin and ymax are the minimum and maximum values of the y axis\n",
        "def plot_loss(history, ymin=0, ymax=1):\n",
        "  plt.plot(history.history['loss'], label='loss')\n",
        "  plt.ylim([ymin, ymax])\n",
        "  plt.xlabel('Epoch')\n",
        "  plt.ylabel('Error')\n",
        "  plt.legend()\n",
        "  plt.grid(True)\n",
        "\n",
        "# plot chart of true values on predictions\n",
        "def plot_predictions(test_y, pred_y):\n",
        "  a = plt.axes(aspect='equal')\n",
        "  plt.scatter(test_y, pred_y)\n",
        "  plt.xlabel('True Values')\n",
        "  plt.ylabel('Predictions')\n",
        "  lims = [0, 5]\n",
        "  plt.xlim(lims)\n",
        "  plt.ylim(lims)\n",
        "  _ = plt.plot(lims, lims)\n",
        "\n",
        "def sigmoid(x):\n",
        "   return 1 / ( 1 + np.exp(-x))"
      ],
      "execution_count": null,
      "outputs": []
    },
    {
      "cell_type": "markdown",
      "metadata": {
        "id": "Q1m4VXWTFeGE"
      },
      "source": [
        "\n",
        "## Dataset"
      ]
    },
    {
      "cell_type": "markdown",
      "metadata": {
        "id": "Hc-eF273f_OO"
      },
      "source": [
        "### Load dataset"
      ]
    },
    {
      "cell_type": "code",
      "metadata": {
        "id": "dxz5jCSiyxM6",
        "colab": {
          "base_uri": "https://localhost:8080/"
        },
        "outputId": "3f100e35-2c12-4cc2-9f44-0fa901a42784"
      },
      "source": [
        "# download the dataset\n",
        "url = 'https://raw.githubusercontent.com/CriptHunter/tesi/master/CARS_DL/frappe/frappe.csv'\n",
        "req = requests.get(url, allow_redirects=True)\n",
        "open('frappe.csv', 'wb').write(req.content)"
      ],
      "execution_count": null,
      "outputs": [
        {
          "output_type": "execute_result",
          "data": {
            "text/plain": [
              "6313241"
            ]
          },
          "metadata": {
            "tags": []
          },
          "execution_count": 70
        }
      ]
    },
    {
      "cell_type": "code",
      "metadata": {
        "id": "TlzGyC-g6HQM",
        "colab": {
          "base_uri": "https://localhost:8080/"
        },
        "outputId": "6c14db8e-7385-4877-f988-67e16bf98a31"
      },
      "source": [
        "# open the dataset\n",
        "df = pd.read_csv('/content/frappe.csv', sep=\"\\t\")\n",
        "df"
      ],
      "execution_count": null,
      "outputs": [
        {
          "output_type": "execute_result",
          "data": {
            "text/html": [
              "<div>\n",
              "<style scoped>\n",
              "    .dataframe tbody tr th:only-of-type {\n",
              "        vertical-align: middle;\n",
              "    }\n",
              "\n",
              "    .dataframe tbody tr th {\n",
              "        vertical-align: top;\n",
              "    }\n",
              "\n",
              "    .dataframe thead th {\n",
              "        text-align: right;\n",
              "    }\n",
              "</style>\n",
              "<table border=\"1\" class=\"dataframe\">\n",
              "  <thead>\n",
              "    <tr style=\"text-align: right;\">\n",
              "      <th></th>\n",
              "      <th>user</th>\n",
              "      <th>item</th>\n",
              "      <th>cnt</th>\n",
              "      <th>daytime</th>\n",
              "      <th>weekday</th>\n",
              "      <th>isweekend</th>\n",
              "      <th>homework</th>\n",
              "      <th>cost</th>\n",
              "      <th>weather</th>\n",
              "      <th>country</th>\n",
              "      <th>city</th>\n",
              "    </tr>\n",
              "  </thead>\n",
              "  <tbody>\n",
              "    <tr>\n",
              "      <th>0</th>\n",
              "      <td>0</td>\n",
              "      <td>0</td>\n",
              "      <td>1</td>\n",
              "      <td>morning</td>\n",
              "      <td>sunday</td>\n",
              "      <td>weekend</td>\n",
              "      <td>unknown</td>\n",
              "      <td>free</td>\n",
              "      <td>sunny</td>\n",
              "      <td>United States</td>\n",
              "      <td>0</td>\n",
              "    </tr>\n",
              "    <tr>\n",
              "      <th>1</th>\n",
              "      <td>1</td>\n",
              "      <td>1</td>\n",
              "      <td>7</td>\n",
              "      <td>afternoon</td>\n",
              "      <td>saturday</td>\n",
              "      <td>weekend</td>\n",
              "      <td>unknown</td>\n",
              "      <td>free</td>\n",
              "      <td>cloudy</td>\n",
              "      <td>Spain</td>\n",
              "      <td>0</td>\n",
              "    </tr>\n",
              "    <tr>\n",
              "      <th>2</th>\n",
              "      <td>2</td>\n",
              "      <td>2</td>\n",
              "      <td>6</td>\n",
              "      <td>evening</td>\n",
              "      <td>monday</td>\n",
              "      <td>workday</td>\n",
              "      <td>unknown</td>\n",
              "      <td>free</td>\n",
              "      <td>cloudy</td>\n",
              "      <td>Spain</td>\n",
              "      <td>369</td>\n",
              "    </tr>\n",
              "    <tr>\n",
              "      <th>3</th>\n",
              "      <td>3</td>\n",
              "      <td>3</td>\n",
              "      <td>1</td>\n",
              "      <td>sunset</td>\n",
              "      <td>thursday</td>\n",
              "      <td>workday</td>\n",
              "      <td>unknown</td>\n",
              "      <td>free</td>\n",
              "      <td>unknown</td>\n",
              "      <td>United States</td>\n",
              "      <td>1028</td>\n",
              "    </tr>\n",
              "    <tr>\n",
              "      <th>4</th>\n",
              "      <td>4</td>\n",
              "      <td>4</td>\n",
              "      <td>428</td>\n",
              "      <td>night</td>\n",
              "      <td>thursday</td>\n",
              "      <td>workday</td>\n",
              "      <td>home</td>\n",
              "      <td>free</td>\n",
              "      <td>sunny</td>\n",
              "      <td>Switzerland</td>\n",
              "      <td>147</td>\n",
              "    </tr>\n",
              "    <tr>\n",
              "      <th>...</th>\n",
              "      <td>...</td>\n",
              "      <td>...</td>\n",
              "      <td>...</td>\n",
              "      <td>...</td>\n",
              "      <td>...</td>\n",
              "      <td>...</td>\n",
              "      <td>...</td>\n",
              "      <td>...</td>\n",
              "      <td>...</td>\n",
              "      <td>...</td>\n",
              "      <td>...</td>\n",
              "    </tr>\n",
              "    <tr>\n",
              "      <th>96198</th>\n",
              "      <td>110</td>\n",
              "      <td>0</td>\n",
              "      <td>5</td>\n",
              "      <td>evening</td>\n",
              "      <td>sunday</td>\n",
              "      <td>weekend</td>\n",
              "      <td>unknown</td>\n",
              "      <td>free</td>\n",
              "      <td>sunny</td>\n",
              "      <td>United States</td>\n",
              "      <td>0</td>\n",
              "    </tr>\n",
              "    <tr>\n",
              "      <th>96199</th>\n",
              "      <td>37</td>\n",
              "      <td>16</td>\n",
              "      <td>101</td>\n",
              "      <td>sunset</td>\n",
              "      <td>sunday</td>\n",
              "      <td>weekend</td>\n",
              "      <td>unknown</td>\n",
              "      <td>free</td>\n",
              "      <td>cloudy</td>\n",
              "      <td>Canada</td>\n",
              "      <td>128</td>\n",
              "    </tr>\n",
              "    <tr>\n",
              "      <th>96200</th>\n",
              "      <td>181</td>\n",
              "      <td>33</td>\n",
              "      <td>243</td>\n",
              "      <td>afternoon</td>\n",
              "      <td>sunday</td>\n",
              "      <td>weekend</td>\n",
              "      <td>unknown</td>\n",
              "      <td>free</td>\n",
              "      <td>cloudy</td>\n",
              "      <td>Israel</td>\n",
              "      <td>454</td>\n",
              "    </tr>\n",
              "    <tr>\n",
              "      <th>96201</th>\n",
              "      <td>451</td>\n",
              "      <td>752</td>\n",
              "      <td>1</td>\n",
              "      <td>evening</td>\n",
              "      <td>sunday</td>\n",
              "      <td>weekend</td>\n",
              "      <td>unknown</td>\n",
              "      <td>free</td>\n",
              "      <td>sunny</td>\n",
              "      <td>United States</td>\n",
              "      <td>0</td>\n",
              "    </tr>\n",
              "    <tr>\n",
              "      <th>96202</th>\n",
              "      <td>364</td>\n",
              "      <td>380</td>\n",
              "      <td>3</td>\n",
              "      <td>evening</td>\n",
              "      <td>thursday</td>\n",
              "      <td>workday</td>\n",
              "      <td>unknown</td>\n",
              "      <td>free</td>\n",
              "      <td>cloudy</td>\n",
              "      <td>United States</td>\n",
              "      <td>0</td>\n",
              "    </tr>\n",
              "  </tbody>\n",
              "</table>\n",
              "<p>96203 rows × 11 columns</p>\n",
              "</div>"
            ],
            "text/plain": [
              "       user  item  cnt    daytime  ...  cost  weather        country  city\n",
              "0         0     0    1    morning  ...  free    sunny  United States     0\n",
              "1         1     1    7  afternoon  ...  free   cloudy          Spain     0\n",
              "2         2     2    6    evening  ...  free   cloudy          Spain   369\n",
              "3         3     3    1     sunset  ...  free  unknown  United States  1028\n",
              "4         4     4  428      night  ...  free    sunny    Switzerland   147\n",
              "...     ...   ...  ...        ...  ...   ...      ...            ...   ...\n",
              "96198   110     0    5    evening  ...  free    sunny  United States     0\n",
              "96199    37    16  101     sunset  ...  free   cloudy         Canada   128\n",
              "96200   181    33  243  afternoon  ...  free   cloudy         Israel   454\n",
              "96201   451   752    1    evening  ...  free    sunny  United States     0\n",
              "96202   364   380    3    evening  ...  free   cloudy  United States     0\n",
              "\n",
              "[96203 rows x 11 columns]"
            ]
          },
          "metadata": {
            "tags": []
          },
          "execution_count": 71
        }
      ]
    },
    {
      "cell_type": "code",
      "metadata": {
        "id": "WoRlfX6OyxM7",
        "colab": {
          "base_uri": "https://localhost:8080/"
        },
        "outputId": "878ec362-5e17-49bc-8e01-20dc885e3576"
      },
      "source": [
        "# count unique values for each column\n",
        "display(\"------ unique values ------\")\n",
        "display(df.nunique())\n",
        "\n",
        "# count number of unknown values for each column\n",
        "display(\"------ unknown values ------\")\n",
        "display(df.isin(['unknown']).sum(axis=0))\n",
        "\n",
        "# count number of zero values for each column (for city 0 == unknown)\n",
        "display(\"------ zero values ------\")\n",
        "display(df.isin([0]).sum(axis=0))"
      ],
      "execution_count": null,
      "outputs": [
        {
          "output_type": "display_data",
          "data": {
            "application/vnd.google.colaboratory.intrinsic+json": {
              "type": "string"
            },
            "text/plain": [
              "'------ unique values ------'"
            ]
          },
          "metadata": {
            "tags": []
          }
        },
        {
          "output_type": "display_data",
          "data": {
            "text/plain": [
              "user          957\n",
              "item         4082\n",
              "cnt          1981\n",
              "daytime         7\n",
              "weekday         7\n",
              "isweekend       2\n",
              "homework        3\n",
              "cost            2\n",
              "weather         9\n",
              "country        80\n",
              "city          233\n",
              "dtype: int64"
            ]
          },
          "metadata": {
            "tags": []
          }
        },
        {
          "output_type": "display_data",
          "data": {
            "application/vnd.google.colaboratory.intrinsic+json": {
              "type": "string"
            },
            "text/plain": [
              "'------ unknown values ------'"
            ]
          },
          "metadata": {
            "tags": []
          }
        },
        {
          "output_type": "display_data",
          "data": {
            "text/plain": [
              "user             0\n",
              "item             0\n",
              "cnt              0\n",
              "daytime          0\n",
              "weekday          0\n",
              "isweekend        0\n",
              "homework     75670\n",
              "cost             0\n",
              "weather      12529\n",
              "country       7025\n",
              "city             0\n",
              "dtype: int64"
            ]
          },
          "metadata": {
            "tags": []
          }
        },
        {
          "output_type": "display_data",
          "data": {
            "application/vnd.google.colaboratory.intrinsic+json": {
              "type": "string"
            },
            "text/plain": [
              "'------ zero values ------'"
            ]
          },
          "metadata": {
            "tags": []
          }
        },
        {
          "output_type": "display_data",
          "data": {
            "text/plain": [
              "user            25\n",
              "item           521\n",
              "cnt              0\n",
              "daytime          0\n",
              "weekday          0\n",
              "isweekend        0\n",
              "homework         0\n",
              "cost             0\n",
              "weather          0\n",
              "country          0\n",
              "city         38052\n",
              "dtype: int64"
            ]
          },
          "metadata": {
            "tags": []
          }
        }
      ]
    },
    {
      "cell_type": "markdown",
      "metadata": {
        "id": "OZPRR_K7yxM7"
      },
      "source": [
        "### Dataset preprocessing"
      ]
    },
    {
      "cell_type": "code",
      "metadata": {
        "id": "i6_OSazcyxM8"
      },
      "source": [
        "# log transformation on the raw frequency numbers that represent the applications usage\n",
        "df['cnt'] = df['cnt'].apply(np.log10)\n",
        "f\"frequency range is {df['cnt'][df['cnt'] == df['cnt'].min()].values[0]} to {df['cnt'][df['cnt'] == df['cnt'].max()].values[0]}\"\n",
        "\n",
        "# delete columns that are not needed\n",
        "del df['homework']\n",
        "del df['cost']\n",
        "del df['city']\n",
        "del df['isweekend']\n",
        "del df['country']"
      ],
      "execution_count": null,
      "outputs": []
    },
    {
      "cell_type": "code",
      "metadata": {
        "id": "qFAc_KxJyxM8",
        "colab": {
          "base_uri": "https://localhost:8080/"
        },
        "outputId": "be4a115c-1d9d-4f80-d656-00d4e84a3b5a"
      },
      "source": [
        "# delete rows where weather is unknown\n",
        "df = df[df.weather != 'unknown']\n",
        "df = df.reset_index(drop=True)\n",
        "\n",
        "# make user and items id start from 0\n",
        "df.user = pd.factorize(df.user)[0]\n",
        "df.item = pd.factorize(df.item)[0]\n",
        "\n",
        "df"
      ],
      "execution_count": null,
      "outputs": [
        {
          "output_type": "execute_result",
          "data": {
            "text/html": [
              "<div>\n",
              "<style scoped>\n",
              "    .dataframe tbody tr th:only-of-type {\n",
              "        vertical-align: middle;\n",
              "    }\n",
              "\n",
              "    .dataframe tbody tr th {\n",
              "        vertical-align: top;\n",
              "    }\n",
              "\n",
              "    .dataframe thead th {\n",
              "        text-align: right;\n",
              "    }\n",
              "</style>\n",
              "<table border=\"1\" class=\"dataframe\">\n",
              "  <thead>\n",
              "    <tr style=\"text-align: right;\">\n",
              "      <th></th>\n",
              "      <th>user</th>\n",
              "      <th>item</th>\n",
              "      <th>cnt</th>\n",
              "      <th>daytime</th>\n",
              "      <th>weekday</th>\n",
              "      <th>weather</th>\n",
              "    </tr>\n",
              "  </thead>\n",
              "  <tbody>\n",
              "    <tr>\n",
              "      <th>0</th>\n",
              "      <td>0</td>\n",
              "      <td>0</td>\n",
              "      <td>0.000000</td>\n",
              "      <td>morning</td>\n",
              "      <td>sunday</td>\n",
              "      <td>sunny</td>\n",
              "    </tr>\n",
              "    <tr>\n",
              "      <th>1</th>\n",
              "      <td>1</td>\n",
              "      <td>1</td>\n",
              "      <td>0.845098</td>\n",
              "      <td>afternoon</td>\n",
              "      <td>saturday</td>\n",
              "      <td>cloudy</td>\n",
              "    </tr>\n",
              "    <tr>\n",
              "      <th>2</th>\n",
              "      <td>2</td>\n",
              "      <td>2</td>\n",
              "      <td>0.778151</td>\n",
              "      <td>evening</td>\n",
              "      <td>monday</td>\n",
              "      <td>cloudy</td>\n",
              "    </tr>\n",
              "    <tr>\n",
              "      <th>3</th>\n",
              "      <td>3</td>\n",
              "      <td>3</td>\n",
              "      <td>2.631444</td>\n",
              "      <td>night</td>\n",
              "      <td>thursday</td>\n",
              "      <td>sunny</td>\n",
              "    </tr>\n",
              "    <tr>\n",
              "      <th>4</th>\n",
              "      <td>4</td>\n",
              "      <td>4</td>\n",
              "      <td>0.778151</td>\n",
              "      <td>sunset</td>\n",
              "      <td>saturday</td>\n",
              "      <td>sunny</td>\n",
              "    </tr>\n",
              "    <tr>\n",
              "      <th>...</th>\n",
              "      <td>...</td>\n",
              "      <td>...</td>\n",
              "      <td>...</td>\n",
              "      <td>...</td>\n",
              "      <td>...</td>\n",
              "      <td>...</td>\n",
              "    </tr>\n",
              "    <tr>\n",
              "      <th>83669</th>\n",
              "      <td>96</td>\n",
              "      <td>0</td>\n",
              "      <td>0.698970</td>\n",
              "      <td>evening</td>\n",
              "      <td>sunday</td>\n",
              "      <td>sunny</td>\n",
              "    </tr>\n",
              "    <tr>\n",
              "      <th>83670</th>\n",
              "      <td>30</td>\n",
              "      <td>33</td>\n",
              "      <td>2.004321</td>\n",
              "      <td>sunset</td>\n",
              "      <td>sunday</td>\n",
              "      <td>cloudy</td>\n",
              "    </tr>\n",
              "    <tr>\n",
              "      <th>83671</th>\n",
              "      <td>156</td>\n",
              "      <td>26</td>\n",
              "      <td>2.385606</td>\n",
              "      <td>afternoon</td>\n",
              "      <td>sunday</td>\n",
              "      <td>cloudy</td>\n",
              "    </tr>\n",
              "    <tr>\n",
              "      <th>83672</th>\n",
              "      <td>399</td>\n",
              "      <td>672</td>\n",
              "      <td>0.000000</td>\n",
              "      <td>evening</td>\n",
              "      <td>sunday</td>\n",
              "      <td>sunny</td>\n",
              "    </tr>\n",
              "    <tr>\n",
              "      <th>83673</th>\n",
              "      <td>319</td>\n",
              "      <td>343</td>\n",
              "      <td>0.477121</td>\n",
              "      <td>evening</td>\n",
              "      <td>thursday</td>\n",
              "      <td>cloudy</td>\n",
              "    </tr>\n",
              "  </tbody>\n",
              "</table>\n",
              "<p>83674 rows × 6 columns</p>\n",
              "</div>"
            ],
            "text/plain": [
              "       user  item       cnt    daytime   weekday weather\n",
              "0         0     0  0.000000    morning    sunday   sunny\n",
              "1         1     1  0.845098  afternoon  saturday  cloudy\n",
              "2         2     2  0.778151    evening    monday  cloudy\n",
              "3         3     3  2.631444      night  thursday   sunny\n",
              "4         4     4  0.778151     sunset  saturday   sunny\n",
              "...     ...   ...       ...        ...       ...     ...\n",
              "83669    96     0  0.698970    evening    sunday   sunny\n",
              "83670    30    33  2.004321     sunset    sunday  cloudy\n",
              "83671   156    26  2.385606  afternoon    sunday  cloudy\n",
              "83672   399   672  0.000000    evening    sunday   sunny\n",
              "83673   319   343  0.477121    evening  thursday  cloudy\n",
              "\n",
              "[83674 rows x 6 columns]"
            ]
          },
          "metadata": {
            "tags": []
          },
          "execution_count": 74
        }
      ]
    },
    {
      "cell_type": "code",
      "metadata": {
        "id": "vzwi3oscyxM8",
        "colab": {
          "base_uri": "https://localhost:8080/"
        },
        "outputId": "61cd9479-ebd3-4325-c548-e64baa67b9c8"
      },
      "source": [
        "x_labels = ['user', 'item']\n",
        "y_label = 'cnt'\n",
        "context_labels = ['daytime', 'weekday', 'weather']\n",
        "\n",
        "# convert categorical data to one-hot encoding\n",
        "for col in context_labels:\n",
        "  df = pd.get_dummies(df, columns=[col], prefix = [col])\n",
        "\n",
        "# new context labels after one-hot encoding are columns from 3 to the end\n",
        "context_labels = df.columns[3:]\n",
        "df"
      ],
      "execution_count": null,
      "outputs": [
        {
          "output_type": "execute_result",
          "data": {
            "text/html": [
              "<div>\n",
              "<style scoped>\n",
              "    .dataframe tbody tr th:only-of-type {\n",
              "        vertical-align: middle;\n",
              "    }\n",
              "\n",
              "    .dataframe tbody tr th {\n",
              "        vertical-align: top;\n",
              "    }\n",
              "\n",
              "    .dataframe thead th {\n",
              "        text-align: right;\n",
              "    }\n",
              "</style>\n",
              "<table border=\"1\" class=\"dataframe\">\n",
              "  <thead>\n",
              "    <tr style=\"text-align: right;\">\n",
              "      <th></th>\n",
              "      <th>user</th>\n",
              "      <th>item</th>\n",
              "      <th>cnt</th>\n",
              "      <th>daytime_afternoon</th>\n",
              "      <th>daytime_evening</th>\n",
              "      <th>daytime_morning</th>\n",
              "      <th>daytime_night</th>\n",
              "      <th>daytime_noon</th>\n",
              "      <th>daytime_sunrise</th>\n",
              "      <th>daytime_sunset</th>\n",
              "      <th>weekday_friday</th>\n",
              "      <th>weekday_monday</th>\n",
              "      <th>weekday_saturday</th>\n",
              "      <th>weekday_sunday</th>\n",
              "      <th>weekday_thursday</th>\n",
              "      <th>weekday_tuesday</th>\n",
              "      <th>weekday_wednesday</th>\n",
              "      <th>weather_cloudy</th>\n",
              "      <th>weather_drizzle</th>\n",
              "      <th>weather_foggy</th>\n",
              "      <th>weather_rainy</th>\n",
              "      <th>weather_sleet</th>\n",
              "      <th>weather_snowy</th>\n",
              "      <th>weather_stormy</th>\n",
              "      <th>weather_sunny</th>\n",
              "    </tr>\n",
              "  </thead>\n",
              "  <tbody>\n",
              "    <tr>\n",
              "      <th>0</th>\n",
              "      <td>0</td>\n",
              "      <td>0</td>\n",
              "      <td>0.000000</td>\n",
              "      <td>0</td>\n",
              "      <td>0</td>\n",
              "      <td>1</td>\n",
              "      <td>0</td>\n",
              "      <td>0</td>\n",
              "      <td>0</td>\n",
              "      <td>0</td>\n",
              "      <td>0</td>\n",
              "      <td>0</td>\n",
              "      <td>0</td>\n",
              "      <td>1</td>\n",
              "      <td>0</td>\n",
              "      <td>0</td>\n",
              "      <td>0</td>\n",
              "      <td>0</td>\n",
              "      <td>0</td>\n",
              "      <td>0</td>\n",
              "      <td>0</td>\n",
              "      <td>0</td>\n",
              "      <td>0</td>\n",
              "      <td>0</td>\n",
              "      <td>1</td>\n",
              "    </tr>\n",
              "    <tr>\n",
              "      <th>1</th>\n",
              "      <td>1</td>\n",
              "      <td>1</td>\n",
              "      <td>0.845098</td>\n",
              "      <td>1</td>\n",
              "      <td>0</td>\n",
              "      <td>0</td>\n",
              "      <td>0</td>\n",
              "      <td>0</td>\n",
              "      <td>0</td>\n",
              "      <td>0</td>\n",
              "      <td>0</td>\n",
              "      <td>0</td>\n",
              "      <td>1</td>\n",
              "      <td>0</td>\n",
              "      <td>0</td>\n",
              "      <td>0</td>\n",
              "      <td>0</td>\n",
              "      <td>1</td>\n",
              "      <td>0</td>\n",
              "      <td>0</td>\n",
              "      <td>0</td>\n",
              "      <td>0</td>\n",
              "      <td>0</td>\n",
              "      <td>0</td>\n",
              "      <td>0</td>\n",
              "    </tr>\n",
              "    <tr>\n",
              "      <th>2</th>\n",
              "      <td>2</td>\n",
              "      <td>2</td>\n",
              "      <td>0.778151</td>\n",
              "      <td>0</td>\n",
              "      <td>1</td>\n",
              "      <td>0</td>\n",
              "      <td>0</td>\n",
              "      <td>0</td>\n",
              "      <td>0</td>\n",
              "      <td>0</td>\n",
              "      <td>0</td>\n",
              "      <td>1</td>\n",
              "      <td>0</td>\n",
              "      <td>0</td>\n",
              "      <td>0</td>\n",
              "      <td>0</td>\n",
              "      <td>0</td>\n",
              "      <td>1</td>\n",
              "      <td>0</td>\n",
              "      <td>0</td>\n",
              "      <td>0</td>\n",
              "      <td>0</td>\n",
              "      <td>0</td>\n",
              "      <td>0</td>\n",
              "      <td>0</td>\n",
              "    </tr>\n",
              "    <tr>\n",
              "      <th>3</th>\n",
              "      <td>3</td>\n",
              "      <td>3</td>\n",
              "      <td>2.631444</td>\n",
              "      <td>0</td>\n",
              "      <td>0</td>\n",
              "      <td>0</td>\n",
              "      <td>1</td>\n",
              "      <td>0</td>\n",
              "      <td>0</td>\n",
              "      <td>0</td>\n",
              "      <td>0</td>\n",
              "      <td>0</td>\n",
              "      <td>0</td>\n",
              "      <td>0</td>\n",
              "      <td>1</td>\n",
              "      <td>0</td>\n",
              "      <td>0</td>\n",
              "      <td>0</td>\n",
              "      <td>0</td>\n",
              "      <td>0</td>\n",
              "      <td>0</td>\n",
              "      <td>0</td>\n",
              "      <td>0</td>\n",
              "      <td>0</td>\n",
              "      <td>1</td>\n",
              "    </tr>\n",
              "    <tr>\n",
              "      <th>4</th>\n",
              "      <td>4</td>\n",
              "      <td>4</td>\n",
              "      <td>0.778151</td>\n",
              "      <td>0</td>\n",
              "      <td>0</td>\n",
              "      <td>0</td>\n",
              "      <td>0</td>\n",
              "      <td>0</td>\n",
              "      <td>0</td>\n",
              "      <td>1</td>\n",
              "      <td>0</td>\n",
              "      <td>0</td>\n",
              "      <td>1</td>\n",
              "      <td>0</td>\n",
              "      <td>0</td>\n",
              "      <td>0</td>\n",
              "      <td>0</td>\n",
              "      <td>0</td>\n",
              "      <td>0</td>\n",
              "      <td>0</td>\n",
              "      <td>0</td>\n",
              "      <td>0</td>\n",
              "      <td>0</td>\n",
              "      <td>0</td>\n",
              "      <td>1</td>\n",
              "    </tr>\n",
              "    <tr>\n",
              "      <th>...</th>\n",
              "      <td>...</td>\n",
              "      <td>...</td>\n",
              "      <td>...</td>\n",
              "      <td>...</td>\n",
              "      <td>...</td>\n",
              "      <td>...</td>\n",
              "      <td>...</td>\n",
              "      <td>...</td>\n",
              "      <td>...</td>\n",
              "      <td>...</td>\n",
              "      <td>...</td>\n",
              "      <td>...</td>\n",
              "      <td>...</td>\n",
              "      <td>...</td>\n",
              "      <td>...</td>\n",
              "      <td>...</td>\n",
              "      <td>...</td>\n",
              "      <td>...</td>\n",
              "      <td>...</td>\n",
              "      <td>...</td>\n",
              "      <td>...</td>\n",
              "      <td>...</td>\n",
              "      <td>...</td>\n",
              "      <td>...</td>\n",
              "      <td>...</td>\n",
              "    </tr>\n",
              "    <tr>\n",
              "      <th>83669</th>\n",
              "      <td>96</td>\n",
              "      <td>0</td>\n",
              "      <td>0.698970</td>\n",
              "      <td>0</td>\n",
              "      <td>1</td>\n",
              "      <td>0</td>\n",
              "      <td>0</td>\n",
              "      <td>0</td>\n",
              "      <td>0</td>\n",
              "      <td>0</td>\n",
              "      <td>0</td>\n",
              "      <td>0</td>\n",
              "      <td>0</td>\n",
              "      <td>1</td>\n",
              "      <td>0</td>\n",
              "      <td>0</td>\n",
              "      <td>0</td>\n",
              "      <td>0</td>\n",
              "      <td>0</td>\n",
              "      <td>0</td>\n",
              "      <td>0</td>\n",
              "      <td>0</td>\n",
              "      <td>0</td>\n",
              "      <td>0</td>\n",
              "      <td>1</td>\n",
              "    </tr>\n",
              "    <tr>\n",
              "      <th>83670</th>\n",
              "      <td>30</td>\n",
              "      <td>33</td>\n",
              "      <td>2.004321</td>\n",
              "      <td>0</td>\n",
              "      <td>0</td>\n",
              "      <td>0</td>\n",
              "      <td>0</td>\n",
              "      <td>0</td>\n",
              "      <td>0</td>\n",
              "      <td>1</td>\n",
              "      <td>0</td>\n",
              "      <td>0</td>\n",
              "      <td>0</td>\n",
              "      <td>1</td>\n",
              "      <td>0</td>\n",
              "      <td>0</td>\n",
              "      <td>0</td>\n",
              "      <td>1</td>\n",
              "      <td>0</td>\n",
              "      <td>0</td>\n",
              "      <td>0</td>\n",
              "      <td>0</td>\n",
              "      <td>0</td>\n",
              "      <td>0</td>\n",
              "      <td>0</td>\n",
              "    </tr>\n",
              "    <tr>\n",
              "      <th>83671</th>\n",
              "      <td>156</td>\n",
              "      <td>26</td>\n",
              "      <td>2.385606</td>\n",
              "      <td>1</td>\n",
              "      <td>0</td>\n",
              "      <td>0</td>\n",
              "      <td>0</td>\n",
              "      <td>0</td>\n",
              "      <td>0</td>\n",
              "      <td>0</td>\n",
              "      <td>0</td>\n",
              "      <td>0</td>\n",
              "      <td>0</td>\n",
              "      <td>1</td>\n",
              "      <td>0</td>\n",
              "      <td>0</td>\n",
              "      <td>0</td>\n",
              "      <td>1</td>\n",
              "      <td>0</td>\n",
              "      <td>0</td>\n",
              "      <td>0</td>\n",
              "      <td>0</td>\n",
              "      <td>0</td>\n",
              "      <td>0</td>\n",
              "      <td>0</td>\n",
              "    </tr>\n",
              "    <tr>\n",
              "      <th>83672</th>\n",
              "      <td>399</td>\n",
              "      <td>672</td>\n",
              "      <td>0.000000</td>\n",
              "      <td>0</td>\n",
              "      <td>1</td>\n",
              "      <td>0</td>\n",
              "      <td>0</td>\n",
              "      <td>0</td>\n",
              "      <td>0</td>\n",
              "      <td>0</td>\n",
              "      <td>0</td>\n",
              "      <td>0</td>\n",
              "      <td>0</td>\n",
              "      <td>1</td>\n",
              "      <td>0</td>\n",
              "      <td>0</td>\n",
              "      <td>0</td>\n",
              "      <td>0</td>\n",
              "      <td>0</td>\n",
              "      <td>0</td>\n",
              "      <td>0</td>\n",
              "      <td>0</td>\n",
              "      <td>0</td>\n",
              "      <td>0</td>\n",
              "      <td>1</td>\n",
              "    </tr>\n",
              "    <tr>\n",
              "      <th>83673</th>\n",
              "      <td>319</td>\n",
              "      <td>343</td>\n",
              "      <td>0.477121</td>\n",
              "      <td>0</td>\n",
              "      <td>1</td>\n",
              "      <td>0</td>\n",
              "      <td>0</td>\n",
              "      <td>0</td>\n",
              "      <td>0</td>\n",
              "      <td>0</td>\n",
              "      <td>0</td>\n",
              "      <td>0</td>\n",
              "      <td>0</td>\n",
              "      <td>0</td>\n",
              "      <td>1</td>\n",
              "      <td>0</td>\n",
              "      <td>0</td>\n",
              "      <td>1</td>\n",
              "      <td>0</td>\n",
              "      <td>0</td>\n",
              "      <td>0</td>\n",
              "      <td>0</td>\n",
              "      <td>0</td>\n",
              "      <td>0</td>\n",
              "      <td>0</td>\n",
              "    </tr>\n",
              "  </tbody>\n",
              "</table>\n",
              "<p>83674 rows × 25 columns</p>\n",
              "</div>"
            ],
            "text/plain": [
              "       user  item       cnt  ...  weather_snowy  weather_stormy  weather_sunny\n",
              "0         0     0  0.000000  ...              0               0              1\n",
              "1         1     1  0.845098  ...              0               0              0\n",
              "2         2     2  0.778151  ...              0               0              0\n",
              "3         3     3  2.631444  ...              0               0              1\n",
              "4         4     4  0.778151  ...              0               0              1\n",
              "...     ...   ...       ...  ...            ...             ...            ...\n",
              "83669    96     0  0.698970  ...              0               0              1\n",
              "83670    30    33  2.004321  ...              0               0              0\n",
              "83671   156    26  2.385606  ...              0               0              0\n",
              "83672   399   672  0.000000  ...              0               0              1\n",
              "83673   319   343  0.477121  ...              0               0              0\n",
              "\n",
              "[83674 rows x 25 columns]"
            ]
          },
          "metadata": {
            "tags": []
          },
          "execution_count": 75
        }
      ]
    },
    {
      "cell_type": "code",
      "metadata": {
        "id": "rfi_1a0Ir_AJ"
      },
      "source": [
        "# k-fold cross validation object\n",
        "kf = KFold(n_splits=3, random_state=42, shuffle=True)\n",
        "\n",
        "def kfold_train(model, epochs, batch_size, verbose, df, x_labels, y_label, context_labels, kf):\n",
        "    '''\n",
        "    Train a model using K-fold CV\n",
        "\n",
        "    Parameters:\n",
        "        model: the model to be trained\n",
        "        epochs: training epochs for each fold\n",
        "        batch_size: batch size for each fold\n",
        "        verbose: show training batch and loss\n",
        "        df: the dataframe on which the model will be trained\n",
        "        x_labels: features labels\n",
        "        y_label: value to predict label\n",
        "        context_labels: contextual features labels\n",
        "        kf: sklearn kfold object\n",
        "    '''\n",
        "    idx = 0\n",
        "    rmse = np.empty(kf.n_splits)\n",
        "    mae = np.empty(kf.n_splits)\n",
        "\n",
        "    for train_index, test_index in kf.split(df):\n",
        "        print(f'Training on fold {idx}...')\n",
        "        train_x = df.loc[train_index, x_labels]  # get a dataset subset with df.loc[rows, columns]\n",
        "        train_y = df.loc[train_index, y_label]\n",
        "        train_context = df.loc[train_index, context_labels]\n",
        "        model.fit([train_x.user, train_x.item, train_context], train_y, epochs=epochs, batch_size=batch_size, verbose=verbose)\n",
        "\n",
        "        print(f'Testing on fold {idx}...')\n",
        "        test_x = df.loc[test_index, x_labels]\n",
        "        test_y = df.loc[test_index, y_label]\n",
        "        test_context = df.loc[test_index, context_labels]\n",
        "        pred_y = model.predict([test_x.user, test_x.item, test_context]).flatten()\n",
        "        rmse[idx] = mean_squared_error(test_y, pred_y, squared = False)\n",
        "        mae[idx] = mean_absolute_error(test_y, pred_y)\n",
        "        print(f'RMSE = {rmse[idx]}    MAE = {mae[idx]}')\n",
        "\n",
        "        idx = idx + 1\n",
        "    \n",
        "    return np.mean(rmse), np.mean(mae)\n",
        "\n"
      ],
      "execution_count": null,
      "outputs": []
    },
    {
      "cell_type": "code",
      "metadata": {
        "id": "SYutpX2ryxM-",
        "colab": {
          "base_uri": "https://localhost:8080/"
        },
        "outputId": "e238cd1f-4770-46c5-ce7c-e68a54dd29bf"
      },
      "source": [
        "# count number of unique users and items\n",
        "n_users, n_items = len(df.user.unique()), len(df.item.unique())\n",
        "n_context = len(context_labels)\n",
        "\n",
        "# embedding vectors length\n",
        "n_latent_factors_user = 8\n",
        "n_latent_factors_item = 12\n",
        "\n",
        "f'Number of users: {n_users}      Number of apps: {n_items}     Number of context features: {n_context}'"
      ],
      "execution_count": null,
      "outputs": [
        {
          "output_type": "execute_result",
          "data": {
            "application/vnd.google.colaboratory.intrinsic+json": {
              "type": "string"
            },
            "text/plain": [
              "'Number of users: 862      Number of apps: 3663     Number of context features: 22'"
            ]
          },
          "metadata": {
            "tags": []
          },
          "execution_count": 77
        }
      ]
    },
    {
      "cell_type": "markdown",
      "metadata": {
        "id": "NIfSxcyQzRzn"
      },
      "source": [
        "### Latent context extraction\n"
      ]
    },
    {
      "cell_type": "code",
      "metadata": {
        "id": "DO1R_ZVl783U"
      },
      "source": [
        "train_context_AE, test_context_AE = train_test_split(df.loc[:,context_labels], test_size=0.2)"
      ],
      "execution_count": null,
      "outputs": []
    },
    {
      "cell_type": "code",
      "metadata": {
        "id": "0iHJfOanzNQy"
      },
      "source": [
        "# size of the encoded representation\n",
        "n_latent_context = 11\n",
        "\n",
        "# input layer\n",
        "input = Input(shape=(n_context,))\n",
        "# the encoded representation of the input\n",
        "encoded = Dense(n_latent_context, activation='sigmoid')(input)\n",
        "# the reconstruction of the input\n",
        "decoded = Dense(n_context, activation='sigmoid')(encoded)\n",
        "\n",
        "# Autoencoder model\n",
        "autoencoder = keras.Model(input, decoded)\n",
        "\n",
        "# Only encoder model\n",
        "encoder = keras.Model(input, encoded)\n",
        "\n",
        "# Only Decoder model\n",
        "encoded_input = keras.Input(shape=(n_latent_context,))   # takes as input the encoded context\n",
        "decoder_layer = autoencoder.layers[-1]   # Retrieve the last layer of the autoencoder model\n",
        "decoder = keras.Model(encoded_input, decoder_layer(encoded_input))\n",
        "\n",
        "autoencoder.compile(optimizer='adam', loss='binary_crossentropy')"
      ],
      "execution_count": null,
      "outputs": []
    },
    {
      "cell_type": "code",
      "metadata": {
        "id": "fqmXeqgOZ0KZ"
      },
      "source": [
        "# train the autoencoder on the context\n",
        "history = autoencoder.fit(train_context_AE, train_context_AE,\n",
        "                          epochs=50,\n",
        "                          verbose=False,\n",
        "                          batch_size=128,\n",
        "                          validation_data=(test_context_AE, test_context_AE))"
      ],
      "execution_count": null,
      "outputs": []
    },
    {
      "cell_type": "code",
      "metadata": {
        "id": "mnPVHgFhOvzx",
        "colab": {
          "base_uri": "https://localhost:8080/",
          "height": 371
        },
        "outputId": "73850a23-ff97-4c48-e422-ccf62e006c29"
      },
      "source": [
        "plot_loss(history, ymin=0, ymax=0.5)"
      ],
      "execution_count": null,
      "outputs": [
        {
          "output_type": "display_data",
          "data": {
            "image/png": "[encoded data removed]",
            "text/plain": [
              "<Figure size 576x396 with 1 Axes>"
            ]
          },
          "metadata": {
            "tags": []
          }
        }
      ]
    },
    {
      "cell_type": "code",
      "metadata": {
        "id": "ZDXtf6_aEm_S",
        "colab": {
          "base_uri": "https://localhost:8080/",
          "height": 422
        },
        "outputId": "ff78e41c-c844-467e-a80d-c987f21282d6"
      },
      "source": [
        "# get weight matrix of neurons that connect input layers to hidden layer\n",
        "# get weight returns a list of weights and biases, by taking weight[0] you extract only the weights\n",
        "weight_matrix = autoencoder.layers[1].get_weights()[0]\n",
        "weight_matrix = np.asarray(weight_matrix)\n",
        "\n",
        "def get_latent_context():\n",
        "    latent_context = np.empty(shape=(df.shape[0], n_latent_context))\n",
        "    latent_context_labels = [f\"latent_{x}\" for x in range(n_latent_context)]\n",
        "    \n",
        "    # multiply each context sample for the weight matrix\n",
        "    for idx, s in enumerate(df.loc[:, context_labels].values):\n",
        "        latent_context[idx] = s @ weight_matrix\n",
        "    \n",
        "    # apply activation function\n",
        "    latent_context = sigmoid(latent_context)\n",
        "    df_latent_context = pd.DataFrame(latent_context, columns=latent_context_labels)\n",
        "\n",
        "    return df_latent_context, latent_context_labels\n",
        "\n",
        "df_latent_context, latent_context_labels = get_latent_context()\n",
        "df = pd.concat([df, df_latent_context], axis=1)\n",
        "df\n",
        "        "
      ],
      "execution_count": null,
      "outputs": [
        {
          "output_type": "execute_result",
          "data": {
            "text/html": [
              "<div>\n",
              "<style scoped>\n",
              "    .dataframe tbody tr th:only-of-type {\n",
              "        vertical-align: middle;\n",
              "    }\n",
              "\n",
              "    .dataframe tbody tr th {\n",
              "        vertical-align: top;\n",
              "    }\n",
              "\n",
              "    .dataframe thead th {\n",
              "        text-align: right;\n",
              "    }\n",
              "</style>\n",
              "<table border=\"1\" class=\"dataframe\">\n",
              "  <thead>\n",
              "    <tr style=\"text-align: right;\">\n",
              "      <th></th>\n",
              "      <th>user</th>\n",
              "      <th>item</th>\n",
              "      <th>cnt</th>\n",
              "      <th>daytime_afternoon</th>\n",
              "      <th>daytime_evening</th>\n",
              "      <th>daytime_morning</th>\n",
              "      <th>daytime_night</th>\n",
              "      <th>daytime_noon</th>\n",
              "      <th>daytime_sunrise</th>\n",
              "      <th>daytime_sunset</th>\n",
              "      <th>weekday_friday</th>\n",
              "      <th>weekday_monday</th>\n",
              "      <th>weekday_saturday</th>\n",
              "      <th>weekday_sunday</th>\n",
              "      <th>weekday_thursday</th>\n",
              "      <th>weekday_tuesday</th>\n",
              "      <th>weekday_wednesday</th>\n",
              "      <th>weather_cloudy</th>\n",
              "      <th>weather_drizzle</th>\n",
              "      <th>weather_foggy</th>\n",
              "      <th>weather_rainy</th>\n",
              "      <th>weather_sleet</th>\n",
              "      <th>weather_snowy</th>\n",
              "      <th>weather_stormy</th>\n",
              "      <th>weather_sunny</th>\n",
              "      <th>latent_0</th>\n",
              "      <th>latent_1</th>\n",
              "      <th>latent_2</th>\n",
              "      <th>latent_3</th>\n",
              "      <th>latent_4</th>\n",
              "      <th>latent_5</th>\n",
              "      <th>latent_6</th>\n",
              "      <th>latent_7</th>\n",
              "      <th>latent_8</th>\n",
              "      <th>latent_9</th>\n",
              "      <th>latent_10</th>\n",
              "    </tr>\n",
              "  </thead>\n",
              "  <tbody>\n",
              "    <tr>\n",
              "      <th>0</th>\n",
              "      <td>0</td>\n",
              "      <td>0</td>\n",
              "      <td>0.000000</td>\n",
              "      <td>0</td>\n",
              "      <td>0</td>\n",
              "      <td>1</td>\n",
              "      <td>0</td>\n",
              "      <td>0</td>\n",
              "      <td>0</td>\n",
              "      <td>0</td>\n",
              "      <td>0</td>\n",
              "      <td>0</td>\n",
              "      <td>0</td>\n",
              "      <td>1</td>\n",
              "      <td>0</td>\n",
              "      <td>0</td>\n",
              "      <td>0</td>\n",
              "      <td>0</td>\n",
              "      <td>0</td>\n",
              "      <td>0</td>\n",
              "      <td>0</td>\n",
              "      <td>0</td>\n",
              "      <td>0</td>\n",
              "      <td>0</td>\n",
              "      <td>1</td>\n",
              "      <td>0.988308</td>\n",
              "      <td>0.355202</td>\n",
              "      <td>0.992739</td>\n",
              "      <td>0.633351</td>\n",
              "      <td>0.049855</td>\n",
              "      <td>0.774138</td>\n",
              "      <td>0.433056</td>\n",
              "      <td>0.018305</td>\n",
              "      <td>0.738805</td>\n",
              "      <td>0.152029</td>\n",
              "      <td>0.896734</td>\n",
              "    </tr>\n",
              "    <tr>\n",
              "      <th>1</th>\n",
              "      <td>1</td>\n",
              "      <td>1</td>\n",
              "      <td>0.845098</td>\n",
              "      <td>1</td>\n",
              "      <td>0</td>\n",
              "      <td>0</td>\n",
              "      <td>0</td>\n",
              "      <td>0</td>\n",
              "      <td>0</td>\n",
              "      <td>0</td>\n",
              "      <td>0</td>\n",
              "      <td>0</td>\n",
              "      <td>1</td>\n",
              "      <td>0</td>\n",
              "      <td>0</td>\n",
              "      <td>0</td>\n",
              "      <td>0</td>\n",
              "      <td>1</td>\n",
              "      <td>0</td>\n",
              "      <td>0</td>\n",
              "      <td>0</td>\n",
              "      <td>0</td>\n",
              "      <td>0</td>\n",
              "      <td>0</td>\n",
              "      <td>0</td>\n",
              "      <td>0.829339</td>\n",
              "      <td>0.683536</td>\n",
              "      <td>0.424526</td>\n",
              "      <td>0.451312</td>\n",
              "      <td>0.607461</td>\n",
              "      <td>0.783443</td>\n",
              "      <td>0.048296</td>\n",
              "      <td>0.998344</td>\n",
              "      <td>0.977219</td>\n",
              "      <td>0.980486</td>\n",
              "      <td>0.961366</td>\n",
              "    </tr>\n",
              "    <tr>\n",
              "      <th>2</th>\n",
              "      <td>2</td>\n",
              "      <td>2</td>\n",
              "      <td>0.778151</td>\n",
              "      <td>0</td>\n",
              "      <td>1</td>\n",
              "      <td>0</td>\n",
              "      <td>0</td>\n",
              "      <td>0</td>\n",
              "      <td>0</td>\n",
              "      <td>0</td>\n",
              "      <td>0</td>\n",
              "      <td>1</td>\n",
              "      <td>0</td>\n",
              "      <td>0</td>\n",
              "      <td>0</td>\n",
              "      <td>0</td>\n",
              "      <td>0</td>\n",
              "      <td>1</td>\n",
              "      <td>0</td>\n",
              "      <td>0</td>\n",
              "      <td>0</td>\n",
              "      <td>0</td>\n",
              "      <td>0</td>\n",
              "      <td>0</td>\n",
              "      <td>0</td>\n",
              "      <td>0.935412</td>\n",
              "      <td>0.961007</td>\n",
              "      <td>0.211267</td>\n",
              "      <td>0.840715</td>\n",
              "      <td>0.931853</td>\n",
              "      <td>0.032041</td>\n",
              "      <td>0.696017</td>\n",
              "      <td>0.062881</td>\n",
              "      <td>0.596453</td>\n",
              "      <td>0.497185</td>\n",
              "      <td>0.072387</td>\n",
              "    </tr>\n",
              "    <tr>\n",
              "      <th>3</th>\n",
              "      <td>3</td>\n",
              "      <td>3</td>\n",
              "      <td>2.631444</td>\n",
              "      <td>0</td>\n",
              "      <td>0</td>\n",
              "      <td>0</td>\n",
              "      <td>1</td>\n",
              "      <td>0</td>\n",
              "      <td>0</td>\n",
              "      <td>0</td>\n",
              "      <td>0</td>\n",
              "      <td>0</td>\n",
              "      <td>0</td>\n",
              "      <td>0</td>\n",
              "      <td>1</td>\n",
              "      <td>0</td>\n",
              "      <td>0</td>\n",
              "      <td>0</td>\n",
              "      <td>0</td>\n",
              "      <td>0</td>\n",
              "      <td>0</td>\n",
              "      <td>0</td>\n",
              "      <td>0</td>\n",
              "      <td>0</td>\n",
              "      <td>1</td>\n",
              "      <td>0.314016</td>\n",
              "      <td>0.643168</td>\n",
              "      <td>0.741685</td>\n",
              "      <td>0.922022</td>\n",
              "      <td>0.736423</td>\n",
              "      <td>0.993948</td>\n",
              "      <td>0.843032</td>\n",
              "      <td>0.041105</td>\n",
              "      <td>0.023345</td>\n",
              "      <td>0.718297</td>\n",
              "      <td>0.122373</td>\n",
              "    </tr>\n",
              "    <tr>\n",
              "      <th>4</th>\n",
              "      <td>4</td>\n",
              "      <td>4</td>\n",
              "      <td>0.778151</td>\n",
              "      <td>0</td>\n",
              "      <td>0</td>\n",
              "      <td>0</td>\n",
              "      <td>0</td>\n",
              "      <td>0</td>\n",
              "      <td>0</td>\n",
              "      <td>1</td>\n",
              "      <td>0</td>\n",
              "      <td>0</td>\n",
              "      <td>1</td>\n",
              "      <td>0</td>\n",
              "      <td>0</td>\n",
              "      <td>0</td>\n",
              "      <td>0</td>\n",
              "      <td>0</td>\n",
              "      <td>0</td>\n",
              "      <td>0</td>\n",
              "      <td>0</td>\n",
              "      <td>0</td>\n",
              "      <td>0</td>\n",
              "      <td>0</td>\n",
              "      <td>1</td>\n",
              "      <td>0.979164</td>\n",
              "      <td>0.072370</td>\n",
              "      <td>0.527503</td>\n",
              "      <td>0.416089</td>\n",
              "      <td>0.082366</td>\n",
              "      <td>0.535532</td>\n",
              "      <td>0.966884</td>\n",
              "      <td>0.985208</td>\n",
              "      <td>0.268093</td>\n",
              "      <td>0.948461</td>\n",
              "      <td>0.967017</td>\n",
              "    </tr>\n",
              "    <tr>\n",
              "      <th>...</th>\n",
              "      <td>...</td>\n",
              "      <td>...</td>\n",
              "      <td>...</td>\n",
              "      <td>...</td>\n",
              "      <td>...</td>\n",
              "      <td>...</td>\n",
              "      <td>...</td>\n",
              "      <td>...</td>\n",
              "      <td>...</td>\n",
              "      <td>...</td>\n",
              "      <td>...</td>\n",
              "      <td>...</td>\n",
              "      <td>...</td>\n",
              "      <td>...</td>\n",
              "      <td>...</td>\n",
              "      <td>...</td>\n",
              "      <td>...</td>\n",
              "      <td>...</td>\n",
              "      <td>...</td>\n",
              "      <td>...</td>\n",
              "      <td>...</td>\n",
              "      <td>...</td>\n",
              "      <td>...</td>\n",
              "      <td>...</td>\n",
              "      <td>...</td>\n",
              "      <td>...</td>\n",
              "      <td>...</td>\n",
              "      <td>...</td>\n",
              "      <td>...</td>\n",
              "      <td>...</td>\n",
              "      <td>...</td>\n",
              "      <td>...</td>\n",
              "      <td>...</td>\n",
              "      <td>...</td>\n",
              "      <td>...</td>\n",
              "      <td>...</td>\n",
              "    </tr>\n",
              "    <tr>\n",
              "      <th>83669</th>\n",
              "      <td>96</td>\n",
              "      <td>0</td>\n",
              "      <td>0.698970</td>\n",
              "      <td>0</td>\n",
              "      <td>1</td>\n",
              "      <td>0</td>\n",
              "      <td>0</td>\n",
              "      <td>0</td>\n",
              "      <td>0</td>\n",
              "      <td>0</td>\n",
              "      <td>0</td>\n",
              "      <td>0</td>\n",
              "      <td>0</td>\n",
              "      <td>1</td>\n",
              "      <td>0</td>\n",
              "      <td>0</td>\n",
              "      <td>0</td>\n",
              "      <td>0</td>\n",
              "      <td>0</td>\n",
              "      <td>0</td>\n",
              "      <td>0</td>\n",
              "      <td>0</td>\n",
              "      <td>0</td>\n",
              "      <td>0</td>\n",
              "      <td>1</td>\n",
              "      <td>0.990497</td>\n",
              "      <td>0.523246</td>\n",
              "      <td>0.913150</td>\n",
              "      <td>0.834796</td>\n",
              "      <td>0.577871</td>\n",
              "      <td>0.705495</td>\n",
              "      <td>0.776322</td>\n",
              "      <td>0.004545</td>\n",
              "      <td>0.096435</td>\n",
              "      <td>0.065378</td>\n",
              "      <td>0.962586</td>\n",
              "    </tr>\n",
              "    <tr>\n",
              "      <th>83670</th>\n",
              "      <td>30</td>\n",
              "      <td>33</td>\n",
              "      <td>2.004321</td>\n",
              "      <td>0</td>\n",
              "      <td>0</td>\n",
              "      <td>0</td>\n",
              "      <td>0</td>\n",
              "      <td>0</td>\n",
              "      <td>0</td>\n",
              "      <td>1</td>\n",
              "      <td>0</td>\n",
              "      <td>0</td>\n",
              "      <td>0</td>\n",
              "      <td>1</td>\n",
              "      <td>0</td>\n",
              "      <td>0</td>\n",
              "      <td>0</td>\n",
              "      <td>1</td>\n",
              "      <td>0</td>\n",
              "      <td>0</td>\n",
              "      <td>0</td>\n",
              "      <td>0</td>\n",
              "      <td>0</td>\n",
              "      <td>0</td>\n",
              "      <td>0</td>\n",
              "      <td>0.933059</td>\n",
              "      <td>0.106589</td>\n",
              "      <td>0.562219</td>\n",
              "      <td>0.976379</td>\n",
              "      <td>0.425831</td>\n",
              "      <td>0.057071</td>\n",
              "      <td>0.485348</td>\n",
              "      <td>0.003666</td>\n",
              "      <td>0.919574</td>\n",
              "      <td>0.972409</td>\n",
              "      <td>0.971437</td>\n",
              "    </tr>\n",
              "    <tr>\n",
              "      <th>83671</th>\n",
              "      <td>156</td>\n",
              "      <td>26</td>\n",
              "      <td>2.385606</td>\n",
              "      <td>1</td>\n",
              "      <td>0</td>\n",
              "      <td>0</td>\n",
              "      <td>0</td>\n",
              "      <td>0</td>\n",
              "      <td>0</td>\n",
              "      <td>0</td>\n",
              "      <td>0</td>\n",
              "      <td>0</td>\n",
              "      <td>0</td>\n",
              "      <td>1</td>\n",
              "      <td>0</td>\n",
              "      <td>0</td>\n",
              "      <td>0</td>\n",
              "      <td>1</td>\n",
              "      <td>0</td>\n",
              "      <td>0</td>\n",
              "      <td>0</td>\n",
              "      <td>0</td>\n",
              "      <td>0</td>\n",
              "      <td>0</td>\n",
              "      <td>0</td>\n",
              "      <td>0.870937</td>\n",
              "      <td>0.421005</td>\n",
              "      <td>0.874779</td>\n",
              "      <td>0.889308</td>\n",
              "      <td>0.632794</td>\n",
              "      <td>0.871532</td>\n",
              "      <td>0.013028</td>\n",
              "      <td>0.028214</td>\n",
              "      <td>0.982361</td>\n",
              "      <td>0.955924</td>\n",
              "      <td>0.943143</td>\n",
              "    </tr>\n",
              "    <tr>\n",
              "      <th>83672</th>\n",
              "      <td>399</td>\n",
              "      <td>672</td>\n",
              "      <td>0.000000</td>\n",
              "      <td>0</td>\n",
              "      <td>1</td>\n",
              "      <td>0</td>\n",
              "      <td>0</td>\n",
              "      <td>0</td>\n",
              "      <td>0</td>\n",
              "      <td>0</td>\n",
              "      <td>0</td>\n",
              "      <td>0</td>\n",
              "      <td>0</td>\n",
              "      <td>1</td>\n",
              "      <td>0</td>\n",
              "      <td>0</td>\n",
              "      <td>0</td>\n",
              "      <td>0</td>\n",
              "      <td>0</td>\n",
              "      <td>0</td>\n",
              "      <td>0</td>\n",
              "      <td>0</td>\n",
              "      <td>0</td>\n",
              "      <td>0</td>\n",
              "      <td>1</td>\n",
              "      <td>0.990497</td>\n",
              "      <td>0.523246</td>\n",
              "      <td>0.913150</td>\n",
              "      <td>0.834796</td>\n",
              "      <td>0.577871</td>\n",
              "      <td>0.705495</td>\n",
              "      <td>0.776322</td>\n",
              "      <td>0.004545</td>\n",
              "      <td>0.096435</td>\n",
              "      <td>0.065378</td>\n",
              "      <td>0.962586</td>\n",
              "    </tr>\n",
              "    <tr>\n",
              "      <th>83673</th>\n",
              "      <td>319</td>\n",
              "      <td>343</td>\n",
              "      <td>0.477121</td>\n",
              "      <td>0</td>\n",
              "      <td>1</td>\n",
              "      <td>0</td>\n",
              "      <td>0</td>\n",
              "      <td>0</td>\n",
              "      <td>0</td>\n",
              "      <td>0</td>\n",
              "      <td>0</td>\n",
              "      <td>0</td>\n",
              "      <td>0</td>\n",
              "      <td>0</td>\n",
              "      <td>1</td>\n",
              "      <td>0</td>\n",
              "      <td>0</td>\n",
              "      <td>1</td>\n",
              "      <td>0</td>\n",
              "      <td>0</td>\n",
              "      <td>0</td>\n",
              "      <td>0</td>\n",
              "      <td>0</td>\n",
              "      <td>0</td>\n",
              "      <td>0</td>\n",
              "      <td>0.183554</td>\n",
              "      <td>0.958629</td>\n",
              "      <td>0.478305</td>\n",
              "      <td>0.991391</td>\n",
              "      <td>0.888102</td>\n",
              "      <td>0.056925</td>\n",
              "      <td>0.761432</td>\n",
              "      <td>0.052458</td>\n",
              "      <td>0.661665</td>\n",
              "      <td>0.232792</td>\n",
              "      <td>0.212112</td>\n",
              "    </tr>\n",
              "  </tbody>\n",
              "</table>\n",
              "<p>83674 rows × 36 columns</p>\n",
              "</div>"
            ],
            "text/plain": [
              "       user  item       cnt  ...  latent_8  latent_9  latent_10\n",
              "0         0     0  0.000000  ...  0.738805  0.152029   0.896734\n",
              "1         1     1  0.845098  ...  0.977219  0.980486   0.961366\n",
              "2         2     2  0.778151  ...  0.596453  0.497185   0.072387\n",
              "3         3     3  2.631444  ...  0.023345  0.718297   0.122373\n",
              "4         4     4  0.778151  ...  0.268093  0.948461   0.967017\n",
              "...     ...   ...       ...  ...       ...       ...        ...\n",
              "83669    96     0  0.698970  ...  0.096435  0.065378   0.962586\n",
              "83670    30    33  2.004321  ...  0.919574  0.972409   0.971437\n",
              "83671   156    26  2.385606  ...  0.982361  0.955924   0.943143\n",
              "83672   399   672  0.000000  ...  0.096435  0.065378   0.962586\n",
              "83673   319   343  0.477121  ...  0.661665  0.232792   0.212112\n",
              "\n",
              "[83674 rows x 36 columns]"
            ]
          },
          "metadata": {
            "tags": []
          },
          "execution_count": 82
        }
      ]
    },
    {
      "cell_type": "markdown",
      "metadata": {
        "id": "lSvsimsFNteB"
      },
      "source": [
        "### Hierarchical context representation\n",
        "Per ora solo prove su dataset dummy"
      ]
    },
    {
      "cell_type": "code",
      "metadata": {
        "colab": {
          "base_uri": "https://localhost:8080/",
          "height": 444
        },
        "id": "ZDR0YF9aR6On",
        "outputId": "d3e8ab62-16c3-4cd0-e1ae-a4e5bb8e7dbe"
      },
      "source": [
        "X = np.array([[5,3],\n",
        "    [10,15],\n",
        "    [15,12],\n",
        "    [24,10],\n",
        "    [30,30],\n",
        "    [85,70],\n",
        "    [71,80],\n",
        "    [60,78],\n",
        "    [70,55],\n",
        "    [80,91],])\n",
        "\n",
        "labels = range(1, 11)\n",
        "plt.figure(figsize=(10, 7))\n",
        "plt.subplots_adjust(bottom=0.1)\n",
        "plt.scatter(X[:,0],X[:,1], label='True Position')\n",
        "\n",
        "for label, x, y in zip(labels, X[:, 0], X[:, 1]):\n",
        "    plt.annotate(\n",
        "        label,\n",
        "        xy=(x, y), xytext=(-3, 3),\n",
        "        textcoords='offset points', ha='right', va='bottom')\n",
        "plt.show()"
      ],
      "execution_count": null,
      "outputs": [
        {
          "output_type": "display_data",
          "data": {
            "image/png": "[encoded data removed]",
            "text/plain": [
              "<Figure size 720x504 with 1 Axes>"
            ]
          },
          "metadata": {
            "tags": []
          }
        }
      ]
    },
    {
      "cell_type": "code",
      "metadata": {
        "colab": {
          "base_uri": "https://localhost:8080/",
          "height": 433
        },
        "id": "mrX-fxvySGBc",
        "outputId": "598aea89-4c0e-4a49-db85-b23857dff927"
      },
      "source": [
        "from scipy.cluster.hierarchy import dendrogram, linkage\n",
        "from matplotlib import pyplot as plt\n",
        "\n",
        "linked = linkage(X, 'single')\n",
        "\n",
        "labelList = range(1, 11)\n",
        "\n",
        "plt.figure(figsize=(10, 7))\n",
        "dendrogram(linked,\n",
        "            orientation='top',\n",
        "            labels=labelList,\n",
        "            distance_sort='descending',\n",
        "            show_leaf_counts=True)\n",
        "plt.show()"
      ],
      "execution_count": null,
      "outputs": [
        {
          "output_type": "display_data",
          "data": {
            "image/png": "[encoded data removed]",
            "text/plain": [
              "<Figure size 720x504 with 1 Axes>"
            ]
          },
          "metadata": {
            "tags": []
          }
        }
      ]
    },
    {
      "cell_type": "markdown",
      "metadata": {
        "id": "nvcSAyPmfgtc"
      },
      "source": [
        "## Models"
      ]
    },
    {
      "cell_type": "code",
      "metadata": {
        "id": "GRlRnW0w6lpo"
      },
      "source": [
        "# Dictionary that contain evaluation metrics for every model\n",
        "models_eval_metrics = {}"
      ],
      "execution_count": null,
      "outputs": []
    },
    {
      "cell_type": "markdown",
      "metadata": {
        "id": "1cozjpFFyxM-"
      },
      "source": [
        "### ECAM NCF"
      ]
    },
    {
      "cell_type": "code",
      "metadata": {
        "id": "kmSrKokyyxM-"
      },
      "source": [
        "def ncf(n_users, n_items, n_context, n_latent_factors_user, n_latent_factors_item):\n",
        "    # inputs\n",
        "    item_input = Input(shape=[1],name='item')\n",
        "    user_input = Input(shape=[1],name='user')\n",
        "    context_input = Input(shape=(n_context, ), name='context')\n",
        "\n",
        "    # Item embedding\n",
        "    item_embedding_mlp = Embedding(n_items + 1, n_latent_factors_item, name='item_embedding')(item_input)\n",
        "    item_vec_mlp = Flatten(name='flatten_item')(item_embedding_mlp)\n",
        "    item_vec_mlp = Dropout(0.2)(item_vec_mlp)\n",
        "\n",
        "    # User embedding\n",
        "    user_embedding_mlp = Embedding(n_users + 1, n_latent_factors_user,name='user_embedding')(user_input)\n",
        "    user_vec_mlp = Flatten(name='flatten_user')(user_embedding_mlp)\n",
        "    user_vec_mlp = Dropout(0.2)(user_vec_mlp)\n",
        "\n",
        "    # Concat user embedding,item embeddings and context vector\n",
        "    concat = Concatenate(name='user_item')([item_vec_mlp, user_vec_mlp, context_input])\n",
        "\n",
        "    # dense layers\n",
        "    dense = Dense(8, name='fully_connected_1')(concat)\n",
        "    batch_1 = BatchNormalization()(dense)\n",
        "    dense_2 = Dense(4, name='fully_connected_2')(batch_1)\n",
        "    batch_2 = BatchNormalization()(dense_2)\n",
        "    dense_3 = Dense(2, name='fully_connected_3')(batch_2)\n",
        "\n",
        "    # Output\n",
        "    pred_mlp = Dense(1, activation='relu', name='Activation')(dense_3)\n",
        "\n",
        "    # make and build the model\n",
        "    return keras.Model([user_input, item_input, context_input], pred_mlp)"
      ],
      "execution_count": null,
      "outputs": []
    },
    {
      "cell_type": "code",
      "metadata": {
        "id": "kQKkj6_LyxM_"
      },
      "source": [
        "ecam_ncf = ncf(n_users, n_items, n_context, n_latent_factors_user, n_latent_factors_item)\n",
        "opt = keras.optimizers.Adam(lr = 0.005)\n",
        "ecam_ncf.compile(optimizer = opt,loss= 'mean_absolute_error', metrics=['mae', 'mse'])\n",
        "\n",
        "#ecam_ncf.summary()\n",
        "#tf.keras.utils.plot_model(ecam_ncf)"
      ],
      "execution_count": null,
      "outputs": []
    },
    {
      "cell_type": "code",
      "metadata": {
        "id": "nJGY7tzAz5Tj",
        "colab": {
          "base_uri": "https://localhost:8080/"
        },
        "outputId": "82d95a5b-d0fa-4ed3-b392-623a157abc45"
      },
      "source": [
        "rmse, mae = kfold_train(ecam_ncf, 15, 128, False, df, x_labels, y_label, context_labels, kf)\n",
        "models_eval_metrics['ecam_ncf'] = [rmse, mae]\n",
        "f'k-fold RMSE = {rmse}     k-fold MAE = {mae}'"
      ],
      "execution_count": null,
      "outputs": [
        {
          "output_type": "stream",
          "text": [
            "Training on fold 0...\n",
            "Testing on fold 0...\n",
            "RMSE = 0.6908031979140166    MAE = 0.5226542056572534\n",
            "Training on fold 1...\n",
            "Testing on fold 1...\n",
            "RMSE = 0.6804330887453344    MAE = 0.5093242388239962\n",
            "Training on fold 2...\n",
            "Testing on fold 2...\n",
            "RMSE = 0.682895176468477    MAE = 0.5084769609593429\n"
          ],
          "name": "stdout"
        },
        {
          "output_type": "execute_result",
          "data": {
            "application/vnd.google.colaboratory.intrinsic+json": {
              "type": "string"
            },
            "text/plain": [
              "'k-fold RMSE = 0.684710487709276     k-fold MAE = 0.5134851351468642'"
            ]
          },
          "metadata": {
            "tags": []
          },
          "execution_count": 86
        }
      ]
    },
    {
      "cell_type": "markdown",
      "metadata": {
        "id": "IBf_rCHlBnes"
      },
      "source": [
        "### ECAM NeuMF"
      ]
    },
    {
      "cell_type": "code",
      "metadata": {
        "id": "QOM7abQ7ExgO"
      },
      "source": [
        "# latent factors for matrix factorization\n",
        "n_latent_factors_mf = 10"
      ],
      "execution_count": null,
      "outputs": []
    },
    {
      "cell_type": "code",
      "metadata": {
        "id": "_z_cfe0bBmUz"
      },
      "source": [
        "def neumf(n_users, n_items, n_context, n_latent_factors_user, n_latent_factors_item, n_latent_factors_mf):\n",
        "    # inputs\n",
        "    item_input = Input(shape=[1],name='item')\n",
        "    user_input = Input(shape=[1],name='user')\n",
        "    context_input = Input(shape=(n_context, ), name='context')\n",
        "\n",
        "    # item embedding MF\n",
        "    item_embedding_mf = Embedding(n_items + 1, n_latent_factors_mf, name='item_embedding_MF')(item_input)\n",
        "    item_vec_mf = Flatten(name='flatten_item_MF')(item_embedding_mf)\n",
        "    item_vec_mf = Dropout(0.2)(item_vec_mf)\n",
        "\n",
        "    # User embedding MF\n",
        "    user_embedding_mf = Embedding(n_users + 1, n_latent_factors_mf,name='user_embedding_MF')(user_input)\n",
        "    user_vec_mf = Flatten(name='flatten_user_MF')(user_embedding_mf)\n",
        "    user_vec_mf = Dropout(0.2)(user_vec_mf)\n",
        "\n",
        "    # Dot product MF\n",
        "    dot = tf.keras.layers.Dot(axes=1)([user_vec_mf, item_vec_mf])\n",
        "\n",
        "    # Item embedding MLP\n",
        "    item_embedding_mlp = Embedding(n_items + 1, n_latent_factors_item, name='item_embedding_MLP')(item_input)\n",
        "    item_vec_mlp = Flatten(name='flatten_item_MLP')(item_embedding_mlp)\n",
        "    item_vec_mlp = Dropout(0.2)(item_vec_mlp)\n",
        "\n",
        "    # User embedding MLP\n",
        "    user_embedding_mlp = Embedding(n_users + 1, n_latent_factors_user,name='user_embedding_MLP')(user_input)\n",
        "    user_vec_mlp = Flatten(name='flatten_user_MLP')(user_embedding_mlp)\n",
        "    user_vec_mlp = Dropout(0.2)(user_vec_mlp)\n",
        "\n",
        "    # Concat user embedding,item embeddings and context vector\n",
        "    concat = Concatenate(name='user_item_context_MLP')([item_vec_mlp, user_vec_mlp, context_input])\n",
        "\n",
        "    # dense layers\n",
        "    dense = Dense(8, name='fully_connected_1')(concat)\n",
        "    batch_1 = BatchNormalization()(dense)\n",
        "    dense_2 = Dense(4, name='fully_connected_2')(batch_1)\n",
        "    batch_2 = BatchNormalization()(dense_2)\n",
        "    dense_3 = Dense(2, name='fully_connected_3')(batch_2)\n",
        "\n",
        "    # concat MF and MLP\n",
        "    concat_mf_mlp = Concatenate(name='MF_MLP')([dense_3, dot])\n",
        "\n",
        "    # Output\n",
        "    output = Dense(1, activation='relu',name='Activation')(concat_mf_mlp)\n",
        "\n",
        "    # make and build the model\n",
        "    return keras.Model([user_input, item_input, context_input], output)"
      ],
      "execution_count": null,
      "outputs": []
    },
    {
      "cell_type": "code",
      "metadata": {
        "id": "YOK2BsrLB5nb"
      },
      "source": [
        "ecam_neumf = neumf(n_users, n_items, n_context, n_latent_factors_user, n_latent_factors_item, n_latent_factors_mf)\n",
        "opt = keras.optimizers.Adam(lr = 0.005)\n",
        "ecam_neumf.compile(optimizer = opt,loss= 'mean_absolute_error', metrics=['mae', 'mse'])\n",
        "\n",
        "#ecam_neumf.summary()\n",
        "#tf.keras.utils.plot_model(ecam_neumf)"
      ],
      "execution_count": null,
      "outputs": []
    },
    {
      "cell_type": "code",
      "metadata": {
        "id": "qQ7sbQdFqF0M",
        "colab": {
          "base_uri": "https://localhost:8080/"
        },
        "outputId": "431089ac-18ab-4aaa-bd69-e630ea67f6d6"
      },
      "source": [
        "rmse, mae = kfold_train(ecam_neumf, 15, 128, False, df, x_labels, y_label, context_labels, kf)\n",
        "models_eval_metrics['ecam_neumf'] = [rmse, mae]\n",
        "f'k-fold RMSE = {rmse}     k-fold MAE = {mae}'"
      ],
      "execution_count": null,
      "outputs": [
        {
          "output_type": "stream",
          "text": [
            "Training on fold 0...\n",
            "Testing on fold 0...\n",
            "RMSE = 0.6400833197637803    MAE = 0.4767396675208417\n",
            "Training on fold 1...\n",
            "Testing on fold 1...\n",
            "RMSE = 0.6183981686981289    MAE = 0.45508786353944974\n",
            "Training on fold 2...\n",
            "Testing on fold 2...\n",
            "RMSE = 0.6139763183392114    MAE = 0.4518044785346984\n"
          ],
          "name": "stdout"
        },
        {
          "output_type": "execute_result",
          "data": {
            "application/vnd.google.colaboratory.intrinsic+json": {
              "type": "string"
            },
            "text/plain": [
              "'k-fold RMSE = 0.6241526022670403     k-fold MAE = 0.46121066986499665'"
            ]
          },
          "metadata": {
            "tags": []
          },
          "execution_count": 90
        }
      ]
    },
    {
      "cell_type": "markdown",
      "metadata": {
        "id": "okY4WYDkgNHz"
      },
      "source": [
        "### UCAM NCF"
      ]
    },
    {
      "cell_type": "code",
      "metadata": {
        "id": "PMqa52lDgHyc"
      },
      "source": [
        "ucam_ncf = ncf(n_users, n_items, n_latent_context, n_latent_factors_user, n_latent_factors_item)\n",
        "opt = keras.optimizers.Adam(lr = 0.005)\n",
        "ucam_ncf.compile(optimizer = opt,loss= 'mean_absolute_error', metrics=['mae', 'mse'])\n",
        "\n",
        "#ucam_ncf.summary()\n",
        "#tf.keras.utils.plot_model(ucam_ncf)"
      ],
      "execution_count": null,
      "outputs": []
    },
    {
      "cell_type": "code",
      "metadata": {
        "colab": {
          "base_uri": "https://localhost:8080/"
        },
        "id": "HQkIzbvHqT5c",
        "outputId": "69d5909e-ff91-432d-e25f-ab691bd9727a"
      },
      "source": [
        "rmse, mae = kfold_train(ucam_ncf, 15, 128, False, df, x_labels, y_label, latent_context_labels, kf)\n",
        "models_eval_metrics['ucam_ncf'] = [rmse, mae]\n",
        "f'k-fold RMSE = {rmse}     k-fold MAE = {mae}'"
      ],
      "execution_count": null,
      "outputs": [
        {
          "output_type": "stream",
          "text": [
            "Training on fold 0...\n",
            "Testing on fold 0...\n",
            "RMSE = 0.6924284554101497    MAE = 0.523863993248302\n",
            "Training on fold 1...\n",
            "Testing on fold 1...\n",
            "RMSE = 0.6820595995884768    MAE = 0.5118242834303189\n",
            "Training on fold 2...\n",
            "Testing on fold 2...\n",
            "RMSE = 0.6832381125941223    MAE = 0.511367247936313\n"
          ],
          "name": "stdout"
        },
        {
          "output_type": "execute_result",
          "data": {
            "application/vnd.google.colaboratory.intrinsic+json": {
              "type": "string"
            },
            "text/plain": [
              "'k-fold RMSE = 0.6859087225309163     k-fold MAE = 0.5156851748716447'"
            ]
          },
          "metadata": {
            "tags": []
          },
          "execution_count": 92
        }
      ]
    },
    {
      "cell_type": "markdown",
      "metadata": {
        "id": "Cx_QLRDs73oa"
      },
      "source": [
        "### UCAM NeuMF"
      ]
    },
    {
      "cell_type": "code",
      "metadata": {
        "id": "PmWmcZRR72RX"
      },
      "source": [
        "ucam_neumf = neumf(n_users, n_items, n_latent_context, n_latent_factors_user, n_latent_factors_item, n_latent_factors_mf)\r\n",
        "opt = keras.optimizers.Adam(lr = 0.005)\r\n",
        "ucam_neumf.compile(optimizer = opt,loss= 'mean_absolute_error', metrics=['mae', 'mse'])"
      ],
      "execution_count": null,
      "outputs": []
    },
    {
      "cell_type": "code",
      "metadata": {
        "colab": {
          "base_uri": "https://localhost:8080/"
        },
        "id": "mI0qsmrKV8Bl",
        "outputId": "75395867-c876-4ce6-867b-6959a807d93b"
      },
      "source": [
        "rmse, mae = kfold_train(ucam_neumf, 15, 128, False, df, x_labels, y_label, latent_context_labels, kf)\n",
        "models_eval_metrics['ucam_neumf'] = [rmse, mae]\n",
        "f'k-fold RMSE = {rmse}     k-fold MAE = {mae}'"
      ],
      "execution_count": null,
      "outputs": [
        {
          "output_type": "stream",
          "text": [
            "Training on fold 0...\n",
            "Testing on fold 0...\n",
            "RMSE = 0.6450841888419364    MAE = 0.48056781997910464\n",
            "Training on fold 1...\n",
            "Testing on fold 1...\n",
            "RMSE = 0.622091774698585    MAE = 0.457962648083513\n",
            "Training on fold 2...\n",
            "Testing on fold 2...\n",
            "RMSE = 0.6217721944768622    MAE = 0.4551284296636975\n"
          ],
          "name": "stdout"
        },
        {
          "output_type": "execute_result",
          "data": {
            "application/vnd.google.colaboratory.intrinsic+json": {
              "type": "string"
            },
            "text/plain": [
              "'k-fold RMSE = 0.6296493860057946     k-fold MAE = 0.4645529659087717'"
            ]
          },
          "metadata": {
            "tags": []
          },
          "execution_count": 94
        }
      ]
    },
    {
      "cell_type": "markdown",
      "metadata": {
        "id": "LHQ2FEwlBdhq"
      },
      "source": [
        "### Performance comparison"
      ]
    },
    {
      "cell_type": "code",
      "metadata": {
        "colab": {
          "base_uri": "https://localhost:8080/",
          "height": 405
        },
        "id": "rbOmETzaBhq3",
        "outputId": "3e3ca8af-a528-48bd-9488-1650a0b02518"
      },
      "source": [
        "n_models = 4 # number of different models\n",
        "models_name = [x[0] for x in models_eval_metrics.items()] \n",
        "mae = [x[0] for x in models_eval_metrics.values()]\n",
        "rmse = [x[1] for x in models_eval_metrics.values()]\n",
        "\n",
        "fig, ax = plt.subplots()\n",
        "index = np.arange(n_models)\n",
        "bar_width = 0.35\n",
        "\n",
        "# MAE bar\n",
        "rect1 = plt.bar(index, mae, bar_width,\n",
        "color='b',\n",
        "label='RMSE')\n",
        "\n",
        "# RMSE bar\n",
        "rect2 = plt.bar(index + bar_width, rmse, bar_width,\n",
        "color='#ff7b00',\n",
        "label='MAE')\n",
        "\n",
        "plt.xlabel('Model')\n",
        "plt.ylabel('Scores')\n",
        "plt.title('Models comparison')\n",
        "plt.xticks(index + bar_width, models_name)\n",
        "plt.legend()\n",
        "plt.grid(True)\n",
        "plt.tight_layout()\n",
        "plt.show()"
      ],
      "execution_count": null,
      "outputs": [
        {
          "output_type": "display_data",
          "data": {
            "image/png": "[encoded data removed]",
            "text/plain": [
              "<Figure size 576x396 with 1 Axes>"
            ]
          },
          "metadata": {
            "tags": []
          }
        }
      ]
    }
  ]
}