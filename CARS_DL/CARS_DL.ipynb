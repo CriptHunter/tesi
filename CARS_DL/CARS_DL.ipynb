{
  "nbformat": 4,
  "nbformat_minor": 0,
  "metadata": {
    "language_info": {
      "codemirror_mode": {
        "name": "ipython",
        "version": 3
      },
      "file_extension": ".py",
      "mimetype": "text/x-python",
      "name": "python",
      "nbconvert_exporter": "python",
      "pygments_lexer": "ipython3",
      "version": "3.8.3-final"
    },
    "orig_nbformat": 2,
    "kernelspec": {
      "name": "python3",
      "display_name": "Python 3",
      "language": "python"
    },
    "colab": {
      "name": "CARS_DL_Colab.ipynb",
      "provenance": [],
      "collapsed_sections": [
        "YasL9GIGF3Jb",
        "IzbMVL48MAcU",
        "1cozjpFFyxM-",
        "IBf_rCHlBnes",
        "okY4WYDkgNHz",
        "Cx_QLRDs73oa",
        "LHQ2FEwlBdhq"
      ],
      "toc_visible": true
    },
    "accelerator": "TPU"
  },
  "cells": [
    {
      "cell_type": "markdown",
      "metadata": {
        "id": "A7qy_0RayxMy"
      },
      "source": [
        "# CARS recommender system\n",
        "Implementation of the deep NN model described in the paper \"Context-Aware Recommendations Based on Deep\n",
        "Learning Frameworks\".\n",
        "https://dl.acm.org/doi/10.1145/3386243\n",
        "\n",
        "Datasets:\n",
        "- frappe\n"
      ]
    },
    {
      "cell_type": "markdown",
      "metadata": {
        "id": "YasL9GIGF3Jb"
      },
      "source": [
        "## Import"
      ]
    },
    {
      "cell_type": "markdown",
      "metadata": {
        "id": "wUPMS2KCF0nl"
      },
      "source": [
        ""
      ]
    },
    {
      "cell_type": "code",
      "metadata": {
        "id": "1q4UgOkhyxM4"
      },
      "source": [
        "import pandas as pd\n",
        "import numpy as np\n",
        "from sklearn.model_selection import train_test_split # to split dataset in two parts\n",
        "from sklearn.model_selection import KFold # to split dataset using  k-fold cross validation\n",
        "from sklearn.metrics import * # evaluation metrics\n",
        "import tensorflow as tf\n",
        "from tensorflow import keras\n",
        "from keras.layers import Dense, BatchNormalization, Dropout, Input, Embedding, Flatten, Concatenate\n",
        "from keras.optimizers import Adam\n",
        "import matplotlib\n",
        "import matplotlib.pyplot as plt # for creating chart\n",
        "import requests # for downloading the dataset\n",
        "from collections import deque # queue data structure\n",
        "from scipy.cluster.hierarchy import * # for hierarchical clustering\n",
        "from sklearn.cluster import AgglomerativeClustering\n",
        "import itertools\n",
        "from sklearn.decomposition import PCA"
      ],
      "execution_count": null,
      "outputs": []
    },
    {
      "cell_type": "markdown",
      "metadata": {
        "id": "IzbMVL48MAcU"
      },
      "source": [
        "\n",
        "\n",
        "### Some functions\n",
        "\n"
      ]
    },
    {
      "cell_type": "code",
      "metadata": {
        "id": "5CFVxgFQL_4P"
      },
      "source": [
        "# plot loss based on history of model.fit, ymin and ymax are the minimum and maximum values of the y axis\n",
        "def plot_loss(history, ymin=0, ymax=1):\n",
        "  plt.plot(history.history['loss'], label='loss')\n",
        "  plt.ylim([ymin, ymax])\n",
        "  plt.xlabel('Epoch')\n",
        "  plt.ylabel('Error')\n",
        "  plt.legend()\n",
        "  plt.grid(True)\n",
        "\n",
        "# plot chart of true values on predictions\n",
        "def plot_predictions(test_y, pred_y):\n",
        "  a = plt.axes(aspect='equal')\n",
        "  plt.scatter(test_y, pred_y)\n",
        "  plt.xlabel('True Values')\n",
        "  plt.ylabel('Predictions')\n",
        "  lims = [0, 5]\n",
        "  plt.xlim(lims)\n",
        "  plt.ylim(lims)\n",
        "  _ = plt.plot(lims, lims)\n",
        "\n",
        "def sigmoid(x):\n",
        "   return 1 / ( 1 + np.exp(-x))"
      ],
      "execution_count": null,
      "outputs": []
    },
    {
      "cell_type": "markdown",
      "metadata": {
        "id": "Q1m4VXWTFeGE"
      },
      "source": [
        "\n",
        "## Dataset"
      ]
    },
    {
      "cell_type": "markdown",
      "metadata": {
        "id": "Hc-eF273f_OO"
      },
      "source": [
        "### Load dataset"
      ]
    },
    {
      "cell_type": "code",
      "metadata": {
        "id": "dxz5jCSiyxM6",
        "colab": {
          "base_uri": "https://localhost:8080/"
        },
        "outputId": "bcd1d08b-40eb-4b3b-c166-7495cef4542e"
      },
      "source": [
        "# download the dataset\n",
        "url = 'https://raw.githubusercontent.com/CriptHunter/tesi/master/CARS_DL/frappe/frappe.csv'\n",
        "req = requests.get(url, allow_redirects=True)\n",
        "open('frappe.csv', 'wb').write(req.content)"
      ],
      "execution_count": null,
      "outputs": [
        {
          "output_type": "execute_result",
          "data": {
            "text/plain": [
              "6313241"
            ]
          },
          "metadata": {
            "tags": []
          },
          "execution_count": 3
        }
      ]
    },
    {
      "cell_type": "code",
      "metadata": {
        "id": "TlzGyC-g6HQM",
        "colab": {
          "base_uri": "https://localhost:8080/"
        },
        "outputId": "c54c93d9-f141-41f1-a836-3f857377e93c"
      },
      "source": [
        "# open the dataset\n",
        "df = pd.read_csv('/content/frappe.csv', sep=\"\\t\")\n",
        "df"
      ],
      "execution_count": null,
      "outputs": [
        {
          "output_type": "execute_result",
          "data": {
            "text/html": [
              "<div>\n",
              "<style scoped>\n",
              "    .dataframe tbody tr th:only-of-type {\n",
              "        vertical-align: middle;\n",
              "    }\n",
              "\n",
              "    .dataframe tbody tr th {\n",
              "        vertical-align: top;\n",
              "    }\n",
              "\n",
              "    .dataframe thead th {\n",
              "        text-align: right;\n",
              "    }\n",
              "</style>\n",
              "<table border=\"1\" class=\"dataframe\">\n",
              "  <thead>\n",
              "    <tr style=\"text-align: right;\">\n",
              "      <th></th>\n",
              "      <th>user</th>\n",
              "      <th>item</th>\n",
              "      <th>cnt</th>\n",
              "      <th>daytime</th>\n",
              "      <th>weekday</th>\n",
              "      <th>isweekend</th>\n",
              "      <th>homework</th>\n",
              "      <th>cost</th>\n",
              "      <th>weather</th>\n",
              "      <th>country</th>\n",
              "      <th>city</th>\n",
              "    </tr>\n",
              "  </thead>\n",
              "  <tbody>\n",
              "    <tr>\n",
              "      <th>0</th>\n",
              "      <td>0</td>\n",
              "      <td>0</td>\n",
              "      <td>1</td>\n",
              "      <td>morning</td>\n",
              "      <td>sunday</td>\n",
              "      <td>weekend</td>\n",
              "      <td>unknown</td>\n",
              "      <td>free</td>\n",
              "      <td>sunny</td>\n",
              "      <td>United States</td>\n",
              "      <td>0</td>\n",
              "    </tr>\n",
              "    <tr>\n",
              "      <th>1</th>\n",
              "      <td>1</td>\n",
              "      <td>1</td>\n",
              "      <td>7</td>\n",
              "      <td>afternoon</td>\n",
              "      <td>saturday</td>\n",
              "      <td>weekend</td>\n",
              "      <td>unknown</td>\n",
              "      <td>free</td>\n",
              "      <td>cloudy</td>\n",
              "      <td>Spain</td>\n",
              "      <td>0</td>\n",
              "    </tr>\n",
              "    <tr>\n",
              "      <th>2</th>\n",
              "      <td>2</td>\n",
              "      <td>2</td>\n",
              "      <td>6</td>\n",
              "      <td>evening</td>\n",
              "      <td>monday</td>\n",
              "      <td>workday</td>\n",
              "      <td>unknown</td>\n",
              "      <td>free</td>\n",
              "      <td>cloudy</td>\n",
              "      <td>Spain</td>\n",
              "      <td>369</td>\n",
              "    </tr>\n",
              "    <tr>\n",
              "      <th>3</th>\n",
              "      <td>3</td>\n",
              "      <td>3</td>\n",
              "      <td>1</td>\n",
              "      <td>sunset</td>\n",
              "      <td>thursday</td>\n",
              "      <td>workday</td>\n",
              "      <td>unknown</td>\n",
              "      <td>free</td>\n",
              "      <td>unknown</td>\n",
              "      <td>United States</td>\n",
              "      <td>1028</td>\n",
              "    </tr>\n",
              "    <tr>\n",
              "      <th>4</th>\n",
              "      <td>4</td>\n",
              "      <td>4</td>\n",
              "      <td>428</td>\n",
              "      <td>night</td>\n",
              "      <td>thursday</td>\n",
              "      <td>workday</td>\n",
              "      <td>home</td>\n",
              "      <td>free</td>\n",
              "      <td>sunny</td>\n",
              "      <td>Switzerland</td>\n",
              "      <td>147</td>\n",
              "    </tr>\n",
              "    <tr>\n",
              "      <th>...</th>\n",
              "      <td>...</td>\n",
              "      <td>...</td>\n",
              "      <td>...</td>\n",
              "      <td>...</td>\n",
              "      <td>...</td>\n",
              "      <td>...</td>\n",
              "      <td>...</td>\n",
              "      <td>...</td>\n",
              "      <td>...</td>\n",
              "      <td>...</td>\n",
              "      <td>...</td>\n",
              "    </tr>\n",
              "    <tr>\n",
              "      <th>96198</th>\n",
              "      <td>110</td>\n",
              "      <td>0</td>\n",
              "      <td>5</td>\n",
              "      <td>evening</td>\n",
              "      <td>sunday</td>\n",
              "      <td>weekend</td>\n",
              "      <td>unknown</td>\n",
              "      <td>free</td>\n",
              "      <td>sunny</td>\n",
              "      <td>United States</td>\n",
              "      <td>0</td>\n",
              "    </tr>\n",
              "    <tr>\n",
              "      <th>96199</th>\n",
              "      <td>37</td>\n",
              "      <td>16</td>\n",
              "      <td>101</td>\n",
              "      <td>sunset</td>\n",
              "      <td>sunday</td>\n",
              "      <td>weekend</td>\n",
              "      <td>unknown</td>\n",
              "      <td>free</td>\n",
              "      <td>cloudy</td>\n",
              "      <td>Canada</td>\n",
              "      <td>128</td>\n",
              "    </tr>\n",
              "    <tr>\n",
              "      <th>96200</th>\n",
              "      <td>181</td>\n",
              "      <td>33</td>\n",
              "      <td>243</td>\n",
              "      <td>afternoon</td>\n",
              "      <td>sunday</td>\n",
              "      <td>weekend</td>\n",
              "      <td>unknown</td>\n",
              "      <td>free</td>\n",
              "      <td>cloudy</td>\n",
              "      <td>Israel</td>\n",
              "      <td>454</td>\n",
              "    </tr>\n",
              "    <tr>\n",
              "      <th>96201</th>\n",
              "      <td>451</td>\n",
              "      <td>752</td>\n",
              "      <td>1</td>\n",
              "      <td>evening</td>\n",
              "      <td>sunday</td>\n",
              "      <td>weekend</td>\n",
              "      <td>unknown</td>\n",
              "      <td>free</td>\n",
              "      <td>sunny</td>\n",
              "      <td>United States</td>\n",
              "      <td>0</td>\n",
              "    </tr>\n",
              "    <tr>\n",
              "      <th>96202</th>\n",
              "      <td>364</td>\n",
              "      <td>380</td>\n",
              "      <td>3</td>\n",
              "      <td>evening</td>\n",
              "      <td>thursday</td>\n",
              "      <td>workday</td>\n",
              "      <td>unknown</td>\n",
              "      <td>free</td>\n",
              "      <td>cloudy</td>\n",
              "      <td>United States</td>\n",
              "      <td>0</td>\n",
              "    </tr>\n",
              "  </tbody>\n",
              "</table>\n",
              "<p>96203 rows × 11 columns</p>\n",
              "</div>"
            ],
            "text/plain": [
              "       user  item  cnt    daytime  ...  cost  weather        country  city\n",
              "0         0     0    1    morning  ...  free    sunny  United States     0\n",
              "1         1     1    7  afternoon  ...  free   cloudy          Spain     0\n",
              "2         2     2    6    evening  ...  free   cloudy          Spain   369\n",
              "3         3     3    1     sunset  ...  free  unknown  United States  1028\n",
              "4         4     4  428      night  ...  free    sunny    Switzerland   147\n",
              "...     ...   ...  ...        ...  ...   ...      ...            ...   ...\n",
              "96198   110     0    5    evening  ...  free    sunny  United States     0\n",
              "96199    37    16  101     sunset  ...  free   cloudy         Canada   128\n",
              "96200   181    33  243  afternoon  ...  free   cloudy         Israel   454\n",
              "96201   451   752    1    evening  ...  free    sunny  United States     0\n",
              "96202   364   380    3    evening  ...  free   cloudy  United States     0\n",
              "\n",
              "[96203 rows x 11 columns]"
            ]
          },
          "metadata": {
            "tags": []
          },
          "execution_count": 4
        }
      ]
    },
    {
      "cell_type": "code",
      "metadata": {
        "id": "WoRlfX6OyxM7",
        "colab": {
          "base_uri": "https://localhost:8080/"
        },
        "outputId": "e4383c24-9008-4217-bbc1-1065f1be78b9"
      },
      "source": [
        "# count unique values for each column\n",
        "display(\"------ unique values ------\")\n",
        "display(df.nunique())\n",
        "\n",
        "# count number of unknown values for each column\n",
        "display(\"------ unknown values ------\")\n",
        "display(df.isin(['unknown']).sum(axis=0))\n",
        "\n",
        "# count number of zero values for each column (for city 0 == unknown)\n",
        "display(\"------ zero values ------\")\n",
        "display(df.isin([0]).sum(axis=0))"
      ],
      "execution_count": null,
      "outputs": [
        {
          "output_type": "display_data",
          "data": {
            "application/vnd.google.colaboratory.intrinsic+json": {
              "type": "string"
            },
            "text/plain": [
              "'------ unique values ------'"
            ]
          },
          "metadata": {
            "tags": []
          }
        },
        {
          "output_type": "display_data",
          "data": {
            "text/plain": [
              "user          957\n",
              "item         4082\n",
              "cnt          1981\n",
              "daytime         7\n",
              "weekday         7\n",
              "isweekend       2\n",
              "homework        3\n",
              "cost            2\n",
              "weather         9\n",
              "country        80\n",
              "city          233\n",
              "dtype: int64"
            ]
          },
          "metadata": {
            "tags": []
          }
        },
        {
          "output_type": "display_data",
          "data": {
            "application/vnd.google.colaboratory.intrinsic+json": {
              "type": "string"
            },
            "text/plain": [
              "'------ unknown values ------'"
            ]
          },
          "metadata": {
            "tags": []
          }
        },
        {
          "output_type": "display_data",
          "data": {
            "text/plain": [
              "user             0\n",
              "item             0\n",
              "cnt              0\n",
              "daytime          0\n",
              "weekday          0\n",
              "isweekend        0\n",
              "homework     75670\n",
              "cost             0\n",
              "weather      12529\n",
              "country       7025\n",
              "city             0\n",
              "dtype: int64"
            ]
          },
          "metadata": {
            "tags": []
          }
        },
        {
          "output_type": "display_data",
          "data": {
            "application/vnd.google.colaboratory.intrinsic+json": {
              "type": "string"
            },
            "text/plain": [
              "'------ zero values ------'"
            ]
          },
          "metadata": {
            "tags": []
          }
        },
        {
          "output_type": "display_data",
          "data": {
            "text/plain": [
              "user            25\n",
              "item           521\n",
              "cnt              0\n",
              "daytime          0\n",
              "weekday          0\n",
              "isweekend        0\n",
              "homework         0\n",
              "cost             0\n",
              "weather          0\n",
              "country          0\n",
              "city         38052\n",
              "dtype: int64"
            ]
          },
          "metadata": {
            "tags": []
          }
        }
      ]
    },
    {
      "cell_type": "markdown",
      "metadata": {
        "id": "OZPRR_K7yxM7"
      },
      "source": [
        "### Dataset preprocessing"
      ]
    },
    {
      "cell_type": "code",
      "metadata": {
        "id": "i6_OSazcyxM8"
      },
      "source": [
        "# log transformation on the raw frequency numbers that represent the applications usage\n",
        "df['cnt'] = df['cnt'].apply(np.log10)\n",
        "f\"frequency range is {df['cnt'][df['cnt'] == df['cnt'].min()].values[0]} to {df['cnt'][df['cnt'] == df['cnt'].max()].values[0]}\"\n",
        "\n",
        "# delete columns that are not needed\n",
        "del df['homework']\n",
        "del df['cost']\n",
        "del df['city']\n",
        "del df['isweekend']\n",
        "del df['country']"
      ],
      "execution_count": null,
      "outputs": []
    },
    {
      "cell_type": "code",
      "metadata": {
        "id": "qFAc_KxJyxM8",
        "colab": {
          "base_uri": "https://localhost:8080/"
        },
        "outputId": "fc3ef0b6-02fc-4fc7-de55-41dde6556483"
      },
      "source": [
        "# delete rows where weather is unknown\n",
        "df = df[df.weather != 'unknown']\n",
        "df = df.reset_index(drop=True)\n",
        "\n",
        "# make user and items id start from 0\n",
        "df.user = pd.factorize(df.user)[0]\n",
        "df.item = pd.factorize(df.item)[0]\n",
        "\n",
        "df"
      ],
      "execution_count": null,
      "outputs": [
        {
          "output_type": "execute_result",
          "data": {
            "text/html": [
              "<div>\n",
              "<style scoped>\n",
              "    .dataframe tbody tr th:only-of-type {\n",
              "        vertical-align: middle;\n",
              "    }\n",
              "\n",
              "    .dataframe tbody tr th {\n",
              "        vertical-align: top;\n",
              "    }\n",
              "\n",
              "    .dataframe thead th {\n",
              "        text-align: right;\n",
              "    }\n",
              "</style>\n",
              "<table border=\"1\" class=\"dataframe\">\n",
              "  <thead>\n",
              "    <tr style=\"text-align: right;\">\n",
              "      <th></th>\n",
              "      <th>user</th>\n",
              "      <th>item</th>\n",
              "      <th>cnt</th>\n",
              "      <th>daytime</th>\n",
              "      <th>weekday</th>\n",
              "      <th>weather</th>\n",
              "    </tr>\n",
              "  </thead>\n",
              "  <tbody>\n",
              "    <tr>\n",
              "      <th>0</th>\n",
              "      <td>0</td>\n",
              "      <td>0</td>\n",
              "      <td>0.000000</td>\n",
              "      <td>morning</td>\n",
              "      <td>sunday</td>\n",
              "      <td>sunny</td>\n",
              "    </tr>\n",
              "    <tr>\n",
              "      <th>1</th>\n",
              "      <td>1</td>\n",
              "      <td>1</td>\n",
              "      <td>0.845098</td>\n",
              "      <td>afternoon</td>\n",
              "      <td>saturday</td>\n",
              "      <td>cloudy</td>\n",
              "    </tr>\n",
              "    <tr>\n",
              "      <th>2</th>\n",
              "      <td>2</td>\n",
              "      <td>2</td>\n",
              "      <td>0.778151</td>\n",
              "      <td>evening</td>\n",
              "      <td>monday</td>\n",
              "      <td>cloudy</td>\n",
              "    </tr>\n",
              "    <tr>\n",
              "      <th>3</th>\n",
              "      <td>3</td>\n",
              "      <td>3</td>\n",
              "      <td>2.631444</td>\n",
              "      <td>night</td>\n",
              "      <td>thursday</td>\n",
              "      <td>sunny</td>\n",
              "    </tr>\n",
              "    <tr>\n",
              "      <th>4</th>\n",
              "      <td>4</td>\n",
              "      <td>4</td>\n",
              "      <td>0.778151</td>\n",
              "      <td>sunset</td>\n",
              "      <td>saturday</td>\n",
              "      <td>sunny</td>\n",
              "    </tr>\n",
              "    <tr>\n",
              "      <th>...</th>\n",
              "      <td>...</td>\n",
              "      <td>...</td>\n",
              "      <td>...</td>\n",
              "      <td>...</td>\n",
              "      <td>...</td>\n",
              "      <td>...</td>\n",
              "    </tr>\n",
              "    <tr>\n",
              "      <th>83669</th>\n",
              "      <td>96</td>\n",
              "      <td>0</td>\n",
              "      <td>0.698970</td>\n",
              "      <td>evening</td>\n",
              "      <td>sunday</td>\n",
              "      <td>sunny</td>\n",
              "    </tr>\n",
              "    <tr>\n",
              "      <th>83670</th>\n",
              "      <td>30</td>\n",
              "      <td>33</td>\n",
              "      <td>2.004321</td>\n",
              "      <td>sunset</td>\n",
              "      <td>sunday</td>\n",
              "      <td>cloudy</td>\n",
              "    </tr>\n",
              "    <tr>\n",
              "      <th>83671</th>\n",
              "      <td>156</td>\n",
              "      <td>26</td>\n",
              "      <td>2.385606</td>\n",
              "      <td>afternoon</td>\n",
              "      <td>sunday</td>\n",
              "      <td>cloudy</td>\n",
              "    </tr>\n",
              "    <tr>\n",
              "      <th>83672</th>\n",
              "      <td>399</td>\n",
              "      <td>672</td>\n",
              "      <td>0.000000</td>\n",
              "      <td>evening</td>\n",
              "      <td>sunday</td>\n",
              "      <td>sunny</td>\n",
              "    </tr>\n",
              "    <tr>\n",
              "      <th>83673</th>\n",
              "      <td>319</td>\n",
              "      <td>343</td>\n",
              "      <td>0.477121</td>\n",
              "      <td>evening</td>\n",
              "      <td>thursday</td>\n",
              "      <td>cloudy</td>\n",
              "    </tr>\n",
              "  </tbody>\n",
              "</table>\n",
              "<p>83674 rows × 6 columns</p>\n",
              "</div>"
            ],
            "text/plain": [
              "       user  item       cnt    daytime   weekday weather\n",
              "0         0     0  0.000000    morning    sunday   sunny\n",
              "1         1     1  0.845098  afternoon  saturday  cloudy\n",
              "2         2     2  0.778151    evening    monday  cloudy\n",
              "3         3     3  2.631444      night  thursday   sunny\n",
              "4         4     4  0.778151     sunset  saturday   sunny\n",
              "...     ...   ...       ...        ...       ...     ...\n",
              "83669    96     0  0.698970    evening    sunday   sunny\n",
              "83670    30    33  2.004321     sunset    sunday  cloudy\n",
              "83671   156    26  2.385606  afternoon    sunday  cloudy\n",
              "83672   399   672  0.000000    evening    sunday   sunny\n",
              "83673   319   343  0.477121    evening  thursday  cloudy\n",
              "\n",
              "[83674 rows x 6 columns]"
            ]
          },
          "metadata": {
            "tags": []
          },
          "execution_count": 7
        }
      ]
    },
    {
      "cell_type": "code",
      "metadata": {
        "id": "vzwi3oscyxM8",
        "colab": {
          "base_uri": "https://localhost:8080/"
        },
        "outputId": "7a159ef6-b419-452a-f4d0-f9bbb80f7240"
      },
      "source": [
        "x_labels = ['user', 'item']\n",
        "y_label = 'cnt'\n",
        "context_labels = ['daytime', 'weekday', 'weather']\n",
        "\n",
        "# convert categorical data to one-hot encoding\n",
        "for col in context_labels:\n",
        "  df = pd.get_dummies(df, columns=[col], prefix = [col])\n",
        "\n",
        "# new context labels after one-hot encoding are columns from 3 to the end\n",
        "context_labels = df.columns[3:]\n",
        "df"
      ],
      "execution_count": null,
      "outputs": [
        {
          "output_type": "execute_result",
          "data": {
            "text/html": [
              "<div>\n",
              "<style scoped>\n",
              "    .dataframe tbody tr th:only-of-type {\n",
              "        vertical-align: middle;\n",
              "    }\n",
              "\n",
              "    .dataframe tbody tr th {\n",
              "        vertical-align: top;\n",
              "    }\n",
              "\n",
              "    .dataframe thead th {\n",
              "        text-align: right;\n",
              "    }\n",
              "</style>\n",
              "<table border=\"1\" class=\"dataframe\">\n",
              "  <thead>\n",
              "    <tr style=\"text-align: right;\">\n",
              "      <th></th>\n",
              "      <th>user</th>\n",
              "      <th>item</th>\n",
              "      <th>cnt</th>\n",
              "      <th>daytime_afternoon</th>\n",
              "      <th>daytime_evening</th>\n",
              "      <th>daytime_morning</th>\n",
              "      <th>daytime_night</th>\n",
              "      <th>daytime_noon</th>\n",
              "      <th>daytime_sunrise</th>\n",
              "      <th>daytime_sunset</th>\n",
              "      <th>weekday_friday</th>\n",
              "      <th>weekday_monday</th>\n",
              "      <th>weekday_saturday</th>\n",
              "      <th>weekday_sunday</th>\n",
              "      <th>weekday_thursday</th>\n",
              "      <th>weekday_tuesday</th>\n",
              "      <th>weekday_wednesday</th>\n",
              "      <th>weather_cloudy</th>\n",
              "      <th>weather_drizzle</th>\n",
              "      <th>weather_foggy</th>\n",
              "      <th>weather_rainy</th>\n",
              "      <th>weather_sleet</th>\n",
              "      <th>weather_snowy</th>\n",
              "      <th>weather_stormy</th>\n",
              "      <th>weather_sunny</th>\n",
              "    </tr>\n",
              "  </thead>\n",
              "  <tbody>\n",
              "    <tr>\n",
              "      <th>0</th>\n",
              "      <td>0</td>\n",
              "      <td>0</td>\n",
              "      <td>0.000000</td>\n",
              "      <td>0</td>\n",
              "      <td>0</td>\n",
              "      <td>1</td>\n",
              "      <td>0</td>\n",
              "      <td>0</td>\n",
              "      <td>0</td>\n",
              "      <td>0</td>\n",
              "      <td>0</td>\n",
              "      <td>0</td>\n",
              "      <td>0</td>\n",
              "      <td>1</td>\n",
              "      <td>0</td>\n",
              "      <td>0</td>\n",
              "      <td>0</td>\n",
              "      <td>0</td>\n",
              "      <td>0</td>\n",
              "      <td>0</td>\n",
              "      <td>0</td>\n",
              "      <td>0</td>\n",
              "      <td>0</td>\n",
              "      <td>0</td>\n",
              "      <td>1</td>\n",
              "    </tr>\n",
              "    <tr>\n",
              "      <th>1</th>\n",
              "      <td>1</td>\n",
              "      <td>1</td>\n",
              "      <td>0.845098</td>\n",
              "      <td>1</td>\n",
              "      <td>0</td>\n",
              "      <td>0</td>\n",
              "      <td>0</td>\n",
              "      <td>0</td>\n",
              "      <td>0</td>\n",
              "      <td>0</td>\n",
              "      <td>0</td>\n",
              "      <td>0</td>\n",
              "      <td>1</td>\n",
              "      <td>0</td>\n",
              "      <td>0</td>\n",
              "      <td>0</td>\n",
              "      <td>0</td>\n",
              "      <td>1</td>\n",
              "      <td>0</td>\n",
              "      <td>0</td>\n",
              "      <td>0</td>\n",
              "      <td>0</td>\n",
              "      <td>0</td>\n",
              "      <td>0</td>\n",
              "      <td>0</td>\n",
              "    </tr>\n",
              "    <tr>\n",
              "      <th>2</th>\n",
              "      <td>2</td>\n",
              "      <td>2</td>\n",
              "      <td>0.778151</td>\n",
              "      <td>0</td>\n",
              "      <td>1</td>\n",
              "      <td>0</td>\n",
              "      <td>0</td>\n",
              "      <td>0</td>\n",
              "      <td>0</td>\n",
              "      <td>0</td>\n",
              "      <td>0</td>\n",
              "      <td>1</td>\n",
              "      <td>0</td>\n",
              "      <td>0</td>\n",
              "      <td>0</td>\n",
              "      <td>0</td>\n",
              "      <td>0</td>\n",
              "      <td>1</td>\n",
              "      <td>0</td>\n",
              "      <td>0</td>\n",
              "      <td>0</td>\n",
              "      <td>0</td>\n",
              "      <td>0</td>\n",
              "      <td>0</td>\n",
              "      <td>0</td>\n",
              "    </tr>\n",
              "    <tr>\n",
              "      <th>3</th>\n",
              "      <td>3</td>\n",
              "      <td>3</td>\n",
              "      <td>2.631444</td>\n",
              "      <td>0</td>\n",
              "      <td>0</td>\n",
              "      <td>0</td>\n",
              "      <td>1</td>\n",
              "      <td>0</td>\n",
              "      <td>0</td>\n",
              "      <td>0</td>\n",
              "      <td>0</td>\n",
              "      <td>0</td>\n",
              "      <td>0</td>\n",
              "      <td>0</td>\n",
              "      <td>1</td>\n",
              "      <td>0</td>\n",
              "      <td>0</td>\n",
              "      <td>0</td>\n",
              "      <td>0</td>\n",
              "      <td>0</td>\n",
              "      <td>0</td>\n",
              "      <td>0</td>\n",
              "      <td>0</td>\n",
              "      <td>0</td>\n",
              "      <td>1</td>\n",
              "    </tr>\n",
              "    <tr>\n",
              "      <th>4</th>\n",
              "      <td>4</td>\n",
              "      <td>4</td>\n",
              "      <td>0.778151</td>\n",
              "      <td>0</td>\n",
              "      <td>0</td>\n",
              "      <td>0</td>\n",
              "      <td>0</td>\n",
              "      <td>0</td>\n",
              "      <td>0</td>\n",
              "      <td>1</td>\n",
              "      <td>0</td>\n",
              "      <td>0</td>\n",
              "      <td>1</td>\n",
              "      <td>0</td>\n",
              "      <td>0</td>\n",
              "      <td>0</td>\n",
              "      <td>0</td>\n",
              "      <td>0</td>\n",
              "      <td>0</td>\n",
              "      <td>0</td>\n",
              "      <td>0</td>\n",
              "      <td>0</td>\n",
              "      <td>0</td>\n",
              "      <td>0</td>\n",
              "      <td>1</td>\n",
              "    </tr>\n",
              "    <tr>\n",
              "      <th>...</th>\n",
              "      <td>...</td>\n",
              "      <td>...</td>\n",
              "      <td>...</td>\n",
              "      <td>...</td>\n",
              "      <td>...</td>\n",
              "      <td>...</td>\n",
              "      <td>...</td>\n",
              "      <td>...</td>\n",
              "      <td>...</td>\n",
              "      <td>...</td>\n",
              "      <td>...</td>\n",
              "      <td>...</td>\n",
              "      <td>...</td>\n",
              "      <td>...</td>\n",
              "      <td>...</td>\n",
              "      <td>...</td>\n",
              "      <td>...</td>\n",
              "      <td>...</td>\n",
              "      <td>...</td>\n",
              "      <td>...</td>\n",
              "      <td>...</td>\n",
              "      <td>...</td>\n",
              "      <td>...</td>\n",
              "      <td>...</td>\n",
              "      <td>...</td>\n",
              "    </tr>\n",
              "    <tr>\n",
              "      <th>83669</th>\n",
              "      <td>96</td>\n",
              "      <td>0</td>\n",
              "      <td>0.698970</td>\n",
              "      <td>0</td>\n",
              "      <td>1</td>\n",
              "      <td>0</td>\n",
              "      <td>0</td>\n",
              "      <td>0</td>\n",
              "      <td>0</td>\n",
              "      <td>0</td>\n",
              "      <td>0</td>\n",
              "      <td>0</td>\n",
              "      <td>0</td>\n",
              "      <td>1</td>\n",
              "      <td>0</td>\n",
              "      <td>0</td>\n",
              "      <td>0</td>\n",
              "      <td>0</td>\n",
              "      <td>0</td>\n",
              "      <td>0</td>\n",
              "      <td>0</td>\n",
              "      <td>0</td>\n",
              "      <td>0</td>\n",
              "      <td>0</td>\n",
              "      <td>1</td>\n",
              "    </tr>\n",
              "    <tr>\n",
              "      <th>83670</th>\n",
              "      <td>30</td>\n",
              "      <td>33</td>\n",
              "      <td>2.004321</td>\n",
              "      <td>0</td>\n",
              "      <td>0</td>\n",
              "      <td>0</td>\n",
              "      <td>0</td>\n",
              "      <td>0</td>\n",
              "      <td>0</td>\n",
              "      <td>1</td>\n",
              "      <td>0</td>\n",
              "      <td>0</td>\n",
              "      <td>0</td>\n",
              "      <td>1</td>\n",
              "      <td>0</td>\n",
              "      <td>0</td>\n",
              "      <td>0</td>\n",
              "      <td>1</td>\n",
              "      <td>0</td>\n",
              "      <td>0</td>\n",
              "      <td>0</td>\n",
              "      <td>0</td>\n",
              "      <td>0</td>\n",
              "      <td>0</td>\n",
              "      <td>0</td>\n",
              "    </tr>\n",
              "    <tr>\n",
              "      <th>83671</th>\n",
              "      <td>156</td>\n",
              "      <td>26</td>\n",
              "      <td>2.385606</td>\n",
              "      <td>1</td>\n",
              "      <td>0</td>\n",
              "      <td>0</td>\n",
              "      <td>0</td>\n",
              "      <td>0</td>\n",
              "      <td>0</td>\n",
              "      <td>0</td>\n",
              "      <td>0</td>\n",
              "      <td>0</td>\n",
              "      <td>0</td>\n",
              "      <td>1</td>\n",
              "      <td>0</td>\n",
              "      <td>0</td>\n",
              "      <td>0</td>\n",
              "      <td>1</td>\n",
              "      <td>0</td>\n",
              "      <td>0</td>\n",
              "      <td>0</td>\n",
              "      <td>0</td>\n",
              "      <td>0</td>\n",
              "      <td>0</td>\n",
              "      <td>0</td>\n",
              "    </tr>\n",
              "    <tr>\n",
              "      <th>83672</th>\n",
              "      <td>399</td>\n",
              "      <td>672</td>\n",
              "      <td>0.000000</td>\n",
              "      <td>0</td>\n",
              "      <td>1</td>\n",
              "      <td>0</td>\n",
              "      <td>0</td>\n",
              "      <td>0</td>\n",
              "      <td>0</td>\n",
              "      <td>0</td>\n",
              "      <td>0</td>\n",
              "      <td>0</td>\n",
              "      <td>0</td>\n",
              "      <td>1</td>\n",
              "      <td>0</td>\n",
              "      <td>0</td>\n",
              "      <td>0</td>\n",
              "      <td>0</td>\n",
              "      <td>0</td>\n",
              "      <td>0</td>\n",
              "      <td>0</td>\n",
              "      <td>0</td>\n",
              "      <td>0</td>\n",
              "      <td>0</td>\n",
              "      <td>1</td>\n",
              "    </tr>\n",
              "    <tr>\n",
              "      <th>83673</th>\n",
              "      <td>319</td>\n",
              "      <td>343</td>\n",
              "      <td>0.477121</td>\n",
              "      <td>0</td>\n",
              "      <td>1</td>\n",
              "      <td>0</td>\n",
              "      <td>0</td>\n",
              "      <td>0</td>\n",
              "      <td>0</td>\n",
              "      <td>0</td>\n",
              "      <td>0</td>\n",
              "      <td>0</td>\n",
              "      <td>0</td>\n",
              "      <td>0</td>\n",
              "      <td>1</td>\n",
              "      <td>0</td>\n",
              "      <td>0</td>\n",
              "      <td>1</td>\n",
              "      <td>0</td>\n",
              "      <td>0</td>\n",
              "      <td>0</td>\n",
              "      <td>0</td>\n",
              "      <td>0</td>\n",
              "      <td>0</td>\n",
              "      <td>0</td>\n",
              "    </tr>\n",
              "  </tbody>\n",
              "</table>\n",
              "<p>83674 rows × 25 columns</p>\n",
              "</div>"
            ],
            "text/plain": [
              "       user  item       cnt  ...  weather_snowy  weather_stormy  weather_sunny\n",
              "0         0     0  0.000000  ...              0               0              1\n",
              "1         1     1  0.845098  ...              0               0              0\n",
              "2         2     2  0.778151  ...              0               0              0\n",
              "3         3     3  2.631444  ...              0               0              1\n",
              "4         4     4  0.778151  ...              0               0              1\n",
              "...     ...   ...       ...  ...            ...             ...            ...\n",
              "83669    96     0  0.698970  ...              0               0              1\n",
              "83670    30    33  2.004321  ...              0               0              0\n",
              "83671   156    26  2.385606  ...              0               0              0\n",
              "83672   399   672  0.000000  ...              0               0              1\n",
              "83673   319   343  0.477121  ...              0               0              0\n",
              "\n",
              "[83674 rows x 25 columns]"
            ]
          },
          "metadata": {
            "tags": []
          },
          "execution_count": 8
        }
      ]
    },
    {
      "cell_type": "code",
      "metadata": {
        "id": "rfi_1a0Ir_AJ"
      },
      "source": [
        "# k-fold cross validation object\n",
        "kf = KFold(n_splits=3, random_state=42, shuffle=True)\n",
        "\n",
        "def kfold_train(model, epochs, batch_size, verbose, df, x_labels, y_label, context_labels, kf):\n",
        "    '''\n",
        "    Train a model using K-fold CV\n",
        "\n",
        "    Parameters:\n",
        "        model: the model to be trained\n",
        "        epochs: training epochs for each fold\n",
        "        batch_size: batch size for each fold\n",
        "        verbose: show training batch and loss\n",
        "        df: the dataframe on which the model will be trained\n",
        "        x_labels: features labels\n",
        "        y_label: value to predict label\n",
        "        context_labels: contextual features labels\n",
        "        kf: sklearn kfold object\n",
        "    '''\n",
        "    idx = 0\n",
        "    rmse = np.empty(kf.n_splits)\n",
        "    mae = np.empty(kf.n_splits)\n",
        "\n",
        "    for train_index, test_index in kf.split(df):\n",
        "        print(f'Training on fold {idx}...')\n",
        "        train_x = df.loc[train_index, x_labels]  # get a dataset subset with df.loc[rows, columns]\n",
        "        train_y = df.loc[train_index, y_label]\n",
        "        train_context = df.loc[train_index, context_labels]\n",
        "        model.fit([train_x.user, train_x.item, train_context], train_y, epochs=epochs, batch_size=batch_size, verbose=verbose)\n",
        "\n",
        "        print(f'Testing on fold {idx}...')\n",
        "        test_x = df.loc[test_index, x_labels]\n",
        "        test_y = df.loc[test_index, y_label]\n",
        "        test_context = df.loc[test_index, context_labels]\n",
        "        pred_y = model.predict([test_x.user, test_x.item, test_context]).flatten()\n",
        "        rmse[idx] = mean_squared_error(test_y, pred_y, squared = False)\n",
        "        mae[idx] = mean_absolute_error(test_y, pred_y)\n",
        "        print(f'RMSE = {rmse[idx]}    MAE = {mae[idx]}')\n",
        "\n",
        "        idx = idx + 1\n",
        "    \n",
        "    return np.mean(rmse), np.mean(mae)"
      ],
      "execution_count": null,
      "outputs": []
    },
    {
      "cell_type": "code",
      "metadata": {
        "id": "SYutpX2ryxM-",
        "colab": {
          "base_uri": "https://localhost:8080/"
        },
        "outputId": "2f5fc719-5b1d-4cbb-84bb-b1a27c26a05e"
      },
      "source": [
        "# count number of unique users and items\n",
        "n_users, n_items = len(df.user.unique()), len(df.item.unique())\n",
        "n_context = len(context_labels)\n",
        "\n",
        "# embedding vectors length\n",
        "n_latent_factors_user = 8\n",
        "n_latent_factors_item = 12\n",
        "\n",
        "f'Number of users: {n_users}      Number of apps: {n_items}     Number of context features: {n_context}'"
      ],
      "execution_count": null,
      "outputs": [
        {
          "output_type": "execute_result",
          "data": {
            "application/vnd.google.colaboratory.intrinsic+json": {
              "type": "string"
            },
            "text/plain": [
              "'Number of users: 862      Number of apps: 3663     Number of context features: 22'"
            ]
          },
          "metadata": {
            "tags": []
          },
          "execution_count": 10
        }
      ]
    },
    {
      "cell_type": "markdown",
      "metadata": {
        "id": "NIfSxcyQzRzn"
      },
      "source": [
        "### Latent context extraction\n"
      ]
    },
    {
      "cell_type": "markdown",
      "metadata": {
        "id": "7OclHf_U97Pr"
      },
      "source": [
        "#### With autoencoder"
      ]
    },
    {
      "cell_type": "code",
      "metadata": {
        "id": "DO1R_ZVl783U"
      },
      "source": [
        "train_context_AE, test_context_AE = train_test_split(df.loc[:,context_labels], test_size=0.2)"
      ],
      "execution_count": null,
      "outputs": []
    },
    {
      "cell_type": "code",
      "metadata": {
        "id": "0iHJfOanzNQy"
      },
      "source": [
        "# size of the encoded representation\n",
        "n_latent_context = 11\n",
        "\n",
        "# input layer\n",
        "input = Input(shape=(n_context,))\n",
        "# the encoded representation of the input\n",
        "encoded = Dense(n_latent_context, activation='sigmoid')(input)\n",
        "# the reconstruction of the input\n",
        "decoded = Dense(n_context, activation='sigmoid')(encoded)\n",
        "\n",
        "# Autoencoder model\n",
        "autoencoder = keras.Model(input, decoded)\n",
        "\n",
        "# Only encoder model\n",
        "encoder = keras.Model(input, encoded)\n",
        "\n",
        "# Only Decoder model\n",
        "encoded_input = keras.Input(shape=(n_latent_context,))   # takes as input the encoded context\n",
        "decoder_layer = autoencoder.layers[-1]   # Retrieve the last layer of the autoencoder model\n",
        "decoder = keras.Model(encoded_input, decoder_layer(encoded_input))\n",
        "\n",
        "autoencoder.compile(optimizer='adam', loss='binary_crossentropy')"
      ],
      "execution_count": null,
      "outputs": []
    },
    {
      "cell_type": "code",
      "metadata": {
        "id": "fqmXeqgOZ0KZ"
      },
      "source": [
        "# train the autoencoder on the context\n",
        "history = autoencoder.fit(train_context_AE, train_context_AE,\n",
        "                          epochs=50,\n",
        "                          verbose=False,\n",
        "                          batch_size=128,\n",
        "                          validation_data=(test_context_AE, test_context_AE))"
      ],
      "execution_count": null,
      "outputs": []
    },
    {
      "cell_type": "code",
      "metadata": {
        "id": "mnPVHgFhOvzx",
        "colab": {
          "base_uri": "https://localhost:8080/"
        },
        "outputId": "11f75226-1ca1-424b-dffd-8d10d15c5393"
      },
      "source": [
        "plot_loss(history, ymin=0, ymax=0.5)"
      ],
      "execution_count": null,
      "outputs": [
        {
          "output_type": "display_data",
          "data": {
            "image/png": "[encoded data removed]",
            "text/plain": [
              "<Figure size 432x288 with 1 Axes>"
            ]
          },
          "metadata": {
            "tags": [],
            "needs_background": "light"
          }
        }
      ]
    },
    {
      "cell_type": "code",
      "metadata": {
        "id": "ZDXtf6_aEm_S"
      },
      "source": [
        "# weight matrix of neurons that connect input layers to hidden layer\n",
        "# get weight returns a list of weights and biases, by taking weight[0] you extract only the weights\n",
        "weight_matrix = autoencoder.layers[1].get_weights()[0]\n",
        "weight_matrix = np.asarray(weight_matrix)\n",
        "\n",
        "def get_latent_context_AE():\n",
        "    latent_context = np.empty(shape=(df.shape[0], n_latent_context))\n",
        "    latent_context_labels = [f\"latent_{x}\" for x in range(n_latent_context)]\n",
        "    \n",
        "    # multiply each context sample for the weight matrix\n",
        "    for idx, s in enumerate(df.loc[:, context_labels].values):\n",
        "        latent_context[idx] = s @ weight_matrix\n",
        "    \n",
        "    # apply activation function\n",
        "    latent_context = sigmoid(latent_context)\n",
        "    df_latent_context = pd.DataFrame(latent_context, columns=latent_context_labels)\n",
        "\n",
        "    return df_latent_context, latent_context_labels"
      ],
      "execution_count": null,
      "outputs": []
    },
    {
      "cell_type": "markdown",
      "metadata": {
        "id": "VV89AtG_-Ms5"
      },
      "source": [
        "####With PCA"
      ]
    },
    {
      "cell_type": "code",
      "metadata": {
        "id": "AQiYQ_kJ-UoB"
      },
      "source": [
        "def get_latent_context_PCA(n_latent_context):\n",
        "    latent_context_labels = [f\"latent_{x}\" for x in range(n_latent_context)]\n",
        "    pca = PCA(n_components=n_latent_context)\n",
        "    pca.fit(df.loc[:,context_labels])\n",
        "    latent_context = pca.transform(df.loc[:,context_labels])  \n",
        "    df_latent_context = pd.DataFrame(latent_context, columns=latent_context_labels)\n",
        "    return df_latent_context, latent_context_labels"
      ],
      "execution_count": null,
      "outputs": []
    },
    {
      "cell_type": "markdown",
      "metadata": {
        "id": "P04efe0tHSi1"
      },
      "source": [
        "#### Run selected method"
      ]
    },
    {
      "cell_type": "code",
      "metadata": {
        "colab": {
          "base_uri": "https://localhost:8080/"
        },
        "id": "FGbX4jMLHgzQ",
        "outputId": "425a9973-52be-4879-c289-d5da02e7f17f"
      },
      "source": [
        "method = 'AE'\n",
        "if method == 'PCA': # latent context with PCA\n",
        "    df_latent_context, latent_context_labels = get_latent_context_PCA(n_latent_context)\n",
        "    df = pd.concat([df, df_latent_context], axis=1)\n",
        "elif method == 'AE': # latent context with AE\n",
        "    df_latent_context, latent_context_labels = get_latent_context_AE()\n",
        "    df = pd.concat([df, df_latent_context], axis=1)\n",
        "df"
      ],
      "execution_count": null,
      "outputs": [
        {
          "output_type": "execute_result",
          "data": {
            "text/html": [
              "<div>\n",
              "<style scoped>\n",
              "    .dataframe tbody tr th:only-of-type {\n",
              "        vertical-align: middle;\n",
              "    }\n",
              "\n",
              "    .dataframe tbody tr th {\n",
              "        vertical-align: top;\n",
              "    }\n",
              "\n",
              "    .dataframe thead th {\n",
              "        text-align: right;\n",
              "    }\n",
              "</style>\n",
              "<table border=\"1\" class=\"dataframe\">\n",
              "  <thead>\n",
              "    <tr style=\"text-align: right;\">\n",
              "      <th></th>\n",
              "      <th>user</th>\n",
              "      <th>item</th>\n",
              "      <th>cnt</th>\n",
              "      <th>daytime_afternoon</th>\n",
              "      <th>daytime_evening</th>\n",
              "      <th>daytime_morning</th>\n",
              "      <th>daytime_night</th>\n",
              "      <th>daytime_noon</th>\n",
              "      <th>daytime_sunrise</th>\n",
              "      <th>daytime_sunset</th>\n",
              "      <th>weekday_friday</th>\n",
              "      <th>weekday_monday</th>\n",
              "      <th>weekday_saturday</th>\n",
              "      <th>weekday_sunday</th>\n",
              "      <th>weekday_thursday</th>\n",
              "      <th>weekday_tuesday</th>\n",
              "      <th>weekday_wednesday</th>\n",
              "      <th>weather_cloudy</th>\n",
              "      <th>weather_drizzle</th>\n",
              "      <th>weather_foggy</th>\n",
              "      <th>weather_rainy</th>\n",
              "      <th>weather_sleet</th>\n",
              "      <th>weather_snowy</th>\n",
              "      <th>weather_stormy</th>\n",
              "      <th>weather_sunny</th>\n",
              "      <th>latent_0</th>\n",
              "      <th>latent_1</th>\n",
              "      <th>latent_2</th>\n",
              "      <th>latent_3</th>\n",
              "      <th>latent_4</th>\n",
              "      <th>latent_5</th>\n",
              "      <th>latent_6</th>\n",
              "      <th>latent_7</th>\n",
              "      <th>latent_8</th>\n",
              "      <th>latent_9</th>\n",
              "      <th>latent_10</th>\n",
              "    </tr>\n",
              "  </thead>\n",
              "  <tbody>\n",
              "    <tr>\n",
              "      <th>0</th>\n",
              "      <td>0</td>\n",
              "      <td>0</td>\n",
              "      <td>0.000000</td>\n",
              "      <td>0</td>\n",
              "      <td>0</td>\n",
              "      <td>1</td>\n",
              "      <td>0</td>\n",
              "      <td>0</td>\n",
              "      <td>0</td>\n",
              "      <td>0</td>\n",
              "      <td>0</td>\n",
              "      <td>0</td>\n",
              "      <td>0</td>\n",
              "      <td>1</td>\n",
              "      <td>0</td>\n",
              "      <td>0</td>\n",
              "      <td>0</td>\n",
              "      <td>0</td>\n",
              "      <td>0</td>\n",
              "      <td>0</td>\n",
              "      <td>0</td>\n",
              "      <td>0</td>\n",
              "      <td>0</td>\n",
              "      <td>0</td>\n",
              "      <td>1</td>\n",
              "      <td>0.293573</td>\n",
              "      <td>0.990041</td>\n",
              "      <td>0.038169</td>\n",
              "      <td>0.887627</td>\n",
              "      <td>0.286056</td>\n",
              "      <td>0.970688</td>\n",
              "      <td>0.033093</td>\n",
              "      <td>0.461438</td>\n",
              "      <td>0.681314</td>\n",
              "      <td>0.819436</td>\n",
              "      <td>0.943102</td>\n",
              "    </tr>\n",
              "    <tr>\n",
              "      <th>1</th>\n",
              "      <td>1</td>\n",
              "      <td>1</td>\n",
              "      <td>0.845098</td>\n",
              "      <td>1</td>\n",
              "      <td>0</td>\n",
              "      <td>0</td>\n",
              "      <td>0</td>\n",
              "      <td>0</td>\n",
              "      <td>0</td>\n",
              "      <td>0</td>\n",
              "      <td>0</td>\n",
              "      <td>0</td>\n",
              "      <td>1</td>\n",
              "      <td>0</td>\n",
              "      <td>0</td>\n",
              "      <td>0</td>\n",
              "      <td>0</td>\n",
              "      <td>1</td>\n",
              "      <td>0</td>\n",
              "      <td>0</td>\n",
              "      <td>0</td>\n",
              "      <td>0</td>\n",
              "      <td>0</td>\n",
              "      <td>0</td>\n",
              "      <td>0</td>\n",
              "      <td>0.119790</td>\n",
              "      <td>0.128752</td>\n",
              "      <td>0.236433</td>\n",
              "      <td>0.672634</td>\n",
              "      <td>0.400051</td>\n",
              "      <td>0.003935</td>\n",
              "      <td>0.857416</td>\n",
              "      <td>0.993898</td>\n",
              "      <td>0.569574</td>\n",
              "      <td>0.926931</td>\n",
              "      <td>0.974347</td>\n",
              "    </tr>\n",
              "    <tr>\n",
              "      <th>2</th>\n",
              "      <td>2</td>\n",
              "      <td>2</td>\n",
              "      <td>0.778151</td>\n",
              "      <td>0</td>\n",
              "      <td>1</td>\n",
              "      <td>0</td>\n",
              "      <td>0</td>\n",
              "      <td>0</td>\n",
              "      <td>0</td>\n",
              "      <td>0</td>\n",
              "      <td>0</td>\n",
              "      <td>1</td>\n",
              "      <td>0</td>\n",
              "      <td>0</td>\n",
              "      <td>0</td>\n",
              "      <td>0</td>\n",
              "      <td>0</td>\n",
              "      <td>1</td>\n",
              "      <td>0</td>\n",
              "      <td>0</td>\n",
              "      <td>0</td>\n",
              "      <td>0</td>\n",
              "      <td>0</td>\n",
              "      <td>0</td>\n",
              "      <td>0</td>\n",
              "      <td>0.953964</td>\n",
              "      <td>0.562305</td>\n",
              "      <td>0.961939</td>\n",
              "      <td>0.944961</td>\n",
              "      <td>0.569860</td>\n",
              "      <td>0.021671</td>\n",
              "      <td>0.579842</td>\n",
              "      <td>0.973792</td>\n",
              "      <td>0.959069</td>\n",
              "      <td>0.450816</td>\n",
              "      <td>0.035336</td>\n",
              "    </tr>\n",
              "    <tr>\n",
              "      <th>3</th>\n",
              "      <td>3</td>\n",
              "      <td>3</td>\n",
              "      <td>2.631444</td>\n",
              "      <td>0</td>\n",
              "      <td>0</td>\n",
              "      <td>0</td>\n",
              "      <td>1</td>\n",
              "      <td>0</td>\n",
              "      <td>0</td>\n",
              "      <td>0</td>\n",
              "      <td>0</td>\n",
              "      <td>0</td>\n",
              "      <td>0</td>\n",
              "      <td>0</td>\n",
              "      <td>1</td>\n",
              "      <td>0</td>\n",
              "      <td>0</td>\n",
              "      <td>0</td>\n",
              "      <td>0</td>\n",
              "      <td>0</td>\n",
              "      <td>0</td>\n",
              "      <td>0</td>\n",
              "      <td>0</td>\n",
              "      <td>0</td>\n",
              "      <td>1</td>\n",
              "      <td>0.022863</td>\n",
              "      <td>0.355719</td>\n",
              "      <td>0.979278</td>\n",
              "      <td>0.394436</td>\n",
              "      <td>0.886207</td>\n",
              "      <td>0.987892</td>\n",
              "      <td>0.277858</td>\n",
              "      <td>0.018382</td>\n",
              "      <td>0.748206</td>\n",
              "      <td>0.787485</td>\n",
              "      <td>0.994953</td>\n",
              "    </tr>\n",
              "    <tr>\n",
              "      <th>4</th>\n",
              "      <td>4</td>\n",
              "      <td>4</td>\n",
              "      <td>0.778151</td>\n",
              "      <td>0</td>\n",
              "      <td>0</td>\n",
              "      <td>0</td>\n",
              "      <td>0</td>\n",
              "      <td>0</td>\n",
              "      <td>0</td>\n",
              "      <td>1</td>\n",
              "      <td>0</td>\n",
              "      <td>0</td>\n",
              "      <td>1</td>\n",
              "      <td>0</td>\n",
              "      <td>0</td>\n",
              "      <td>0</td>\n",
              "      <td>0</td>\n",
              "      <td>0</td>\n",
              "      <td>0</td>\n",
              "      <td>0</td>\n",
              "      <td>0</td>\n",
              "      <td>0</td>\n",
              "      <td>0</td>\n",
              "      <td>0</td>\n",
              "      <td>1</td>\n",
              "      <td>0.644707</td>\n",
              "      <td>0.502079</td>\n",
              "      <td>0.196614</td>\n",
              "      <td>0.721885</td>\n",
              "      <td>0.706194</td>\n",
              "      <td>0.005819</td>\n",
              "      <td>0.012033</td>\n",
              "      <td>0.683930</td>\n",
              "      <td>0.024277</td>\n",
              "      <td>0.940264</td>\n",
              "      <td>0.919655</td>\n",
              "    </tr>\n",
              "    <tr>\n",
              "      <th>...</th>\n",
              "      <td>...</td>\n",
              "      <td>...</td>\n",
              "      <td>...</td>\n",
              "      <td>...</td>\n",
              "      <td>...</td>\n",
              "      <td>...</td>\n",
              "      <td>...</td>\n",
              "      <td>...</td>\n",
              "      <td>...</td>\n",
              "      <td>...</td>\n",
              "      <td>...</td>\n",
              "      <td>...</td>\n",
              "      <td>...</td>\n",
              "      <td>...</td>\n",
              "      <td>...</td>\n",
              "      <td>...</td>\n",
              "      <td>...</td>\n",
              "      <td>...</td>\n",
              "      <td>...</td>\n",
              "      <td>...</td>\n",
              "      <td>...</td>\n",
              "      <td>...</td>\n",
              "      <td>...</td>\n",
              "      <td>...</td>\n",
              "      <td>...</td>\n",
              "      <td>...</td>\n",
              "      <td>...</td>\n",
              "      <td>...</td>\n",
              "      <td>...</td>\n",
              "      <td>...</td>\n",
              "      <td>...</td>\n",
              "      <td>...</td>\n",
              "      <td>...</td>\n",
              "      <td>...</td>\n",
              "      <td>...</td>\n",
              "      <td>...</td>\n",
              "    </tr>\n",
              "    <tr>\n",
              "      <th>83669</th>\n",
              "      <td>96</td>\n",
              "      <td>0</td>\n",
              "      <td>0.698970</td>\n",
              "      <td>0</td>\n",
              "      <td>1</td>\n",
              "      <td>0</td>\n",
              "      <td>0</td>\n",
              "      <td>0</td>\n",
              "      <td>0</td>\n",
              "      <td>0</td>\n",
              "      <td>0</td>\n",
              "      <td>0</td>\n",
              "      <td>0</td>\n",
              "      <td>1</td>\n",
              "      <td>0</td>\n",
              "      <td>0</td>\n",
              "      <td>0</td>\n",
              "      <td>0</td>\n",
              "      <td>0</td>\n",
              "      <td>0</td>\n",
              "      <td>0</td>\n",
              "      <td>0</td>\n",
              "      <td>0</td>\n",
              "      <td>0</td>\n",
              "      <td>1</td>\n",
              "      <td>0.522980</td>\n",
              "      <td>0.985907</td>\n",
              "      <td>0.961325</td>\n",
              "      <td>0.957585</td>\n",
              "      <td>0.325165</td>\n",
              "      <td>0.961140</td>\n",
              "      <td>0.010876</td>\n",
              "      <td>0.433685</td>\n",
              "      <td>0.420863</td>\n",
              "      <td>0.264615</td>\n",
              "      <td>0.894561</td>\n",
              "    </tr>\n",
              "    <tr>\n",
              "      <th>83670</th>\n",
              "      <td>30</td>\n",
              "      <td>33</td>\n",
              "      <td>2.004321</td>\n",
              "      <td>0</td>\n",
              "      <td>0</td>\n",
              "      <td>0</td>\n",
              "      <td>0</td>\n",
              "      <td>0</td>\n",
              "      <td>0</td>\n",
              "      <td>1</td>\n",
              "      <td>0</td>\n",
              "      <td>0</td>\n",
              "      <td>0</td>\n",
              "      <td>1</td>\n",
              "      <td>0</td>\n",
              "      <td>0</td>\n",
              "      <td>0</td>\n",
              "      <td>1</td>\n",
              "      <td>0</td>\n",
              "      <td>0</td>\n",
              "      <td>0</td>\n",
              "      <td>0</td>\n",
              "      <td>0</td>\n",
              "      <td>0</td>\n",
              "      <td>0</td>\n",
              "      <td>0.918482</td>\n",
              "      <td>0.118341</td>\n",
              "      <td>0.034709</td>\n",
              "      <td>0.863745</td>\n",
              "      <td>0.305730</td>\n",
              "      <td>0.890668</td>\n",
              "      <td>0.005122</td>\n",
              "      <td>0.979840</td>\n",
              "      <td>0.288622</td>\n",
              "      <td>0.221323</td>\n",
              "      <td>0.763790</td>\n",
              "    </tr>\n",
              "    <tr>\n",
              "      <th>83671</th>\n",
              "      <td>156</td>\n",
              "      <td>26</td>\n",
              "      <td>2.385606</td>\n",
              "      <td>1</td>\n",
              "      <td>0</td>\n",
              "      <td>0</td>\n",
              "      <td>0</td>\n",
              "      <td>0</td>\n",
              "      <td>0</td>\n",
              "      <td>0</td>\n",
              "      <td>0</td>\n",
              "      <td>0</td>\n",
              "      <td>0</td>\n",
              "      <td>1</td>\n",
              "      <td>0</td>\n",
              "      <td>0</td>\n",
              "      <td>0</td>\n",
              "      <td>1</td>\n",
              "      <td>0</td>\n",
              "      <td>0</td>\n",
              "      <td>0</td>\n",
              "      <td>0</td>\n",
              "      <td>0</td>\n",
              "      <td>0</td>\n",
              "      <td>0</td>\n",
              "      <td>0.069297</td>\n",
              "      <td>0.299330</td>\n",
              "      <td>0.062626</td>\n",
              "      <td>0.847247</td>\n",
              "      <td>0.331723</td>\n",
              "      <td>0.933479</td>\n",
              "      <td>0.342035</td>\n",
              "      <td>0.987765</td>\n",
              "      <td>0.618369</td>\n",
              "      <td>0.465927</td>\n",
              "      <td>0.914665</td>\n",
              "    </tr>\n",
              "    <tr>\n",
              "      <th>83672</th>\n",
              "      <td>399</td>\n",
              "      <td>672</td>\n",
              "      <td>0.000000</td>\n",
              "      <td>0</td>\n",
              "      <td>1</td>\n",
              "      <td>0</td>\n",
              "      <td>0</td>\n",
              "      <td>0</td>\n",
              "      <td>0</td>\n",
              "      <td>0</td>\n",
              "      <td>0</td>\n",
              "      <td>0</td>\n",
              "      <td>0</td>\n",
              "      <td>1</td>\n",
              "      <td>0</td>\n",
              "      <td>0</td>\n",
              "      <td>0</td>\n",
              "      <td>0</td>\n",
              "      <td>0</td>\n",
              "      <td>0</td>\n",
              "      <td>0</td>\n",
              "      <td>0</td>\n",
              "      <td>0</td>\n",
              "      <td>0</td>\n",
              "      <td>1</td>\n",
              "      <td>0.522980</td>\n",
              "      <td>0.985907</td>\n",
              "      <td>0.961325</td>\n",
              "      <td>0.957585</td>\n",
              "      <td>0.325165</td>\n",
              "      <td>0.961140</td>\n",
              "      <td>0.010876</td>\n",
              "      <td>0.433685</td>\n",
              "      <td>0.420863</td>\n",
              "      <td>0.264615</td>\n",
              "      <td>0.894561</td>\n",
              "    </tr>\n",
              "    <tr>\n",
              "      <th>83673</th>\n",
              "      <td>319</td>\n",
              "      <td>343</td>\n",
              "      <td>0.477121</td>\n",
              "      <td>0</td>\n",
              "      <td>1</td>\n",
              "      <td>0</td>\n",
              "      <td>0</td>\n",
              "      <td>0</td>\n",
              "      <td>0</td>\n",
              "      <td>0</td>\n",
              "      <td>0</td>\n",
              "      <td>0</td>\n",
              "      <td>0</td>\n",
              "      <td>0</td>\n",
              "      <td>1</td>\n",
              "      <td>0</td>\n",
              "      <td>0</td>\n",
              "      <td>1</td>\n",
              "      <td>0</td>\n",
              "      <td>0</td>\n",
              "      <td>0</td>\n",
              "      <td>0</td>\n",
              "      <td>0</td>\n",
              "      <td>0</td>\n",
              "      <td>0</td>\n",
              "      <td>0.973433</td>\n",
              "      <td>0.089989</td>\n",
              "      <td>0.990919</td>\n",
              "      <td>0.876131</td>\n",
              "      <td>0.090952</td>\n",
              "      <td>0.948031</td>\n",
              "      <td>0.565897</td>\n",
              "      <td>0.297148</td>\n",
              "      <td>0.899825</td>\n",
              "      <td>0.531935</td>\n",
              "      <td>0.961380</td>\n",
              "    </tr>\n",
              "  </tbody>\n",
              "</table>\n",
              "<p>83674 rows × 36 columns</p>\n",
              "</div>"
            ],
            "text/plain": [
              "       user  item       cnt  ...  latent_8  latent_9  latent_10\n",
              "0         0     0  0.000000  ...  0.681314  0.819436   0.943102\n",
              "1         1     1  0.845098  ...  0.569574  0.926931   0.974347\n",
              "2         2     2  0.778151  ...  0.959069  0.450816   0.035336\n",
              "3         3     3  2.631444  ...  0.748206  0.787485   0.994953\n",
              "4         4     4  0.778151  ...  0.024277  0.940264   0.919655\n",
              "...     ...   ...       ...  ...       ...       ...        ...\n",
              "83669    96     0  0.698970  ...  0.420863  0.264615   0.894561\n",
              "83670    30    33  2.004321  ...  0.288622  0.221323   0.763790\n",
              "83671   156    26  2.385606  ...  0.618369  0.465927   0.914665\n",
              "83672   399   672  0.000000  ...  0.420863  0.264615   0.894561\n",
              "83673   319   343  0.477121  ...  0.899825  0.531935   0.961380\n",
              "\n",
              "[83674 rows x 36 columns]"
            ]
          },
          "metadata": {
            "tags": []
          },
          "execution_count": 17
        }
      ]
    },
    {
      "cell_type": "markdown",
      "metadata": {
        "id": "Wi6Hnk5grCYQ"
      },
      "source": [
        "### Hierarchical context extraction"
      ]
    },
    {
      "cell_type": "code",
      "metadata": {
        "id": "pK0q24YHrQmo"
      },
      "source": [
        "def is_leaf(node):\n",
        "    return node.left is None and node.right is None\n",
        "\n",
        "# Recursive function to find paths from root node to every leaf node of a binary tree\n",
        "def root_leaf_paths(node, path, hierarchy):\n",
        "\n",
        "    if node is None:\n",
        "        return\n",
        " \n",
        "    path.append(node.id)\n",
        " \n",
        "    if is_leaf(node):\n",
        "        hierarchy.append(list(path)) # append a complete path to the list of all paths\n",
        " \n",
        "    # Call the functions on left and right subtrees\n",
        "    root_leaf_paths(node.left, path, hierarchy)\n",
        "    root_leaf_paths(node.right, path, hierarchy)\n",
        " \n",
        "    # remove current node after left and right subtrees are done\n",
        "    path.pop()\n",
        "\n",
        "def hierarchical_clustering(df):\n",
        "    linked = linkage(df, 'ward')  # linkage matrix\n",
        "    rootnode, nodelist = to_tree(linked, rd=True) # tree representing the hierarchical clustering\n",
        "    path = deque() # a path from the root node to a leaf\n",
        "    hierarchy = []\n",
        "    root_leaf_paths(rootnode, path, hierarchy)\n",
        "    longest_path = len(max(hierarchy, key=len)) # find longest path from root to leaf\n",
        "    hierarchy = [x + [x[-1]]*(longest_path - len(x)) for x in hierarchy] # make path of equal size\n",
        "    hierarchy.sort(key=lambda x: x[-1]) # sort the list by the last element (datapoints id)\n",
        "    return hierarchy"
      ],
      "execution_count": null,
      "outputs": []
    },
    {
      "cell_type": "code",
      "metadata": {
        "id": "1-t8S6hDe9Jo",
        "colab": {
          "base_uri": "https://localhost:8080/"
        },
        "outputId": "37a2b05d-40bc-4495-93de-ac777206ca0b"
      },
      "source": [
        "hier_context = hierarchical_clustering(df.loc[:30, latent_context_labels])\n",
        "hier_context"
      ],
      "execution_count": null,
      "outputs": [
        {
          "output_type": "execute_result",
          "data": {
            "text/plain": [
              "[[60, 59, 53, 51, 38, 0, 0, 0],\n",
              " [60, 59, 58, 54, 45, 36, 32, 1],\n",
              " [60, 57, 56, 48, 39, 2, 2, 2],\n",
              " [60, 57, 56, 52, 42, 3, 3, 3],\n",
              " [60, 59, 58, 55, 50, 44, 4, 4],\n",
              " [60, 59, 58, 54, 45, 36, 5, 5],\n",
              " [60, 59, 58, 55, 50, 34, 6, 6],\n",
              " [60, 59, 53, 51, 40, 7, 7, 7],\n",
              " [60, 59, 58, 55, 50, 34, 8, 8],\n",
              " [60, 57, 56, 52, 42, 9, 9, 9],\n",
              " [60, 59, 53, 51, 40, 10, 10, 10],\n",
              " [60, 59, 53, 51, 38, 31, 11, 11],\n",
              " [60, 59, 58, 54, 49, 41, 12, 12],\n",
              " [60, 57, 46, 37, 13, 13, 13, 13],\n",
              " [60, 59, 58, 54, 45, 14, 14, 14],\n",
              " [60, 59, 53, 47, 15, 15, 15, 15],\n",
              " [60, 59, 58, 54, 49, 41, 16, 16],\n",
              " [60, 59, 58, 55, 33, 17, 17, 17],\n",
              " [60, 59, 58, 54, 45, 36, 32, 18],\n",
              " [60, 57, 56, 48, 39, 19, 19, 19],\n",
              " [60, 57, 56, 48, 35, 20, 20, 20],\n",
              " [60, 57, 46, 43, 21, 21, 21, 21],\n",
              " [60, 57, 56, 48, 35, 22, 22, 22],\n",
              " [60, 59, 53, 47, 23, 23, 23, 23],\n",
              " [60, 59, 58, 55, 50, 44, 24, 24],\n",
              " [60, 59, 58, 54, 49, 25, 25, 25],\n",
              " [60, 59, 53, 51, 38, 31, 26, 26],\n",
              " [60, 59, 58, 55, 33, 27, 27, 27],\n",
              " [60, 57, 46, 43, 28, 28, 28, 28],\n",
              " [60, 57, 46, 37, 29, 29, 29, 29],\n",
              " [60, 57, 56, 52, 30, 30, 30, 30]]"
            ]
          },
          "metadata": {
            "tags": []
          },
          "execution_count": 116
        }
      ]
    },
    {
      "cell_type": "markdown",
      "metadata": {
        "id": "nvcSAyPmfgtc"
      },
      "source": [
        "## Models"
      ]
    },
    {
      "cell_type": "code",
      "metadata": {
        "id": "GRlRnW0w6lpo"
      },
      "source": [
        "# Dictionary that contain evaluation metrics for every model\n",
        "models_eval_metrics = {}"
      ],
      "execution_count": null,
      "outputs": []
    },
    {
      "cell_type": "markdown",
      "metadata": {
        "id": "1cozjpFFyxM-"
      },
      "source": [
        "### ECAM NCF"
      ]
    },
    {
      "cell_type": "code",
      "metadata": {
        "id": "kmSrKokyyxM-"
      },
      "source": [
        "def ncf(n_users, n_items, n_context, n_latent_factors_user, n_latent_factors_item):\n",
        "    # inputs\n",
        "    item_input = Input(shape=[1],name='item')\n",
        "    user_input = Input(shape=[1],name='user')\n",
        "    context_input = Input(shape=(n_context, ), name='context')\n",
        "\n",
        "    # Item embedding\n",
        "    item_embedding_mlp = Embedding(n_items + 1, n_latent_factors_item, name='item_embedding')(item_input)\n",
        "    item_vec_mlp = Flatten(name='flatten_item')(item_embedding_mlp)\n",
        "\n",
        "    # User embedding\n",
        "    user_embedding_mlp = Embedding(n_users + 1, n_latent_factors_user,name='user_embedding')(user_input)\n",
        "    user_vec_mlp = Flatten(name='flatten_user')(user_embedding_mlp)\n",
        "\n",
        "    # Concat user embedding,item embeddings and context vector\n",
        "    concat = Concatenate(name='user_item')([item_vec_mlp, user_vec_mlp, context_input])\n",
        "\n",
        "    # dense layers\n",
        "    dense = Dense(8, name='fully_connected_1')(concat)\n",
        "    dense_2 = Dense(4, name='fully_connected_2')(dense)\n",
        "    dense_3 = Dense(2, name='fully_connected_3')(dense_2)\n",
        "\n",
        "    # Output\n",
        "    pred_mlp = Dense(1, activation='relu', name='Activation')(dense_3)\n",
        "\n",
        "    # make and build the model\n",
        "    return keras.Model([user_input, item_input, context_input], pred_mlp)"
      ],
      "execution_count": null,
      "outputs": []
    },
    {
      "cell_type": "code",
      "metadata": {
        "id": "kQKkj6_LyxM_"
      },
      "source": [
        "ecam_ncf = ncf(n_users, n_items, n_context, n_latent_factors_user, n_latent_factors_item)\n",
        "opt = keras.optimizers.Adam(lr = 0.005)\n",
        "ecam_ncf.compile(optimizer = opt,loss= 'mean_absolute_error', metrics=['mae', 'mse'])\n",
        "\n",
        "#ecam_ncf.summary()\n",
        "#tf.keras.utils.plot_model(ecam_ncf)"
      ],
      "execution_count": null,
      "outputs": []
    },
    {
      "cell_type": "code",
      "metadata": {
        "id": "nJGY7tzAz5Tj",
        "colab": {
          "base_uri": "https://localhost:8080/"
        },
        "outputId": "09fdbf60-a1f8-4740-e77e-e192146d5008"
      },
      "source": [
        "rmse, mae = kfold_train(ecam_ncf, 15, 128, False, df, x_labels, y_label, context_labels, kf)\n",
        "models_eval_metrics['ecam_ncf'] = [rmse, mae]\n",
        "f'k-fold RMSE = {rmse}     k-fold MAE = {mae}'"
      ],
      "execution_count": null,
      "outputs": [
        {
          "output_type": "stream",
          "text": [
            "Training on fold 0...\n",
            "Testing on fold 0...\n",
            "RMSE = 0.690984804837789    MAE = 0.5205652603508293\n",
            "Training on fold 1...\n",
            "Testing on fold 1...\n",
            "RMSE = 0.6817304235883569    MAE = 0.5091107754694829\n",
            "Training on fold 2...\n",
            "Testing on fold 2...\n",
            "RMSE = 0.6811248292461608    MAE = 0.5069081241962974\n"
          ],
          "name": "stdout"
        },
        {
          "output_type": "execute_result",
          "data": {
            "application/vnd.google.colaboratory.intrinsic+json": {
              "type": "string"
            },
            "text/plain": [
              "'k-fold RMSE = 0.6846133525574355     k-fold MAE = 0.5121947200055366'"
            ]
          },
          "metadata": {
            "tags": []
          },
          "execution_count": 24
        }
      ]
    },
    {
      "cell_type": "markdown",
      "metadata": {
        "id": "IBf_rCHlBnes"
      },
      "source": [
        "### ECAM NeuMF"
      ]
    },
    {
      "cell_type": "code",
      "metadata": {
        "id": "QOM7abQ7ExgO"
      },
      "source": [
        "# latent factors for matrix factorization\n",
        "n_latent_factors_mf = 10"
      ],
      "execution_count": null,
      "outputs": []
    },
    {
      "cell_type": "code",
      "metadata": {
        "id": "_z_cfe0bBmUz"
      },
      "source": [
        "def neumf(n_users, n_items, n_context, n_latent_factors_user, n_latent_factors_item, n_latent_factors_mf):\n",
        "    # inputs\n",
        "    item_input = Input(shape=[1],name='item')\n",
        "    user_input = Input(shape=[1],name='user')\n",
        "    context_input = Input(shape=(n_context, ), name='context')\n",
        "\n",
        "    # item embedding MF\n",
        "    item_embedding_mf = Embedding(n_items + 1, n_latent_factors_mf, name='item_embedding_MF')(item_input)\n",
        "    item_vec_mf = Flatten(name='flatten_item_MF')(item_embedding_mf)\n",
        "\n",
        "    # User embedding MF\n",
        "    user_embedding_mf = Embedding(n_users + 1, n_latent_factors_mf,name='user_embedding_MF')(user_input)\n",
        "    user_vec_mf = Flatten(name='flatten_user_MF')(user_embedding_mf)\n",
        "\n",
        "    # Dot product MF\n",
        "    dot = tf.keras.layers.Dot(axes=1)([user_vec_mf, item_vec_mf])\n",
        "\n",
        "    # Item embedding MLP\n",
        "    item_embedding_mlp = Embedding(n_items + 1, n_latent_factors_item, name='item_embedding_MLP')(item_input)\n",
        "    item_vec_mlp = Flatten(name='flatten_item_MLP')(item_embedding_mlp)\n",
        "\n",
        "    # User embedding MLP\n",
        "    user_embedding_mlp = Embedding(n_users + 1, n_latent_factors_user,name='user_embedding_MLP')(user_input)\n",
        "    user_vec_mlp = Flatten(name='flatten_user_MLP')(user_embedding_mlp)\n",
        "\n",
        "    # Concat user embedding,item embeddings and context vector\n",
        "    concat = Concatenate(name='user_item_context_MLP')([item_vec_mlp, user_vec_mlp, context_input])\n",
        "\n",
        "    # dense layers\n",
        "    dense = Dense(8, name='fully_connected_1')(concat)\n",
        "    dense_2 = Dense(4, name='fully_connected_2')(dense)\n",
        "    dense_3 = Dense(2, name='fully_connected_3')(dense_2)\n",
        "\n",
        "    # concat MF and MLP\n",
        "    concat_mf_mlp = Concatenate(name='MF_MLP')([dense_3, dot])\n",
        "\n",
        "    # Output\n",
        "    output = Dense(1, activation='relu',name='Activation')(concat_mf_mlp)\n",
        "\n",
        "    # make and build the model\n",
        "    return keras.Model([user_input, item_input, context_input], output)"
      ],
      "execution_count": null,
      "outputs": []
    },
    {
      "cell_type": "code",
      "metadata": {
        "id": "YOK2BsrLB5nb"
      },
      "source": [
        "ecam_neumf = neumf(n_users, n_items, n_context, n_latent_factors_user, n_latent_factors_item, n_latent_factors_mf)\n",
        "opt = keras.optimizers.Adam(lr = 0.005)\n",
        "ecam_neumf.compile(optimizer = opt,loss= 'mean_absolute_error', metrics=['mae', 'mse'])\n",
        "\n",
        "#ecam_neumf.summary()\n",
        "#tf.keras.utils.plot_model(ecam_neumf)"
      ],
      "execution_count": null,
      "outputs": []
    },
    {
      "cell_type": "code",
      "metadata": {
        "id": "qQ7sbQdFqF0M",
        "colab": {
          "base_uri": "https://localhost:8080/"
        },
        "outputId": "1969de7f-789e-45de-c2f3-19b5f7208f4b"
      },
      "source": [
        "rmse, mae = kfold_train(ecam_neumf, 15, 128, False, df, x_labels, y_label, context_labels, kf)\n",
        "models_eval_metrics['ecam_neumf'] = [rmse, mae]\n",
        "f'k-fold RMSE = {rmse}     k-fold MAE = {mae}'"
      ],
      "execution_count": null,
      "outputs": [
        {
          "output_type": "stream",
          "text": [
            "Training on fold 0...\n",
            "Testing on fold 0...\n",
            "RMSE = 0.6476278496653103    MAE = 0.48070578868287395\n",
            "Training on fold 1...\n",
            "Testing on fold 1...\n",
            "RMSE = 0.6176490926921091    MAE = 0.4500932635796726\n",
            "Training on fold 2...\n",
            "Testing on fold 2...\n",
            "RMSE = 0.6108303334818463    MAE = 0.4420926305196749\n"
          ],
          "name": "stdout"
        },
        {
          "output_type": "execute_result",
          "data": {
            "application/vnd.google.colaboratory.intrinsic+json": {
              "type": "string"
            },
            "text/plain": [
              "'k-fold RMSE = 0.6253690919464219     k-fold MAE = 0.45763056092740717'"
            ]
          },
          "metadata": {
            "tags": []
          },
          "execution_count": 28
        }
      ]
    },
    {
      "cell_type": "markdown",
      "metadata": {
        "id": "okY4WYDkgNHz"
      },
      "source": [
        "### UCAM NCF"
      ]
    },
    {
      "cell_type": "code",
      "metadata": {
        "id": "PMqa52lDgHyc"
      },
      "source": [
        "ucam_ncf = ncf(n_users, n_items, n_latent_context, n_latent_factors_user, n_latent_factors_item)\n",
        "opt = keras.optimizers.Adam(lr = 0.005)\n",
        "ucam_ncf.compile(optimizer = opt,loss= 'mean_absolute_error', metrics=['mae', 'mse'])\n",
        "\n",
        "#ucam_ncf.summary()\n",
        "#tf.keras.utils.plot_model(ucam_ncf)"
      ],
      "execution_count": null,
      "outputs": []
    },
    {
      "cell_type": "code",
      "metadata": {
        "id": "HQkIzbvHqT5c",
        "colab": {
          "base_uri": "https://localhost:8080/"
        },
        "outputId": "121667c6-313c-4eb3-9ebb-4d309d76a2ee"
      },
      "source": [
        "rmse, mae = kfold_train(ucam_ncf, 15, 128, False, df, x_labels, y_label, latent_context_labels, kf)\n",
        "models_eval_metrics['ucam_ncf'] = [rmse, mae]\n",
        "f'k-fold RMSE = {rmse}     k-fold MAE = {mae}'"
      ],
      "execution_count": null,
      "outputs": [
        {
          "output_type": "stream",
          "text": [
            "Training on fold 0...\n",
            "Testing on fold 0...\n",
            "RMSE = 0.6956431407137188    MAE = 0.5246989489099682\n",
            "Training on fold 1...\n",
            "Testing on fold 1...\n",
            "RMSE = 0.6853388943665256    MAE = 0.5119693266892774\n",
            "Training on fold 2...\n",
            "Testing on fold 2...\n",
            "RMSE = 0.6833072677446319    MAE = 0.5082299204903458\n"
          ],
          "name": "stdout"
        },
        {
          "output_type": "execute_result",
          "data": {
            "application/vnd.google.colaboratory.intrinsic+json": {
              "type": "string"
            },
            "text/plain": [
              "'k-fold RMSE = 0.6880964342749588     k-fold MAE = 0.5149660653631971'"
            ]
          },
          "metadata": {
            "tags": []
          },
          "execution_count": 30
        }
      ]
    },
    {
      "cell_type": "markdown",
      "metadata": {
        "id": "Cx_QLRDs73oa"
      },
      "source": [
        "### UCAM NeuMF"
      ]
    },
    {
      "cell_type": "code",
      "metadata": {
        "id": "PmWmcZRR72RX"
      },
      "source": [
        "ucam_neumf = neumf(n_users, n_items, n_latent_context, n_latent_factors_user, n_latent_factors_item, n_latent_factors_mf)\r\n",
        "opt = keras.optimizers.Adam(lr = 0.005)\r\n",
        "ucam_neumf.compile(optimizer = opt,loss= 'mean_absolute_error', metrics=['mae', 'mse'])"
      ],
      "execution_count": null,
      "outputs": []
    },
    {
      "cell_type": "code",
      "metadata": {
        "id": "mI0qsmrKV8Bl",
        "colab": {
          "base_uri": "https://localhost:8080/"
        },
        "outputId": "31cf7c76-3fcf-432a-b82a-a19669b779c6"
      },
      "source": [
        "rmse, mae = kfold_train(ucam_neumf, 15, 128, False, df, x_labels, y_label, latent_context_labels, kf)\n",
        "models_eval_metrics['ucam_neumf'] = [rmse, mae]\n",
        "f'k-fold RMSE = {rmse}     k-fold MAE = {mae}'"
      ],
      "execution_count": null,
      "outputs": [
        {
          "output_type": "stream",
          "text": [
            "Training on fold 0...\n",
            "Testing on fold 0...\n",
            "RMSE = 0.645010366855807    MAE = 0.4795725899210981\n",
            "Training on fold 1...\n",
            "Testing on fold 1...\n",
            "RMSE = 0.6226822737536651    MAE = 0.4536428949908698\n",
            "Training on fold 2...\n",
            "Testing on fold 2...\n",
            "RMSE = 0.6146162807068933    MAE = 0.4450424098906223\n"
          ],
          "name": "stdout"
        },
        {
          "output_type": "execute_result",
          "data": {
            "application/vnd.google.colaboratory.intrinsic+json": {
              "type": "string"
            },
            "text/plain": [
              "'k-fold RMSE = 0.6274363071054552     k-fold MAE = 0.45941929826753003'"
            ]
          },
          "metadata": {
            "tags": []
          },
          "execution_count": 32
        }
      ]
    },
    {
      "cell_type": "markdown",
      "metadata": {
        "id": "LHQ2FEwlBdhq"
      },
      "source": [
        "### Performance comparison"
      ]
    },
    {
      "cell_type": "code",
      "metadata": {
        "id": "rbOmETzaBhq3",
        "colab": {
          "base_uri": "https://localhost:8080/",
          "height": 367
        },
        "outputId": "4f71095b-5513-4c9d-e37f-ccef62cb986a"
      },
      "source": [
        "n_models = 4 # number of different models\n",
        "models_name = [x[0] for x in models_eval_metrics.items()] \n",
        "mae = [x[0] for x in models_eval_metrics.values()]\n",
        "rmse = [x[1] for x in models_eval_metrics.values()]\n",
        "\n",
        "fig, ax = plt.subplots()\n",
        "index = np.arange(n_models)\n",
        "bar_width = 0.35\n",
        "\n",
        "# MAE bar\n",
        "rect1 = plt.bar(index, mae, bar_width,\n",
        "color='b',\n",
        "label='RMSE')\n",
        "\n",
        "# RMSE bar\n",
        "rect2 = plt.bar(index + bar_width, rmse, bar_width,\n",
        "color='#ff7b00',\n",
        "label='MAE')\n",
        "\n",
        "plt.style.use('seaborn-ticks') # readable chart on dark editor\n",
        "plt.xlabel('Model')\n",
        "plt.ylabel('Scores')\n",
        "plt.title('Models comparison')\n",
        "plt.xticks(index + bar_width, models_name)\n",
        "plt.legend()\n",
        "plt.grid(True)\n",
        "plt.tight_layout()\n",
        "plt.show()\n",
        "\n",
        "for name, mae, rmse in zip(models_name, mae, rmse):\n",
        "    print(f\"Name: {name}    \\t    MAE: {mae}    \\t    RMSE: {rmse}\")"
      ],
      "execution_count": null,
      "outputs": [
        {
          "output_type": "display_data",
          "data": {
            "image/png": "[encoded data removed]",
            "text/plain": [
              "<Figure size 432x288 with 1 Axes>"
            ]
          },
          "metadata": {
            "tags": [],
            "needs_background": "light"
          }
        },
        {
          "output_type": "stream",
          "text": [
            "Name: ecam_ncf    \t    MAE: 0.6846133525574355    \t    RMSE: 0.5121947200055366\n",
            "Name: ecam_neumf    \t    MAE: 0.6253690919464219    \t    RMSE: 0.45763056092740717\n",
            "Name: ucam_ncf    \t    MAE: 0.6880964342749588    \t    RMSE: 0.5149660653631971\n",
            "Name: ucam_neumf    \t    MAE: 0.6274363071054552    \t    RMSE: 0.45941929826753003\n"
          ],
          "name": "stdout"
        }
      ]
    }
  ]
}