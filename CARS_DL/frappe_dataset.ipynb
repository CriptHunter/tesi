{
 "cells": [
  {
   "cell_type": "markdown",
   "id": "copyrighted-sandwich",
   "metadata": {
    "id": "YasL9GIGF3Jb"
   },
   "source": [
    "# Frappe dataset"
   ]
  },
  {
   "cell_type": "markdown",
   "id": "authentic-might",
   "metadata": {},
   "source": [
    "## Import"
   ]
  },
  {
   "cell_type": "code",
   "execution_count": 3,
   "id": "automated-disability",
   "metadata": {
    "id": "1q4UgOkhyxM4"
   },
   "outputs": [],
   "source": [
    "import pandas as pd\n",
    "import numpy as np\n",
    "import requests # for downloading the dataset\n",
    "import os.path"
   ]
  },
  {
   "cell_type": "markdown",
   "id": "czech-packaging",
   "metadata": {
    "id": "Q1m4VXWTFeGE"
   },
   "source": [
    "\n",
    "## Frappe dataset"
   ]
  },
  {
   "cell_type": "markdown",
   "id": "uniform-championship",
   "metadata": {
    "id": "Hc-eF273f_OO"
   },
   "source": [
    "### Load dataset"
   ]
  },
  {
   "cell_type": "code",
   "execution_count": null,
   "id": "academic-porcelain",
   "metadata": {
    "id": "dxz5jCSiyxM6"
   },
   "outputs": [],
   "source": [
    "# download the dataset\n",
    "url = 'https://raw.githubusercontent.com/CriptHunter/tesi/master/CARS_DL/frappe dataset/frappe.csv'\n",
    "req = requests.get(url, allow_redirects=True)\n",
    "open('frappe.csv', 'wb').write(req.content)"
   ]
  },
  {
   "cell_type": "code",
   "execution_count": null,
   "id": "dominant-austria",
   "metadata": {
    "id": "TlzGyC-g6HQM"
   },
   "outputs": [],
   "source": [
    "# open the dataset\n",
    "df = pd.read_csv('frappe dataset/frappe.csv', sep=\"\\t\")\n",
    "df"
   ]
  },
  {
   "cell_type": "code",
   "execution_count": null,
   "id": "deluxe-questionnaire",
   "metadata": {
    "id": "WoRlfX6OyxM7"
   },
   "outputs": [],
   "source": [
    "# count unique values for each column\n",
    "display(\"------ unique values ------\")\n",
    "display(df.nunique())\n",
    "\n",
    "# count number of unknown values for each column\n",
    "display(\"------ unknown values ------\")\n",
    "display(df.isin(['unknown']).sum(axis=0))\n",
    "\n",
    "# count number of zero values for each column (for city 0 == unknown)\n",
    "display(\"------ zero values ------\")\n",
    "display(df.isin([0]).sum(axis=0))"
   ]
  },
  {
   "cell_type": "markdown",
   "id": "plain-webmaster",
   "metadata": {
    "id": "OZPRR_K7yxM7"
   },
   "source": [
    "### Dataset preprocessing"
   ]
  },
  {
   "cell_type": "code",
   "execution_count": null,
   "id": "skilled-unknown",
   "metadata": {
    "id": "i6_OSazcyxM8"
   },
   "outputs": [],
   "source": [
    "# log transformation on the raw frequency numbers that represent the applications usage\n",
    "df['cnt'] = df['cnt'].apply(np.log10)\n",
    "f\"frequency range is {df['cnt'][df['cnt'] == df['cnt'].min()].values[0]} to {df['cnt'][df['cnt'] == df['cnt'].max()].values[0]}\"\n",
    "\n",
    "# delete columns that are not needed\n",
    "del df['homework']\n",
    "del df['cost']\n",
    "del df['city']\n",
    "del df['isweekend']\n",
    "del df['country']"
   ]
  },
  {
   "cell_type": "code",
   "execution_count": null,
   "id": "trying-token",
   "metadata": {
    "id": "qFAc_KxJyxM8"
   },
   "outputs": [],
   "source": [
    "# delete rows where weather is unknown\n",
    "df = df[df.weather != 'unknown']\n",
    "df = df.reset_index(drop=True)\n",
    "\n",
    "# make user and items id start from 0\n",
    "df.user = pd.factorize(df.user)[0]\n",
    "df.item = pd.factorize(df.item)[0]\n",
    "\n",
    "df"
   ]
  },
  {
   "cell_type": "code",
   "execution_count": null,
   "id": "marine-candidate",
   "metadata": {
    "id": "vzwi3oscyxM8"
   },
   "outputs": [],
   "source": [
    "x_labels = ['user', 'item']\n",
    "y_label = 'cnt'\n",
    "context_labels = ['daytime', 'weekday', 'weather']\n",
    "\n",
    "# convert categorical data to one-hot encoding\n",
    "for col in context_labels:\n",
    "  df = pd.get_dummies(df, columns=[col], prefix = [col])\n",
    "\n",
    "# new context labels after one-hot encoding are columns from 3 to the end\n",
    "context_labels = df.columns[3:]\n",
    "df"
   ]
  }
 ],
 "metadata": {
  "kernelspec": {
   "display_name": "Python 3",
   "language": "python",
   "name": "python3"
  },
  "language_info": {
   "codemirror_mode": {
    "name": "ipython",
    "version": 3
   },
   "file_extension": ".py",
   "mimetype": "text/x-python",
   "name": "python",
   "nbconvert_exporter": "python",
   "pygments_lexer": "ipython3",
   "version": "3.8.5"
  }
 },
 "nbformat": 4,
 "nbformat_minor": 5
}
